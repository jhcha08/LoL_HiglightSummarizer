{
 "cells": [
  {
   "cell_type": "code",
   "execution_count": 5,
   "metadata": {},
   "outputs": [],
   "source": [
    "from skimage.transform import resize   # for resizing images\n",
    "import os\n",
    "import moviepy.editor as mp\n",
    "from PIL import Image\n",
    "import cv2\n",
    "import numpy as np\n",
    "import pandas as pd"
   ]
  },
  {
   "cell_type": "code",
   "execution_count": 8,
   "metadata": {},
   "outputs": [
    {
     "name": "stdout",
     "output_type": "stream",
     "text": [
      "6319\n",
      "Done!\n",
      "Done!\n"
     ]
    }
   ],
   "source": [
    "# train, val, test 데이터 만들기\n",
    "\n",
    "count = 0\n",
    "videoFile = \"./lol/20200216_T1_GEN_2.mp4\"\n",
    "file_name = videoFile.split('/')[2].replace('.mp4','')\n",
    "\n",
    "cap = cv2.VideoCapture(videoFile)   # capturing the video from the given path\n",
    "frameRate = cap.get(5) # = frame rate = 30.0\n",
    "x=1\n",
    "\n",
    "loldir = './image_list_original/' + file_name +'_image'\n",
    "os.mkdir(loldir)\n",
    "for_train = loldir.split('/')[2][:-5]\n",
    "\n",
    "while(cap.isOpened()):\n",
    "    frameId = cap.get(1) # = current frame number\n",
    "    ret, frame = cap.read()\n",
    "    if (ret != True):\n",
    "        break\n",
    "    if (frameId % round(frameRate/2) == 0): # 여기서 frameRate를 2로 나누면 0.5초마다 한 장씩 캡쳐, 2로 안나누면 1초마다.\n",
    "        filename =loldir + '/' + for_train + 'val_image_%04d.jpg' % count;count+=1\n",
    "        cv2.imwrite(filename, frame)\n",
    "cap.release()\n",
    "\n",
    "print (len(os.listdir(loldir))) # 캡쳐 이미지 갯수 체크\n",
    "print (\"Done!\")\n",
    "\n",
    "loldir_resize = './image_list/' + file_name +'_image_resize'\n",
    "os.mkdir(loldir_resize)\n",
    "\n",
    "for i in range(len(os.listdir(loldir))): # 64분짜리 영상을 0.5초마다 캡쳐하면 7680장 나옴\n",
    "    image = Image.open(loldir + '/' + for_train + 'val_image_%04d.jpg' % i)\n",
    "    resize_image = image.resize((100,100))\n",
    "    resize_image.save(loldir_resize + '/' + for_train + 'val_image_%04d.jpg' % i)\n",
    "    \n",
    "print (\"Done!\")"
   ]
  },
  {
   "cell_type": "code",
   "execution_count": 2,
   "metadata": {},
   "outputs": [],
   "source": [
    "# HL인 부분만 1로 라벨링\n",
    "\n",
    "csv = pd.read_csv('mapping_image.csv') # Image_ID와 Class가 두 개의 빈 column으로 존재, train, val, test로 될 것임.\n",
    "\n",
    "_list = list(os.listdir('val_image'))\n",
    "\n",
    "csv['Image_ID'] = _list\n",
    "\n",
    "for i in range(len(_list)):\n",
    "    if '_HL_' in csv['Image_ID'][i]:\n",
    "        csv['Class'][i] = 1\n",
    "\n",
    "csv.to_csv('mapping_val_image.csv', index=False)"
   ]
  },
  {
   "cell_type": "code",
   "execution_count": 3,
   "metadata": {},
   "outputs": [
    {
     "data": {
      "text/html": [
       "<div>\n",
       "<style scoped>\n",
       "    .dataframe tbody tr th:only-of-type {\n",
       "        vertical-align: middle;\n",
       "    }\n",
       "\n",
       "    .dataframe tbody tr th {\n",
       "        vertical-align: top;\n",
       "    }\n",
       "\n",
       "    .dataframe thead th {\n",
       "        text-align: right;\n",
       "    }\n",
       "</style>\n",
       "<table border=\"1\" class=\"dataframe\">\n",
       "  <thead>\n",
       "    <tr style=\"text-align: right;\">\n",
       "      <th></th>\n",
       "      <th>Image_ID</th>\n",
       "      <th>Class</th>\n",
       "    </tr>\n",
       "  </thead>\n",
       "  <tbody>\n",
       "    <tr>\n",
       "      <th>0</th>\n",
       "      <td>20200223_AF_KT_1_HL_val_image_0006.jpg</td>\n",
       "      <td>1</td>\n",
       "    </tr>\n",
       "    <tr>\n",
       "      <th>1</th>\n",
       "      <td>20200223_AF_KT_1_HL_val_image_0007.jpg</td>\n",
       "      <td>1</td>\n",
       "    </tr>\n",
       "    <tr>\n",
       "      <th>2</th>\n",
       "      <td>20200223_AF_KT_1_HL_val_image_0008.jpg</td>\n",
       "      <td>1</td>\n",
       "    </tr>\n",
       "    <tr>\n",
       "      <th>3</th>\n",
       "      <td>20200223_AF_KT_1_HL_val_image_0009.jpg</td>\n",
       "      <td>1</td>\n",
       "    </tr>\n",
       "    <tr>\n",
       "      <th>4</th>\n",
       "      <td>20200223_AF_KT_1_HL_val_image_0010.jpg</td>\n",
       "      <td>1</td>\n",
       "    </tr>\n",
       "  </tbody>\n",
       "</table>\n",
       "</div>"
      ],
      "text/plain": [
       "                                 Image_ID Class\n",
       "0  20200223_AF_KT_1_HL_val_image_0006.jpg     1\n",
       "1  20200223_AF_KT_1_HL_val_image_0007.jpg     1\n",
       "2  20200223_AF_KT_1_HL_val_image_0008.jpg     1\n",
       "3  20200223_AF_KT_1_HL_val_image_0009.jpg     1\n",
       "4  20200223_AF_KT_1_HL_val_image_0010.jpg     1"
      ]
     },
     "execution_count": 3,
     "metadata": {},
     "output_type": "execute_result"
    }
   ],
   "source": [
    "csv.head()"
   ]
  },
  {
   "cell_type": "code",
   "execution_count": null,
   "metadata": {},
   "outputs": [],
   "source": []
  }
 ],
 "metadata": {
  "kernelspec": {
   "display_name": "Python 3",
   "language": "python",
   "name": "python3"
  },
  "language_info": {
   "codemirror_mode": {
    "name": "ipython",
    "version": 3
   },
   "file_extension": ".py",
   "mimetype": "text/x-python",
   "name": "python",
   "nbconvert_exporter": "python",
   "pygments_lexer": "ipython3",
   "version": "3.7.4"
  }
 },
 "nbformat": 4,
 "nbformat_minor": 2
}
