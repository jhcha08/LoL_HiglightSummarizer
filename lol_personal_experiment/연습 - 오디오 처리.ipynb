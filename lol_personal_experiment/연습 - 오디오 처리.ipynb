{
 "cells": [
  {
   "cell_type": "markdown",
   "metadata": {},
   "source": [
    "# 전체 동영상에서 특정 부분 오디오만 잘라내기"
   ]
  },
  {
   "cell_type": "code",
   "execution_count": 48,
   "metadata": {},
   "outputs": [
    {
     "name": "stdout",
     "output_type": "stream",
     "text": [
      "계속 진행?: y\n",
      "시작 부분 시 입력: 0\n",
      "시작 부분 분 입력: 0\n",
      "시작 부분 초 입력: 30\n",
      "끝 부분 시 입력: 0\n",
      "끝 부분 분 입력: 0\n",
      "끝 부분 초 입력: 30.5\n",
      "MoviePy - Writing audio in 20200709_League of Legends_cut1.wav\n"
     ]
    },
    {
     "name": "stderr",
     "output_type": "stream",
     "text": [
      "                                                                                                                       \r"
     ]
    },
    {
     "name": "stdout",
     "output_type": "stream",
     "text": [
      "MoviePy - Done.\n",
      "계속 진행?: y\n",
      "시작 부분 시 입력: 0\n",
      "시작 부분 분 입력: 0\n",
      "시작 부분 초 입력: 59\n",
      "끝 부분 시 입력: 0\n",
      "끝 부분 분 입력: 0\n",
      "끝 부분 초 입력: 59.5\n",
      "MoviePy - Writing audio in 20200709_League of Legends_cut2.wav\n"
     ]
    },
    {
     "name": "stderr",
     "output_type": "stream",
     "text": [
      "                                                                                                                       \r"
     ]
    },
    {
     "name": "stdout",
     "output_type": "stream",
     "text": [
      "MoviePy - Done.\n",
      "계속 진행?: n\n"
     ]
    }
   ],
   "source": [
    "import moviepy.editor as mp\n",
    "\n",
    "i = 1\n",
    "\n",
    "while True:\n",
    "    \n",
    "    keep_going = input('계속 진행?: ')\n",
    "    \n",
    "    if keep_going == 'y':\n",
    "        \n",
    "        clip = mp.VideoFileClip(\"20200214_DWG_GEN_1_HL.mp4\")\n",
    "        \n",
    "        clip = clip.subclip(t_start=(int(input('시작 부분 시 입력: ')),\n",
    "                             int(input('시작 부분 분 입력: ')),\n",
    "                             int(input('시작 부분 초 입력: '))), \n",
    "                            t_end=(int(input('끝 부분 시 입력: ')),\n",
    "                             int(input('끝 부분 분 입력: ')),\n",
    "                             float(input('끝 부분 초 입력: '))))\n",
    "        \n",
    "        clip.audio.write_audiofile(\"20200709_League of Legends_cut%d.wav\" % i)\n",
    "        \n",
    "        i += 1\n",
    "        \n",
    "        clip.close()\n",
    "    else:\n",
    "        break"
   ]
  },
  {
   "cell_type": "code",
   "execution_count": 2,
   "metadata": {},
   "outputs": [
    {
     "name": "stdout",
     "output_type": "stream",
     "text": [
      "Moviepy - Building video 20200214_DWG_GEN_1_HL116.0.mp4.\n",
      "MoviePy - Writing audio in 20200214_DWG_GEN_1_HL116.0TEMP_MPY_wvf_snd.mp3\n"
     ]
    },
    {
     "name": "stderr",
     "output_type": "stream",
     "text": [
      "                                                                                                                       \r"
     ]
    },
    {
     "name": "stdout",
     "output_type": "stream",
     "text": [
      "MoviePy - Done.\n",
      "Moviepy - Writing video 20200214_DWG_GEN_1_HL116.0.mp4\n",
      "\n"
     ]
    },
    {
     "name": "stderr",
     "output_type": "stream",
     "text": [
      "                                                                                                                       \r"
     ]
    },
    {
     "name": "stdout",
     "output_type": "stream",
     "text": [
      "Moviepy - Done !\n",
      "Moviepy - video ready 20200214_DWG_GEN_1_HL116.0.mp4\n",
      "Moviepy - Building video 20200214_DWG_GEN_1_HL116.5.mp4.\n",
      "MoviePy - Writing audio in 20200214_DWG_GEN_1_HL116.5TEMP_MPY_wvf_snd.mp3\n"
     ]
    },
    {
     "name": "stderr",
     "output_type": "stream",
     "text": [
      "                                                                                                                       \r"
     ]
    },
    {
     "name": "stdout",
     "output_type": "stream",
     "text": [
      "MoviePy - Done.\n",
      "Moviepy - Writing video 20200214_DWG_GEN_1_HL116.5.mp4\n",
      "\n"
     ]
    },
    {
     "name": "stderr",
     "output_type": "stream",
     "text": [
      "                                                                                                                       \r"
     ]
    },
    {
     "name": "stdout",
     "output_type": "stream",
     "text": [
      "Moviepy - Done !\n",
      "Moviepy - video ready 20200214_DWG_GEN_1_HL116.5.mp4\n",
      "Moviepy - Building video 20200214_DWG_GEN_1_HL117.0.mp4.\n",
      "MoviePy - Writing audio in 20200214_DWG_GEN_1_HL117.0TEMP_MPY_wvf_snd.mp3\n"
     ]
    },
    {
     "name": "stderr",
     "output_type": "stream",
     "text": [
      "                                                                                                                       \r"
     ]
    },
    {
     "name": "stdout",
     "output_type": "stream",
     "text": [
      "MoviePy - Done.\n",
      "Moviepy - Writing video 20200214_DWG_GEN_1_HL117.0.mp4\n",
      "\n"
     ]
    },
    {
     "name": "stderr",
     "output_type": "stream",
     "text": [
      "                                                                                                                       \r"
     ]
    },
    {
     "name": "stdout",
     "output_type": "stream",
     "text": [
      "Moviepy - Done !\n",
      "Moviepy - video ready 20200214_DWG_GEN_1_HL117.0.mp4\n",
      "Moviepy - Building video 20200214_DWG_GEN_1_HL117.5.mp4.\n",
      "MoviePy - Writing audio in 20200214_DWG_GEN_1_HL117.5TEMP_MPY_wvf_snd.mp3\n"
     ]
    },
    {
     "name": "stderr",
     "output_type": "stream",
     "text": [
      "                                                                                                                       \r"
     ]
    },
    {
     "name": "stdout",
     "output_type": "stream",
     "text": [
      "MoviePy - Done.\n",
      "Moviepy - Writing video 20200214_DWG_GEN_1_HL117.5.mp4\n",
      "\n"
     ]
    },
    {
     "name": "stderr",
     "output_type": "stream",
     "text": [
      "                                                                                                                       \r"
     ]
    },
    {
     "name": "stdout",
     "output_type": "stream",
     "text": [
      "Moviepy - Done !\n",
      "Moviepy - video ready 20200214_DWG_GEN_1_HL117.5.mp4\n",
      "Moviepy - Building video 20200214_DWG_GEN_1_HL118.0.mp4.\n",
      "MoviePy - Writing audio in 20200214_DWG_GEN_1_HL118.0TEMP_MPY_wvf_snd.mp3\n"
     ]
    },
    {
     "name": "stderr",
     "output_type": "stream",
     "text": [
      "                                                                                                                       \r"
     ]
    },
    {
     "name": "stdout",
     "output_type": "stream",
     "text": [
      "MoviePy - Done.\n",
      "Moviepy - Writing video 20200214_DWG_GEN_1_HL118.0.mp4\n",
      "\n"
     ]
    },
    {
     "name": "stderr",
     "output_type": "stream",
     "text": [
      "                                                                                                                       \r"
     ]
    },
    {
     "name": "stdout",
     "output_type": "stream",
     "text": [
      "Moviepy - Done !\n",
      "Moviepy - video ready 20200214_DWG_GEN_1_HL118.0.mp4\n",
      "Moviepy - Building video 20200214_DWG_GEN_1_HL118.5.mp4.\n",
      "MoviePy - Writing audio in 20200214_DWG_GEN_1_HL118.5TEMP_MPY_wvf_snd.mp3\n"
     ]
    },
    {
     "name": "stderr",
     "output_type": "stream",
     "text": [
      "                                                                                                                       \r"
     ]
    },
    {
     "name": "stdout",
     "output_type": "stream",
     "text": [
      "MoviePy - Done.\n",
      "Moviepy - Writing video 20200214_DWG_GEN_1_HL118.5.mp4\n",
      "\n"
     ]
    },
    {
     "name": "stderr",
     "output_type": "stream",
     "text": [
      "                                                                                                                       \r"
     ]
    },
    {
     "name": "stdout",
     "output_type": "stream",
     "text": [
      "Moviepy - Done !\n",
      "Moviepy - video ready 20200214_DWG_GEN_1_HL118.5.mp4\n",
      "Moviepy - Building video 20200214_DWG_GEN_1_HL119.0.mp4.\n",
      "MoviePy - Writing audio in 20200214_DWG_GEN_1_HL119.0TEMP_MPY_wvf_snd.mp3\n"
     ]
    },
    {
     "name": "stderr",
     "output_type": "stream",
     "text": [
      "                                                                                                                       \r"
     ]
    },
    {
     "name": "stdout",
     "output_type": "stream",
     "text": [
      "MoviePy - Done.\n",
      "Moviepy - Writing video 20200214_DWG_GEN_1_HL119.0.mp4\n",
      "\n"
     ]
    },
    {
     "name": "stderr",
     "output_type": "stream",
     "text": [
      "                                                                                                                       \r"
     ]
    },
    {
     "name": "stdout",
     "output_type": "stream",
     "text": [
      "Moviepy - Done !\n",
      "Moviepy - video ready 20200214_DWG_GEN_1_HL119.0.mp4\n",
      "Moviepy - Building video 20200214_DWG_GEN_1_HL119.5.mp4.\n",
      "MoviePy - Writing audio in 20200214_DWG_GEN_1_HL119.5TEMP_MPY_wvf_snd.mp3\n"
     ]
    },
    {
     "name": "stderr",
     "output_type": "stream",
     "text": [
      "                                                                                                                       \r"
     ]
    },
    {
     "name": "stdout",
     "output_type": "stream",
     "text": [
      "MoviePy - Done.\n",
      "Moviepy - Writing video 20200214_DWG_GEN_1_HL119.5.mp4\n",
      "\n"
     ]
    },
    {
     "name": "stderr",
     "output_type": "stream",
     "text": [
      "                                                                                                                       \r"
     ]
    },
    {
     "name": "stdout",
     "output_type": "stream",
     "text": [
      "Moviepy - Done !\n",
      "Moviepy - video ready 20200214_DWG_GEN_1_HL119.5.mp4\n",
      "Moviepy - Building video 20200214_DWG_GEN_1_HL120.0.mp4.\n",
      "MoviePy - Writing audio in 20200214_DWG_GEN_1_HL120.0TEMP_MPY_wvf_snd.mp3\n"
     ]
    },
    {
     "name": "stderr",
     "output_type": "stream",
     "text": [
      "                                                                                                                       \r"
     ]
    },
    {
     "name": "stdout",
     "output_type": "stream",
     "text": [
      "MoviePy - Done.\n",
      "Moviepy - Writing video 20200214_DWG_GEN_1_HL120.0.mp4\n",
      "\n"
     ]
    },
    {
     "name": "stderr",
     "output_type": "stream",
     "text": [
      "                                                                                                                       \r"
     ]
    },
    {
     "name": "stdout",
     "output_type": "stream",
     "text": [
      "Moviepy - Done !\n",
      "Moviepy - video ready 20200214_DWG_GEN_1_HL120.0.mp4\n",
      "Moviepy - Building video 20200214_DWG_GEN_1_HL120.5.mp4.\n",
      "MoviePy - Writing audio in 20200214_DWG_GEN_1_HL120.5TEMP_MPY_wvf_snd.mp3\n"
     ]
    },
    {
     "name": "stderr",
     "output_type": "stream",
     "text": [
      "                                                                                                                       \r"
     ]
    },
    {
     "name": "stdout",
     "output_type": "stream",
     "text": [
      "MoviePy - Done.\n",
      "Moviepy - Writing video 20200214_DWG_GEN_1_HL120.5.mp4\n",
      "\n"
     ]
    },
    {
     "name": "stderr",
     "output_type": "stream",
     "text": [
      "                                                                                                                       \r"
     ]
    },
    {
     "name": "stdout",
     "output_type": "stream",
     "text": [
      "Moviepy - Done !\n",
      "Moviepy - video ready 20200214_DWG_GEN_1_HL120.5.mp4\n",
      "Moviepy - Building video 20200214_DWG_GEN_1_HL121.0.mp4.\n",
      "MoviePy - Writing audio in 20200214_DWG_GEN_1_HL121.0TEMP_MPY_wvf_snd.mp3\n"
     ]
    },
    {
     "name": "stderr",
     "output_type": "stream",
     "text": [
      "                                                                                                                       \r"
     ]
    },
    {
     "name": "stdout",
     "output_type": "stream",
     "text": [
      "MoviePy - Done.\n",
      "Moviepy - Writing video 20200214_DWG_GEN_1_HL121.0.mp4\n",
      "\n"
     ]
    },
    {
     "name": "stderr",
     "output_type": "stream",
     "text": [
      "                                                                                                                       \r"
     ]
    },
    {
     "name": "stdout",
     "output_type": "stream",
     "text": [
      "Moviepy - Done !\n",
      "Moviepy - video ready 20200214_DWG_GEN_1_HL121.0.mp4\n",
      "Moviepy - Building video 20200214_DWG_GEN_1_HL121.5.mp4.\n",
      "MoviePy - Writing audio in 20200214_DWG_GEN_1_HL121.5TEMP_MPY_wvf_snd.mp3\n"
     ]
    },
    {
     "name": "stderr",
     "output_type": "stream",
     "text": [
      "                                                                                                                       \r"
     ]
    },
    {
     "name": "stdout",
     "output_type": "stream",
     "text": [
      "MoviePy - Done.\n",
      "Moviepy - Writing video 20200214_DWG_GEN_1_HL121.5.mp4\n",
      "\n"
     ]
    },
    {
     "name": "stderr",
     "output_type": "stream",
     "text": [
      "                                                                                                                       \r"
     ]
    },
    {
     "name": "stdout",
     "output_type": "stream",
     "text": [
      "Moviepy - Done !\n",
      "Moviepy - video ready 20200214_DWG_GEN_1_HL121.5.mp4\n",
      "Moviepy - Building video 20200214_DWG_GEN_1_HL122.0.mp4.\n",
      "MoviePy - Writing audio in 20200214_DWG_GEN_1_HL122.0TEMP_MPY_wvf_snd.mp3\n"
     ]
    },
    {
     "name": "stderr",
     "output_type": "stream",
     "text": [
      "                                                                                                                       \r"
     ]
    },
    {
     "name": "stdout",
     "output_type": "stream",
     "text": [
      "MoviePy - Done.\n",
      "Moviepy - Writing video 20200214_DWG_GEN_1_HL122.0.mp4\n",
      "\n"
     ]
    },
    {
     "name": "stderr",
     "output_type": "stream",
     "text": [
      "                                                                                                                       \r"
     ]
    },
    {
     "name": "stdout",
     "output_type": "stream",
     "text": [
      "Moviepy - Done !\n",
      "Moviepy - video ready 20200214_DWG_GEN_1_HL122.0.mp4\n",
      "Moviepy - Building video 20200214_DWG_GEN_1_HL122.5.mp4.\n",
      "MoviePy - Writing audio in 20200214_DWG_GEN_1_HL122.5TEMP_MPY_wvf_snd.mp3\n"
     ]
    },
    {
     "name": "stderr",
     "output_type": "stream",
     "text": [
      "                                                                                                                       \r"
     ]
    },
    {
     "name": "stdout",
     "output_type": "stream",
     "text": [
      "MoviePy - Done.\n",
      "Moviepy - Writing video 20200214_DWG_GEN_1_HL122.5.mp4\n",
      "\n"
     ]
    },
    {
     "name": "stderr",
     "output_type": "stream",
     "text": [
      "                                                                                                                       \r"
     ]
    },
    {
     "name": "stdout",
     "output_type": "stream",
     "text": [
      "Moviepy - Done !\n",
      "Moviepy - video ready 20200214_DWG_GEN_1_HL122.5.mp4\n",
      "Moviepy - Building video 20200214_DWG_GEN_1_HL123.0.mp4.\n",
      "MoviePy - Writing audio in 20200214_DWG_GEN_1_HL123.0TEMP_MPY_wvf_snd.mp3\n"
     ]
    },
    {
     "name": "stderr",
     "output_type": "stream",
     "text": [
      "                                                                                                                       \r"
     ]
    },
    {
     "name": "stdout",
     "output_type": "stream",
     "text": [
      "MoviePy - Done.\n",
      "Moviepy - Writing video 20200214_DWG_GEN_1_HL123.0.mp4\n",
      "\n"
     ]
    },
    {
     "name": "stderr",
     "output_type": "stream",
     "text": [
      "                                                                                                                       \r"
     ]
    },
    {
     "name": "stdout",
     "output_type": "stream",
     "text": [
      "Moviepy - Done !\n",
      "Moviepy - video ready 20200214_DWG_GEN_1_HL123.0.mp4\n",
      "Moviepy - Building video 20200214_DWG_GEN_1_HL123.5.mp4.\n",
      "MoviePy - Writing audio in 20200214_DWG_GEN_1_HL123.5TEMP_MPY_wvf_snd.mp3\n"
     ]
    },
    {
     "name": "stderr",
     "output_type": "stream",
     "text": [
      "                                                                                                                       \r"
     ]
    },
    {
     "name": "stdout",
     "output_type": "stream",
     "text": [
      "MoviePy - Done.\n",
      "Moviepy - Writing video 20200214_DWG_GEN_1_HL123.5.mp4\n",
      "\n"
     ]
    },
    {
     "name": "stderr",
     "output_type": "stream",
     "text": [
      "                                                                                                                       \r"
     ]
    },
    {
     "name": "stdout",
     "output_type": "stream",
     "text": [
      "Moviepy - Done !\n",
      "Moviepy - video ready 20200214_DWG_GEN_1_HL123.5.mp4\n",
      "Moviepy - Building video 20200214_DWG_GEN_1_HL124.0.mp4.\n",
      "MoviePy - Writing audio in 20200214_DWG_GEN_1_HL124.0TEMP_MPY_wvf_snd.mp3\n"
     ]
    },
    {
     "name": "stderr",
     "output_type": "stream",
     "text": [
      "                                                                                                                       \r"
     ]
    },
    {
     "name": "stdout",
     "output_type": "stream",
     "text": [
      "MoviePy - Done.\n",
      "Moviepy - Writing video 20200214_DWG_GEN_1_HL124.0.mp4\n",
      "\n"
     ]
    },
    {
     "name": "stderr",
     "output_type": "stream",
     "text": [
      "                                                                                                                       \r"
     ]
    },
    {
     "name": "stdout",
     "output_type": "stream",
     "text": [
      "Moviepy - Done !\n",
      "Moviepy - video ready 20200214_DWG_GEN_1_HL124.0.mp4\n",
      "Moviepy - Building video 20200214_DWG_GEN_1_HL124.5.mp4.\n",
      "MoviePy - Writing audio in 20200214_DWG_GEN_1_HL124.5TEMP_MPY_wvf_snd.mp3\n"
     ]
    },
    {
     "name": "stderr",
     "output_type": "stream",
     "text": [
      "                                                                                                                       \r"
     ]
    },
    {
     "name": "stdout",
     "output_type": "stream",
     "text": [
      "MoviePy - Done.\n",
      "Moviepy - Writing video 20200214_DWG_GEN_1_HL124.5.mp4\n",
      "\n"
     ]
    },
    {
     "name": "stderr",
     "output_type": "stream",
     "text": [
      "                                                                                                                       \r"
     ]
    },
    {
     "name": "stdout",
     "output_type": "stream",
     "text": [
      "Moviepy - Done !\n",
      "Moviepy - video ready 20200214_DWG_GEN_1_HL124.5.mp4\n",
      "Moviepy - Building video 20200214_DWG_GEN_1_HL125.0.mp4.\n",
      "MoviePy - Writing audio in 20200214_DWG_GEN_1_HL125.0TEMP_MPY_wvf_snd.mp3\n"
     ]
    },
    {
     "name": "stderr",
     "output_type": "stream",
     "text": [
      "                                                                                                                       \r"
     ]
    },
    {
     "name": "stdout",
     "output_type": "stream",
     "text": [
      "MoviePy - Done.\n",
      "Moviepy - Writing video 20200214_DWG_GEN_1_HL125.0.mp4\n",
      "\n"
     ]
    },
    {
     "name": "stderr",
     "output_type": "stream",
     "text": [
      "                                                                                                                       \r"
     ]
    },
    {
     "name": "stdout",
     "output_type": "stream",
     "text": [
      "Moviepy - Done !\n",
      "Moviepy - video ready 20200214_DWG_GEN_1_HL125.0.mp4\n",
      "Moviepy - Building video 20200214_DWG_GEN_1_HL125.5.mp4.\n",
      "MoviePy - Writing audio in 20200214_DWG_GEN_1_HL125.5TEMP_MPY_wvf_snd.mp3\n"
     ]
    },
    {
     "name": "stderr",
     "output_type": "stream",
     "text": [
      "                                                                                                                       \r"
     ]
    },
    {
     "name": "stdout",
     "output_type": "stream",
     "text": [
      "MoviePy - Done.\n",
      "Moviepy - Writing video 20200214_DWG_GEN_1_HL125.5.mp4\n",
      "\n"
     ]
    },
    {
     "name": "stderr",
     "output_type": "stream",
     "text": [
      "                                                                                                                       \r"
     ]
    },
    {
     "name": "stdout",
     "output_type": "stream",
     "text": [
      "Moviepy - Done !\n",
      "Moviepy - video ready 20200214_DWG_GEN_1_HL125.5.mp4\n",
      "Moviepy - Building video 20200214_DWG_GEN_1_HL126.0.mp4.\n",
      "MoviePy - Writing audio in 20200214_DWG_GEN_1_HL126.0TEMP_MPY_wvf_snd.mp3\n"
     ]
    },
    {
     "name": "stderr",
     "output_type": "stream",
     "text": [
      "                                                                                                                       \r"
     ]
    },
    {
     "name": "stdout",
     "output_type": "stream",
     "text": [
      "MoviePy - Done.\n",
      "Moviepy - Writing video 20200214_DWG_GEN_1_HL126.0.mp4\n",
      "\n"
     ]
    },
    {
     "name": "stderr",
     "output_type": "stream",
     "text": [
      "                                                                                                                       \r"
     ]
    },
    {
     "name": "stdout",
     "output_type": "stream",
     "text": [
      "Moviepy - Done !\n",
      "Moviepy - video ready 20200214_DWG_GEN_1_HL126.0.mp4\n",
      "Moviepy - Building video 20200214_DWG_GEN_1_HL126.5.mp4.\n",
      "MoviePy - Writing audio in 20200214_DWG_GEN_1_HL126.5TEMP_MPY_wvf_snd.mp3\n"
     ]
    },
    {
     "name": "stderr",
     "output_type": "stream",
     "text": [
      "                                                                                                                       \r"
     ]
    },
    {
     "name": "stdout",
     "output_type": "stream",
     "text": [
      "MoviePy - Done.\n",
      "Moviepy - Writing video 20200214_DWG_GEN_1_HL126.5.mp4\n",
      "\n"
     ]
    },
    {
     "name": "stderr",
     "output_type": "stream",
     "text": [
      "                                                                                                                       \r"
     ]
    },
    {
     "name": "stdout",
     "output_type": "stream",
     "text": [
      "Moviepy - Done !\n",
      "Moviepy - video ready 20200214_DWG_GEN_1_HL126.5.mp4\n",
      "Moviepy - Building video 20200214_DWG_GEN_1_HL127.0.mp4.\n",
      "MoviePy - Writing audio in 20200214_DWG_GEN_1_HL127.0TEMP_MPY_wvf_snd.mp3\n"
     ]
    },
    {
     "name": "stderr",
     "output_type": "stream",
     "text": [
      "                                                                                                                       \r"
     ]
    },
    {
     "name": "stdout",
     "output_type": "stream",
     "text": [
      "MoviePy - Done.\n",
      "Moviepy - Writing video 20200214_DWG_GEN_1_HL127.0.mp4\n",
      "\n"
     ]
    },
    {
     "name": "stderr",
     "output_type": "stream",
     "text": [
      "                                                                                                                       \r"
     ]
    },
    {
     "name": "stdout",
     "output_type": "stream",
     "text": [
      "Moviepy - Done !\n",
      "Moviepy - video ready 20200214_DWG_GEN_1_HL127.0.mp4\n",
      "Moviepy - Building video 20200214_DWG_GEN_1_HL127.5.mp4.\n",
      "MoviePy - Writing audio in 20200214_DWG_GEN_1_HL127.5TEMP_MPY_wvf_snd.mp3\n"
     ]
    },
    {
     "name": "stderr",
     "output_type": "stream",
     "text": [
      "                                                                                                                       \r"
     ]
    },
    {
     "name": "stdout",
     "output_type": "stream",
     "text": [
      "MoviePy - Done.\n",
      "Moviepy - Writing video 20200214_DWG_GEN_1_HL127.5.mp4\n",
      "\n"
     ]
    },
    {
     "name": "stderr",
     "output_type": "stream",
     "text": [
      "                                                                                                                       \r"
     ]
    },
    {
     "name": "stdout",
     "output_type": "stream",
     "text": [
      "Moviepy - Done !\n",
      "Moviepy - video ready 20200214_DWG_GEN_1_HL127.5.mp4\n",
      "Moviepy - Building video 20200214_DWG_GEN_1_HL128.0.mp4.\n",
      "MoviePy - Writing audio in 20200214_DWG_GEN_1_HL128.0TEMP_MPY_wvf_snd.mp3\n"
     ]
    },
    {
     "name": "stderr",
     "output_type": "stream",
     "text": [
      "                                                                                                                       \r"
     ]
    },
    {
     "name": "stdout",
     "output_type": "stream",
     "text": [
      "MoviePy - Done.\n",
      "Moviepy - Writing video 20200214_DWG_GEN_1_HL128.0.mp4\n",
      "\n"
     ]
    },
    {
     "name": "stderr",
     "output_type": "stream",
     "text": [
      "                                                                                                                       \r"
     ]
    },
    {
     "name": "stdout",
     "output_type": "stream",
     "text": [
      "Moviepy - Done !\n",
      "Moviepy - video ready 20200214_DWG_GEN_1_HL128.0.mp4\n",
      "Moviepy - Building video 20200214_DWG_GEN_1_HL128.5.mp4.\n",
      "MoviePy - Writing audio in 20200214_DWG_GEN_1_HL128.5TEMP_MPY_wvf_snd.mp3\n"
     ]
    },
    {
     "name": "stderr",
     "output_type": "stream",
     "text": [
      "                                                                                                                       \r"
     ]
    },
    {
     "name": "stdout",
     "output_type": "stream",
     "text": [
      "MoviePy - Done.\n",
      "Moviepy - Writing video 20200214_DWG_GEN_1_HL128.5.mp4\n",
      "\n"
     ]
    },
    {
     "name": "stderr",
     "output_type": "stream",
     "text": [
      "                                                                                                                       \r"
     ]
    },
    {
     "name": "stdout",
     "output_type": "stream",
     "text": [
      "Moviepy - Done !\n",
      "Moviepy - video ready 20200214_DWG_GEN_1_HL128.5.mp4\n",
      "Moviepy - Building video 20200214_DWG_GEN_1_HL129.0.mp4.\n",
      "MoviePy - Writing audio in 20200214_DWG_GEN_1_HL129.0TEMP_MPY_wvf_snd.mp3\n"
     ]
    },
    {
     "name": "stderr",
     "output_type": "stream",
     "text": [
      "                                                                                                                       \r"
     ]
    },
    {
     "name": "stdout",
     "output_type": "stream",
     "text": [
      "MoviePy - Done.\n",
      "Moviepy - Writing video 20200214_DWG_GEN_1_HL129.0.mp4\n",
      "\n"
     ]
    },
    {
     "name": "stderr",
     "output_type": "stream",
     "text": [
      "                                                                                                                       \r"
     ]
    },
    {
     "name": "stdout",
     "output_type": "stream",
     "text": [
      "Moviepy - Done !\n",
      "Moviepy - video ready 20200214_DWG_GEN_1_HL129.0.mp4\n",
      "Moviepy - Building video 20200214_DWG_GEN_1_HL129.5.mp4.\n",
      "MoviePy - Writing audio in 20200214_DWG_GEN_1_HL129.5TEMP_MPY_wvf_snd.mp3\n"
     ]
    },
    {
     "name": "stderr",
     "output_type": "stream",
     "text": [
      "                                                                                                                       \r"
     ]
    },
    {
     "name": "stdout",
     "output_type": "stream",
     "text": [
      "MoviePy - Done.\n",
      "Moviepy - Writing video 20200214_DWG_GEN_1_HL129.5.mp4\n",
      "\n"
     ]
    },
    {
     "name": "stderr",
     "output_type": "stream",
     "text": [
      "                                                                                                                       \r"
     ]
    },
    {
     "name": "stdout",
     "output_type": "stream",
     "text": [
      "Moviepy - Done !\n",
      "Moviepy - video ready 20200214_DWG_GEN_1_HL129.5.mp4\n",
      "Moviepy - Building video 20200214_DWG_GEN_1_HL130.0.mp4.\n",
      "MoviePy - Writing audio in 20200214_DWG_GEN_1_HL130.0TEMP_MPY_wvf_snd.mp3\n"
     ]
    },
    {
     "name": "stderr",
     "output_type": "stream",
     "text": [
      "                                                                                                                       \r"
     ]
    },
    {
     "name": "stdout",
     "output_type": "stream",
     "text": [
      "MoviePy - Done.\n",
      "Moviepy - Writing video 20200214_DWG_GEN_1_HL130.0.mp4\n",
      "\n"
     ]
    },
    {
     "name": "stderr",
     "output_type": "stream",
     "text": [
      "                                                                                                                       \r"
     ]
    },
    {
     "name": "stdout",
     "output_type": "stream",
     "text": [
      "Moviepy - Done !\n",
      "Moviepy - video ready 20200214_DWG_GEN_1_HL130.0.mp4\n",
      "Moviepy - Building video 20200214_DWG_GEN_1_HL130.5.mp4.\n",
      "MoviePy - Writing audio in 20200214_DWG_GEN_1_HL130.5TEMP_MPY_wvf_snd.mp3\n"
     ]
    },
    {
     "name": "stderr",
     "output_type": "stream",
     "text": [
      "                                                                                                                       \r"
     ]
    },
    {
     "name": "stdout",
     "output_type": "stream",
     "text": [
      "MoviePy - Done.\n",
      "Moviepy - Writing video 20200214_DWG_GEN_1_HL130.5.mp4\n",
      "\n"
     ]
    },
    {
     "name": "stderr",
     "output_type": "stream",
     "text": [
      "                                                                                                                       \r"
     ]
    },
    {
     "name": "stdout",
     "output_type": "stream",
     "text": [
      "Moviepy - Done !\n",
      "Moviepy - video ready 20200214_DWG_GEN_1_HL130.5.mp4\n",
      "Moviepy - Building video 20200214_DWG_GEN_1_HL131.0.mp4.\n",
      "MoviePy - Writing audio in 20200214_DWG_GEN_1_HL131.0TEMP_MPY_wvf_snd.mp3\n"
     ]
    },
    {
     "name": "stderr",
     "output_type": "stream",
     "text": [
      "                                                                                                                       \r"
     ]
    },
    {
     "name": "stdout",
     "output_type": "stream",
     "text": [
      "MoviePy - Done.\n",
      "Moviepy - Writing video 20200214_DWG_GEN_1_HL131.0.mp4\n",
      "\n"
     ]
    },
    {
     "name": "stderr",
     "output_type": "stream",
     "text": [
      "                                                                                                                       \r"
     ]
    },
    {
     "name": "stdout",
     "output_type": "stream",
     "text": [
      "Moviepy - Done !\n",
      "Moviepy - video ready 20200214_DWG_GEN_1_HL131.0.mp4\n",
      "Moviepy - Building video 20200214_DWG_GEN_1_HL131.5.mp4.\n",
      "MoviePy - Writing audio in 20200214_DWG_GEN_1_HL131.5TEMP_MPY_wvf_snd.mp3\n"
     ]
    },
    {
     "name": "stderr",
     "output_type": "stream",
     "text": [
      "                                                                                                                       \r"
     ]
    },
    {
     "name": "stdout",
     "output_type": "stream",
     "text": [
      "MoviePy - Done.\n",
      "Moviepy - Writing video 20200214_DWG_GEN_1_HL131.5.mp4\n",
      "\n"
     ]
    },
    {
     "name": "stderr",
     "output_type": "stream",
     "text": [
      "                                                                                                                       \r"
     ]
    },
    {
     "name": "stdout",
     "output_type": "stream",
     "text": [
      "Moviepy - Done !\n",
      "Moviepy - video ready 20200214_DWG_GEN_1_HL131.5.mp4\n",
      "Moviepy - Building video 20200214_DWG_GEN_1_HL132.0.mp4.\n",
      "MoviePy - Writing audio in 20200214_DWG_GEN_1_HL132.0TEMP_MPY_wvf_snd.mp3\n"
     ]
    },
    {
     "name": "stderr",
     "output_type": "stream",
     "text": [
      "                                                                                                                       \r"
     ]
    },
    {
     "name": "stdout",
     "output_type": "stream",
     "text": [
      "MoviePy - Done.\n",
      "Moviepy - Writing video 20200214_DWG_GEN_1_HL132.0.mp4\n",
      "\n"
     ]
    },
    {
     "name": "stderr",
     "output_type": "stream",
     "text": [
      "                                                                                                                       \r"
     ]
    },
    {
     "name": "stdout",
     "output_type": "stream",
     "text": [
      "Moviepy - Done !\n",
      "Moviepy - video ready 20200214_DWG_GEN_1_HL132.0.mp4\n",
      "Moviepy - Building video 20200214_DWG_GEN_1_HL132.5.mp4.\n",
      "MoviePy - Writing audio in 20200214_DWG_GEN_1_HL132.5TEMP_MPY_wvf_snd.mp3\n"
     ]
    },
    {
     "name": "stderr",
     "output_type": "stream",
     "text": [
      "                                                                                                                       \r"
     ]
    },
    {
     "name": "stdout",
     "output_type": "stream",
     "text": [
      "MoviePy - Done.\n",
      "Moviepy - Writing video 20200214_DWG_GEN_1_HL132.5.mp4\n",
      "\n"
     ]
    },
    {
     "name": "stderr",
     "output_type": "stream",
     "text": [
      "                                                                                                                       \r"
     ]
    },
    {
     "name": "stdout",
     "output_type": "stream",
     "text": [
      "Moviepy - Done !\n",
      "Moviepy - video ready 20200214_DWG_GEN_1_HL132.5.mp4\n",
      "Moviepy - Building video 20200214_DWG_GEN_1_HL133.0.mp4.\n",
      "MoviePy - Writing audio in 20200214_DWG_GEN_1_HL133.0TEMP_MPY_wvf_snd.mp3\n"
     ]
    },
    {
     "name": "stderr",
     "output_type": "stream",
     "text": [
      "                                                                                                                       \r"
     ]
    },
    {
     "name": "stdout",
     "output_type": "stream",
     "text": [
      "MoviePy - Done.\n",
      "Moviepy - Writing video 20200214_DWG_GEN_1_HL133.0.mp4\n",
      "\n"
     ]
    },
    {
     "name": "stderr",
     "output_type": "stream",
     "text": [
      "                                                                                                                       \r"
     ]
    },
    {
     "name": "stdout",
     "output_type": "stream",
     "text": [
      "Moviepy - Done !\n",
      "Moviepy - video ready 20200214_DWG_GEN_1_HL133.0.mp4\n",
      "Moviepy - Building video 20200214_DWG_GEN_1_HL133.5.mp4.\n",
      "MoviePy - Writing audio in 20200214_DWG_GEN_1_HL133.5TEMP_MPY_wvf_snd.mp3\n"
     ]
    },
    {
     "name": "stderr",
     "output_type": "stream",
     "text": [
      "                                                                                                                       \r"
     ]
    },
    {
     "name": "stdout",
     "output_type": "stream",
     "text": [
      "MoviePy - Done.\n",
      "Moviepy - Writing video 20200214_DWG_GEN_1_HL133.5.mp4\n",
      "\n"
     ]
    },
    {
     "name": "stderr",
     "output_type": "stream",
     "text": [
      "                                                                                                                       \r"
     ]
    },
    {
     "name": "stdout",
     "output_type": "stream",
     "text": [
      "Moviepy - Done !\n",
      "Moviepy - video ready 20200214_DWG_GEN_1_HL133.5.mp4\n",
      "Moviepy - Building video 20200214_DWG_GEN_1_HL134.0.mp4.\n",
      "MoviePy - Writing audio in 20200214_DWG_GEN_1_HL134.0TEMP_MPY_wvf_snd.mp3\n"
     ]
    },
    {
     "name": "stderr",
     "output_type": "stream",
     "text": [
      "                                                                                                                       \r"
     ]
    },
    {
     "name": "stdout",
     "output_type": "stream",
     "text": [
      "MoviePy - Done.\n",
      "Moviepy - Writing video 20200214_DWG_GEN_1_HL134.0.mp4\n",
      "\n"
     ]
    },
    {
     "name": "stderr",
     "output_type": "stream",
     "text": [
      "                                                                                                                       \r"
     ]
    },
    {
     "name": "stdout",
     "output_type": "stream",
     "text": [
      "Moviepy - Done !\n",
      "Moviepy - video ready 20200214_DWG_GEN_1_HL134.0.mp4\n",
      "Moviepy - Building video 20200214_DWG_GEN_1_HL134.5.mp4.\n",
      "MoviePy - Writing audio in 20200214_DWG_GEN_1_HL134.5TEMP_MPY_wvf_snd.mp3\n"
     ]
    },
    {
     "name": "stderr",
     "output_type": "stream",
     "text": [
      "                                                                                                                       \r"
     ]
    },
    {
     "name": "stdout",
     "output_type": "stream",
     "text": [
      "MoviePy - Done.\n",
      "Moviepy - Writing video 20200214_DWG_GEN_1_HL134.5.mp4\n",
      "\n"
     ]
    },
    {
     "name": "stderr",
     "output_type": "stream",
     "text": [
      "                                                                                                                       \r"
     ]
    },
    {
     "name": "stdout",
     "output_type": "stream",
     "text": [
      "Moviepy - Done !\n",
      "Moviepy - video ready 20200214_DWG_GEN_1_HL134.5.mp4\n",
      "Moviepy - Building video 20200214_DWG_GEN_1_HL135.0.mp4.\n",
      "MoviePy - Writing audio in 20200214_DWG_GEN_1_HL135.0TEMP_MPY_wvf_snd.mp3\n"
     ]
    },
    {
     "name": "stderr",
     "output_type": "stream",
     "text": [
      "                                                                                                                       \r"
     ]
    },
    {
     "name": "stdout",
     "output_type": "stream",
     "text": [
      "MoviePy - Done.\n",
      "Moviepy - Writing video 20200214_DWG_GEN_1_HL135.0.mp4\n",
      "\n"
     ]
    },
    {
     "name": "stderr",
     "output_type": "stream",
     "text": [
      "                                                                                                                       \r"
     ]
    },
    {
     "name": "stdout",
     "output_type": "stream",
     "text": [
      "Moviepy - Done !\n",
      "Moviepy - video ready 20200214_DWG_GEN_1_HL135.0.mp4\n",
      "Moviepy - Building video 20200214_DWG_GEN_1_HL135.5.mp4.\n",
      "MoviePy - Writing audio in 20200214_DWG_GEN_1_HL135.5TEMP_MPY_wvf_snd.mp3\n"
     ]
    },
    {
     "name": "stderr",
     "output_type": "stream",
     "text": [
      "                                                                                                                       \r"
     ]
    },
    {
     "name": "stdout",
     "output_type": "stream",
     "text": [
      "MoviePy - Done.\n",
      "Moviepy - Writing video 20200214_DWG_GEN_1_HL135.5.mp4\n",
      "\n"
     ]
    },
    {
     "name": "stderr",
     "output_type": "stream",
     "text": [
      "                                                                                                                       \r"
     ]
    },
    {
     "name": "stdout",
     "output_type": "stream",
     "text": [
      "Moviepy - Done !\n",
      "Moviepy - video ready 20200214_DWG_GEN_1_HL135.5.mp4\n",
      "Moviepy - Building video 20200214_DWG_GEN_1_HL136.0.mp4.\n",
      "MoviePy - Writing audio in 20200214_DWG_GEN_1_HL136.0TEMP_MPY_wvf_snd.mp3\n"
     ]
    },
    {
     "name": "stderr",
     "output_type": "stream",
     "text": [
      "                                                                                                                       \r"
     ]
    },
    {
     "name": "stdout",
     "output_type": "stream",
     "text": [
      "MoviePy - Done.\n",
      "Moviepy - Writing video 20200214_DWG_GEN_1_HL136.0.mp4\n",
      "\n"
     ]
    },
    {
     "name": "stderr",
     "output_type": "stream",
     "text": [
      "                                                                                                                       \r"
     ]
    },
    {
     "name": "stdout",
     "output_type": "stream",
     "text": [
      "Moviepy - Done !\n",
      "Moviepy - video ready 20200214_DWG_GEN_1_HL136.0.mp4\n",
      "Moviepy - Building video 20200214_DWG_GEN_1_HL136.5.mp4.\n",
      "MoviePy - Writing audio in 20200214_DWG_GEN_1_HL136.5TEMP_MPY_wvf_snd.mp3\n"
     ]
    },
    {
     "name": "stderr",
     "output_type": "stream",
     "text": [
      "                                                                                                                       \r"
     ]
    },
    {
     "name": "stdout",
     "output_type": "stream",
     "text": [
      "MoviePy - Done.\n",
      "Moviepy - Writing video 20200214_DWG_GEN_1_HL136.5.mp4\n",
      "\n"
     ]
    },
    {
     "name": "stderr",
     "output_type": "stream",
     "text": [
      "                                                                                                                       \r"
     ]
    },
    {
     "name": "stdout",
     "output_type": "stream",
     "text": [
      "Moviepy - Done !\n",
      "Moviepy - video ready 20200214_DWG_GEN_1_HL136.5.mp4\n",
      "Moviepy - Building video 20200214_DWG_GEN_1_HL137.0.mp4.\n",
      "MoviePy - Writing audio in 20200214_DWG_GEN_1_HL137.0TEMP_MPY_wvf_snd.mp3\n"
     ]
    },
    {
     "name": "stderr",
     "output_type": "stream",
     "text": [
      "                                                                                                                       \r"
     ]
    },
    {
     "name": "stdout",
     "output_type": "stream",
     "text": [
      "MoviePy - Done.\n",
      "Moviepy - Writing video 20200214_DWG_GEN_1_HL137.0.mp4\n",
      "\n"
     ]
    },
    {
     "name": "stderr",
     "output_type": "stream",
     "text": [
      "                                                                                                                       \r"
     ]
    },
    {
     "name": "stdout",
     "output_type": "stream",
     "text": [
      "Moviepy - Done !\n",
      "Moviepy - video ready 20200214_DWG_GEN_1_HL137.0.mp4\n",
      "Moviepy - Building video 20200214_DWG_GEN_1_HL137.5.mp4.\n",
      "MoviePy - Writing audio in 20200214_DWG_GEN_1_HL137.5TEMP_MPY_wvf_snd.mp3\n"
     ]
    },
    {
     "name": "stderr",
     "output_type": "stream",
     "text": [
      "                                                                                                                       \r"
     ]
    },
    {
     "name": "stdout",
     "output_type": "stream",
     "text": [
      "MoviePy - Done.\n",
      "Moviepy - Writing video 20200214_DWG_GEN_1_HL137.5.mp4\n",
      "\n"
     ]
    },
    {
     "name": "stderr",
     "output_type": "stream",
     "text": [
      "                                                                                                                       \r"
     ]
    },
    {
     "name": "stdout",
     "output_type": "stream",
     "text": [
      "Moviepy - Done !\n",
      "Moviepy - video ready 20200214_DWG_GEN_1_HL137.5.mp4\n",
      "Moviepy - Building video 20200214_DWG_GEN_1_HL138.0.mp4.\n",
      "MoviePy - Writing audio in 20200214_DWG_GEN_1_HL138.0TEMP_MPY_wvf_snd.mp3\n"
     ]
    },
    {
     "name": "stderr",
     "output_type": "stream",
     "text": [
      "                                                                                                                       \r"
     ]
    },
    {
     "name": "stdout",
     "output_type": "stream",
     "text": [
      "MoviePy - Done.\n",
      "Moviepy - Writing video 20200214_DWG_GEN_1_HL138.0.mp4\n",
      "\n"
     ]
    },
    {
     "name": "stderr",
     "output_type": "stream",
     "text": [
      "                                                                                                                       \r"
     ]
    },
    {
     "name": "stdout",
     "output_type": "stream",
     "text": [
      "Moviepy - Done !\n",
      "Moviepy - video ready 20200214_DWG_GEN_1_HL138.0.mp4\n",
      "Moviepy - Building video 20200214_DWG_GEN_1_HL138.5.mp4.\n",
      "MoviePy - Writing audio in 20200214_DWG_GEN_1_HL138.5TEMP_MPY_wvf_snd.mp3\n"
     ]
    },
    {
     "name": "stderr",
     "output_type": "stream",
     "text": [
      "                                                                                                                       \r"
     ]
    },
    {
     "name": "stdout",
     "output_type": "stream",
     "text": [
      "MoviePy - Done.\n",
      "Moviepy - Writing video 20200214_DWG_GEN_1_HL138.5.mp4\n",
      "\n"
     ]
    },
    {
     "name": "stderr",
     "output_type": "stream",
     "text": [
      "                                                                                                                       \r"
     ]
    },
    {
     "name": "stdout",
     "output_type": "stream",
     "text": [
      "Moviepy - Done !\n",
      "Moviepy - video ready 20200214_DWG_GEN_1_HL138.5.mp4\n",
      "Moviepy - Building video 20200214_DWG_GEN_1_HL139.0.mp4.\n",
      "MoviePy - Writing audio in 20200214_DWG_GEN_1_HL139.0TEMP_MPY_wvf_snd.mp3\n"
     ]
    },
    {
     "name": "stderr",
     "output_type": "stream",
     "text": [
      "                                                                                                                       \r"
     ]
    },
    {
     "name": "stdout",
     "output_type": "stream",
     "text": [
      "MoviePy - Done.\n",
      "Moviepy - Writing video 20200214_DWG_GEN_1_HL139.0.mp4\n",
      "\n"
     ]
    },
    {
     "name": "stderr",
     "output_type": "stream",
     "text": [
      "                                                                                                                       \r"
     ]
    },
    {
     "name": "stdout",
     "output_type": "stream",
     "text": [
      "Moviepy - Done !\n",
      "Moviepy - video ready 20200214_DWG_GEN_1_HL139.0.mp4\n",
      "Moviepy - Building video 20200214_DWG_GEN_1_HL139.5.mp4.\n",
      "MoviePy - Writing audio in 20200214_DWG_GEN_1_HL139.5TEMP_MPY_wvf_snd.mp3\n"
     ]
    },
    {
     "name": "stderr",
     "output_type": "stream",
     "text": [
      "                                                                                                                       \r"
     ]
    },
    {
     "name": "stdout",
     "output_type": "stream",
     "text": [
      "MoviePy - Done.\n",
      "Moviepy - Writing video 20200214_DWG_GEN_1_HL139.5.mp4\n",
      "\n"
     ]
    },
    {
     "name": "stderr",
     "output_type": "stream",
     "text": [
      "                                                                                                                       \r"
     ]
    },
    {
     "name": "stdout",
     "output_type": "stream",
     "text": [
      "Moviepy - Done !\n",
      "Moviepy - video ready 20200214_DWG_GEN_1_HL139.5.mp4\n",
      "Moviepy - Building video 20200214_DWG_GEN_1_HL140.0.mp4.\n",
      "MoviePy - Writing audio in 20200214_DWG_GEN_1_HL140.0TEMP_MPY_wvf_snd.mp3\n"
     ]
    },
    {
     "name": "stderr",
     "output_type": "stream",
     "text": [
      "                                                                                                                       \r"
     ]
    },
    {
     "name": "stdout",
     "output_type": "stream",
     "text": [
      "MoviePy - Done.\n",
      "Moviepy - Writing video 20200214_DWG_GEN_1_HL140.0.mp4\n",
      "\n"
     ]
    },
    {
     "name": "stderr",
     "output_type": "stream",
     "text": [
      "                                                                                                                       \r"
     ]
    },
    {
     "name": "stdout",
     "output_type": "stream",
     "text": [
      "Moviepy - Done !\n",
      "Moviepy - video ready 20200214_DWG_GEN_1_HL140.0.mp4\n",
      "Moviepy - Building video 20200214_DWG_GEN_1_HL140.5.mp4.\n",
      "MoviePy - Writing audio in 20200214_DWG_GEN_1_HL140.5TEMP_MPY_wvf_snd.mp3\n"
     ]
    },
    {
     "name": "stderr",
     "output_type": "stream",
     "text": [
      "                                                                                                                       \r"
     ]
    },
    {
     "name": "stdout",
     "output_type": "stream",
     "text": [
      "MoviePy - Done.\n",
      "Moviepy - Writing video 20200214_DWG_GEN_1_HL140.5.mp4\n",
      "\n"
     ]
    },
    {
     "name": "stderr",
     "output_type": "stream",
     "text": [
      "                                                                                                                       \r"
     ]
    },
    {
     "name": "stdout",
     "output_type": "stream",
     "text": [
      "Moviepy - Done !\n",
      "Moviepy - video ready 20200214_DWG_GEN_1_HL140.5.mp4\n",
      "Moviepy - Building video 20200214_DWG_GEN_1_HL141.0.mp4.\n",
      "MoviePy - Writing audio in 20200214_DWG_GEN_1_HL141.0TEMP_MPY_wvf_snd.mp3\n"
     ]
    },
    {
     "name": "stderr",
     "output_type": "stream",
     "text": [
      "                                                                                                                       \r"
     ]
    },
    {
     "name": "stdout",
     "output_type": "stream",
     "text": [
      "MoviePy - Done.\n",
      "Moviepy - Writing video 20200214_DWG_GEN_1_HL141.0.mp4\n",
      "\n"
     ]
    },
    {
     "name": "stderr",
     "output_type": "stream",
     "text": [
      "                                                                                                                       \r"
     ]
    },
    {
     "name": "stdout",
     "output_type": "stream",
     "text": [
      "Moviepy - Done !\n",
      "Moviepy - video ready 20200214_DWG_GEN_1_HL141.0.mp4\n",
      "Moviepy - Building video 20200214_DWG_GEN_1_HL141.5.mp4.\n",
      "MoviePy - Writing audio in 20200214_DWG_GEN_1_HL141.5TEMP_MPY_wvf_snd.mp3\n"
     ]
    },
    {
     "name": "stderr",
     "output_type": "stream",
     "text": [
      "                                                                                                                       \r"
     ]
    },
    {
     "name": "stdout",
     "output_type": "stream",
     "text": [
      "MoviePy - Done.\n",
      "Moviepy - Writing video 20200214_DWG_GEN_1_HL141.5.mp4\n",
      "\n"
     ]
    },
    {
     "name": "stderr",
     "output_type": "stream",
     "text": [
      "                                                                                                                       \r"
     ]
    },
    {
     "name": "stdout",
     "output_type": "stream",
     "text": [
      "Moviepy - Done !\n",
      "Moviepy - video ready 20200214_DWG_GEN_1_HL141.5.mp4\n",
      "Moviepy - Building video 20200214_DWG_GEN_1_HL142.0.mp4.\n",
      "MoviePy - Writing audio in 20200214_DWG_GEN_1_HL142.0TEMP_MPY_wvf_snd.mp3\n"
     ]
    },
    {
     "name": "stderr",
     "output_type": "stream",
     "text": [
      "                                                                                                                       \r"
     ]
    },
    {
     "name": "stdout",
     "output_type": "stream",
     "text": [
      "MoviePy - Done.\n",
      "Moviepy - Writing video 20200214_DWG_GEN_1_HL142.0.mp4\n",
      "\n"
     ]
    },
    {
     "name": "stderr",
     "output_type": "stream",
     "text": [
      "                                                                                                                       \r"
     ]
    },
    {
     "name": "stdout",
     "output_type": "stream",
     "text": [
      "Moviepy - Done !\n",
      "Moviepy - video ready 20200214_DWG_GEN_1_HL142.0.mp4\n",
      "Moviepy - Building video 20200214_DWG_GEN_1_HL142.5.mp4.\n",
      "MoviePy - Writing audio in 20200214_DWG_GEN_1_HL142.5TEMP_MPY_wvf_snd.mp3\n"
     ]
    },
    {
     "name": "stderr",
     "output_type": "stream",
     "text": [
      "                                                                                                                       \r"
     ]
    },
    {
     "name": "stdout",
     "output_type": "stream",
     "text": [
      "MoviePy - Done.\n",
      "Moviepy - Writing video 20200214_DWG_GEN_1_HL142.5.mp4\n",
      "\n"
     ]
    },
    {
     "name": "stderr",
     "output_type": "stream",
     "text": [
      "                                                                                                                       \r"
     ]
    },
    {
     "name": "stdout",
     "output_type": "stream",
     "text": [
      "Moviepy - Done !\n",
      "Moviepy - video ready 20200214_DWG_GEN_1_HL142.5.mp4\n",
      "Moviepy - Building video 20200214_DWG_GEN_1_HL143.0.mp4.\n",
      "MoviePy - Writing audio in 20200214_DWG_GEN_1_HL143.0TEMP_MPY_wvf_snd.mp3\n"
     ]
    },
    {
     "name": "stderr",
     "output_type": "stream",
     "text": [
      "                                                                                                                       \r"
     ]
    },
    {
     "name": "stdout",
     "output_type": "stream",
     "text": [
      "MoviePy - Done.\n",
      "Moviepy - Writing video 20200214_DWG_GEN_1_HL143.0.mp4\n",
      "\n"
     ]
    },
    {
     "name": "stderr",
     "output_type": "stream",
     "text": [
      "                                                                                                                       \r"
     ]
    },
    {
     "name": "stdout",
     "output_type": "stream",
     "text": [
      "Moviepy - Done !\n",
      "Moviepy - video ready 20200214_DWG_GEN_1_HL143.0.mp4\n",
      "Moviepy - Building video 20200214_DWG_GEN_1_HL143.5.mp4.\n",
      "MoviePy - Writing audio in 20200214_DWG_GEN_1_HL143.5TEMP_MPY_wvf_snd.mp3\n"
     ]
    },
    {
     "name": "stderr",
     "output_type": "stream",
     "text": [
      "                                                                                                                       \r"
     ]
    },
    {
     "name": "stdout",
     "output_type": "stream",
     "text": [
      "MoviePy - Done.\n",
      "Moviepy - Writing video 20200214_DWG_GEN_1_HL143.5.mp4\n",
      "\n"
     ]
    },
    {
     "name": "stderr",
     "output_type": "stream",
     "text": [
      "                                                                                                                       \r"
     ]
    },
    {
     "name": "stdout",
     "output_type": "stream",
     "text": [
      "Moviepy - Done !\n",
      "Moviepy - video ready 20200214_DWG_GEN_1_HL143.5.mp4\n",
      "Moviepy - Building video 20200214_DWG_GEN_1_HL144.0.mp4.\n",
      "MoviePy - Writing audio in 20200214_DWG_GEN_1_HL144.0TEMP_MPY_wvf_snd.mp3\n"
     ]
    },
    {
     "name": "stderr",
     "output_type": "stream",
     "text": [
      "                                                                                                                       \r"
     ]
    },
    {
     "name": "stdout",
     "output_type": "stream",
     "text": [
      "MoviePy - Done.\n",
      "Moviepy - Writing video 20200214_DWG_GEN_1_HL144.0.mp4\n",
      "\n"
     ]
    },
    {
     "name": "stderr",
     "output_type": "stream",
     "text": [
      "                                                                                                                       \r"
     ]
    },
    {
     "name": "stdout",
     "output_type": "stream",
     "text": [
      "Moviepy - Done !\n",
      "Moviepy - video ready 20200214_DWG_GEN_1_HL144.0.mp4\n",
      "Moviepy - Building video 20200214_DWG_GEN_1_HL144.5.mp4.\n",
      "MoviePy - Writing audio in 20200214_DWG_GEN_1_HL144.5TEMP_MPY_wvf_snd.mp3\n"
     ]
    },
    {
     "name": "stderr",
     "output_type": "stream",
     "text": [
      "                                                                                                                       \r"
     ]
    },
    {
     "name": "stdout",
     "output_type": "stream",
     "text": [
      "MoviePy - Done.\n",
      "Moviepy - Writing video 20200214_DWG_GEN_1_HL144.5.mp4\n",
      "\n"
     ]
    },
    {
     "name": "stderr",
     "output_type": "stream",
     "text": [
      "                                                                                                                       \r"
     ]
    },
    {
     "name": "stdout",
     "output_type": "stream",
     "text": [
      "Moviepy - Done !\n",
      "Moviepy - video ready 20200214_DWG_GEN_1_HL144.5.mp4\n",
      "Moviepy - Building video 20200214_DWG_GEN_1_HL145.0.mp4.\n",
      "MoviePy - Writing audio in 20200214_DWG_GEN_1_HL145.0TEMP_MPY_wvf_snd.mp3\n"
     ]
    },
    {
     "name": "stderr",
     "output_type": "stream",
     "text": [
      "                                                                                                                       \r"
     ]
    },
    {
     "name": "stdout",
     "output_type": "stream",
     "text": [
      "MoviePy - Done.\n",
      "Moviepy - Writing video 20200214_DWG_GEN_1_HL145.0.mp4\n",
      "\n"
     ]
    },
    {
     "name": "stderr",
     "output_type": "stream",
     "text": [
      "                                                                                                                       \r"
     ]
    },
    {
     "name": "stdout",
     "output_type": "stream",
     "text": [
      "Moviepy - Done !\n",
      "Moviepy - video ready 20200214_DWG_GEN_1_HL145.0.mp4\n",
      "Moviepy - Building video 20200214_DWG_GEN_1_HL145.5.mp4.\n",
      "MoviePy - Writing audio in 20200214_DWG_GEN_1_HL145.5TEMP_MPY_wvf_snd.mp3\n"
     ]
    },
    {
     "name": "stderr",
     "output_type": "stream",
     "text": [
      "                                                                                                                       \r"
     ]
    },
    {
     "name": "stdout",
     "output_type": "stream",
     "text": [
      "MoviePy - Done.\n",
      "Moviepy - Writing video 20200214_DWG_GEN_1_HL145.5.mp4\n",
      "\n"
     ]
    },
    {
     "name": "stderr",
     "output_type": "stream",
     "text": [
      "                                                                                                                       \r"
     ]
    },
    {
     "name": "stdout",
     "output_type": "stream",
     "text": [
      "Moviepy - Done !\n",
      "Moviepy - video ready 20200214_DWG_GEN_1_HL145.5.mp4\n",
      "Moviepy - Building video 20200214_DWG_GEN_1_HL146.0.mp4.\n",
      "MoviePy - Writing audio in 20200214_DWG_GEN_1_HL146.0TEMP_MPY_wvf_snd.mp3\n"
     ]
    },
    {
     "name": "stderr",
     "output_type": "stream",
     "text": [
      "                                                                                                                       \r"
     ]
    },
    {
     "name": "stdout",
     "output_type": "stream",
     "text": [
      "MoviePy - Done.\n",
      "Moviepy - Writing video 20200214_DWG_GEN_1_HL146.0.mp4\n",
      "\n"
     ]
    },
    {
     "name": "stderr",
     "output_type": "stream",
     "text": [
      "                                                                                                                       \r"
     ]
    },
    {
     "name": "stdout",
     "output_type": "stream",
     "text": [
      "Moviepy - Done !\n",
      "Moviepy - video ready 20200214_DWG_GEN_1_HL146.0.mp4\n",
      "Moviepy - Building video 20200214_DWG_GEN_1_HL146.5.mp4.\n",
      "MoviePy - Writing audio in 20200214_DWG_GEN_1_HL146.5TEMP_MPY_wvf_snd.mp3\n"
     ]
    },
    {
     "name": "stderr",
     "output_type": "stream",
     "text": [
      "                                                                                                                       \r"
     ]
    },
    {
     "name": "stdout",
     "output_type": "stream",
     "text": [
      "MoviePy - Done.\n",
      "Moviepy - Writing video 20200214_DWG_GEN_1_HL146.5.mp4\n",
      "\n"
     ]
    },
    {
     "name": "stderr",
     "output_type": "stream",
     "text": [
      "                                                                                                                       \r"
     ]
    },
    {
     "name": "stdout",
     "output_type": "stream",
     "text": [
      "Moviepy - Done !\n",
      "Moviepy - video ready 20200214_DWG_GEN_1_HL146.5.mp4\n",
      "Moviepy - Building video 20200214_DWG_GEN_1_HL147.0.mp4.\n",
      "MoviePy - Writing audio in 20200214_DWG_GEN_1_HL147.0TEMP_MPY_wvf_snd.mp3\n"
     ]
    },
    {
     "name": "stderr",
     "output_type": "stream",
     "text": [
      "                                                                                                                       \r"
     ]
    },
    {
     "name": "stdout",
     "output_type": "stream",
     "text": [
      "MoviePy - Done.\n",
      "Moviepy - Writing video 20200214_DWG_GEN_1_HL147.0.mp4\n",
      "\n"
     ]
    },
    {
     "name": "stderr",
     "output_type": "stream",
     "text": [
      "                                                                                                                       \r"
     ]
    },
    {
     "name": "stdout",
     "output_type": "stream",
     "text": [
      "Moviepy - Done !\n",
      "Moviepy - video ready 20200214_DWG_GEN_1_HL147.0.mp4\n",
      "Moviepy - Building video 20200214_DWG_GEN_1_HL147.5.mp4.\n",
      "MoviePy - Writing audio in 20200214_DWG_GEN_1_HL147.5TEMP_MPY_wvf_snd.mp3\n"
     ]
    },
    {
     "name": "stderr",
     "output_type": "stream",
     "text": [
      "                                                                                                                       \r"
     ]
    },
    {
     "name": "stdout",
     "output_type": "stream",
     "text": [
      "MoviePy - Done.\n",
      "Moviepy - Writing video 20200214_DWG_GEN_1_HL147.5.mp4\n",
      "\n"
     ]
    },
    {
     "name": "stderr",
     "output_type": "stream",
     "text": [
      "                                                                                                                       \r"
     ]
    },
    {
     "name": "stdout",
     "output_type": "stream",
     "text": [
      "Moviepy - Done !\n",
      "Moviepy - video ready 20200214_DWG_GEN_1_HL147.5.mp4\n",
      "Moviepy - Building video 20200214_DWG_GEN_1_HL148.0.mp4.\n",
      "MoviePy - Writing audio in 20200214_DWG_GEN_1_HL148.0TEMP_MPY_wvf_snd.mp3\n"
     ]
    },
    {
     "name": "stderr",
     "output_type": "stream",
     "text": [
      "                                                                                                                       \r"
     ]
    },
    {
     "name": "stdout",
     "output_type": "stream",
     "text": [
      "MoviePy - Done.\n",
      "Moviepy - Writing video 20200214_DWG_GEN_1_HL148.0.mp4\n",
      "\n"
     ]
    },
    {
     "name": "stderr",
     "output_type": "stream",
     "text": [
      "                                                                                                                       \r"
     ]
    },
    {
     "name": "stdout",
     "output_type": "stream",
     "text": [
      "Moviepy - Done !\n",
      "Moviepy - video ready 20200214_DWG_GEN_1_HL148.0.mp4\n",
      "Moviepy - Building video 20200214_DWG_GEN_1_HL148.5.mp4.\n",
      "MoviePy - Writing audio in 20200214_DWG_GEN_1_HL148.5TEMP_MPY_wvf_snd.mp3\n"
     ]
    },
    {
     "name": "stderr",
     "output_type": "stream",
     "text": [
      "                                                                                                                       \r"
     ]
    },
    {
     "name": "stdout",
     "output_type": "stream",
     "text": [
      "MoviePy - Done.\n",
      "Moviepy - Writing video 20200214_DWG_GEN_1_HL148.5.mp4\n",
      "\n"
     ]
    },
    {
     "name": "stderr",
     "output_type": "stream",
     "text": [
      "                                                                                                                       \r"
     ]
    },
    {
     "name": "stdout",
     "output_type": "stream",
     "text": [
      "Moviepy - Done !\n",
      "Moviepy - video ready 20200214_DWG_GEN_1_HL148.5.mp4\n",
      "Moviepy - Building video 20200214_DWG_GEN_1_HL149.0.mp4.\n",
      "MoviePy - Writing audio in 20200214_DWG_GEN_1_HL149.0TEMP_MPY_wvf_snd.mp3\n"
     ]
    },
    {
     "name": "stderr",
     "output_type": "stream",
     "text": [
      "                                                                                                                       \r"
     ]
    },
    {
     "name": "stdout",
     "output_type": "stream",
     "text": [
      "MoviePy - Done.\n",
      "Moviepy - Writing video 20200214_DWG_GEN_1_HL149.0.mp4\n",
      "\n"
     ]
    },
    {
     "name": "stderr",
     "output_type": "stream",
     "text": [
      "                                                                                                                       \r"
     ]
    },
    {
     "name": "stdout",
     "output_type": "stream",
     "text": [
      "Moviepy - Done !\n",
      "Moviepy - video ready 20200214_DWG_GEN_1_HL149.0.mp4\n",
      "Moviepy - Building video 20200214_DWG_GEN_1_HL149.5.mp4.\n",
      "MoviePy - Writing audio in 20200214_DWG_GEN_1_HL149.5TEMP_MPY_wvf_snd.mp3\n"
     ]
    },
    {
     "name": "stderr",
     "output_type": "stream",
     "text": [
      "                                                                                                                       \r"
     ]
    },
    {
     "name": "stdout",
     "output_type": "stream",
     "text": [
      "MoviePy - Done.\n",
      "Moviepy - Writing video 20200214_DWG_GEN_1_HL149.5.mp4\n",
      "\n"
     ]
    },
    {
     "name": "stderr",
     "output_type": "stream",
     "text": [
      "                                                                                                                       \r"
     ]
    },
    {
     "name": "stdout",
     "output_type": "stream",
     "text": [
      "Moviepy - Done !\n",
      "Moviepy - video ready 20200214_DWG_GEN_1_HL149.5.mp4\n",
      "Moviepy - Building video 20200214_DWG_GEN_1_HL150.0.mp4.\n",
      "MoviePy - Writing audio in 20200214_DWG_GEN_1_HL150.0TEMP_MPY_wvf_snd.mp3\n"
     ]
    },
    {
     "name": "stderr",
     "output_type": "stream",
     "text": [
      "                                                                                                                       \r"
     ]
    },
    {
     "name": "stdout",
     "output_type": "stream",
     "text": [
      "MoviePy - Done.\n",
      "Moviepy - Writing video 20200214_DWG_GEN_1_HL150.0.mp4\n",
      "\n"
     ]
    },
    {
     "name": "stderr",
     "output_type": "stream",
     "text": [
      "                                                                                                                       \r"
     ]
    },
    {
     "name": "stdout",
     "output_type": "stream",
     "text": [
      "Moviepy - Done !\n",
      "Moviepy - video ready 20200214_DWG_GEN_1_HL150.0.mp4\n",
      "Moviepy - Building video 20200214_DWG_GEN_1_HL150.5.mp4.\n",
      "MoviePy - Writing audio in 20200214_DWG_GEN_1_HL150.5TEMP_MPY_wvf_snd.mp3\n"
     ]
    },
    {
     "name": "stderr",
     "output_type": "stream",
     "text": [
      "                                                                                                                       \r"
     ]
    },
    {
     "name": "stdout",
     "output_type": "stream",
     "text": [
      "MoviePy - Done.\n",
      "Moviepy - Writing video 20200214_DWG_GEN_1_HL150.5.mp4\n",
      "\n"
     ]
    },
    {
     "name": "stderr",
     "output_type": "stream",
     "text": [
      "                                                                                                                       \r"
     ]
    },
    {
     "name": "stdout",
     "output_type": "stream",
     "text": [
      "Moviepy - Done !\n",
      "Moviepy - video ready 20200214_DWG_GEN_1_HL150.5.mp4\n",
      "Moviepy - Building video 20200214_DWG_GEN_1_HL151.0.mp4.\n",
      "MoviePy - Writing audio in 20200214_DWG_GEN_1_HL151.0TEMP_MPY_wvf_snd.mp3\n"
     ]
    },
    {
     "name": "stderr",
     "output_type": "stream",
     "text": [
      "                                                                                                                       \r"
     ]
    },
    {
     "name": "stdout",
     "output_type": "stream",
     "text": [
      "MoviePy - Done.\n",
      "Moviepy - Writing video 20200214_DWG_GEN_1_HL151.0.mp4\n",
      "\n"
     ]
    },
    {
     "name": "stderr",
     "output_type": "stream",
     "text": [
      "                                                                                                                       \r"
     ]
    },
    {
     "name": "stdout",
     "output_type": "stream",
     "text": [
      "Moviepy - Done !\n",
      "Moviepy - video ready 20200214_DWG_GEN_1_HL151.0.mp4\n",
      "Moviepy - Building video 20200214_DWG_GEN_1_HL151.5.mp4.\n",
      "MoviePy - Writing audio in 20200214_DWG_GEN_1_HL151.5TEMP_MPY_wvf_snd.mp3\n"
     ]
    },
    {
     "name": "stderr",
     "output_type": "stream",
     "text": [
      "                                                                                                                       \r"
     ]
    },
    {
     "name": "stdout",
     "output_type": "stream",
     "text": [
      "MoviePy - Done.\n",
      "Moviepy - Writing video 20200214_DWG_GEN_1_HL151.5.mp4\n",
      "\n"
     ]
    },
    {
     "name": "stderr",
     "output_type": "stream",
     "text": [
      "                                                                                                                       \r"
     ]
    },
    {
     "name": "stdout",
     "output_type": "stream",
     "text": [
      "Moviepy - Done !\n",
      "Moviepy - video ready 20200214_DWG_GEN_1_HL151.5.mp4\n",
      "Moviepy - Building video 20200214_DWG_GEN_1_HL152.0.mp4.\n",
      "MoviePy - Writing audio in 20200214_DWG_GEN_1_HL152.0TEMP_MPY_wvf_snd.mp3\n"
     ]
    },
    {
     "name": "stderr",
     "output_type": "stream",
     "text": [
      "                                                                                                                       \r"
     ]
    },
    {
     "name": "stdout",
     "output_type": "stream",
     "text": [
      "MoviePy - Done.\n",
      "Moviepy - Writing video 20200214_DWG_GEN_1_HL152.0.mp4\n",
      "\n"
     ]
    },
    {
     "name": "stderr",
     "output_type": "stream",
     "text": [
      "                                                                                                                       \r"
     ]
    },
    {
     "name": "stdout",
     "output_type": "stream",
     "text": [
      "Moviepy - Done !\n",
      "Moviepy - video ready 20200214_DWG_GEN_1_HL152.0.mp4\n",
      "Moviepy - Building video 20200214_DWG_GEN_1_HL152.5.mp4.\n",
      "MoviePy - Writing audio in 20200214_DWG_GEN_1_HL152.5TEMP_MPY_wvf_snd.mp3\n"
     ]
    },
    {
     "name": "stderr",
     "output_type": "stream",
     "text": [
      "                                                                                                                       \r"
     ]
    },
    {
     "name": "stdout",
     "output_type": "stream",
     "text": [
      "MoviePy - Done.\n",
      "Moviepy - Writing video 20200214_DWG_GEN_1_HL152.5.mp4\n",
      "\n"
     ]
    },
    {
     "name": "stderr",
     "output_type": "stream",
     "text": [
      "                                                                                                                       \r"
     ]
    },
    {
     "name": "stdout",
     "output_type": "stream",
     "text": [
      "Moviepy - Done !\n",
      "Moviepy - video ready 20200214_DWG_GEN_1_HL152.5.mp4\n",
      "Moviepy - Building video 20200214_DWG_GEN_1_HL153.0.mp4.\n",
      "MoviePy - Writing audio in 20200214_DWG_GEN_1_HL153.0TEMP_MPY_wvf_snd.mp3\n"
     ]
    },
    {
     "name": "stderr",
     "output_type": "stream",
     "text": [
      "                                                                                                                       \r"
     ]
    },
    {
     "name": "stdout",
     "output_type": "stream",
     "text": [
      "MoviePy - Done.\n",
      "Moviepy - Writing video 20200214_DWG_GEN_1_HL153.0.mp4\n",
      "\n"
     ]
    },
    {
     "name": "stderr",
     "output_type": "stream",
     "text": [
      "                                                                                                                       \r"
     ]
    },
    {
     "name": "stdout",
     "output_type": "stream",
     "text": [
      "Moviepy - Done !\n",
      "Moviepy - video ready 20200214_DWG_GEN_1_HL153.0.mp4\n",
      "Moviepy - Building video 20200214_DWG_GEN_1_HL153.5.mp4.\n",
      "MoviePy - Writing audio in 20200214_DWG_GEN_1_HL153.5TEMP_MPY_wvf_snd.mp3\n"
     ]
    },
    {
     "name": "stderr",
     "output_type": "stream",
     "text": [
      "                                                                                                                       \r"
     ]
    },
    {
     "name": "stdout",
     "output_type": "stream",
     "text": [
      "MoviePy - Done.\n",
      "Moviepy - Writing video 20200214_DWG_GEN_1_HL153.5.mp4\n",
      "\n"
     ]
    },
    {
     "name": "stderr",
     "output_type": "stream",
     "text": [
      "                                                                                                                       \r"
     ]
    },
    {
     "name": "stdout",
     "output_type": "stream",
     "text": [
      "Moviepy - Done !\n",
      "Moviepy - video ready 20200214_DWG_GEN_1_HL153.5.mp4\n",
      "Moviepy - Building video 20200214_DWG_GEN_1_HL154.0.mp4.\n",
      "MoviePy - Writing audio in 20200214_DWG_GEN_1_HL154.0TEMP_MPY_wvf_snd.mp3\n"
     ]
    },
    {
     "name": "stderr",
     "output_type": "stream",
     "text": [
      "                                                                                                                       \r"
     ]
    },
    {
     "name": "stdout",
     "output_type": "stream",
     "text": [
      "MoviePy - Done.\n",
      "Moviepy - Writing video 20200214_DWG_GEN_1_HL154.0.mp4\n",
      "\n"
     ]
    },
    {
     "name": "stderr",
     "output_type": "stream",
     "text": [
      "                                                                                                                       \r"
     ]
    },
    {
     "name": "stdout",
     "output_type": "stream",
     "text": [
      "Moviepy - Done !\n",
      "Moviepy - video ready 20200214_DWG_GEN_1_HL154.0.mp4\n",
      "Moviepy - Building video 20200214_DWG_GEN_1_HL154.5.mp4.\n",
      "MoviePy - Writing audio in 20200214_DWG_GEN_1_HL154.5TEMP_MPY_wvf_snd.mp3\n"
     ]
    },
    {
     "name": "stderr",
     "output_type": "stream",
     "text": [
      "                                                                                                                       \r"
     ]
    },
    {
     "name": "stdout",
     "output_type": "stream",
     "text": [
      "MoviePy - Done.\n",
      "Moviepy - Writing video 20200214_DWG_GEN_1_HL154.5.mp4\n",
      "\n"
     ]
    },
    {
     "name": "stderr",
     "output_type": "stream",
     "text": [
      "                                                                                                                       \r"
     ]
    },
    {
     "name": "stdout",
     "output_type": "stream",
     "text": [
      "Moviepy - Done !\n",
      "Moviepy - video ready 20200214_DWG_GEN_1_HL154.5.mp4\n",
      "Moviepy - Building video 20200214_DWG_GEN_1_HL155.0.mp4.\n",
      "MoviePy - Writing audio in 20200214_DWG_GEN_1_HL155.0TEMP_MPY_wvf_snd.mp3\n"
     ]
    },
    {
     "name": "stderr",
     "output_type": "stream",
     "text": [
      "                                                                                                                       \r"
     ]
    },
    {
     "name": "stdout",
     "output_type": "stream",
     "text": [
      "MoviePy - Done.\n",
      "Moviepy - Writing video 20200214_DWG_GEN_1_HL155.0.mp4\n",
      "\n"
     ]
    },
    {
     "name": "stderr",
     "output_type": "stream",
     "text": [
      "                                                                                                                       \r"
     ]
    },
    {
     "name": "stdout",
     "output_type": "stream",
     "text": [
      "Moviepy - Done !\n",
      "Moviepy - video ready 20200214_DWG_GEN_1_HL155.0.mp4\n",
      "Moviepy - Building video 20200214_DWG_GEN_1_HL155.5.mp4.\n",
      "MoviePy - Writing audio in 20200214_DWG_GEN_1_HL155.5TEMP_MPY_wvf_snd.mp3\n"
     ]
    },
    {
     "name": "stderr",
     "output_type": "stream",
     "text": [
      "                                                                                                                       \r"
     ]
    },
    {
     "name": "stdout",
     "output_type": "stream",
     "text": [
      "MoviePy - Done.\n",
      "Moviepy - Writing video 20200214_DWG_GEN_1_HL155.5.mp4\n",
      "\n"
     ]
    },
    {
     "name": "stderr",
     "output_type": "stream",
     "text": [
      "                                                                                                                       \r"
     ]
    },
    {
     "name": "stdout",
     "output_type": "stream",
     "text": [
      "Moviepy - Done !\n",
      "Moviepy - video ready 20200214_DWG_GEN_1_HL155.5.mp4\n",
      "Moviepy - Building video 20200214_DWG_GEN_1_HL156.0.mp4.\n",
      "MoviePy - Writing audio in 20200214_DWG_GEN_1_HL156.0TEMP_MPY_wvf_snd.mp3\n"
     ]
    },
    {
     "name": "stderr",
     "output_type": "stream",
     "text": [
      "                                                                                                                       \r"
     ]
    },
    {
     "name": "stdout",
     "output_type": "stream",
     "text": [
      "MoviePy - Done.\n",
      "Moviepy - Writing video 20200214_DWG_GEN_1_HL156.0.mp4\n",
      "\n"
     ]
    },
    {
     "name": "stderr",
     "output_type": "stream",
     "text": [
      "                                                                                                                       \r"
     ]
    },
    {
     "name": "stdout",
     "output_type": "stream",
     "text": [
      "Moviepy - Done !\n",
      "Moviepy - video ready 20200214_DWG_GEN_1_HL156.0.mp4\n",
      "Moviepy - Building video 20200214_DWG_GEN_1_HL156.5.mp4.\n",
      "MoviePy - Writing audio in 20200214_DWG_GEN_1_HL156.5TEMP_MPY_wvf_snd.mp3\n"
     ]
    },
    {
     "name": "stderr",
     "output_type": "stream",
     "text": [
      "                                                                                                                       \r"
     ]
    },
    {
     "name": "stdout",
     "output_type": "stream",
     "text": [
      "MoviePy - Done.\n",
      "Moviepy - Writing video 20200214_DWG_GEN_1_HL156.5.mp4\n",
      "\n"
     ]
    },
    {
     "name": "stderr",
     "output_type": "stream",
     "text": [
      "                                                                                                                       \r"
     ]
    },
    {
     "name": "stdout",
     "output_type": "stream",
     "text": [
      "Moviepy - Done !\n",
      "Moviepy - video ready 20200214_DWG_GEN_1_HL156.5.mp4\n",
      "Moviepy - Building video 20200214_DWG_GEN_1_HL157.0.mp4.\n",
      "MoviePy - Writing audio in 20200214_DWG_GEN_1_HL157.0TEMP_MPY_wvf_snd.mp3\n"
     ]
    },
    {
     "name": "stderr",
     "output_type": "stream",
     "text": [
      "                                                                                                                       \r"
     ]
    },
    {
     "name": "stdout",
     "output_type": "stream",
     "text": [
      "MoviePy - Done.\n",
      "Moviepy - Writing video 20200214_DWG_GEN_1_HL157.0.mp4\n",
      "\n"
     ]
    },
    {
     "name": "stderr",
     "output_type": "stream",
     "text": [
      "                                                                                                                       \r"
     ]
    },
    {
     "name": "stdout",
     "output_type": "stream",
     "text": [
      "Moviepy - Done !\n",
      "Moviepy - video ready 20200214_DWG_GEN_1_HL157.0.mp4\n",
      "Moviepy - Building video 20200214_DWG_GEN_1_HL157.5.mp4.\n",
      "MoviePy - Writing audio in 20200214_DWG_GEN_1_HL157.5TEMP_MPY_wvf_snd.mp3\n"
     ]
    },
    {
     "name": "stderr",
     "output_type": "stream",
     "text": [
      "                                                                                                                       \r"
     ]
    },
    {
     "name": "stdout",
     "output_type": "stream",
     "text": [
      "MoviePy - Done.\n",
      "Moviepy - Writing video 20200214_DWG_GEN_1_HL157.5.mp4\n",
      "\n"
     ]
    },
    {
     "name": "stderr",
     "output_type": "stream",
     "text": [
      "                                                                                                                       \r"
     ]
    },
    {
     "name": "stdout",
     "output_type": "stream",
     "text": [
      "Moviepy - Done !\n",
      "Moviepy - video ready 20200214_DWG_GEN_1_HL157.5.mp4\n",
      "Moviepy - Building video 20200214_DWG_GEN_1_HL158.0.mp4.\n",
      "MoviePy - Writing audio in 20200214_DWG_GEN_1_HL158.0TEMP_MPY_wvf_snd.mp3\n"
     ]
    },
    {
     "name": "stderr",
     "output_type": "stream",
     "text": [
      "                                                                                                                       \r"
     ]
    },
    {
     "name": "stdout",
     "output_type": "stream",
     "text": [
      "MoviePy - Done.\n",
      "Moviepy - Writing video 20200214_DWG_GEN_1_HL158.0.mp4\n",
      "\n"
     ]
    },
    {
     "name": "stderr",
     "output_type": "stream",
     "text": [
      "                                                                                                                       \r"
     ]
    },
    {
     "name": "stdout",
     "output_type": "stream",
     "text": [
      "Moviepy - Done !\n",
      "Moviepy - video ready 20200214_DWG_GEN_1_HL158.0.mp4\n",
      "Moviepy - Building video 20200214_DWG_GEN_1_HL158.5.mp4.\n",
      "MoviePy - Writing audio in 20200214_DWG_GEN_1_HL158.5TEMP_MPY_wvf_snd.mp3\n"
     ]
    },
    {
     "name": "stderr",
     "output_type": "stream",
     "text": [
      "                                                                                                                       \r"
     ]
    },
    {
     "name": "stdout",
     "output_type": "stream",
     "text": [
      "MoviePy - Done.\n",
      "Moviepy - Writing video 20200214_DWG_GEN_1_HL158.5.mp4\n",
      "\n"
     ]
    },
    {
     "name": "stderr",
     "output_type": "stream",
     "text": [
      "                                                                                                                       \r"
     ]
    },
    {
     "name": "stdout",
     "output_type": "stream",
     "text": [
      "Moviepy - Done !\n",
      "Moviepy - video ready 20200214_DWG_GEN_1_HL158.5.mp4\n",
      "Moviepy - Building video 20200214_DWG_GEN_1_HL159.0.mp4.\n",
      "MoviePy - Writing audio in 20200214_DWG_GEN_1_HL159.0TEMP_MPY_wvf_snd.mp3\n"
     ]
    },
    {
     "name": "stderr",
     "output_type": "stream",
     "text": [
      "                                                                                                                       \r"
     ]
    },
    {
     "name": "stdout",
     "output_type": "stream",
     "text": [
      "MoviePy - Done.\n",
      "Moviepy - Writing video 20200214_DWG_GEN_1_HL159.0.mp4\n",
      "\n"
     ]
    },
    {
     "name": "stderr",
     "output_type": "stream",
     "text": [
      "                                                                                                                       \r"
     ]
    },
    {
     "name": "stdout",
     "output_type": "stream",
     "text": [
      "Moviepy - Done !\n",
      "Moviepy - video ready 20200214_DWG_GEN_1_HL159.0.mp4\n",
      "Moviepy - Building video 20200214_DWG_GEN_1_HL159.5.mp4.\n",
      "MoviePy - Writing audio in 20200214_DWG_GEN_1_HL159.5TEMP_MPY_wvf_snd.mp3\n"
     ]
    },
    {
     "name": "stderr",
     "output_type": "stream",
     "text": [
      "                                                                                                                       \r"
     ]
    },
    {
     "name": "stdout",
     "output_type": "stream",
     "text": [
      "MoviePy - Done.\n",
      "Moviepy - Writing video 20200214_DWG_GEN_1_HL159.5.mp4\n",
      "\n"
     ]
    },
    {
     "name": "stderr",
     "output_type": "stream",
     "text": [
      "                                                                                                                       \r"
     ]
    },
    {
     "name": "stdout",
     "output_type": "stream",
     "text": [
      "Moviepy - Done !\n",
      "Moviepy - video ready 20200214_DWG_GEN_1_HL159.5.mp4\n",
      "Moviepy - Building video 20200214_DWG_GEN_1_HL160.0.mp4.\n",
      "MoviePy - Writing audio in 20200214_DWG_GEN_1_HL160.0TEMP_MPY_wvf_snd.mp3\n"
     ]
    },
    {
     "name": "stderr",
     "output_type": "stream",
     "text": [
      "                                                                                                                       \r"
     ]
    },
    {
     "name": "stdout",
     "output_type": "stream",
     "text": [
      "MoviePy - Done.\n",
      "Moviepy - Writing video 20200214_DWG_GEN_1_HL160.0.mp4\n",
      "\n"
     ]
    },
    {
     "name": "stderr",
     "output_type": "stream",
     "text": [
      "                                                                                                                       \r"
     ]
    },
    {
     "name": "stdout",
     "output_type": "stream",
     "text": [
      "Moviepy - Done !\n",
      "Moviepy - video ready 20200214_DWG_GEN_1_HL160.0.mp4\n",
      "Moviepy - Building video 20200214_DWG_GEN_1_HL160.5.mp4.\n",
      "MoviePy - Writing audio in 20200214_DWG_GEN_1_HL160.5TEMP_MPY_wvf_snd.mp3\n"
     ]
    },
    {
     "name": "stderr",
     "output_type": "stream",
     "text": [
      "                                                                                                                       \r"
     ]
    },
    {
     "name": "stdout",
     "output_type": "stream",
     "text": [
      "MoviePy - Done.\n",
      "Moviepy - Writing video 20200214_DWG_GEN_1_HL160.5.mp4\n",
      "\n"
     ]
    },
    {
     "name": "stderr",
     "output_type": "stream",
     "text": [
      "                                                                                                                       \r"
     ]
    },
    {
     "name": "stdout",
     "output_type": "stream",
     "text": [
      "Moviepy - Done !\n",
      "Moviepy - video ready 20200214_DWG_GEN_1_HL160.5.mp4\n",
      "Moviepy - Building video 20200214_DWG_GEN_1_HL161.0.mp4.\n",
      "MoviePy - Writing audio in 20200214_DWG_GEN_1_HL161.0TEMP_MPY_wvf_snd.mp3\n"
     ]
    },
    {
     "name": "stderr",
     "output_type": "stream",
     "text": [
      "                                                                                                                       \r"
     ]
    },
    {
     "name": "stdout",
     "output_type": "stream",
     "text": [
      "MoviePy - Done.\n",
      "Moviepy - Writing video 20200214_DWG_GEN_1_HL161.0.mp4\n",
      "\n"
     ]
    },
    {
     "name": "stderr",
     "output_type": "stream",
     "text": [
      "                                                                                                                       \r"
     ]
    },
    {
     "name": "stdout",
     "output_type": "stream",
     "text": [
      "Moviepy - Done !\n",
      "Moviepy - video ready 20200214_DWG_GEN_1_HL161.0.mp4\n",
      "Moviepy - Building video 20200214_DWG_GEN_1_HL161.5.mp4.\n",
      "MoviePy - Writing audio in 20200214_DWG_GEN_1_HL161.5TEMP_MPY_wvf_snd.mp3\n"
     ]
    },
    {
     "name": "stderr",
     "output_type": "stream",
     "text": [
      "                                                                                                                       \r"
     ]
    },
    {
     "name": "stdout",
     "output_type": "stream",
     "text": [
      "MoviePy - Done.\n",
      "Moviepy - Writing video 20200214_DWG_GEN_1_HL161.5.mp4\n",
      "\n"
     ]
    },
    {
     "name": "stderr",
     "output_type": "stream",
     "text": [
      "                                                                                                                       \r"
     ]
    },
    {
     "name": "stdout",
     "output_type": "stream",
     "text": [
      "Moviepy - Done !\n",
      "Moviepy - video ready 20200214_DWG_GEN_1_HL161.5.mp4\n",
      "Moviepy - Building video 20200214_DWG_GEN_1_HL162.0.mp4.\n",
      "MoviePy - Writing audio in 20200214_DWG_GEN_1_HL162.0TEMP_MPY_wvf_snd.mp3\n"
     ]
    },
    {
     "name": "stderr",
     "output_type": "stream",
     "text": [
      "                                                                                                                       \r"
     ]
    },
    {
     "name": "stdout",
     "output_type": "stream",
     "text": [
      "MoviePy - Done.\n",
      "Moviepy - Writing video 20200214_DWG_GEN_1_HL162.0.mp4\n",
      "\n"
     ]
    },
    {
     "name": "stderr",
     "output_type": "stream",
     "text": [
      "                                                                                                                       \r"
     ]
    },
    {
     "name": "stdout",
     "output_type": "stream",
     "text": [
      "Moviepy - Done !\n",
      "Moviepy - video ready 20200214_DWG_GEN_1_HL162.0.mp4\n",
      "Moviepy - Building video 20200214_DWG_GEN_1_HL162.5.mp4.\n",
      "MoviePy - Writing audio in 20200214_DWG_GEN_1_HL162.5TEMP_MPY_wvf_snd.mp3\n"
     ]
    },
    {
     "name": "stderr",
     "output_type": "stream",
     "text": [
      "                                                                                                                       \r"
     ]
    },
    {
     "name": "stdout",
     "output_type": "stream",
     "text": [
      "MoviePy - Done.\n",
      "Moviepy - Writing video 20200214_DWG_GEN_1_HL162.5.mp4\n",
      "\n"
     ]
    },
    {
     "name": "stderr",
     "output_type": "stream",
     "text": [
      "                                                                                                                       \r"
     ]
    },
    {
     "name": "stdout",
     "output_type": "stream",
     "text": [
      "Moviepy - Done !\n",
      "Moviepy - video ready 20200214_DWG_GEN_1_HL162.5.mp4\n",
      "Moviepy - Building video 20200214_DWG_GEN_1_HL163.0.mp4.\n",
      "MoviePy - Writing audio in 20200214_DWG_GEN_1_HL163.0TEMP_MPY_wvf_snd.mp3\n"
     ]
    },
    {
     "name": "stderr",
     "output_type": "stream",
     "text": [
      "                                                                                                                       \r"
     ]
    },
    {
     "name": "stdout",
     "output_type": "stream",
     "text": [
      "MoviePy - Done.\n",
      "Moviepy - Writing video 20200214_DWG_GEN_1_HL163.0.mp4\n",
      "\n"
     ]
    },
    {
     "name": "stderr",
     "output_type": "stream",
     "text": [
      "                                                                                                                       \r"
     ]
    },
    {
     "name": "stdout",
     "output_type": "stream",
     "text": [
      "Moviepy - Done !\n",
      "Moviepy - video ready 20200214_DWG_GEN_1_HL163.0.mp4\n",
      "Moviepy - Building video 20200214_DWG_GEN_1_HL163.5.mp4.\n",
      "MoviePy - Writing audio in 20200214_DWG_GEN_1_HL163.5TEMP_MPY_wvf_snd.mp3\n"
     ]
    },
    {
     "name": "stderr",
     "output_type": "stream",
     "text": [
      "                                                                                                                       \r"
     ]
    },
    {
     "name": "stdout",
     "output_type": "stream",
     "text": [
      "MoviePy - Done.\n",
      "Moviepy - Writing video 20200214_DWG_GEN_1_HL163.5.mp4\n",
      "\n"
     ]
    },
    {
     "name": "stderr",
     "output_type": "stream",
     "text": [
      "                                                                                                                       \r"
     ]
    },
    {
     "name": "stdout",
     "output_type": "stream",
     "text": [
      "Moviepy - Done !\n",
      "Moviepy - video ready 20200214_DWG_GEN_1_HL163.5.mp4\n",
      "Moviepy - Building video 20200214_DWG_GEN_1_HL164.0.mp4.\n",
      "MoviePy - Writing audio in 20200214_DWG_GEN_1_HL164.0TEMP_MPY_wvf_snd.mp3\n"
     ]
    },
    {
     "name": "stderr",
     "output_type": "stream",
     "text": [
      "                                                                                                                       \r"
     ]
    },
    {
     "name": "stdout",
     "output_type": "stream",
     "text": [
      "MoviePy - Done.\n",
      "Moviepy - Writing video 20200214_DWG_GEN_1_HL164.0.mp4\n",
      "\n"
     ]
    },
    {
     "name": "stderr",
     "output_type": "stream",
     "text": [
      "                                                                                                                       \r"
     ]
    },
    {
     "name": "stdout",
     "output_type": "stream",
     "text": [
      "Moviepy - Done !\n",
      "Moviepy - video ready 20200214_DWG_GEN_1_HL164.0.mp4\n",
      "Moviepy - Building video 20200214_DWG_GEN_1_HL164.5.mp4.\n",
      "MoviePy - Writing audio in 20200214_DWG_GEN_1_HL164.5TEMP_MPY_wvf_snd.mp3\n"
     ]
    },
    {
     "name": "stderr",
     "output_type": "stream",
     "text": [
      "                                                                                                                       \r"
     ]
    },
    {
     "name": "stdout",
     "output_type": "stream",
     "text": [
      "MoviePy - Done.\n",
      "Moviepy - Writing video 20200214_DWG_GEN_1_HL164.5.mp4\n",
      "\n"
     ]
    },
    {
     "name": "stderr",
     "output_type": "stream",
     "text": [
      "                                                                                                                       \r"
     ]
    },
    {
     "name": "stdout",
     "output_type": "stream",
     "text": [
      "Moviepy - Done !\n",
      "Moviepy - video ready 20200214_DWG_GEN_1_HL164.5.mp4\n",
      "Moviepy - Building video 20200214_DWG_GEN_1_HL165.0.mp4.\n",
      "MoviePy - Writing audio in 20200214_DWG_GEN_1_HL165.0TEMP_MPY_wvf_snd.mp3\n"
     ]
    },
    {
     "name": "stderr",
     "output_type": "stream",
     "text": [
      "                                                                                                                       \r"
     ]
    },
    {
     "name": "stdout",
     "output_type": "stream",
     "text": [
      "MoviePy - Done.\n",
      "Moviepy - Writing video 20200214_DWG_GEN_1_HL165.0.mp4\n",
      "\n"
     ]
    },
    {
     "name": "stderr",
     "output_type": "stream",
     "text": [
      "                                                                                                                       \r"
     ]
    },
    {
     "name": "stdout",
     "output_type": "stream",
     "text": [
      "Moviepy - Done !\n",
      "Moviepy - video ready 20200214_DWG_GEN_1_HL165.0.mp4\n",
      "Moviepy - Building video 20200214_DWG_GEN_1_HL165.5.mp4.\n",
      "MoviePy - Writing audio in 20200214_DWG_GEN_1_HL165.5TEMP_MPY_wvf_snd.mp3\n"
     ]
    },
    {
     "name": "stderr",
     "output_type": "stream",
     "text": [
      "                                                                                                                       \r"
     ]
    },
    {
     "name": "stdout",
     "output_type": "stream",
     "text": [
      "MoviePy - Done.\n",
      "Moviepy - Writing video 20200214_DWG_GEN_1_HL165.5.mp4\n",
      "\n"
     ]
    },
    {
     "name": "stderr",
     "output_type": "stream",
     "text": [
      "                                                                                                                       \r"
     ]
    },
    {
     "name": "stdout",
     "output_type": "stream",
     "text": [
      "Moviepy - Done !\n",
      "Moviepy - video ready 20200214_DWG_GEN_1_HL165.5.mp4\n",
      "Moviepy - Building video 20200214_DWG_GEN_1_HL166.0.mp4.\n",
      "MoviePy - Writing audio in 20200214_DWG_GEN_1_HL166.0TEMP_MPY_wvf_snd.mp3\n"
     ]
    },
    {
     "name": "stderr",
     "output_type": "stream",
     "text": [
      "                                                                                                                       \r"
     ]
    },
    {
     "name": "stdout",
     "output_type": "stream",
     "text": [
      "MoviePy - Done.\n",
      "Moviepy - Writing video 20200214_DWG_GEN_1_HL166.0.mp4\n",
      "\n"
     ]
    },
    {
     "name": "stderr",
     "output_type": "stream",
     "text": [
      "                                                                                                                       \r"
     ]
    },
    {
     "name": "stdout",
     "output_type": "stream",
     "text": [
      "Moviepy - Done !\n",
      "Moviepy - video ready 20200214_DWG_GEN_1_HL166.0.mp4\n",
      "Moviepy - Building video 20200214_DWG_GEN_1_HL166.5.mp4.\n",
      "MoviePy - Writing audio in 20200214_DWG_GEN_1_HL166.5TEMP_MPY_wvf_snd.mp3\n"
     ]
    },
    {
     "name": "stderr",
     "output_type": "stream",
     "text": [
      "                                                                                                                       \r"
     ]
    },
    {
     "name": "stdout",
     "output_type": "stream",
     "text": [
      "MoviePy - Done.\n",
      "Moviepy - Writing video 20200214_DWG_GEN_1_HL166.5.mp4\n",
      "\n"
     ]
    },
    {
     "name": "stderr",
     "output_type": "stream",
     "text": [
      "                                                                                                                       \r"
     ]
    },
    {
     "name": "stdout",
     "output_type": "stream",
     "text": [
      "Moviepy - Done !\n",
      "Moviepy - video ready 20200214_DWG_GEN_1_HL166.5.mp4\n",
      "Moviepy - Building video 20200214_DWG_GEN_1_HL167.0.mp4.\n",
      "MoviePy - Writing audio in 20200214_DWG_GEN_1_HL167.0TEMP_MPY_wvf_snd.mp3\n"
     ]
    },
    {
     "name": "stderr",
     "output_type": "stream",
     "text": [
      "                                                                                                                       \r"
     ]
    },
    {
     "name": "stdout",
     "output_type": "stream",
     "text": [
      "MoviePy - Done.\n",
      "Moviepy - Writing video 20200214_DWG_GEN_1_HL167.0.mp4\n",
      "\n"
     ]
    },
    {
     "name": "stderr",
     "output_type": "stream",
     "text": [
      "                                                                                                                       \r"
     ]
    },
    {
     "name": "stdout",
     "output_type": "stream",
     "text": [
      "Moviepy - Done !\n",
      "Moviepy - video ready 20200214_DWG_GEN_1_HL167.0.mp4\n",
      "Moviepy - Building video 20200214_DWG_GEN_1_HL167.5.mp4.\n",
      "MoviePy - Writing audio in 20200214_DWG_GEN_1_HL167.5TEMP_MPY_wvf_snd.mp3\n"
     ]
    },
    {
     "name": "stderr",
     "output_type": "stream",
     "text": [
      "                                                                                                                       \r"
     ]
    },
    {
     "name": "stdout",
     "output_type": "stream",
     "text": [
      "MoviePy - Done.\n",
      "Moviepy - Writing video 20200214_DWG_GEN_1_HL167.5.mp4\n",
      "\n"
     ]
    },
    {
     "name": "stderr",
     "output_type": "stream",
     "text": [
      "                                                                                                                       \r"
     ]
    },
    {
     "name": "stdout",
     "output_type": "stream",
     "text": [
      "Moviepy - Done !\n",
      "Moviepy - video ready 20200214_DWG_GEN_1_HL167.5.mp4\n",
      "Moviepy - Building video 20200214_DWG_GEN_1_HL168.0.mp4.\n",
      "MoviePy - Writing audio in 20200214_DWG_GEN_1_HL168.0TEMP_MPY_wvf_snd.mp3\n"
     ]
    },
    {
     "name": "stderr",
     "output_type": "stream",
     "text": [
      "                                                                                                                       \r"
     ]
    },
    {
     "name": "stdout",
     "output_type": "stream",
     "text": [
      "MoviePy - Done.\n",
      "Moviepy - Writing video 20200214_DWG_GEN_1_HL168.0.mp4\n",
      "\n"
     ]
    },
    {
     "name": "stderr",
     "output_type": "stream",
     "text": [
      "                                                                                                                       \r"
     ]
    },
    {
     "name": "stdout",
     "output_type": "stream",
     "text": [
      "Moviepy - Done !\n",
      "Moviepy - video ready 20200214_DWG_GEN_1_HL168.0.mp4\n",
      "Moviepy - Building video 20200214_DWG_GEN_1_HL168.5.mp4.\n",
      "MoviePy - Writing audio in 20200214_DWG_GEN_1_HL168.5TEMP_MPY_wvf_snd.mp3\n"
     ]
    },
    {
     "name": "stderr",
     "output_type": "stream",
     "text": [
      "                                                                                                                       \r"
     ]
    },
    {
     "name": "stdout",
     "output_type": "stream",
     "text": [
      "MoviePy - Done.\n",
      "Moviepy - Writing video 20200214_DWG_GEN_1_HL168.5.mp4\n",
      "\n"
     ]
    },
    {
     "name": "stderr",
     "output_type": "stream",
     "text": [
      "                                                                                                                       \r"
     ]
    },
    {
     "name": "stdout",
     "output_type": "stream",
     "text": [
      "Moviepy - Done !\n",
      "Moviepy - video ready 20200214_DWG_GEN_1_HL168.5.mp4\n",
      "Moviepy - Building video 20200214_DWG_GEN_1_HL169.0.mp4.\n",
      "MoviePy - Writing audio in 20200214_DWG_GEN_1_HL169.0TEMP_MPY_wvf_snd.mp3\n"
     ]
    },
    {
     "name": "stderr",
     "output_type": "stream",
     "text": [
      "                                                                                                                       \r"
     ]
    },
    {
     "name": "stdout",
     "output_type": "stream",
     "text": [
      "MoviePy - Done.\n",
      "Moviepy - Writing video 20200214_DWG_GEN_1_HL169.0.mp4\n",
      "\n"
     ]
    },
    {
     "name": "stderr",
     "output_type": "stream",
     "text": [
      "                                                                                                                       \r"
     ]
    },
    {
     "name": "stdout",
     "output_type": "stream",
     "text": [
      "Moviepy - Done !\n",
      "Moviepy - video ready 20200214_DWG_GEN_1_HL169.0.mp4\n",
      "Moviepy - Building video 20200214_DWG_GEN_1_HL169.5.mp4.\n",
      "MoviePy - Writing audio in 20200214_DWG_GEN_1_HL169.5TEMP_MPY_wvf_snd.mp3\n"
     ]
    },
    {
     "name": "stderr",
     "output_type": "stream",
     "text": [
      "                                                                                                                       \r"
     ]
    },
    {
     "name": "stdout",
     "output_type": "stream",
     "text": [
      "MoviePy - Done.\n",
      "Moviepy - Writing video 20200214_DWG_GEN_1_HL169.5.mp4\n",
      "\n"
     ]
    },
    {
     "name": "stderr",
     "output_type": "stream",
     "text": [
      "                                                                                                                       \r"
     ]
    },
    {
     "name": "stdout",
     "output_type": "stream",
     "text": [
      "Moviepy - Done !\n",
      "Moviepy - video ready 20200214_DWG_GEN_1_HL169.5.mp4\n",
      "Moviepy - Building video 20200214_DWG_GEN_1_HL170.0.mp4.\n",
      "MoviePy - Writing audio in 20200214_DWG_GEN_1_HL170.0TEMP_MPY_wvf_snd.mp3\n"
     ]
    },
    {
     "name": "stderr",
     "output_type": "stream",
     "text": [
      "                                                                                                                       \r"
     ]
    },
    {
     "name": "stdout",
     "output_type": "stream",
     "text": [
      "MoviePy - Done.\n",
      "Moviepy - Writing video 20200214_DWG_GEN_1_HL170.0.mp4\n",
      "\n"
     ]
    },
    {
     "name": "stderr",
     "output_type": "stream",
     "text": [
      "                                                                                                                       \r"
     ]
    },
    {
     "name": "stdout",
     "output_type": "stream",
     "text": [
      "Moviepy - Done !\n",
      "Moviepy - video ready 20200214_DWG_GEN_1_HL170.0.mp4\n",
      "Moviepy - Building video 20200214_DWG_GEN_1_HL170.5.mp4.\n",
      "MoviePy - Writing audio in 20200214_DWG_GEN_1_HL170.5TEMP_MPY_wvf_snd.mp3\n"
     ]
    },
    {
     "name": "stderr",
     "output_type": "stream",
     "text": [
      "                                                                                                                       \r"
     ]
    },
    {
     "name": "stdout",
     "output_type": "stream",
     "text": [
      "MoviePy - Done.\n",
      "Moviepy - Writing video 20200214_DWG_GEN_1_HL170.5.mp4\n",
      "\n"
     ]
    },
    {
     "name": "stderr",
     "output_type": "stream",
     "text": [
      "                                                                                                                       \r"
     ]
    },
    {
     "name": "stdout",
     "output_type": "stream",
     "text": [
      "Moviepy - Done !\n",
      "Moviepy - video ready 20200214_DWG_GEN_1_HL170.5.mp4\n",
      "Moviepy - Building video 20200214_DWG_GEN_1_HL171.0.mp4.\n",
      "MoviePy - Writing audio in 20200214_DWG_GEN_1_HL171.0TEMP_MPY_wvf_snd.mp3\n"
     ]
    },
    {
     "name": "stderr",
     "output_type": "stream",
     "text": [
      "                                                                                                                       \r"
     ]
    },
    {
     "name": "stdout",
     "output_type": "stream",
     "text": [
      "MoviePy - Done.\n",
      "Moviepy - Writing video 20200214_DWG_GEN_1_HL171.0.mp4\n",
      "\n"
     ]
    },
    {
     "name": "stderr",
     "output_type": "stream",
     "text": [
      "                                                                                                                       \r"
     ]
    },
    {
     "name": "stdout",
     "output_type": "stream",
     "text": [
      "Moviepy - Done !\n",
      "Moviepy - video ready 20200214_DWG_GEN_1_HL171.0.mp4\n",
      "Moviepy - Building video 20200214_DWG_GEN_1_HL171.5.mp4.\n",
      "MoviePy - Writing audio in 20200214_DWG_GEN_1_HL171.5TEMP_MPY_wvf_snd.mp3\n"
     ]
    },
    {
     "name": "stderr",
     "output_type": "stream",
     "text": [
      "                                                                                                                       \r"
     ]
    },
    {
     "name": "stdout",
     "output_type": "stream",
     "text": [
      "MoviePy - Done.\n",
      "Moviepy - Writing video 20200214_DWG_GEN_1_HL171.5.mp4\n",
      "\n"
     ]
    },
    {
     "name": "stderr",
     "output_type": "stream",
     "text": [
      "                                                                                                                       \r"
     ]
    },
    {
     "name": "stdout",
     "output_type": "stream",
     "text": [
      "Moviepy - Done !\n",
      "Moviepy - video ready 20200214_DWG_GEN_1_HL171.5.mp4\n",
      "Moviepy - Building video 20200214_DWG_GEN_1_HL172.0.mp4.\n",
      "MoviePy - Writing audio in 20200214_DWG_GEN_1_HL172.0TEMP_MPY_wvf_snd.mp3\n"
     ]
    },
    {
     "name": "stderr",
     "output_type": "stream",
     "text": [
      "                                                                                                                       \r"
     ]
    },
    {
     "name": "stdout",
     "output_type": "stream",
     "text": [
      "MoviePy - Done.\n",
      "Moviepy - Writing video 20200214_DWG_GEN_1_HL172.0.mp4\n",
      "\n"
     ]
    },
    {
     "name": "stderr",
     "output_type": "stream",
     "text": [
      "                                                                                                                       \r"
     ]
    },
    {
     "name": "stdout",
     "output_type": "stream",
     "text": [
      "Moviepy - Done !\n",
      "Moviepy - video ready 20200214_DWG_GEN_1_HL172.0.mp4\n",
      "Moviepy - Building video 20200214_DWG_GEN_1_HL172.5.mp4.\n",
      "MoviePy - Writing audio in 20200214_DWG_GEN_1_HL172.5TEMP_MPY_wvf_snd.mp3\n"
     ]
    },
    {
     "name": "stderr",
     "output_type": "stream",
     "text": [
      "                                                                                                                       \r"
     ]
    },
    {
     "name": "stdout",
     "output_type": "stream",
     "text": [
      "MoviePy - Done.\n",
      "Moviepy - Writing video 20200214_DWG_GEN_1_HL172.5.mp4\n",
      "\n"
     ]
    },
    {
     "name": "stderr",
     "output_type": "stream",
     "text": [
      "                                                                                                                       \r"
     ]
    },
    {
     "name": "stdout",
     "output_type": "stream",
     "text": [
      "Moviepy - Done !\n",
      "Moviepy - video ready 20200214_DWG_GEN_1_HL172.5.mp4\n",
      "Moviepy - Building video 20200214_DWG_GEN_1_HL173.0.mp4.\n",
      "MoviePy - Writing audio in 20200214_DWG_GEN_1_HL173.0TEMP_MPY_wvf_snd.mp3\n"
     ]
    },
    {
     "name": "stderr",
     "output_type": "stream",
     "text": [
      "                                                                                                                       \r"
     ]
    },
    {
     "name": "stdout",
     "output_type": "stream",
     "text": [
      "MoviePy - Done.\n",
      "Moviepy - Writing video 20200214_DWG_GEN_1_HL173.0.mp4\n",
      "\n"
     ]
    },
    {
     "name": "stderr",
     "output_type": "stream",
     "text": [
      "                                                                                                                       \r"
     ]
    },
    {
     "name": "stdout",
     "output_type": "stream",
     "text": [
      "Moviepy - Done !\n",
      "Moviepy - video ready 20200214_DWG_GEN_1_HL173.0.mp4\n",
      "Moviepy - Building video 20200214_DWG_GEN_1_HL173.5.mp4.\n",
      "MoviePy - Writing audio in 20200214_DWG_GEN_1_HL173.5TEMP_MPY_wvf_snd.mp3\n"
     ]
    },
    {
     "name": "stderr",
     "output_type": "stream",
     "text": [
      "                                                                                                                       \r"
     ]
    },
    {
     "name": "stdout",
     "output_type": "stream",
     "text": [
      "MoviePy - Done.\n",
      "Moviepy - Writing video 20200214_DWG_GEN_1_HL173.5.mp4\n",
      "\n"
     ]
    },
    {
     "name": "stderr",
     "output_type": "stream",
     "text": [
      "                                                                                                                       \r"
     ]
    },
    {
     "name": "stdout",
     "output_type": "stream",
     "text": [
      "Moviepy - Done !\n",
      "Moviepy - video ready 20200214_DWG_GEN_1_HL173.5.mp4\n",
      "Moviepy - Building video 20200214_DWG_GEN_1_HL174.0.mp4.\n",
      "MoviePy - Writing audio in 20200214_DWG_GEN_1_HL174.0TEMP_MPY_wvf_snd.mp3\n"
     ]
    },
    {
     "name": "stderr",
     "output_type": "stream",
     "text": [
      "                                                                                                                       \r"
     ]
    },
    {
     "name": "stdout",
     "output_type": "stream",
     "text": [
      "MoviePy - Done.\n",
      "Moviepy - Writing video 20200214_DWG_GEN_1_HL174.0.mp4\n",
      "\n"
     ]
    },
    {
     "name": "stderr",
     "output_type": "stream",
     "text": [
      "                                                                                                                       \r"
     ]
    },
    {
     "name": "stdout",
     "output_type": "stream",
     "text": [
      "Moviepy - Done !\n",
      "Moviepy - video ready 20200214_DWG_GEN_1_HL174.0.mp4\n",
      "Moviepy - Building video 20200214_DWG_GEN_1_HL174.5.mp4.\n",
      "MoviePy - Writing audio in 20200214_DWG_GEN_1_HL174.5TEMP_MPY_wvf_snd.mp3\n"
     ]
    },
    {
     "name": "stderr",
     "output_type": "stream",
     "text": [
      "                                                                                                                       \r"
     ]
    },
    {
     "name": "stdout",
     "output_type": "stream",
     "text": [
      "MoviePy - Done.\n",
      "Moviepy - Writing video 20200214_DWG_GEN_1_HL174.5.mp4\n",
      "\n"
     ]
    },
    {
     "name": "stderr",
     "output_type": "stream",
     "text": [
      "                                                                                                                       \r"
     ]
    },
    {
     "name": "stdout",
     "output_type": "stream",
     "text": [
      "Moviepy - Done !\n",
      "Moviepy - video ready 20200214_DWG_GEN_1_HL174.5.mp4\n",
      "Moviepy - Building video 20200214_DWG_GEN_1_HL175.0.mp4.\n",
      "MoviePy - Writing audio in 20200214_DWG_GEN_1_HL175.0TEMP_MPY_wvf_snd.mp3\n"
     ]
    },
    {
     "name": "stderr",
     "output_type": "stream",
     "text": [
      "                                                                                                                       \r"
     ]
    },
    {
     "name": "stdout",
     "output_type": "stream",
     "text": [
      "MoviePy - Done.\n",
      "Moviepy - Writing video 20200214_DWG_GEN_1_HL175.0.mp4\n",
      "\n"
     ]
    },
    {
     "name": "stderr",
     "output_type": "stream",
     "text": [
      "                                                                                                                       \r"
     ]
    },
    {
     "name": "stdout",
     "output_type": "stream",
     "text": [
      "Moviepy - Done !\n",
      "Moviepy - video ready 20200214_DWG_GEN_1_HL175.0.mp4\n",
      "Moviepy - Building video 20200214_DWG_GEN_1_HL175.5.mp4.\n",
      "MoviePy - Writing audio in 20200214_DWG_GEN_1_HL175.5TEMP_MPY_wvf_snd.mp3\n"
     ]
    },
    {
     "name": "stderr",
     "output_type": "stream",
     "text": [
      "                                                                                                                       \r"
     ]
    },
    {
     "name": "stdout",
     "output_type": "stream",
     "text": [
      "MoviePy - Done.\n",
      "Moviepy - Writing video 20200214_DWG_GEN_1_HL175.5.mp4\n",
      "\n"
     ]
    },
    {
     "name": "stderr",
     "output_type": "stream",
     "text": [
      "                                                                                                                       \r"
     ]
    },
    {
     "name": "stdout",
     "output_type": "stream",
     "text": [
      "Moviepy - Done !\n",
      "Moviepy - video ready 20200214_DWG_GEN_1_HL175.5.mp4\n",
      "Moviepy - Building video 20200214_DWG_GEN_1_HL176.0.mp4.\n",
      "MoviePy - Writing audio in 20200214_DWG_GEN_1_HL176.0TEMP_MPY_wvf_snd.mp3\n"
     ]
    },
    {
     "name": "stderr",
     "output_type": "stream",
     "text": [
      "                                                                                                                       \r"
     ]
    },
    {
     "name": "stdout",
     "output_type": "stream",
     "text": [
      "MoviePy - Done.\n",
      "Moviepy - Writing video 20200214_DWG_GEN_1_HL176.0.mp4\n",
      "\n"
     ]
    },
    {
     "name": "stderr",
     "output_type": "stream",
     "text": [
      "                                                                                                                       \r"
     ]
    },
    {
     "name": "stdout",
     "output_type": "stream",
     "text": [
      "Moviepy - Done !\n",
      "Moviepy - video ready 20200214_DWG_GEN_1_HL176.0.mp4\n",
      "Moviepy - Building video 20200214_DWG_GEN_1_HL176.5.mp4.\n",
      "MoviePy - Writing audio in 20200214_DWG_GEN_1_HL176.5TEMP_MPY_wvf_snd.mp3\n"
     ]
    },
    {
     "name": "stderr",
     "output_type": "stream",
     "text": [
      "                                                                                                                       \r"
     ]
    },
    {
     "name": "stdout",
     "output_type": "stream",
     "text": [
      "MoviePy - Done.\n",
      "Moviepy - Writing video 20200214_DWG_GEN_1_HL176.5.mp4\n",
      "\n"
     ]
    },
    {
     "name": "stderr",
     "output_type": "stream",
     "text": [
      "                                                                                                                       \r"
     ]
    },
    {
     "name": "stdout",
     "output_type": "stream",
     "text": [
      "Moviepy - Done !\n",
      "Moviepy - video ready 20200214_DWG_GEN_1_HL176.5.mp4\n",
      "Moviepy - Building video 20200214_DWG_GEN_1_HL177.0.mp4.\n",
      "MoviePy - Writing audio in 20200214_DWG_GEN_1_HL177.0TEMP_MPY_wvf_snd.mp3\n"
     ]
    },
    {
     "name": "stderr",
     "output_type": "stream",
     "text": [
      "                                                                                                                       \r"
     ]
    },
    {
     "name": "stdout",
     "output_type": "stream",
     "text": [
      "MoviePy - Done.\n",
      "Moviepy - Writing video 20200214_DWG_GEN_1_HL177.0.mp4\n",
      "\n"
     ]
    },
    {
     "name": "stderr",
     "output_type": "stream",
     "text": [
      "                                                                                                                       \r"
     ]
    },
    {
     "name": "stdout",
     "output_type": "stream",
     "text": [
      "Moviepy - Done !\n",
      "Moviepy - video ready 20200214_DWG_GEN_1_HL177.0.mp4\n",
      "Moviepy - Building video 20200214_DWG_GEN_1_HL177.5.mp4.\n",
      "MoviePy - Writing audio in 20200214_DWG_GEN_1_HL177.5TEMP_MPY_wvf_snd.mp3\n"
     ]
    },
    {
     "name": "stderr",
     "output_type": "stream",
     "text": [
      "                                                                                                                       \r"
     ]
    },
    {
     "name": "stdout",
     "output_type": "stream",
     "text": [
      "MoviePy - Done.\n",
      "Moviepy - Writing video 20200214_DWG_GEN_1_HL177.5.mp4\n",
      "\n"
     ]
    },
    {
     "name": "stderr",
     "output_type": "stream",
     "text": [
      "                                                                                                                       \r"
     ]
    },
    {
     "name": "stdout",
     "output_type": "stream",
     "text": [
      "Moviepy - Done !\n",
      "Moviepy - video ready 20200214_DWG_GEN_1_HL177.5.mp4\n",
      "Moviepy - Building video 20200214_DWG_GEN_1_HL178.0.mp4.\n",
      "MoviePy - Writing audio in 20200214_DWG_GEN_1_HL178.0TEMP_MPY_wvf_snd.mp3\n"
     ]
    },
    {
     "name": "stderr",
     "output_type": "stream",
     "text": [
      "                                                                                                                       \r"
     ]
    },
    {
     "name": "stdout",
     "output_type": "stream",
     "text": [
      "MoviePy - Done.\n",
      "Moviepy - Writing video 20200214_DWG_GEN_1_HL178.0.mp4\n",
      "\n"
     ]
    },
    {
     "name": "stderr",
     "output_type": "stream",
     "text": [
      "                                                                                                                       \r"
     ]
    },
    {
     "name": "stdout",
     "output_type": "stream",
     "text": [
      "Moviepy - Done !\n",
      "Moviepy - video ready 20200214_DWG_GEN_1_HL178.0.mp4\n",
      "Moviepy - Building video 20200214_DWG_GEN_1_HL178.5.mp4.\n",
      "MoviePy - Writing audio in 20200214_DWG_GEN_1_HL178.5TEMP_MPY_wvf_snd.mp3\n"
     ]
    },
    {
     "name": "stderr",
     "output_type": "stream",
     "text": [
      "                                                                                                                       \r"
     ]
    },
    {
     "name": "stdout",
     "output_type": "stream",
     "text": [
      "MoviePy - Done.\n",
      "Moviepy - Writing video 20200214_DWG_GEN_1_HL178.5.mp4\n",
      "\n"
     ]
    },
    {
     "name": "stderr",
     "output_type": "stream",
     "text": [
      "                                                                                                                       \r"
     ]
    },
    {
     "name": "stdout",
     "output_type": "stream",
     "text": [
      "Moviepy - Done !\n",
      "Moviepy - video ready 20200214_DWG_GEN_1_HL178.5.mp4\n",
      "Moviepy - Building video 20200214_DWG_GEN_1_HL179.0.mp4.\n",
      "MoviePy - Writing audio in 20200214_DWG_GEN_1_HL179.0TEMP_MPY_wvf_snd.mp3\n"
     ]
    },
    {
     "name": "stderr",
     "output_type": "stream",
     "text": [
      "                                                                                                                       \r"
     ]
    },
    {
     "name": "stdout",
     "output_type": "stream",
     "text": [
      "MoviePy - Done.\n",
      "Moviepy - Writing video 20200214_DWG_GEN_1_HL179.0.mp4\n",
      "\n"
     ]
    },
    {
     "name": "stderr",
     "output_type": "stream",
     "text": [
      "                                                                                                                       \r"
     ]
    },
    {
     "name": "stdout",
     "output_type": "stream",
     "text": [
      "Moviepy - Done !\n",
      "Moviepy - video ready 20200214_DWG_GEN_1_HL179.0.mp4\n",
      "Moviepy - Building video 20200214_DWG_GEN_1_HL179.5.mp4.\n",
      "MoviePy - Writing audio in 20200214_DWG_GEN_1_HL179.5TEMP_MPY_wvf_snd.mp3\n"
     ]
    },
    {
     "name": "stderr",
     "output_type": "stream",
     "text": [
      "                                                                                                                       \r"
     ]
    },
    {
     "name": "stdout",
     "output_type": "stream",
     "text": [
      "MoviePy - Done.\n",
      "Moviepy - Writing video 20200214_DWG_GEN_1_HL179.5.mp4\n",
      "\n"
     ]
    },
    {
     "name": "stderr",
     "output_type": "stream",
     "text": [
      "                                                                                                                       \r"
     ]
    },
    {
     "name": "stdout",
     "output_type": "stream",
     "text": [
      "Moviepy - Done !\n",
      "Moviepy - video ready 20200214_DWG_GEN_1_HL179.5.mp4\n",
      "Moviepy - Building video 20200214_DWG_GEN_1_HL180.0.mp4.\n",
      "MoviePy - Writing audio in 20200214_DWG_GEN_1_HL180.0TEMP_MPY_wvf_snd.mp3\n"
     ]
    },
    {
     "name": "stderr",
     "output_type": "stream",
     "text": [
      "                                                                                                                       \r"
     ]
    },
    {
     "name": "stdout",
     "output_type": "stream",
     "text": [
      "MoviePy - Done.\n",
      "Moviepy - Writing video 20200214_DWG_GEN_1_HL180.0.mp4\n",
      "\n"
     ]
    },
    {
     "name": "stderr",
     "output_type": "stream",
     "text": [
      "                                                                                                                       \r"
     ]
    },
    {
     "name": "stdout",
     "output_type": "stream",
     "text": [
      "Moviepy - Done !\n",
      "Moviepy - video ready 20200214_DWG_GEN_1_HL180.0.mp4\n",
      "Moviepy - Building video 20200214_DWG_GEN_1_HL180.5.mp4.\n",
      "MoviePy - Writing audio in 20200214_DWG_GEN_1_HL180.5TEMP_MPY_wvf_snd.mp3\n"
     ]
    },
    {
     "name": "stderr",
     "output_type": "stream",
     "text": [
      "                                                                                                                       \r"
     ]
    },
    {
     "name": "stdout",
     "output_type": "stream",
     "text": [
      "MoviePy - Done.\n",
      "Moviepy - Writing video 20200214_DWG_GEN_1_HL180.5.mp4\n",
      "\n"
     ]
    },
    {
     "name": "stderr",
     "output_type": "stream",
     "text": [
      "                                                                                                                       \r"
     ]
    },
    {
     "name": "stdout",
     "output_type": "stream",
     "text": [
      "Moviepy - Done !\n",
      "Moviepy - video ready 20200214_DWG_GEN_1_HL180.5.mp4\n",
      "Moviepy - Building video 20200214_DWG_GEN_1_HL181.0.mp4.\n",
      "MoviePy - Writing audio in 20200214_DWG_GEN_1_HL181.0TEMP_MPY_wvf_snd.mp3\n"
     ]
    },
    {
     "name": "stderr",
     "output_type": "stream",
     "text": [
      "                                                                                                                       \r"
     ]
    },
    {
     "name": "stdout",
     "output_type": "stream",
     "text": [
      "MoviePy - Done.\n",
      "Moviepy - Writing video 20200214_DWG_GEN_1_HL181.0.mp4\n",
      "\n"
     ]
    },
    {
     "name": "stderr",
     "output_type": "stream",
     "text": [
      "                                                                                                                       \r"
     ]
    },
    {
     "name": "stdout",
     "output_type": "stream",
     "text": [
      "Moviepy - Done !\n",
      "Moviepy - video ready 20200214_DWG_GEN_1_HL181.0.mp4\n",
      "Moviepy - Building video 20200214_DWG_GEN_1_HL181.5.mp4.\n",
      "MoviePy - Writing audio in 20200214_DWG_GEN_1_HL181.5TEMP_MPY_wvf_snd.mp3\n"
     ]
    },
    {
     "name": "stderr",
     "output_type": "stream",
     "text": [
      "                                                                                                                       \r"
     ]
    },
    {
     "name": "stdout",
     "output_type": "stream",
     "text": [
      "MoviePy - Done.\n",
      "Moviepy - Writing video 20200214_DWG_GEN_1_HL181.5.mp4\n",
      "\n"
     ]
    },
    {
     "name": "stderr",
     "output_type": "stream",
     "text": [
      "                                                                                                                       \r"
     ]
    },
    {
     "name": "stdout",
     "output_type": "stream",
     "text": [
      "Moviepy - Done !\n",
      "Moviepy - video ready 20200214_DWG_GEN_1_HL181.5.mp4\n",
      "Moviepy - Building video 20200214_DWG_GEN_1_HL182.0.mp4.\n",
      "MoviePy - Writing audio in 20200214_DWG_GEN_1_HL182.0TEMP_MPY_wvf_snd.mp3\n"
     ]
    },
    {
     "name": "stderr",
     "output_type": "stream",
     "text": [
      "                                                                                                                       \r"
     ]
    },
    {
     "name": "stdout",
     "output_type": "stream",
     "text": [
      "MoviePy - Done.\n",
      "Moviepy - Writing video 20200214_DWG_GEN_1_HL182.0.mp4\n",
      "\n"
     ]
    },
    {
     "name": "stderr",
     "output_type": "stream",
     "text": [
      "                                                                                                                       \r"
     ]
    },
    {
     "name": "stdout",
     "output_type": "stream",
     "text": [
      "Moviepy - Done !\n",
      "Moviepy - video ready 20200214_DWG_GEN_1_HL182.0.mp4\n",
      "Moviepy - Building video 20200214_DWG_GEN_1_HL182.5.mp4.\n",
      "MoviePy - Writing audio in 20200214_DWG_GEN_1_HL182.5TEMP_MPY_wvf_snd.mp3\n"
     ]
    },
    {
     "name": "stderr",
     "output_type": "stream",
     "text": [
      "                                                                                                                       \r"
     ]
    },
    {
     "name": "stdout",
     "output_type": "stream",
     "text": [
      "MoviePy - Done.\n",
      "Moviepy - Writing video 20200214_DWG_GEN_1_HL182.5.mp4\n",
      "\n"
     ]
    },
    {
     "name": "stderr",
     "output_type": "stream",
     "text": [
      "                                                                                                                       \r"
     ]
    },
    {
     "name": "stdout",
     "output_type": "stream",
     "text": [
      "Moviepy - Done !\n",
      "Moviepy - video ready 20200214_DWG_GEN_1_HL182.5.mp4\n",
      "Moviepy - Building video 20200214_DWG_GEN_1_HL183.0.mp4.\n",
      "MoviePy - Writing audio in 20200214_DWG_GEN_1_HL183.0TEMP_MPY_wvf_snd.mp3\n"
     ]
    },
    {
     "name": "stderr",
     "output_type": "stream",
     "text": [
      "                                                                                                                       \r"
     ]
    },
    {
     "name": "stdout",
     "output_type": "stream",
     "text": [
      "MoviePy - Done.\n",
      "Moviepy - Writing video 20200214_DWG_GEN_1_HL183.0.mp4\n",
      "\n"
     ]
    },
    {
     "name": "stderr",
     "output_type": "stream",
     "text": [
      "                                                                                                                       \r"
     ]
    },
    {
     "name": "stdout",
     "output_type": "stream",
     "text": [
      "Moviepy - Done !\n",
      "Moviepy - video ready 20200214_DWG_GEN_1_HL183.0.mp4\n",
      "Moviepy - Building video 20200214_DWG_GEN_1_HL183.5.mp4.\n",
      "MoviePy - Writing audio in 20200214_DWG_GEN_1_HL183.5TEMP_MPY_wvf_snd.mp3\n"
     ]
    },
    {
     "name": "stderr",
     "output_type": "stream",
     "text": [
      "                                                                                                                       \r"
     ]
    },
    {
     "name": "stdout",
     "output_type": "stream",
     "text": [
      "MoviePy - Done.\n",
      "Moviepy - Writing video 20200214_DWG_GEN_1_HL183.5.mp4\n",
      "\n"
     ]
    },
    {
     "name": "stderr",
     "output_type": "stream",
     "text": [
      "                                                                                                                       \r"
     ]
    },
    {
     "name": "stdout",
     "output_type": "stream",
     "text": [
      "Moviepy - Done !\n",
      "Moviepy - video ready 20200214_DWG_GEN_1_HL183.5.mp4\n",
      "Moviepy - Building video 20200214_DWG_GEN_1_HL184.0.mp4.\n",
      "MoviePy - Writing audio in 20200214_DWG_GEN_1_HL184.0TEMP_MPY_wvf_snd.mp3\n"
     ]
    },
    {
     "name": "stderr",
     "output_type": "stream",
     "text": [
      "                                                                                                                       \r"
     ]
    },
    {
     "name": "stdout",
     "output_type": "stream",
     "text": [
      "MoviePy - Done.\n",
      "Moviepy - Writing video 20200214_DWG_GEN_1_HL184.0.mp4\n",
      "\n"
     ]
    },
    {
     "name": "stderr",
     "output_type": "stream",
     "text": [
      "                                                                                                                       \r"
     ]
    },
    {
     "name": "stdout",
     "output_type": "stream",
     "text": [
      "Moviepy - Done !\n",
      "Moviepy - video ready 20200214_DWG_GEN_1_HL184.0.mp4\n",
      "Moviepy - Building video 20200214_DWG_GEN_1_HL184.5.mp4.\n",
      "MoviePy - Writing audio in 20200214_DWG_GEN_1_HL184.5TEMP_MPY_wvf_snd.mp3\n"
     ]
    },
    {
     "name": "stderr",
     "output_type": "stream",
     "text": [
      "                                                                                                                       \r"
     ]
    },
    {
     "name": "stdout",
     "output_type": "stream",
     "text": [
      "MoviePy - Done.\n",
      "Moviepy - Writing video 20200214_DWG_GEN_1_HL184.5.mp4\n",
      "\n"
     ]
    },
    {
     "name": "stderr",
     "output_type": "stream",
     "text": [
      "                                                                                                                       \r"
     ]
    },
    {
     "name": "stdout",
     "output_type": "stream",
     "text": [
      "Moviepy - Done !\n",
      "Moviepy - video ready 20200214_DWG_GEN_1_HL184.5.mp4\n",
      "Moviepy - Building video 20200214_DWG_GEN_1_HL185.0.mp4.\n",
      "MoviePy - Writing audio in 20200214_DWG_GEN_1_HL185.0TEMP_MPY_wvf_snd.mp3\n"
     ]
    },
    {
     "name": "stderr",
     "output_type": "stream",
     "text": [
      "                                                                                                                       \r"
     ]
    },
    {
     "name": "stdout",
     "output_type": "stream",
     "text": [
      "MoviePy - Done.\n",
      "Moviepy - Writing video 20200214_DWG_GEN_1_HL185.0.mp4\n",
      "\n"
     ]
    },
    {
     "name": "stderr",
     "output_type": "stream",
     "text": [
      "                                                                                                                       \r"
     ]
    },
    {
     "name": "stdout",
     "output_type": "stream",
     "text": [
      "Moviepy - Done !\n",
      "Moviepy - video ready 20200214_DWG_GEN_1_HL185.0.mp4\n",
      "Moviepy - Building video 20200214_DWG_GEN_1_HL185.5.mp4.\n",
      "MoviePy - Writing audio in 20200214_DWG_GEN_1_HL185.5TEMP_MPY_wvf_snd.mp3\n"
     ]
    },
    {
     "name": "stderr",
     "output_type": "stream",
     "text": [
      "                                                                                                                       \r"
     ]
    },
    {
     "name": "stdout",
     "output_type": "stream",
     "text": [
      "MoviePy - Done.\n",
      "Moviepy - Writing video 20200214_DWG_GEN_1_HL185.5.mp4\n",
      "\n"
     ]
    },
    {
     "name": "stderr",
     "output_type": "stream",
     "text": [
      "                                                                                                                       \r"
     ]
    },
    {
     "name": "stdout",
     "output_type": "stream",
     "text": [
      "Moviepy - Done !\n",
      "Moviepy - video ready 20200214_DWG_GEN_1_HL185.5.mp4\n",
      "Moviepy - Building video 20200214_DWG_GEN_1_HL186.0.mp4.\n",
      "MoviePy - Writing audio in 20200214_DWG_GEN_1_HL186.0TEMP_MPY_wvf_snd.mp3\n"
     ]
    },
    {
     "name": "stderr",
     "output_type": "stream",
     "text": [
      "                                                                                                                       \r"
     ]
    },
    {
     "name": "stdout",
     "output_type": "stream",
     "text": [
      "MoviePy - Done.\n",
      "Moviepy - Writing video 20200214_DWG_GEN_1_HL186.0.mp4\n",
      "\n"
     ]
    },
    {
     "name": "stderr",
     "output_type": "stream",
     "text": [
      "                                                                                                                       \r"
     ]
    },
    {
     "name": "stdout",
     "output_type": "stream",
     "text": [
      "Moviepy - Done !\n",
      "Moviepy - video ready 20200214_DWG_GEN_1_HL186.0.mp4\n",
      "Moviepy - Building video 20200214_DWG_GEN_1_HL186.5.mp4.\n",
      "MoviePy - Writing audio in 20200214_DWG_GEN_1_HL186.5TEMP_MPY_wvf_snd.mp3\n"
     ]
    },
    {
     "name": "stderr",
     "output_type": "stream",
     "text": [
      "                                                                                                                       \r"
     ]
    },
    {
     "name": "stdout",
     "output_type": "stream",
     "text": [
      "MoviePy - Done.\n",
      "Moviepy - Writing video 20200214_DWG_GEN_1_HL186.5.mp4\n",
      "\n"
     ]
    },
    {
     "name": "stderr",
     "output_type": "stream",
     "text": [
      "                                                                                                                       \r"
     ]
    },
    {
     "name": "stdout",
     "output_type": "stream",
     "text": [
      "Moviepy - Done !\n",
      "Moviepy - video ready 20200214_DWG_GEN_1_HL186.5.mp4\n",
      "Moviepy - Building video 20200214_DWG_GEN_1_HL187.0.mp4.\n",
      "MoviePy - Writing audio in 20200214_DWG_GEN_1_HL187.0TEMP_MPY_wvf_snd.mp3\n"
     ]
    },
    {
     "name": "stderr",
     "output_type": "stream",
     "text": [
      "                                                                                                                       \r"
     ]
    },
    {
     "name": "stdout",
     "output_type": "stream",
     "text": [
      "MoviePy - Done.\n",
      "Moviepy - Writing video 20200214_DWG_GEN_1_HL187.0.mp4\n",
      "\n"
     ]
    },
    {
     "name": "stderr",
     "output_type": "stream",
     "text": [
      "                                                                                                                       \r"
     ]
    },
    {
     "name": "stdout",
     "output_type": "stream",
     "text": [
      "Moviepy - Done !\n",
      "Moviepy - video ready 20200214_DWG_GEN_1_HL187.0.mp4\n",
      "Moviepy - Building video 20200214_DWG_GEN_1_HL187.5.mp4.\n",
      "MoviePy - Writing audio in 20200214_DWG_GEN_1_HL187.5TEMP_MPY_wvf_snd.mp3\n"
     ]
    },
    {
     "name": "stderr",
     "output_type": "stream",
     "text": [
      "                                                                                                                       \r"
     ]
    },
    {
     "name": "stdout",
     "output_type": "stream",
     "text": [
      "MoviePy - Done.\n",
      "Moviepy - Writing video 20200214_DWG_GEN_1_HL187.5.mp4\n",
      "\n"
     ]
    },
    {
     "name": "stderr",
     "output_type": "stream",
     "text": [
      "                                                                                                                       \r"
     ]
    },
    {
     "name": "stdout",
     "output_type": "stream",
     "text": [
      "Moviepy - Done !\n",
      "Moviepy - video ready 20200214_DWG_GEN_1_HL187.5.mp4\n",
      "Moviepy - Building video 20200214_DWG_GEN_1_HL188.0.mp4.\n",
      "MoviePy - Writing audio in 20200214_DWG_GEN_1_HL188.0TEMP_MPY_wvf_snd.mp3\n"
     ]
    },
    {
     "name": "stderr",
     "output_type": "stream",
     "text": [
      "                                                                                                                       \r"
     ]
    },
    {
     "name": "stdout",
     "output_type": "stream",
     "text": [
      "MoviePy - Done.\n",
      "Moviepy - Writing video 20200214_DWG_GEN_1_HL188.0.mp4\n",
      "\n"
     ]
    },
    {
     "name": "stderr",
     "output_type": "stream",
     "text": [
      "                                                                                                                       \r"
     ]
    },
    {
     "name": "stdout",
     "output_type": "stream",
     "text": [
      "Moviepy - Done !\n",
      "Moviepy - video ready 20200214_DWG_GEN_1_HL188.0.mp4\n",
      "Moviepy - Building video 20200214_DWG_GEN_1_HL188.5.mp4.\n",
      "MoviePy - Writing audio in 20200214_DWG_GEN_1_HL188.5TEMP_MPY_wvf_snd.mp3\n"
     ]
    },
    {
     "name": "stderr",
     "output_type": "stream",
     "text": [
      "                                                                                                                       \r"
     ]
    },
    {
     "name": "stdout",
     "output_type": "stream",
     "text": [
      "MoviePy - Done.\n",
      "Moviepy - Writing video 20200214_DWG_GEN_1_HL188.5.mp4\n",
      "\n"
     ]
    },
    {
     "name": "stderr",
     "output_type": "stream",
     "text": [
      "                                                                                                                       \r"
     ]
    },
    {
     "name": "stdout",
     "output_type": "stream",
     "text": [
      "Moviepy - Done !\n",
      "Moviepy - video ready 20200214_DWG_GEN_1_HL188.5.mp4\n",
      "Moviepy - Building video 20200214_DWG_GEN_1_HL189.0.mp4.\n",
      "MoviePy - Writing audio in 20200214_DWG_GEN_1_HL189.0TEMP_MPY_wvf_snd.mp3\n"
     ]
    },
    {
     "name": "stderr",
     "output_type": "stream",
     "text": [
      "                                                                                                                       \r"
     ]
    },
    {
     "name": "stdout",
     "output_type": "stream",
     "text": [
      "MoviePy - Done.\n",
      "Moviepy - Writing video 20200214_DWG_GEN_1_HL189.0.mp4\n",
      "\n"
     ]
    },
    {
     "name": "stderr",
     "output_type": "stream",
     "text": [
      "                                                                                                                       \r"
     ]
    },
    {
     "name": "stdout",
     "output_type": "stream",
     "text": [
      "Moviepy - Done !\n",
      "Moviepy - video ready 20200214_DWG_GEN_1_HL189.0.mp4\n",
      "Moviepy - Building video 20200214_DWG_GEN_1_HL189.5.mp4.\n",
      "MoviePy - Writing audio in 20200214_DWG_GEN_1_HL189.5TEMP_MPY_wvf_snd.mp3\n"
     ]
    },
    {
     "name": "stderr",
     "output_type": "stream",
     "text": [
      "                                                                                                                       \r"
     ]
    },
    {
     "name": "stdout",
     "output_type": "stream",
     "text": [
      "MoviePy - Done.\n",
      "Moviepy - Writing video 20200214_DWG_GEN_1_HL189.5.mp4\n",
      "\n"
     ]
    },
    {
     "name": "stderr",
     "output_type": "stream",
     "text": [
      "                                                                                                                       \r"
     ]
    },
    {
     "name": "stdout",
     "output_type": "stream",
     "text": [
      "Moviepy - Done !\n",
      "Moviepy - video ready 20200214_DWG_GEN_1_HL189.5.mp4\n",
      "Moviepy - Building video 20200214_DWG_GEN_1_HL190.0.mp4.\n",
      "MoviePy - Writing audio in 20200214_DWG_GEN_1_HL190.0TEMP_MPY_wvf_snd.mp3\n"
     ]
    },
    {
     "name": "stderr",
     "output_type": "stream",
     "text": [
      "                                                                                                                       \r"
     ]
    },
    {
     "name": "stdout",
     "output_type": "stream",
     "text": [
      "MoviePy - Done.\n",
      "Moviepy - Writing video 20200214_DWG_GEN_1_HL190.0.mp4\n",
      "\n"
     ]
    },
    {
     "name": "stderr",
     "output_type": "stream",
     "text": [
      "                                                                                                                       \r"
     ]
    },
    {
     "name": "stdout",
     "output_type": "stream",
     "text": [
      "Moviepy - Done !\n",
      "Moviepy - video ready 20200214_DWG_GEN_1_HL190.0.mp4\n",
      "Moviepy - Building video 20200214_DWG_GEN_1_HL190.5.mp4.\n",
      "MoviePy - Writing audio in 20200214_DWG_GEN_1_HL190.5TEMP_MPY_wvf_snd.mp3\n"
     ]
    },
    {
     "name": "stderr",
     "output_type": "stream",
     "text": [
      "                                                                                                                       \r"
     ]
    },
    {
     "name": "stdout",
     "output_type": "stream",
     "text": [
      "MoviePy - Done.\n",
      "Moviepy - Writing video 20200214_DWG_GEN_1_HL190.5.mp4\n",
      "\n"
     ]
    },
    {
     "name": "stderr",
     "output_type": "stream",
     "text": [
      "                                                                                                                       \r"
     ]
    },
    {
     "name": "stdout",
     "output_type": "stream",
     "text": [
      "Moviepy - Done !\n",
      "Moviepy - video ready 20200214_DWG_GEN_1_HL190.5.mp4\n",
      "Moviepy - Building video 20200214_DWG_GEN_1_HL191.0.mp4.\n",
      "MoviePy - Writing audio in 20200214_DWG_GEN_1_HL191.0TEMP_MPY_wvf_snd.mp3\n"
     ]
    },
    {
     "name": "stderr",
     "output_type": "stream",
     "text": [
      "                                                                                                                       \r"
     ]
    },
    {
     "name": "stdout",
     "output_type": "stream",
     "text": [
      "MoviePy - Done.\n",
      "Moviepy - Writing video 20200214_DWG_GEN_1_HL191.0.mp4\n",
      "\n"
     ]
    },
    {
     "name": "stderr",
     "output_type": "stream",
     "text": [
      "                                                                                                                       \r"
     ]
    },
    {
     "name": "stdout",
     "output_type": "stream",
     "text": [
      "Moviepy - Done !\n",
      "Moviepy - video ready 20200214_DWG_GEN_1_HL191.0.mp4\n",
      "Moviepy - Building video 20200214_DWG_GEN_1_HL191.5.mp4.\n",
      "MoviePy - Writing audio in 20200214_DWG_GEN_1_HL191.5TEMP_MPY_wvf_snd.mp3\n"
     ]
    },
    {
     "name": "stderr",
     "output_type": "stream",
     "text": [
      "                                                                                                                       \r"
     ]
    },
    {
     "name": "stdout",
     "output_type": "stream",
     "text": [
      "MoviePy - Done.\n",
      "Moviepy - Writing video 20200214_DWG_GEN_1_HL191.5.mp4\n",
      "\n"
     ]
    },
    {
     "name": "stderr",
     "output_type": "stream",
     "text": [
      "                                                                                                                       \r"
     ]
    },
    {
     "name": "stdout",
     "output_type": "stream",
     "text": [
      "Moviepy - Done !\n",
      "Moviepy - video ready 20200214_DWG_GEN_1_HL191.5.mp4\n",
      "Moviepy - Building video 20200214_DWG_GEN_1_HL192.0.mp4.\n",
      "MoviePy - Writing audio in 20200214_DWG_GEN_1_HL192.0TEMP_MPY_wvf_snd.mp3\n"
     ]
    },
    {
     "name": "stderr",
     "output_type": "stream",
     "text": [
      "                                                                                                                       \r"
     ]
    },
    {
     "name": "stdout",
     "output_type": "stream",
     "text": [
      "MoviePy - Done.\n",
      "Moviepy - Writing video 20200214_DWG_GEN_1_HL192.0.mp4\n",
      "\n"
     ]
    },
    {
     "name": "stderr",
     "output_type": "stream",
     "text": [
      "                                                                                                                       \r"
     ]
    },
    {
     "name": "stdout",
     "output_type": "stream",
     "text": [
      "Moviepy - Done !\n",
      "Moviepy - video ready 20200214_DWG_GEN_1_HL192.0.mp4\n",
      "Moviepy - Building video 20200214_DWG_GEN_1_HL192.5.mp4.\n",
      "MoviePy - Writing audio in 20200214_DWG_GEN_1_HL192.5TEMP_MPY_wvf_snd.mp3\n"
     ]
    },
    {
     "name": "stderr",
     "output_type": "stream",
     "text": [
      "                                                                                                                       \r"
     ]
    },
    {
     "name": "stdout",
     "output_type": "stream",
     "text": [
      "MoviePy - Done.\n",
      "Moviepy - Writing video 20200214_DWG_GEN_1_HL192.5.mp4\n",
      "\n"
     ]
    },
    {
     "name": "stderr",
     "output_type": "stream",
     "text": [
      "                                                                                                                       \r"
     ]
    },
    {
     "name": "stdout",
     "output_type": "stream",
     "text": [
      "Moviepy - Done !\n",
      "Moviepy - video ready 20200214_DWG_GEN_1_HL192.5.mp4\n",
      "Moviepy - Building video 20200214_DWG_GEN_1_HL193.0.mp4.\n",
      "MoviePy - Writing audio in 20200214_DWG_GEN_1_HL193.0TEMP_MPY_wvf_snd.mp3\n"
     ]
    },
    {
     "name": "stderr",
     "output_type": "stream",
     "text": [
      "                                                                                                                       \r"
     ]
    },
    {
     "name": "stdout",
     "output_type": "stream",
     "text": [
      "MoviePy - Done.\n",
      "Moviepy - Writing video 20200214_DWG_GEN_1_HL193.0.mp4\n",
      "\n"
     ]
    },
    {
     "name": "stderr",
     "output_type": "stream",
     "text": [
      "                                                                                                                       \r"
     ]
    },
    {
     "name": "stdout",
     "output_type": "stream",
     "text": [
      "Moviepy - Done !\n",
      "Moviepy - video ready 20200214_DWG_GEN_1_HL193.0.mp4\n",
      "Moviepy - Building video 20200214_DWG_GEN_1_HL193.5.mp4.\n",
      "MoviePy - Writing audio in 20200214_DWG_GEN_1_HL193.5TEMP_MPY_wvf_snd.mp3\n"
     ]
    },
    {
     "name": "stderr",
     "output_type": "stream",
     "text": [
      "                                                                                                                       \r"
     ]
    },
    {
     "name": "stdout",
     "output_type": "stream",
     "text": [
      "MoviePy - Done.\n",
      "Moviepy - Writing video 20200214_DWG_GEN_1_HL193.5.mp4\n",
      "\n"
     ]
    },
    {
     "name": "stderr",
     "output_type": "stream",
     "text": [
      "                                                                                                                       \r"
     ]
    },
    {
     "name": "stdout",
     "output_type": "stream",
     "text": [
      "Moviepy - Done !\n",
      "Moviepy - video ready 20200214_DWG_GEN_1_HL193.5.mp4\n",
      "Moviepy - Building video 20200214_DWG_GEN_1_HL194.0.mp4.\n",
      "MoviePy - Writing audio in 20200214_DWG_GEN_1_HL194.0TEMP_MPY_wvf_snd.mp3\n"
     ]
    },
    {
     "name": "stderr",
     "output_type": "stream",
     "text": [
      "                                                                                                                       \r"
     ]
    },
    {
     "name": "stdout",
     "output_type": "stream",
     "text": [
      "MoviePy - Done.\n",
      "Moviepy - Writing video 20200214_DWG_GEN_1_HL194.0.mp4\n",
      "\n"
     ]
    },
    {
     "name": "stderr",
     "output_type": "stream",
     "text": [
      "                                                                                                                       \r"
     ]
    },
    {
     "name": "stdout",
     "output_type": "stream",
     "text": [
      "Moviepy - Done !\n",
      "Moviepy - video ready 20200214_DWG_GEN_1_HL194.0.mp4\n",
      "Moviepy - Building video 20200214_DWG_GEN_1_HL194.5.mp4.\n",
      "MoviePy - Writing audio in 20200214_DWG_GEN_1_HL194.5TEMP_MPY_wvf_snd.mp3\n"
     ]
    },
    {
     "name": "stderr",
     "output_type": "stream",
     "text": [
      "                                                                                                                       \r"
     ]
    },
    {
     "name": "stdout",
     "output_type": "stream",
     "text": [
      "MoviePy - Done.\n",
      "Moviepy - Writing video 20200214_DWG_GEN_1_HL194.5.mp4\n",
      "\n"
     ]
    },
    {
     "name": "stderr",
     "output_type": "stream",
     "text": [
      "                                                                                                                       \r"
     ]
    },
    {
     "name": "stdout",
     "output_type": "stream",
     "text": [
      "Moviepy - Done !\n",
      "Moviepy - video ready 20200214_DWG_GEN_1_HL194.5.mp4\n",
      "Moviepy - Building video 20200214_DWG_GEN_1_HL195.0.mp4.\n",
      "MoviePy - Writing audio in 20200214_DWG_GEN_1_HL195.0TEMP_MPY_wvf_snd.mp3\n"
     ]
    },
    {
     "name": "stderr",
     "output_type": "stream",
     "text": [
      "                                                                                                                       \r"
     ]
    },
    {
     "name": "stdout",
     "output_type": "stream",
     "text": [
      "MoviePy - Done.\n",
      "Moviepy - Writing video 20200214_DWG_GEN_1_HL195.0.mp4\n",
      "\n"
     ]
    },
    {
     "name": "stderr",
     "output_type": "stream",
     "text": [
      "                                                                                                                       \r"
     ]
    },
    {
     "name": "stdout",
     "output_type": "stream",
     "text": [
      "Moviepy - Done !\n",
      "Moviepy - video ready 20200214_DWG_GEN_1_HL195.0.mp4\n",
      "Moviepy - Building video 20200214_DWG_GEN_1_HL195.5.mp4.\n",
      "MoviePy - Writing audio in 20200214_DWG_GEN_1_HL195.5TEMP_MPY_wvf_snd.mp3\n"
     ]
    },
    {
     "name": "stderr",
     "output_type": "stream",
     "text": [
      "                                                                                                                       \r"
     ]
    },
    {
     "name": "stdout",
     "output_type": "stream",
     "text": [
      "MoviePy - Done.\n",
      "Moviepy - Writing video 20200214_DWG_GEN_1_HL195.5.mp4\n",
      "\n"
     ]
    },
    {
     "name": "stderr",
     "output_type": "stream",
     "text": [
      "                                                                                                                       \r"
     ]
    },
    {
     "name": "stdout",
     "output_type": "stream",
     "text": [
      "Moviepy - Done !\n",
      "Moviepy - video ready 20200214_DWG_GEN_1_HL195.5.mp4\n",
      "Moviepy - Building video 20200214_DWG_GEN_1_HL196.0.mp4.\n",
      "MoviePy - Writing audio in 20200214_DWG_GEN_1_HL196.0TEMP_MPY_wvf_snd.mp3\n"
     ]
    },
    {
     "name": "stderr",
     "output_type": "stream",
     "text": [
      "                                                                                                                       \r"
     ]
    },
    {
     "name": "stdout",
     "output_type": "stream",
     "text": [
      "MoviePy - Done.\n",
      "Moviepy - Writing video 20200214_DWG_GEN_1_HL196.0.mp4\n",
      "\n"
     ]
    },
    {
     "name": "stderr",
     "output_type": "stream",
     "text": [
      "                                                                                                                       \r"
     ]
    },
    {
     "name": "stdout",
     "output_type": "stream",
     "text": [
      "Moviepy - Done !\n",
      "Moviepy - video ready 20200214_DWG_GEN_1_HL196.0.mp4\n",
      "Moviepy - Building video 20200214_DWG_GEN_1_HL196.5.mp4.\n",
      "MoviePy - Writing audio in 20200214_DWG_GEN_1_HL196.5TEMP_MPY_wvf_snd.mp3\n"
     ]
    },
    {
     "name": "stderr",
     "output_type": "stream",
     "text": [
      "                                                                                                                       \r"
     ]
    },
    {
     "name": "stdout",
     "output_type": "stream",
     "text": [
      "MoviePy - Done.\n",
      "Moviepy - Writing video 20200214_DWG_GEN_1_HL196.5.mp4\n",
      "\n"
     ]
    },
    {
     "name": "stderr",
     "output_type": "stream",
     "text": [
      "                                                                                                                       \r"
     ]
    },
    {
     "name": "stdout",
     "output_type": "stream",
     "text": [
      "Moviepy - Done !\n",
      "Moviepy - video ready 20200214_DWG_GEN_1_HL196.5.mp4\n",
      "Moviepy - Building video 20200214_DWG_GEN_1_HL197.0.mp4.\n",
      "MoviePy - Writing audio in 20200214_DWG_GEN_1_HL197.0TEMP_MPY_wvf_snd.mp3\n"
     ]
    },
    {
     "name": "stderr",
     "output_type": "stream",
     "text": [
      "                                                                                                                       \r"
     ]
    },
    {
     "name": "stdout",
     "output_type": "stream",
     "text": [
      "MoviePy - Done.\n",
      "Moviepy - Writing video 20200214_DWG_GEN_1_HL197.0.mp4\n",
      "\n"
     ]
    },
    {
     "name": "stderr",
     "output_type": "stream",
     "text": [
      "                                                                                                                       \r"
     ]
    },
    {
     "name": "stdout",
     "output_type": "stream",
     "text": [
      "Moviepy - Done !\n",
      "Moviepy - video ready 20200214_DWG_GEN_1_HL197.0.mp4\n",
      "Moviepy - Building video 20200214_DWG_GEN_1_HL197.5.mp4.\n",
      "MoviePy - Writing audio in 20200214_DWG_GEN_1_HL197.5TEMP_MPY_wvf_snd.mp3\n"
     ]
    },
    {
     "name": "stderr",
     "output_type": "stream",
     "text": [
      "                                                                                                                       \r"
     ]
    },
    {
     "name": "stdout",
     "output_type": "stream",
     "text": [
      "MoviePy - Done.\n",
      "Moviepy - Writing video 20200214_DWG_GEN_1_HL197.5.mp4\n",
      "\n"
     ]
    },
    {
     "name": "stderr",
     "output_type": "stream",
     "text": [
      "                                                                                                                       \r"
     ]
    },
    {
     "name": "stdout",
     "output_type": "stream",
     "text": [
      "Moviepy - Done !\n",
      "Moviepy - video ready 20200214_DWG_GEN_1_HL197.5.mp4\n",
      "Moviepy - Building video 20200214_DWG_GEN_1_HL198.0.mp4.\n",
      "MoviePy - Writing audio in 20200214_DWG_GEN_1_HL198.0TEMP_MPY_wvf_snd.mp3\n"
     ]
    },
    {
     "name": "stderr",
     "output_type": "stream",
     "text": [
      "                                                                                                                       \r"
     ]
    },
    {
     "name": "stdout",
     "output_type": "stream",
     "text": [
      "MoviePy - Done.\n",
      "Moviepy - Writing video 20200214_DWG_GEN_1_HL198.0.mp4\n",
      "\n"
     ]
    },
    {
     "name": "stderr",
     "output_type": "stream",
     "text": [
      "                                                                                                                       \r"
     ]
    },
    {
     "name": "stdout",
     "output_type": "stream",
     "text": [
      "Moviepy - Done !\n",
      "Moviepy - video ready 20200214_DWG_GEN_1_HL198.0.mp4\n",
      "Moviepy - Building video 20200214_DWG_GEN_1_HL198.5.mp4.\n",
      "MoviePy - Writing audio in 20200214_DWG_GEN_1_HL198.5TEMP_MPY_wvf_snd.mp3\n"
     ]
    },
    {
     "name": "stderr",
     "output_type": "stream",
     "text": [
      "                                                                                                                       \r"
     ]
    },
    {
     "name": "stdout",
     "output_type": "stream",
     "text": [
      "MoviePy - Done.\n",
      "Moviepy - Writing video 20200214_DWG_GEN_1_HL198.5.mp4\n",
      "\n"
     ]
    },
    {
     "name": "stderr",
     "output_type": "stream",
     "text": [
      "                                                                                                                       \r"
     ]
    },
    {
     "name": "stdout",
     "output_type": "stream",
     "text": [
      "Moviepy - Done !\n",
      "Moviepy - video ready 20200214_DWG_GEN_1_HL198.5.mp4\n",
      "Moviepy - Building video 20200214_DWG_GEN_1_HL199.0.mp4.\n",
      "MoviePy - Writing audio in 20200214_DWG_GEN_1_HL199.0TEMP_MPY_wvf_snd.mp3\n"
     ]
    },
    {
     "name": "stderr",
     "output_type": "stream",
     "text": [
      "                                                                                                                       \r"
     ]
    },
    {
     "name": "stdout",
     "output_type": "stream",
     "text": [
      "MoviePy - Done.\n",
      "Moviepy - Writing video 20200214_DWG_GEN_1_HL199.0.mp4\n",
      "\n"
     ]
    },
    {
     "name": "stderr",
     "output_type": "stream",
     "text": [
      "                                                                                                                       \r"
     ]
    },
    {
     "name": "stdout",
     "output_type": "stream",
     "text": [
      "Moviepy - Done !\n",
      "Moviepy - video ready 20200214_DWG_GEN_1_HL199.0.mp4\n",
      "Moviepy - Building video 20200214_DWG_GEN_1_HL199.5.mp4.\n",
      "MoviePy - Writing audio in 20200214_DWG_GEN_1_HL199.5TEMP_MPY_wvf_snd.mp3\n"
     ]
    },
    {
     "name": "stderr",
     "output_type": "stream",
     "text": [
      "                                                                                                                       \r"
     ]
    },
    {
     "name": "stdout",
     "output_type": "stream",
     "text": [
      "MoviePy - Done.\n",
      "Moviepy - Writing video 20200214_DWG_GEN_1_HL199.5.mp4\n",
      "\n"
     ]
    },
    {
     "name": "stderr",
     "output_type": "stream",
     "text": [
      "                                                                                                                       \r"
     ]
    },
    {
     "name": "stdout",
     "output_type": "stream",
     "text": [
      "Moviepy - Done !\n",
      "Moviepy - video ready 20200214_DWG_GEN_1_HL199.5.mp4\n",
      "Moviepy - Building video 20200214_DWG_GEN_1_HL200.0.mp4.\n",
      "MoviePy - Writing audio in 20200214_DWG_GEN_1_HL200.0TEMP_MPY_wvf_snd.mp3\n"
     ]
    },
    {
     "name": "stderr",
     "output_type": "stream",
     "text": [
      "                                                                                                                       \r"
     ]
    },
    {
     "name": "stdout",
     "output_type": "stream",
     "text": [
      "MoviePy - Done.\n",
      "Moviepy - Writing video 20200214_DWG_GEN_1_HL200.0.mp4\n",
      "\n"
     ]
    },
    {
     "name": "stderr",
     "output_type": "stream",
     "text": [
      "                                                                                                                       \r"
     ]
    },
    {
     "name": "stdout",
     "output_type": "stream",
     "text": [
      "Moviepy - Done !\n",
      "Moviepy - video ready 20200214_DWG_GEN_1_HL200.0.mp4\n",
      "Moviepy - Building video 20200214_DWG_GEN_1_HL200.5.mp4.\n",
      "MoviePy - Writing audio in 20200214_DWG_GEN_1_HL200.5TEMP_MPY_wvf_snd.mp3\n"
     ]
    },
    {
     "name": "stderr",
     "output_type": "stream",
     "text": [
      "                                                                                                                       \r"
     ]
    },
    {
     "name": "stdout",
     "output_type": "stream",
     "text": [
      "MoviePy - Done.\n",
      "Moviepy - Writing video 20200214_DWG_GEN_1_HL200.5.mp4\n",
      "\n"
     ]
    },
    {
     "name": "stderr",
     "output_type": "stream",
     "text": [
      "                                                                                                                       \r"
     ]
    },
    {
     "name": "stdout",
     "output_type": "stream",
     "text": [
      "Moviepy - Done !\n",
      "Moviepy - video ready 20200214_DWG_GEN_1_HL200.5.mp4\n",
      "Moviepy - Building video 20200214_DWG_GEN_1_HL201.0.mp4.\n",
      "MoviePy - Writing audio in 20200214_DWG_GEN_1_HL201.0TEMP_MPY_wvf_snd.mp3\n"
     ]
    },
    {
     "name": "stderr",
     "output_type": "stream",
     "text": [
      "                                                                                                                       \r"
     ]
    },
    {
     "name": "stdout",
     "output_type": "stream",
     "text": [
      "MoviePy - Done.\n",
      "Moviepy - Writing video 20200214_DWG_GEN_1_HL201.0.mp4\n",
      "\n"
     ]
    },
    {
     "name": "stderr",
     "output_type": "stream",
     "text": [
      "                                                                                                                       \r"
     ]
    },
    {
     "name": "stdout",
     "output_type": "stream",
     "text": [
      "Moviepy - Done !\n",
      "Moviepy - video ready 20200214_DWG_GEN_1_HL201.0.mp4\n",
      "Moviepy - Building video 20200214_DWG_GEN_1_HL201.5.mp4.\n",
      "MoviePy - Writing audio in 20200214_DWG_GEN_1_HL201.5TEMP_MPY_wvf_snd.mp3\n"
     ]
    },
    {
     "name": "stderr",
     "output_type": "stream",
     "text": [
      "                                                                                                                       \r"
     ]
    },
    {
     "name": "stdout",
     "output_type": "stream",
     "text": [
      "MoviePy - Done.\n",
      "Moviepy - Writing video 20200214_DWG_GEN_1_HL201.5.mp4\n",
      "\n"
     ]
    },
    {
     "name": "stderr",
     "output_type": "stream",
     "text": [
      "                                                                                                                       \r"
     ]
    },
    {
     "name": "stdout",
     "output_type": "stream",
     "text": [
      "Moviepy - Done !\n",
      "Moviepy - video ready 20200214_DWG_GEN_1_HL201.5.mp4\n",
      "Moviepy - Building video 20200214_DWG_GEN_1_HL202.0.mp4.\n",
      "MoviePy - Writing audio in 20200214_DWG_GEN_1_HL202.0TEMP_MPY_wvf_snd.mp3\n"
     ]
    },
    {
     "name": "stderr",
     "output_type": "stream",
     "text": [
      "                                                                                                                       \r"
     ]
    },
    {
     "name": "stdout",
     "output_type": "stream",
     "text": [
      "MoviePy - Done.\n",
      "Moviepy - Writing video 20200214_DWG_GEN_1_HL202.0.mp4\n",
      "\n"
     ]
    },
    {
     "name": "stderr",
     "output_type": "stream",
     "text": [
      "                                                                                                                       \r"
     ]
    },
    {
     "name": "stdout",
     "output_type": "stream",
     "text": [
      "Moviepy - Done !\n",
      "Moviepy - video ready 20200214_DWG_GEN_1_HL202.0.mp4\n",
      "Moviepy - Building video 20200214_DWG_GEN_1_HL202.5.mp4.\n",
      "MoviePy - Writing audio in 20200214_DWG_GEN_1_HL202.5TEMP_MPY_wvf_snd.mp3\n"
     ]
    },
    {
     "name": "stderr",
     "output_type": "stream",
     "text": [
      "                                                                                                                       \r"
     ]
    },
    {
     "name": "stdout",
     "output_type": "stream",
     "text": [
      "MoviePy - Done.\n",
      "Moviepy - Writing video 20200214_DWG_GEN_1_HL202.5.mp4\n",
      "\n"
     ]
    },
    {
     "name": "stderr",
     "output_type": "stream",
     "text": [
      "                                                                                                                       \r"
     ]
    },
    {
     "name": "stdout",
     "output_type": "stream",
     "text": [
      "Moviepy - Done !\n",
      "Moviepy - video ready 20200214_DWG_GEN_1_HL202.5.mp4\n",
      "Moviepy - Building video 20200214_DWG_GEN_1_HL203.0.mp4.\n",
      "MoviePy - Writing audio in 20200214_DWG_GEN_1_HL203.0TEMP_MPY_wvf_snd.mp3\n"
     ]
    },
    {
     "name": "stderr",
     "output_type": "stream",
     "text": [
      "                                                                                                                       \r"
     ]
    },
    {
     "name": "stdout",
     "output_type": "stream",
     "text": [
      "MoviePy - Done.\n",
      "Moviepy - Writing video 20200214_DWG_GEN_1_HL203.0.mp4\n",
      "\n"
     ]
    },
    {
     "name": "stderr",
     "output_type": "stream",
     "text": [
      "                                                                                                                       \r"
     ]
    },
    {
     "name": "stdout",
     "output_type": "stream",
     "text": [
      "Moviepy - Done !\n",
      "Moviepy - video ready 20200214_DWG_GEN_1_HL203.0.mp4\n",
      "Moviepy - Building video 20200214_DWG_GEN_1_HL203.5.mp4.\n",
      "MoviePy - Writing audio in 20200214_DWG_GEN_1_HL203.5TEMP_MPY_wvf_snd.mp3\n"
     ]
    },
    {
     "name": "stderr",
     "output_type": "stream",
     "text": [
      "                                                                                                                       \r"
     ]
    },
    {
     "name": "stdout",
     "output_type": "stream",
     "text": [
      "MoviePy - Done.\n",
      "Moviepy - Writing video 20200214_DWG_GEN_1_HL203.5.mp4\n",
      "\n"
     ]
    },
    {
     "name": "stderr",
     "output_type": "stream",
     "text": [
      "                                                                                                                       \r"
     ]
    },
    {
     "name": "stdout",
     "output_type": "stream",
     "text": [
      "Moviepy - Done !\n",
      "Moviepy - video ready 20200214_DWG_GEN_1_HL203.5.mp4\n",
      "Moviepy - Building video 20200214_DWG_GEN_1_HL204.0.mp4.\n",
      "MoviePy - Writing audio in 20200214_DWG_GEN_1_HL204.0TEMP_MPY_wvf_snd.mp3\n"
     ]
    },
    {
     "name": "stderr",
     "output_type": "stream",
     "text": [
      "                                                                                                                       \r"
     ]
    },
    {
     "name": "stdout",
     "output_type": "stream",
     "text": [
      "MoviePy - Done.\n",
      "Moviepy - Writing video 20200214_DWG_GEN_1_HL204.0.mp4\n",
      "\n"
     ]
    },
    {
     "name": "stderr",
     "output_type": "stream",
     "text": [
      "                                                                                                                       \r"
     ]
    },
    {
     "name": "stdout",
     "output_type": "stream",
     "text": [
      "Moviepy - Done !\n",
      "Moviepy - video ready 20200214_DWG_GEN_1_HL204.0.mp4\n",
      "Moviepy - Building video 20200214_DWG_GEN_1_HL204.5.mp4.\n",
      "MoviePy - Writing audio in 20200214_DWG_GEN_1_HL204.5TEMP_MPY_wvf_snd.mp3\n"
     ]
    },
    {
     "name": "stderr",
     "output_type": "stream",
     "text": [
      "                                                                                                                       \r"
     ]
    },
    {
     "name": "stdout",
     "output_type": "stream",
     "text": [
      "MoviePy - Done.\n",
      "Moviepy - Writing video 20200214_DWG_GEN_1_HL204.5.mp4\n",
      "\n"
     ]
    },
    {
     "name": "stderr",
     "output_type": "stream",
     "text": [
      "                                                                                                                       \r"
     ]
    },
    {
     "name": "stdout",
     "output_type": "stream",
     "text": [
      "Moviepy - Done !\n",
      "Moviepy - video ready 20200214_DWG_GEN_1_HL204.5.mp4\n",
      "Moviepy - Building video 20200214_DWG_GEN_1_HL205.0.mp4.\n",
      "MoviePy - Writing audio in 20200214_DWG_GEN_1_HL205.0TEMP_MPY_wvf_snd.mp3\n"
     ]
    },
    {
     "name": "stderr",
     "output_type": "stream",
     "text": [
      "                                                                                                                       \r"
     ]
    },
    {
     "name": "stdout",
     "output_type": "stream",
     "text": [
      "MoviePy - Done.\n",
      "Moviepy - Writing video 20200214_DWG_GEN_1_HL205.0.mp4\n",
      "\n"
     ]
    },
    {
     "name": "stderr",
     "output_type": "stream",
     "text": [
      "                                                                                                                       \r"
     ]
    },
    {
     "name": "stdout",
     "output_type": "stream",
     "text": [
      "Moviepy - Done !\n",
      "Moviepy - video ready 20200214_DWG_GEN_1_HL205.0.mp4\n",
      "Moviepy - Building video 20200214_DWG_GEN_1_HL205.5.mp4.\n",
      "MoviePy - Writing audio in 20200214_DWG_GEN_1_HL205.5TEMP_MPY_wvf_snd.mp3\n"
     ]
    },
    {
     "name": "stderr",
     "output_type": "stream",
     "text": [
      "                                                                                                                       \r"
     ]
    },
    {
     "name": "stdout",
     "output_type": "stream",
     "text": [
      "MoviePy - Done.\n",
      "Moviepy - Writing video 20200214_DWG_GEN_1_HL205.5.mp4\n",
      "\n"
     ]
    },
    {
     "name": "stderr",
     "output_type": "stream",
     "text": [
      "                                                                                                                       \r"
     ]
    },
    {
     "name": "stdout",
     "output_type": "stream",
     "text": [
      "Moviepy - Done !\n",
      "Moviepy - video ready 20200214_DWG_GEN_1_HL205.5.mp4\n",
      "Moviepy - Building video 20200214_DWG_GEN_1_HL206.0.mp4.\n",
      "MoviePy - Writing audio in 20200214_DWG_GEN_1_HL206.0TEMP_MPY_wvf_snd.mp3\n"
     ]
    },
    {
     "name": "stderr",
     "output_type": "stream",
     "text": [
      "                                                                                                                       \r"
     ]
    },
    {
     "name": "stdout",
     "output_type": "stream",
     "text": [
      "MoviePy - Done.\n",
      "Moviepy - Writing video 20200214_DWG_GEN_1_HL206.0.mp4\n",
      "\n"
     ]
    },
    {
     "name": "stderr",
     "output_type": "stream",
     "text": [
      "                                                                                                                       \r"
     ]
    },
    {
     "name": "stdout",
     "output_type": "stream",
     "text": [
      "Moviepy - Done !\n",
      "Moviepy - video ready 20200214_DWG_GEN_1_HL206.0.mp4\n",
      "Moviepy - Building video 20200214_DWG_GEN_1_HL206.5.mp4.\n",
      "MoviePy - Writing audio in 20200214_DWG_GEN_1_HL206.5TEMP_MPY_wvf_snd.mp3\n"
     ]
    },
    {
     "name": "stderr",
     "output_type": "stream",
     "text": [
      "                                                                                                                       \r"
     ]
    },
    {
     "name": "stdout",
     "output_type": "stream",
     "text": [
      "MoviePy - Done.\n",
      "Moviepy - Writing video 20200214_DWG_GEN_1_HL206.5.mp4\n",
      "\n"
     ]
    },
    {
     "name": "stderr",
     "output_type": "stream",
     "text": [
      "                                                                                                                       \r"
     ]
    },
    {
     "name": "stdout",
     "output_type": "stream",
     "text": [
      "Moviepy - Done !\n",
      "Moviepy - video ready 20200214_DWG_GEN_1_HL206.5.mp4\n",
      "Moviepy - Building video 20200214_DWG_GEN_1_HL207.0.mp4.\n",
      "MoviePy - Writing audio in 20200214_DWG_GEN_1_HL207.0TEMP_MPY_wvf_snd.mp3\n"
     ]
    },
    {
     "name": "stderr",
     "output_type": "stream",
     "text": [
      "                                                                                                                       \r"
     ]
    },
    {
     "name": "stdout",
     "output_type": "stream",
     "text": [
      "MoviePy - Done.\n",
      "Moviepy - Writing video 20200214_DWG_GEN_1_HL207.0.mp4\n",
      "\n"
     ]
    },
    {
     "name": "stderr",
     "output_type": "stream",
     "text": [
      "                                                                                                                       \r"
     ]
    },
    {
     "name": "stdout",
     "output_type": "stream",
     "text": [
      "Moviepy - Done !\n",
      "Moviepy - video ready 20200214_DWG_GEN_1_HL207.0.mp4\n",
      "Moviepy - Building video 20200214_DWG_GEN_1_HL207.5.mp4.\n",
      "MoviePy - Writing audio in 20200214_DWG_GEN_1_HL207.5TEMP_MPY_wvf_snd.mp3\n"
     ]
    },
    {
     "name": "stderr",
     "output_type": "stream",
     "text": [
      "                                                                                                                       \r"
     ]
    },
    {
     "name": "stdout",
     "output_type": "stream",
     "text": [
      "MoviePy - Done.\n",
      "Moviepy - Writing video 20200214_DWG_GEN_1_HL207.5.mp4\n",
      "\n"
     ]
    },
    {
     "name": "stderr",
     "output_type": "stream",
     "text": [
      "                                                                                                                       \r"
     ]
    },
    {
     "name": "stdout",
     "output_type": "stream",
     "text": [
      "Moviepy - Done !\n",
      "Moviepy - video ready 20200214_DWG_GEN_1_HL207.5.mp4\n",
      "Moviepy - Building video 20200214_DWG_GEN_1_HL208.0.mp4.\n",
      "MoviePy - Writing audio in 20200214_DWG_GEN_1_HL208.0TEMP_MPY_wvf_snd.mp3\n"
     ]
    },
    {
     "name": "stderr",
     "output_type": "stream",
     "text": [
      "                                                                                                                       \r"
     ]
    },
    {
     "name": "stdout",
     "output_type": "stream",
     "text": [
      "MoviePy - Done.\n",
      "Moviepy - Writing video 20200214_DWG_GEN_1_HL208.0.mp4\n",
      "\n"
     ]
    },
    {
     "name": "stderr",
     "output_type": "stream",
     "text": [
      "                                                                                                                       \r"
     ]
    },
    {
     "name": "stdout",
     "output_type": "stream",
     "text": [
      "Moviepy - Done !\n",
      "Moviepy - video ready 20200214_DWG_GEN_1_HL208.0.mp4\n",
      "Moviepy - Building video 20200214_DWG_GEN_1_HL208.5.mp4.\n",
      "MoviePy - Writing audio in 20200214_DWG_GEN_1_HL208.5TEMP_MPY_wvf_snd.mp3\n"
     ]
    },
    {
     "name": "stderr",
     "output_type": "stream",
     "text": [
      "                                                                                                                       \r"
     ]
    },
    {
     "name": "stdout",
     "output_type": "stream",
     "text": [
      "MoviePy - Done.\n",
      "Moviepy - Writing video 20200214_DWG_GEN_1_HL208.5.mp4\n",
      "\n"
     ]
    },
    {
     "name": "stderr",
     "output_type": "stream",
     "text": [
      "                                                                                                                       \r"
     ]
    },
    {
     "name": "stdout",
     "output_type": "stream",
     "text": [
      "Moviepy - Done !\n",
      "Moviepy - video ready 20200214_DWG_GEN_1_HL208.5.mp4\n",
      "Moviepy - Building video 20200214_DWG_GEN_1_HL209.0.mp4.\n",
      "MoviePy - Writing audio in 20200214_DWG_GEN_1_HL209.0TEMP_MPY_wvf_snd.mp3\n"
     ]
    },
    {
     "name": "stderr",
     "output_type": "stream",
     "text": [
      "                                                                                                                       \r"
     ]
    },
    {
     "name": "stdout",
     "output_type": "stream",
     "text": [
      "MoviePy - Done.\n",
      "Moviepy - Writing video 20200214_DWG_GEN_1_HL209.0.mp4\n",
      "\n"
     ]
    },
    {
     "name": "stderr",
     "output_type": "stream",
     "text": [
      "                                                                                                                       \r"
     ]
    },
    {
     "name": "stdout",
     "output_type": "stream",
     "text": [
      "Moviepy - Done !\n",
      "Moviepy - video ready 20200214_DWG_GEN_1_HL209.0.mp4\n",
      "Moviepy - Building video 20200214_DWG_GEN_1_HL209.5.mp4.\n",
      "MoviePy - Writing audio in 20200214_DWG_GEN_1_HL209.5TEMP_MPY_wvf_snd.mp3\n"
     ]
    },
    {
     "name": "stderr",
     "output_type": "stream",
     "text": [
      "                                                                                                                       \r"
     ]
    },
    {
     "name": "stdout",
     "output_type": "stream",
     "text": [
      "MoviePy - Done.\n",
      "Moviepy - Writing video 20200214_DWG_GEN_1_HL209.5.mp4\n",
      "\n"
     ]
    },
    {
     "name": "stderr",
     "output_type": "stream",
     "text": [
      "                                                                                                                       \r"
     ]
    },
    {
     "name": "stdout",
     "output_type": "stream",
     "text": [
      "Moviepy - Done !\n",
      "Moviepy - video ready 20200214_DWG_GEN_1_HL209.5.mp4\n",
      "Moviepy - Building video 20200214_DWG_GEN_1_HL210.0.mp4.\n",
      "MoviePy - Writing audio in 20200214_DWG_GEN_1_HL210.0TEMP_MPY_wvf_snd.mp3\n"
     ]
    },
    {
     "name": "stderr",
     "output_type": "stream",
     "text": [
      "                                                                                                                       \r"
     ]
    },
    {
     "name": "stdout",
     "output_type": "stream",
     "text": [
      "MoviePy - Done.\n",
      "Moviepy - Writing video 20200214_DWG_GEN_1_HL210.0.mp4\n",
      "\n"
     ]
    },
    {
     "name": "stderr",
     "output_type": "stream",
     "text": [
      "                                                                                                                       \r"
     ]
    },
    {
     "name": "stdout",
     "output_type": "stream",
     "text": [
      "Moviepy - Done !\n",
      "Moviepy - video ready 20200214_DWG_GEN_1_HL210.0.mp4\n",
      "Moviepy - Building video 20200214_DWG_GEN_1_HL210.5.mp4.\n",
      "MoviePy - Writing audio in 20200214_DWG_GEN_1_HL210.5TEMP_MPY_wvf_snd.mp3\n"
     ]
    },
    {
     "name": "stderr",
     "output_type": "stream",
     "text": [
      "                                                                                                                       \r"
     ]
    },
    {
     "name": "stdout",
     "output_type": "stream",
     "text": [
      "MoviePy - Done.\n",
      "Moviepy - Writing video 20200214_DWG_GEN_1_HL210.5.mp4\n",
      "\n"
     ]
    },
    {
     "name": "stderr",
     "output_type": "stream",
     "text": [
      "                                                                                                                       \r"
     ]
    },
    {
     "name": "stdout",
     "output_type": "stream",
     "text": [
      "Moviepy - Done !\n",
      "Moviepy - video ready 20200214_DWG_GEN_1_HL210.5.mp4\n",
      "Moviepy - Building video 20200214_DWG_GEN_1_HL211.0.mp4.\n",
      "MoviePy - Writing audio in 20200214_DWG_GEN_1_HL211.0TEMP_MPY_wvf_snd.mp3\n"
     ]
    },
    {
     "name": "stderr",
     "output_type": "stream",
     "text": [
      "                                                                                                                       \r"
     ]
    },
    {
     "name": "stdout",
     "output_type": "stream",
     "text": [
      "MoviePy - Done.\n",
      "Moviepy - Writing video 20200214_DWG_GEN_1_HL211.0.mp4\n",
      "\n"
     ]
    },
    {
     "name": "stderr",
     "output_type": "stream",
     "text": [
      "                                                                                                                       \r"
     ]
    },
    {
     "name": "stdout",
     "output_type": "stream",
     "text": [
      "Moviepy - Done !\n",
      "Moviepy - video ready 20200214_DWG_GEN_1_HL211.0.mp4\n",
      "Moviepy - Building video 20200214_DWG_GEN_1_HL211.5.mp4.\n",
      "MoviePy - Writing audio in 20200214_DWG_GEN_1_HL211.5TEMP_MPY_wvf_snd.mp3\n"
     ]
    },
    {
     "name": "stderr",
     "output_type": "stream",
     "text": [
      "                                                                                                                       \r"
     ]
    },
    {
     "name": "stdout",
     "output_type": "stream",
     "text": [
      "MoviePy - Done.\n",
      "Moviepy - Writing video 20200214_DWG_GEN_1_HL211.5.mp4\n",
      "\n"
     ]
    },
    {
     "name": "stderr",
     "output_type": "stream",
     "text": [
      "                                                                                                                       \r"
     ]
    },
    {
     "name": "stdout",
     "output_type": "stream",
     "text": [
      "Moviepy - Done !\n",
      "Moviepy - video ready 20200214_DWG_GEN_1_HL211.5.mp4\n",
      "Moviepy - Building video 20200214_DWG_GEN_1_HL212.0.mp4.\n",
      "MoviePy - Writing audio in 20200214_DWG_GEN_1_HL212.0TEMP_MPY_wvf_snd.mp3\n"
     ]
    },
    {
     "name": "stderr",
     "output_type": "stream",
     "text": [
      "                                                                                                                       \r"
     ]
    },
    {
     "name": "stdout",
     "output_type": "stream",
     "text": [
      "MoviePy - Done.\n",
      "Moviepy - Writing video 20200214_DWG_GEN_1_HL212.0.mp4\n",
      "\n"
     ]
    },
    {
     "name": "stderr",
     "output_type": "stream",
     "text": [
      "                                                                                                                       \r"
     ]
    },
    {
     "name": "stdout",
     "output_type": "stream",
     "text": [
      "Moviepy - Done !\n",
      "Moviepy - video ready 20200214_DWG_GEN_1_HL212.0.mp4\n",
      "Moviepy - Building video 20200214_DWG_GEN_1_HL212.5.mp4.\n",
      "MoviePy - Writing audio in 20200214_DWG_GEN_1_HL212.5TEMP_MPY_wvf_snd.mp3\n"
     ]
    },
    {
     "name": "stderr",
     "output_type": "stream",
     "text": [
      "                                                                                                                       \r"
     ]
    },
    {
     "name": "stdout",
     "output_type": "stream",
     "text": [
      "MoviePy - Done.\n",
      "Moviepy - Writing video 20200214_DWG_GEN_1_HL212.5.mp4\n",
      "\n"
     ]
    },
    {
     "name": "stderr",
     "output_type": "stream",
     "text": [
      "                                                                                                                       \r"
     ]
    },
    {
     "name": "stdout",
     "output_type": "stream",
     "text": [
      "Moviepy - Done !\n",
      "Moviepy - video ready 20200214_DWG_GEN_1_HL212.5.mp4\n",
      "Moviepy - Building video 20200214_DWG_GEN_1_HL213.0.mp4.\n",
      "MoviePy - Writing audio in 20200214_DWG_GEN_1_HL213.0TEMP_MPY_wvf_snd.mp3\n"
     ]
    },
    {
     "name": "stderr",
     "output_type": "stream",
     "text": [
      "                                                                                                                       \r"
     ]
    },
    {
     "name": "stdout",
     "output_type": "stream",
     "text": [
      "MoviePy - Done.\n",
      "Moviepy - Writing video 20200214_DWG_GEN_1_HL213.0.mp4\n",
      "\n"
     ]
    },
    {
     "name": "stderr",
     "output_type": "stream",
     "text": [
      "                                                                                                                       \r"
     ]
    },
    {
     "name": "stdout",
     "output_type": "stream",
     "text": [
      "Moviepy - Done !\n",
      "Moviepy - video ready 20200214_DWG_GEN_1_HL213.0.mp4\n",
      "Moviepy - Building video 20200214_DWG_GEN_1_HL213.5.mp4.\n",
      "MoviePy - Writing audio in 20200214_DWG_GEN_1_HL213.5TEMP_MPY_wvf_snd.mp3\n"
     ]
    },
    {
     "name": "stderr",
     "output_type": "stream",
     "text": [
      "                                                                                                                       \r"
     ]
    },
    {
     "name": "stdout",
     "output_type": "stream",
     "text": [
      "MoviePy - Done.\n",
      "Moviepy - Writing video 20200214_DWG_GEN_1_HL213.5.mp4\n",
      "\n"
     ]
    },
    {
     "name": "stderr",
     "output_type": "stream",
     "text": [
      "                                                                                                                       \r"
     ]
    },
    {
     "name": "stdout",
     "output_type": "stream",
     "text": [
      "Moviepy - Done !\n",
      "Moviepy - video ready 20200214_DWG_GEN_1_HL213.5.mp4\n",
      "Moviepy - Building video 20200214_DWG_GEN_1_HL214.0.mp4.\n",
      "MoviePy - Writing audio in 20200214_DWG_GEN_1_HL214.0TEMP_MPY_wvf_snd.mp3\n"
     ]
    },
    {
     "name": "stderr",
     "output_type": "stream",
     "text": [
      "                                                                                                                       \r"
     ]
    },
    {
     "name": "stdout",
     "output_type": "stream",
     "text": [
      "MoviePy - Done.\n",
      "Moviepy - Writing video 20200214_DWG_GEN_1_HL214.0.mp4\n",
      "\n"
     ]
    },
    {
     "name": "stderr",
     "output_type": "stream",
     "text": [
      "                                                                                                                       \r"
     ]
    },
    {
     "name": "stdout",
     "output_type": "stream",
     "text": [
      "Moviepy - Done !\n",
      "Moviepy - video ready 20200214_DWG_GEN_1_HL214.0.mp4\n",
      "Moviepy - Building video 20200214_DWG_GEN_1_HL214.5.mp4.\n",
      "MoviePy - Writing audio in 20200214_DWG_GEN_1_HL214.5TEMP_MPY_wvf_snd.mp3\n"
     ]
    },
    {
     "name": "stderr",
     "output_type": "stream",
     "text": [
      "                                                                                                                       \r"
     ]
    },
    {
     "name": "stdout",
     "output_type": "stream",
     "text": [
      "MoviePy - Done.\n",
      "Moviepy - Writing video 20200214_DWG_GEN_1_HL214.5.mp4\n",
      "\n"
     ]
    },
    {
     "name": "stderr",
     "output_type": "stream",
     "text": [
      "                                                                                                                       \r"
     ]
    },
    {
     "name": "stdout",
     "output_type": "stream",
     "text": [
      "Moviepy - Done !\n",
      "Moviepy - video ready 20200214_DWG_GEN_1_HL214.5.mp4\n",
      "Moviepy - Building video 20200214_DWG_GEN_1_HL215.0.mp4.\n",
      "MoviePy - Writing audio in 20200214_DWG_GEN_1_HL215.0TEMP_MPY_wvf_snd.mp3\n"
     ]
    },
    {
     "name": "stderr",
     "output_type": "stream",
     "text": [
      "                                                                                                                       \r"
     ]
    },
    {
     "name": "stdout",
     "output_type": "stream",
     "text": [
      "MoviePy - Done.\n",
      "Moviepy - Writing video 20200214_DWG_GEN_1_HL215.0.mp4\n",
      "\n"
     ]
    },
    {
     "name": "stderr",
     "output_type": "stream",
     "text": [
      "                                                                                                                       \r"
     ]
    },
    {
     "name": "stdout",
     "output_type": "stream",
     "text": [
      "Moviepy - Done !\n",
      "Moviepy - video ready 20200214_DWG_GEN_1_HL215.0.mp4\n",
      "Moviepy - Building video 20200214_DWG_GEN_1_HL215.5.mp4.\n",
      "MoviePy - Writing audio in 20200214_DWG_GEN_1_HL215.5TEMP_MPY_wvf_snd.mp3\n"
     ]
    },
    {
     "name": "stderr",
     "output_type": "stream",
     "text": [
      "                                                                                                                       \r"
     ]
    },
    {
     "name": "stdout",
     "output_type": "stream",
     "text": [
      "MoviePy - Done.\n",
      "Moviepy - Writing video 20200214_DWG_GEN_1_HL215.5.mp4\n",
      "\n"
     ]
    },
    {
     "name": "stderr",
     "output_type": "stream",
     "text": [
      "                                                                                                                       \r"
     ]
    },
    {
     "name": "stdout",
     "output_type": "stream",
     "text": [
      "Moviepy - Done !\n",
      "Moviepy - video ready 20200214_DWG_GEN_1_HL215.5.mp4\n",
      "Moviepy - Building video 20200214_DWG_GEN_1_HL216.0.mp4.\n",
      "MoviePy - Writing audio in 20200214_DWG_GEN_1_HL216.0TEMP_MPY_wvf_snd.mp3\n"
     ]
    },
    {
     "name": "stderr",
     "output_type": "stream",
     "text": [
      "                                                                                                                       \r"
     ]
    },
    {
     "name": "stdout",
     "output_type": "stream",
     "text": [
      "MoviePy - Done.\n",
      "Moviepy - Writing video 20200214_DWG_GEN_1_HL216.0.mp4\n",
      "\n"
     ]
    },
    {
     "name": "stderr",
     "output_type": "stream",
     "text": [
      "                                                                                                                       \r"
     ]
    },
    {
     "name": "stdout",
     "output_type": "stream",
     "text": [
      "Moviepy - Done !\n",
      "Moviepy - video ready 20200214_DWG_GEN_1_HL216.0.mp4\n",
      "Moviepy - Building video 20200214_DWG_GEN_1_HL216.5.mp4.\n",
      "MoviePy - Writing audio in 20200214_DWG_GEN_1_HL216.5TEMP_MPY_wvf_snd.mp3\n"
     ]
    },
    {
     "name": "stderr",
     "output_type": "stream",
     "text": [
      "                                                                                                                       \r"
     ]
    },
    {
     "name": "stdout",
     "output_type": "stream",
     "text": [
      "MoviePy - Done.\n",
      "Moviepy - Writing video 20200214_DWG_GEN_1_HL216.5.mp4\n",
      "\n"
     ]
    },
    {
     "name": "stderr",
     "output_type": "stream",
     "text": [
      "                                                                                                                       \r"
     ]
    },
    {
     "name": "stdout",
     "output_type": "stream",
     "text": [
      "Moviepy - Done !\n",
      "Moviepy - video ready 20200214_DWG_GEN_1_HL216.5.mp4\n",
      "Moviepy - Building video 20200214_DWG_GEN_1_HL217.0.mp4.\n",
      "MoviePy - Writing audio in 20200214_DWG_GEN_1_HL217.0TEMP_MPY_wvf_snd.mp3\n"
     ]
    },
    {
     "name": "stderr",
     "output_type": "stream",
     "text": [
      "                                                                                                                       \r"
     ]
    },
    {
     "name": "stdout",
     "output_type": "stream",
     "text": [
      "MoviePy - Done.\n",
      "Moviepy - Writing video 20200214_DWG_GEN_1_HL217.0.mp4\n",
      "\n"
     ]
    },
    {
     "name": "stderr",
     "output_type": "stream",
     "text": [
      "                                                                                                                       \r"
     ]
    },
    {
     "name": "stdout",
     "output_type": "stream",
     "text": [
      "Moviepy - Done !\n",
      "Moviepy - video ready 20200214_DWG_GEN_1_HL217.0.mp4\n",
      "Moviepy - Building video 20200214_DWG_GEN_1_HL217.5.mp4.\n",
      "MoviePy - Writing audio in 20200214_DWG_GEN_1_HL217.5TEMP_MPY_wvf_snd.mp3\n"
     ]
    },
    {
     "name": "stderr",
     "output_type": "stream",
     "text": [
      "                                                                                                                       \r"
     ]
    },
    {
     "name": "stdout",
     "output_type": "stream",
     "text": [
      "MoviePy - Done.\n",
      "Moviepy - Writing video 20200214_DWG_GEN_1_HL217.5.mp4\n",
      "\n"
     ]
    },
    {
     "name": "stderr",
     "output_type": "stream",
     "text": [
      "                                                                                                                       \r"
     ]
    },
    {
     "name": "stdout",
     "output_type": "stream",
     "text": [
      "Moviepy - Done !\n",
      "Moviepy - video ready 20200214_DWG_GEN_1_HL217.5.mp4\n",
      "Moviepy - Building video 20200214_DWG_GEN_1_HL218.0.mp4.\n",
      "MoviePy - Writing audio in 20200214_DWG_GEN_1_HL218.0TEMP_MPY_wvf_snd.mp3\n"
     ]
    },
    {
     "name": "stderr",
     "output_type": "stream",
     "text": [
      "                                                                                                                       \r"
     ]
    },
    {
     "name": "stdout",
     "output_type": "stream",
     "text": [
      "MoviePy - Done.\n",
      "Moviepy - Writing video 20200214_DWG_GEN_1_HL218.0.mp4\n",
      "\n"
     ]
    },
    {
     "name": "stderr",
     "output_type": "stream",
     "text": [
      "                                                                                                                       \r"
     ]
    },
    {
     "name": "stdout",
     "output_type": "stream",
     "text": [
      "Moviepy - Done !\n",
      "Moviepy - video ready 20200214_DWG_GEN_1_HL218.0.mp4\n",
      "Moviepy - Building video 20200214_DWG_GEN_1_HL218.5.mp4.\n",
      "MoviePy - Writing audio in 20200214_DWG_GEN_1_HL218.5TEMP_MPY_wvf_snd.mp3\n"
     ]
    },
    {
     "name": "stderr",
     "output_type": "stream",
     "text": [
      "                                                                                                                       \r"
     ]
    },
    {
     "name": "stdout",
     "output_type": "stream",
     "text": [
      "MoviePy - Done.\n",
      "Moviepy - Writing video 20200214_DWG_GEN_1_HL218.5.mp4\n",
      "\n"
     ]
    },
    {
     "name": "stderr",
     "output_type": "stream",
     "text": [
      "                                                                                                                       \r"
     ]
    },
    {
     "name": "stdout",
     "output_type": "stream",
     "text": [
      "Moviepy - Done !\n",
      "Moviepy - video ready 20200214_DWG_GEN_1_HL218.5.mp4\n",
      "Moviepy - Building video 20200214_DWG_GEN_1_HL219.0.mp4.\n",
      "MoviePy - Writing audio in 20200214_DWG_GEN_1_HL219.0TEMP_MPY_wvf_snd.mp3\n"
     ]
    },
    {
     "name": "stderr",
     "output_type": "stream",
     "text": [
      "                                                                                                                       \r"
     ]
    },
    {
     "name": "stdout",
     "output_type": "stream",
     "text": [
      "MoviePy - Done.\n",
      "Moviepy - Writing video 20200214_DWG_GEN_1_HL219.0.mp4\n",
      "\n"
     ]
    },
    {
     "name": "stderr",
     "output_type": "stream",
     "text": [
      "                                                                                                                       \r"
     ]
    },
    {
     "name": "stdout",
     "output_type": "stream",
     "text": [
      "Moviepy - Done !\n",
      "Moviepy - video ready 20200214_DWG_GEN_1_HL219.0.mp4\n",
      "Moviepy - Building video 20200214_DWG_GEN_1_HL219.5.mp4.\n",
      "MoviePy - Writing audio in 20200214_DWG_GEN_1_HL219.5TEMP_MPY_wvf_snd.mp3\n"
     ]
    },
    {
     "name": "stderr",
     "output_type": "stream",
     "text": [
      "                                                                                                                       \r"
     ]
    },
    {
     "name": "stdout",
     "output_type": "stream",
     "text": [
      "MoviePy - Done.\n",
      "Moviepy - Writing video 20200214_DWG_GEN_1_HL219.5.mp4\n",
      "\n"
     ]
    },
    {
     "name": "stderr",
     "output_type": "stream",
     "text": [
      "                                                                                                                       \r"
     ]
    },
    {
     "name": "stdout",
     "output_type": "stream",
     "text": [
      "Moviepy - Done !\n",
      "Moviepy - video ready 20200214_DWG_GEN_1_HL219.5.mp4\n",
      "Moviepy - Building video 20200214_DWG_GEN_1_HL220.0.mp4.\n",
      "MoviePy - Writing audio in 20200214_DWG_GEN_1_HL220.0TEMP_MPY_wvf_snd.mp3\n"
     ]
    },
    {
     "name": "stderr",
     "output_type": "stream",
     "text": [
      "                                                                                                                       \r"
     ]
    },
    {
     "name": "stdout",
     "output_type": "stream",
     "text": [
      "MoviePy - Done.\n",
      "Moviepy - Writing video 20200214_DWG_GEN_1_HL220.0.mp4\n",
      "\n"
     ]
    },
    {
     "name": "stderr",
     "output_type": "stream",
     "text": [
      "                                                                                                                       \r"
     ]
    },
    {
     "name": "stdout",
     "output_type": "stream",
     "text": [
      "Moviepy - Done !\n",
      "Moviepy - video ready 20200214_DWG_GEN_1_HL220.0.mp4\n",
      "Moviepy - Building video 20200214_DWG_GEN_1_HL220.5.mp4.\n",
      "MoviePy - Writing audio in 20200214_DWG_GEN_1_HL220.5TEMP_MPY_wvf_snd.mp3\n"
     ]
    },
    {
     "name": "stderr",
     "output_type": "stream",
     "text": [
      "                                                                                                                       \r"
     ]
    },
    {
     "name": "stdout",
     "output_type": "stream",
     "text": [
      "MoviePy - Done.\n",
      "Moviepy - Writing video 20200214_DWG_GEN_1_HL220.5.mp4\n",
      "\n"
     ]
    },
    {
     "name": "stderr",
     "output_type": "stream",
     "text": [
      "                                                                                                                       \r"
     ]
    },
    {
     "name": "stdout",
     "output_type": "stream",
     "text": [
      "Moviepy - Done !\n",
      "Moviepy - video ready 20200214_DWG_GEN_1_HL220.5.mp4\n",
      "Moviepy - Building video 20200214_DWG_GEN_1_HL221.0.mp4.\n",
      "MoviePy - Writing audio in 20200214_DWG_GEN_1_HL221.0TEMP_MPY_wvf_snd.mp3\n"
     ]
    },
    {
     "name": "stderr",
     "output_type": "stream",
     "text": [
      "                                                                                                                       \r"
     ]
    },
    {
     "name": "stdout",
     "output_type": "stream",
     "text": [
      "MoviePy - Done.\n",
      "Moviepy - Writing video 20200214_DWG_GEN_1_HL221.0.mp4\n",
      "\n"
     ]
    },
    {
     "name": "stderr",
     "output_type": "stream",
     "text": [
      "                                                                                                                       \r"
     ]
    },
    {
     "name": "stdout",
     "output_type": "stream",
     "text": [
      "Moviepy - Done !\n",
      "Moviepy - video ready 20200214_DWG_GEN_1_HL221.0.mp4\n",
      "Moviepy - Building video 20200214_DWG_GEN_1_HL221.5.mp4.\n",
      "MoviePy - Writing audio in 20200214_DWG_GEN_1_HL221.5TEMP_MPY_wvf_snd.mp3\n"
     ]
    },
    {
     "name": "stderr",
     "output_type": "stream",
     "text": [
      "                                                                                                                       \r"
     ]
    },
    {
     "name": "stdout",
     "output_type": "stream",
     "text": [
      "MoviePy - Done.\n",
      "Moviepy - Writing video 20200214_DWG_GEN_1_HL221.5.mp4\n",
      "\n"
     ]
    },
    {
     "name": "stderr",
     "output_type": "stream",
     "text": [
      "                                                                                                                       \r"
     ]
    },
    {
     "name": "stdout",
     "output_type": "stream",
     "text": [
      "Moviepy - Done !\n",
      "Moviepy - video ready 20200214_DWG_GEN_1_HL221.5.mp4\n",
      "Moviepy - Building video 20200214_DWG_GEN_1_HL222.0.mp4.\n",
      "MoviePy - Writing audio in 20200214_DWG_GEN_1_HL222.0TEMP_MPY_wvf_snd.mp3\n"
     ]
    },
    {
     "name": "stderr",
     "output_type": "stream",
     "text": [
      "                                                                                                                       \r"
     ]
    },
    {
     "name": "stdout",
     "output_type": "stream",
     "text": [
      "MoviePy - Done.\n",
      "Moviepy - Writing video 20200214_DWG_GEN_1_HL222.0.mp4\n",
      "\n"
     ]
    },
    {
     "name": "stderr",
     "output_type": "stream",
     "text": [
      "                                                                                                                       \r"
     ]
    },
    {
     "name": "stdout",
     "output_type": "stream",
     "text": [
      "Moviepy - Done !\n",
      "Moviepy - video ready 20200214_DWG_GEN_1_HL222.0.mp4\n",
      "Moviepy - Building video 20200214_DWG_GEN_1_HL222.5.mp4.\n",
      "MoviePy - Writing audio in 20200214_DWG_GEN_1_HL222.5TEMP_MPY_wvf_snd.mp3\n"
     ]
    },
    {
     "name": "stderr",
     "output_type": "stream",
     "text": [
      "                                                                                                                       \r"
     ]
    },
    {
     "name": "stdout",
     "output_type": "stream",
     "text": [
      "MoviePy - Done.\n",
      "Moviepy - Writing video 20200214_DWG_GEN_1_HL222.5.mp4\n",
      "\n"
     ]
    },
    {
     "name": "stderr",
     "output_type": "stream",
     "text": [
      "                                                                                                                       \r"
     ]
    },
    {
     "name": "stdout",
     "output_type": "stream",
     "text": [
      "Moviepy - Done !\n",
      "Moviepy - video ready 20200214_DWG_GEN_1_HL222.5.mp4\n",
      "Moviepy - Building video 20200214_DWG_GEN_1_HL223.0.mp4.\n",
      "MoviePy - Writing audio in 20200214_DWG_GEN_1_HL223.0TEMP_MPY_wvf_snd.mp3\n"
     ]
    },
    {
     "name": "stderr",
     "output_type": "stream",
     "text": [
      "                                                                                                                       \r"
     ]
    },
    {
     "name": "stdout",
     "output_type": "stream",
     "text": [
      "MoviePy - Done.\n",
      "Moviepy - Writing video 20200214_DWG_GEN_1_HL223.0.mp4\n",
      "\n"
     ]
    },
    {
     "name": "stderr",
     "output_type": "stream",
     "text": [
      "                                                                                                                       \r"
     ]
    },
    {
     "name": "stdout",
     "output_type": "stream",
     "text": [
      "Moviepy - Done !\n",
      "Moviepy - video ready 20200214_DWG_GEN_1_HL223.0.mp4\n",
      "Moviepy - Building video 20200214_DWG_GEN_1_HL223.5.mp4.\n",
      "MoviePy - Writing audio in 20200214_DWG_GEN_1_HL223.5TEMP_MPY_wvf_snd.mp3\n"
     ]
    },
    {
     "name": "stderr",
     "output_type": "stream",
     "text": [
      "                                                                                                                       \r"
     ]
    },
    {
     "name": "stdout",
     "output_type": "stream",
     "text": [
      "MoviePy - Done.\n",
      "Moviepy - Writing video 20200214_DWG_GEN_1_HL223.5.mp4\n",
      "\n"
     ]
    },
    {
     "name": "stderr",
     "output_type": "stream",
     "text": [
      "                                                                                                                       \r"
     ]
    },
    {
     "name": "stdout",
     "output_type": "stream",
     "text": [
      "Moviepy - Done !\n",
      "Moviepy - video ready 20200214_DWG_GEN_1_HL223.5.mp4\n",
      "Moviepy - Building video 20200214_DWG_GEN_1_HL224.0.mp4.\n",
      "MoviePy - Writing audio in 20200214_DWG_GEN_1_HL224.0TEMP_MPY_wvf_snd.mp3\n"
     ]
    },
    {
     "name": "stderr",
     "output_type": "stream",
     "text": [
      "                                                                                                                       \r"
     ]
    },
    {
     "name": "stdout",
     "output_type": "stream",
     "text": [
      "MoviePy - Done.\n",
      "Moviepy - Writing video 20200214_DWG_GEN_1_HL224.0.mp4\n",
      "\n"
     ]
    },
    {
     "name": "stderr",
     "output_type": "stream",
     "text": [
      "                                                                                                                       \r"
     ]
    },
    {
     "name": "stdout",
     "output_type": "stream",
     "text": [
      "Moviepy - Done !\n",
      "Moviepy - video ready 20200214_DWG_GEN_1_HL224.0.mp4\n",
      "Moviepy - Building video 20200214_DWG_GEN_1_HL224.5.mp4.\n",
      "MoviePy - Writing audio in 20200214_DWG_GEN_1_HL224.5TEMP_MPY_wvf_snd.mp3\n"
     ]
    },
    {
     "name": "stderr",
     "output_type": "stream",
     "text": [
      "                                                                                                                       \r"
     ]
    },
    {
     "name": "stdout",
     "output_type": "stream",
     "text": [
      "MoviePy - Done.\n",
      "Moviepy - Writing video 20200214_DWG_GEN_1_HL224.5.mp4\n",
      "\n"
     ]
    },
    {
     "name": "stderr",
     "output_type": "stream",
     "text": [
      "                                                                                                                       \r"
     ]
    },
    {
     "name": "stdout",
     "output_type": "stream",
     "text": [
      "Moviepy - Done !\n",
      "Moviepy - video ready 20200214_DWG_GEN_1_HL224.5.mp4\n",
      "Moviepy - Building video 20200214_DWG_GEN_1_HL225.0.mp4.\n",
      "MoviePy - Writing audio in 20200214_DWG_GEN_1_HL225.0TEMP_MPY_wvf_snd.mp3\n"
     ]
    },
    {
     "name": "stderr",
     "output_type": "stream",
     "text": [
      "                                                                                                                       \r"
     ]
    },
    {
     "name": "stdout",
     "output_type": "stream",
     "text": [
      "MoviePy - Done.\n",
      "Moviepy - Writing video 20200214_DWG_GEN_1_HL225.0.mp4\n",
      "\n"
     ]
    },
    {
     "name": "stderr",
     "output_type": "stream",
     "text": [
      "                                                                                                                       \r"
     ]
    },
    {
     "name": "stdout",
     "output_type": "stream",
     "text": [
      "Moviepy - Done !\n",
      "Moviepy - video ready 20200214_DWG_GEN_1_HL225.0.mp4\n",
      "Moviepy - Building video 20200214_DWG_GEN_1_HL225.5.mp4.\n",
      "MoviePy - Writing audio in 20200214_DWG_GEN_1_HL225.5TEMP_MPY_wvf_snd.mp3\n"
     ]
    },
    {
     "name": "stderr",
     "output_type": "stream",
     "text": [
      "                                                                                                                       \r"
     ]
    },
    {
     "name": "stdout",
     "output_type": "stream",
     "text": [
      "MoviePy - Done.\n",
      "Moviepy - Writing video 20200214_DWG_GEN_1_HL225.5.mp4\n",
      "\n"
     ]
    },
    {
     "name": "stderr",
     "output_type": "stream",
     "text": [
      "                                                                                                                       \r"
     ]
    },
    {
     "name": "stdout",
     "output_type": "stream",
     "text": [
      "Moviepy - Done !\n",
      "Moviepy - video ready 20200214_DWG_GEN_1_HL225.5.mp4\n",
      "Moviepy - Building video 20200214_DWG_GEN_1_HL226.0.mp4.\n",
      "MoviePy - Writing audio in 20200214_DWG_GEN_1_HL226.0TEMP_MPY_wvf_snd.mp3\n"
     ]
    },
    {
     "name": "stderr",
     "output_type": "stream",
     "text": [
      "                                                                                                                       \r"
     ]
    },
    {
     "name": "stdout",
     "output_type": "stream",
     "text": [
      "MoviePy - Done.\n",
      "Moviepy - Writing video 20200214_DWG_GEN_1_HL226.0.mp4\n",
      "\n"
     ]
    },
    {
     "name": "stderr",
     "output_type": "stream",
     "text": [
      "                                                                                                                       \r"
     ]
    },
    {
     "name": "stdout",
     "output_type": "stream",
     "text": [
      "Moviepy - Done !\n",
      "Moviepy - video ready 20200214_DWG_GEN_1_HL226.0.mp4\n",
      "Moviepy - Building video 20200214_DWG_GEN_1_HL226.5.mp4.\n",
      "MoviePy - Writing audio in 20200214_DWG_GEN_1_HL226.5TEMP_MPY_wvf_snd.mp3\n"
     ]
    },
    {
     "name": "stderr",
     "output_type": "stream",
     "text": [
      "                                                                                                                       \r"
     ]
    },
    {
     "name": "stdout",
     "output_type": "stream",
     "text": [
      "MoviePy - Done.\n",
      "Moviepy - Writing video 20200214_DWG_GEN_1_HL226.5.mp4\n",
      "\n"
     ]
    },
    {
     "name": "stderr",
     "output_type": "stream",
     "text": [
      "                                                                                                                       \r"
     ]
    },
    {
     "name": "stdout",
     "output_type": "stream",
     "text": [
      "Moviepy - Done !\n",
      "Moviepy - video ready 20200214_DWG_GEN_1_HL226.5.mp4\n",
      "Moviepy - Building video 20200214_DWG_GEN_1_HL227.0.mp4.\n",
      "MoviePy - Writing audio in 20200214_DWG_GEN_1_HL227.0TEMP_MPY_wvf_snd.mp3\n"
     ]
    },
    {
     "name": "stderr",
     "output_type": "stream",
     "text": [
      "                                                                                                                       \r"
     ]
    },
    {
     "name": "stdout",
     "output_type": "stream",
     "text": [
      "MoviePy - Done.\n",
      "Moviepy - Writing video 20200214_DWG_GEN_1_HL227.0.mp4\n",
      "\n"
     ]
    },
    {
     "name": "stderr",
     "output_type": "stream",
     "text": [
      "                                                                                                                       \r"
     ]
    },
    {
     "name": "stdout",
     "output_type": "stream",
     "text": [
      "Moviepy - Done !\n",
      "Moviepy - video ready 20200214_DWG_GEN_1_HL227.0.mp4\n",
      "Moviepy - Building video 20200214_DWG_GEN_1_HL227.5.mp4.\n",
      "MoviePy - Writing audio in 20200214_DWG_GEN_1_HL227.5TEMP_MPY_wvf_snd.mp3\n"
     ]
    },
    {
     "name": "stderr",
     "output_type": "stream",
     "text": [
      "                                                                                                                       \r"
     ]
    },
    {
     "name": "stdout",
     "output_type": "stream",
     "text": [
      "MoviePy - Done.\n",
      "Moviepy - Writing video 20200214_DWG_GEN_1_HL227.5.mp4\n",
      "\n"
     ]
    },
    {
     "name": "stderr",
     "output_type": "stream",
     "text": [
      "                                                                                                                       \r"
     ]
    },
    {
     "name": "stdout",
     "output_type": "stream",
     "text": [
      "Moviepy - Done !\n",
      "Moviepy - video ready 20200214_DWG_GEN_1_HL227.5.mp4\n",
      "Moviepy - Building video 20200214_DWG_GEN_1_HL228.0.mp4.\n",
      "MoviePy - Writing audio in 20200214_DWG_GEN_1_HL228.0TEMP_MPY_wvf_snd.mp3\n"
     ]
    },
    {
     "name": "stderr",
     "output_type": "stream",
     "text": [
      "                                                                                                                       \r"
     ]
    },
    {
     "name": "stdout",
     "output_type": "stream",
     "text": [
      "MoviePy - Done.\n",
      "Moviepy - Writing video 20200214_DWG_GEN_1_HL228.0.mp4\n",
      "\n"
     ]
    },
    {
     "name": "stderr",
     "output_type": "stream",
     "text": [
      "                                                                                                                       \r"
     ]
    },
    {
     "name": "stdout",
     "output_type": "stream",
     "text": [
      "Moviepy - Done !\n",
      "Moviepy - video ready 20200214_DWG_GEN_1_HL228.0.mp4\n",
      "Moviepy - Building video 20200214_DWG_GEN_1_HL228.5.mp4.\n",
      "MoviePy - Writing audio in 20200214_DWG_GEN_1_HL228.5TEMP_MPY_wvf_snd.mp3\n"
     ]
    },
    {
     "name": "stderr",
     "output_type": "stream",
     "text": [
      "                                                                                                                       \r"
     ]
    },
    {
     "name": "stdout",
     "output_type": "stream",
     "text": [
      "MoviePy - Done.\n",
      "Moviepy - Writing video 20200214_DWG_GEN_1_HL228.5.mp4\n",
      "\n"
     ]
    },
    {
     "name": "stderr",
     "output_type": "stream",
     "text": [
      "                                                                                                                       \r"
     ]
    },
    {
     "name": "stdout",
     "output_type": "stream",
     "text": [
      "Moviepy - Done !\n",
      "Moviepy - video ready 20200214_DWG_GEN_1_HL228.5.mp4\n",
      "Moviepy - Building video 20200214_DWG_GEN_1_HL229.0.mp4.\n",
      "MoviePy - Writing audio in 20200214_DWG_GEN_1_HL229.0TEMP_MPY_wvf_snd.mp3\n"
     ]
    },
    {
     "name": "stderr",
     "output_type": "stream",
     "text": [
      "                                                                                                                       \r"
     ]
    },
    {
     "name": "stdout",
     "output_type": "stream",
     "text": [
      "MoviePy - Done.\n",
      "Moviepy - Writing video 20200214_DWG_GEN_1_HL229.0.mp4\n",
      "\n"
     ]
    },
    {
     "name": "stderr",
     "output_type": "stream",
     "text": [
      "                                                                                                                       \r"
     ]
    },
    {
     "name": "stdout",
     "output_type": "stream",
     "text": [
      "Moviepy - Done !\n",
      "Moviepy - video ready 20200214_DWG_GEN_1_HL229.0.mp4\n",
      "Moviepy - Building video 20200214_DWG_GEN_1_HL229.5.mp4.\n",
      "MoviePy - Writing audio in 20200214_DWG_GEN_1_HL229.5TEMP_MPY_wvf_snd.mp3\n"
     ]
    },
    {
     "name": "stderr",
     "output_type": "stream",
     "text": [
      "                                                                                                                       \r"
     ]
    },
    {
     "name": "stdout",
     "output_type": "stream",
     "text": [
      "MoviePy - Done.\n",
      "Moviepy - Writing video 20200214_DWG_GEN_1_HL229.5.mp4\n",
      "\n"
     ]
    },
    {
     "name": "stderr",
     "output_type": "stream",
     "text": [
      "                                                                                                                       \r"
     ]
    },
    {
     "name": "stdout",
     "output_type": "stream",
     "text": [
      "Moviepy - Done !\n",
      "Moviepy - video ready 20200214_DWG_GEN_1_HL229.5.mp4\n",
      "Moviepy - Building video 20200214_DWG_GEN_1_HL230.0.mp4.\n",
      "MoviePy - Writing audio in 20200214_DWG_GEN_1_HL230.0TEMP_MPY_wvf_snd.mp3\n"
     ]
    },
    {
     "name": "stderr",
     "output_type": "stream",
     "text": [
      "                                                                                                                       \r"
     ]
    },
    {
     "name": "stdout",
     "output_type": "stream",
     "text": [
      "MoviePy - Done.\n",
      "Moviepy - Writing video 20200214_DWG_GEN_1_HL230.0.mp4\n",
      "\n"
     ]
    },
    {
     "name": "stderr",
     "output_type": "stream",
     "text": [
      "                                                                                                                       \r"
     ]
    },
    {
     "name": "stdout",
     "output_type": "stream",
     "text": [
      "Moviepy - Done !\n",
      "Moviepy - video ready 20200214_DWG_GEN_1_HL230.0.mp4\n",
      "Moviepy - Building video 20200214_DWG_GEN_1_HL230.5.mp4.\n",
      "MoviePy - Writing audio in 20200214_DWG_GEN_1_HL230.5TEMP_MPY_wvf_snd.mp3\n"
     ]
    },
    {
     "name": "stderr",
     "output_type": "stream",
     "text": [
      "                                                                                                                       \r"
     ]
    },
    {
     "name": "stdout",
     "output_type": "stream",
     "text": [
      "MoviePy - Done.\n",
      "Moviepy - Writing video 20200214_DWG_GEN_1_HL230.5.mp4\n",
      "\n"
     ]
    },
    {
     "name": "stderr",
     "output_type": "stream",
     "text": [
      "                                                                                                                       \r"
     ]
    },
    {
     "name": "stdout",
     "output_type": "stream",
     "text": [
      "Moviepy - Done !\n",
      "Moviepy - video ready 20200214_DWG_GEN_1_HL230.5.mp4\n",
      "Moviepy - Building video 20200214_DWG_GEN_1_HL231.0.mp4.\n",
      "MoviePy - Writing audio in 20200214_DWG_GEN_1_HL231.0TEMP_MPY_wvf_snd.mp3\n"
     ]
    },
    {
     "name": "stderr",
     "output_type": "stream",
     "text": [
      "                                                                                                                       \r"
     ]
    },
    {
     "name": "stdout",
     "output_type": "stream",
     "text": [
      "MoviePy - Done.\n",
      "Moviepy - Writing video 20200214_DWG_GEN_1_HL231.0.mp4\n",
      "\n"
     ]
    },
    {
     "name": "stderr",
     "output_type": "stream",
     "text": [
      "                                                                                                                       \r"
     ]
    },
    {
     "name": "stdout",
     "output_type": "stream",
     "text": [
      "Moviepy - Done !\n",
      "Moviepy - video ready 20200214_DWG_GEN_1_HL231.0.mp4\n",
      "Moviepy - Building video 20200214_DWG_GEN_1_HL231.5.mp4.\n",
      "MoviePy - Writing audio in 20200214_DWG_GEN_1_HL231.5TEMP_MPY_wvf_snd.mp3\n"
     ]
    },
    {
     "name": "stderr",
     "output_type": "stream",
     "text": [
      "                                                                                                                       \r"
     ]
    },
    {
     "name": "stdout",
     "output_type": "stream",
     "text": [
      "MoviePy - Done.\n",
      "Moviepy - Writing video 20200214_DWG_GEN_1_HL231.5.mp4\n",
      "\n"
     ]
    },
    {
     "name": "stderr",
     "output_type": "stream",
     "text": [
      "                                                                                                                       \r"
     ]
    },
    {
     "name": "stdout",
     "output_type": "stream",
     "text": [
      "Moviepy - Done !\n",
      "Moviepy - video ready 20200214_DWG_GEN_1_HL231.5.mp4\n",
      "Moviepy - Building video 20200214_DWG_GEN_1_HL232.0.mp4.\n",
      "MoviePy - Writing audio in 20200214_DWG_GEN_1_HL232.0TEMP_MPY_wvf_snd.mp3\n"
     ]
    },
    {
     "name": "stderr",
     "output_type": "stream",
     "text": [
      "                                                                                                                       \r"
     ]
    },
    {
     "name": "stdout",
     "output_type": "stream",
     "text": [
      "MoviePy - Done.\n",
      "Moviepy - Writing video 20200214_DWG_GEN_1_HL232.0.mp4\n",
      "\n"
     ]
    },
    {
     "name": "stderr",
     "output_type": "stream",
     "text": [
      "                                                                                                                       \r"
     ]
    },
    {
     "name": "stdout",
     "output_type": "stream",
     "text": [
      "Moviepy - Done !\n",
      "Moviepy - video ready 20200214_DWG_GEN_1_HL232.0.mp4\n",
      "Moviepy - Building video 20200214_DWG_GEN_1_HL232.5.mp4.\n",
      "MoviePy - Writing audio in 20200214_DWG_GEN_1_HL232.5TEMP_MPY_wvf_snd.mp3\n"
     ]
    },
    {
     "name": "stderr",
     "output_type": "stream",
     "text": [
      "                                                                                                                       \r"
     ]
    },
    {
     "name": "stdout",
     "output_type": "stream",
     "text": [
      "MoviePy - Done.\n",
      "Moviepy - Writing video 20200214_DWG_GEN_1_HL232.5.mp4\n",
      "\n"
     ]
    },
    {
     "name": "stderr",
     "output_type": "stream",
     "text": [
      "                                                                                                                       \r"
     ]
    },
    {
     "name": "stdout",
     "output_type": "stream",
     "text": [
      "Moviepy - Done !\n",
      "Moviepy - video ready 20200214_DWG_GEN_1_HL232.5.mp4\n",
      "Moviepy - Building video 20200214_DWG_GEN_1_HL233.0.mp4.\n",
      "MoviePy - Writing audio in 20200214_DWG_GEN_1_HL233.0TEMP_MPY_wvf_snd.mp3\n"
     ]
    },
    {
     "name": "stderr",
     "output_type": "stream",
     "text": [
      "                                                                                                                       \r"
     ]
    },
    {
     "name": "stdout",
     "output_type": "stream",
     "text": [
      "MoviePy - Done.\n",
      "Moviepy - Writing video 20200214_DWG_GEN_1_HL233.0.mp4\n",
      "\n"
     ]
    },
    {
     "name": "stderr",
     "output_type": "stream",
     "text": [
      "                                                                                                                       \r"
     ]
    },
    {
     "name": "stdout",
     "output_type": "stream",
     "text": [
      "Moviepy - Done !\n",
      "Moviepy - video ready 20200214_DWG_GEN_1_HL233.0.mp4\n",
      "Moviepy - Building video 20200214_DWG_GEN_1_HL233.5.mp4.\n",
      "MoviePy - Writing audio in 20200214_DWG_GEN_1_HL233.5TEMP_MPY_wvf_snd.mp3\n"
     ]
    },
    {
     "name": "stderr",
     "output_type": "stream",
     "text": [
      "                                                                                                                       \r"
     ]
    },
    {
     "name": "stdout",
     "output_type": "stream",
     "text": [
      "MoviePy - Done.\n",
      "Moviepy - Writing video 20200214_DWG_GEN_1_HL233.5.mp4\n",
      "\n"
     ]
    },
    {
     "name": "stderr",
     "output_type": "stream",
     "text": [
      "                                                                                                                       \r"
     ]
    },
    {
     "name": "stdout",
     "output_type": "stream",
     "text": [
      "Moviepy - Done !\n",
      "Moviepy - video ready 20200214_DWG_GEN_1_HL233.5.mp4\n",
      "Moviepy - Building video 20200214_DWG_GEN_1_HL234.0.mp4.\n",
      "MoviePy - Writing audio in 20200214_DWG_GEN_1_HL234.0TEMP_MPY_wvf_snd.mp3\n"
     ]
    },
    {
     "name": "stderr",
     "output_type": "stream",
     "text": [
      "                                                                                                                       \r"
     ]
    },
    {
     "name": "stdout",
     "output_type": "stream",
     "text": [
      "MoviePy - Done.\n",
      "Moviepy - Writing video 20200214_DWG_GEN_1_HL234.0.mp4\n",
      "\n"
     ]
    },
    {
     "name": "stderr",
     "output_type": "stream",
     "text": [
      "                                                                                                                       \r"
     ]
    },
    {
     "name": "stdout",
     "output_type": "stream",
     "text": [
      "Moviepy - Done !\n",
      "Moviepy - video ready 20200214_DWG_GEN_1_HL234.0.mp4\n",
      "Moviepy - Building video 20200214_DWG_GEN_1_HL234.5.mp4.\n",
      "MoviePy - Writing audio in 20200214_DWG_GEN_1_HL234.5TEMP_MPY_wvf_snd.mp3\n"
     ]
    },
    {
     "name": "stderr",
     "output_type": "stream",
     "text": [
      "                                                                                                                       \r"
     ]
    },
    {
     "name": "stdout",
     "output_type": "stream",
     "text": [
      "MoviePy - Done.\n",
      "Moviepy - Writing video 20200214_DWG_GEN_1_HL234.5.mp4\n",
      "\n"
     ]
    },
    {
     "name": "stderr",
     "output_type": "stream",
     "text": [
      "                                                                                                                       \r"
     ]
    },
    {
     "name": "stdout",
     "output_type": "stream",
     "text": [
      "Moviepy - Done !\n",
      "Moviepy - video ready 20200214_DWG_GEN_1_HL234.5.mp4\n",
      "Moviepy - Building video 20200214_DWG_GEN_1_HL235.0.mp4.\n",
      "MoviePy - Writing audio in 20200214_DWG_GEN_1_HL235.0TEMP_MPY_wvf_snd.mp3\n"
     ]
    },
    {
     "name": "stderr",
     "output_type": "stream",
     "text": [
      "                                                                                                                       \r"
     ]
    },
    {
     "name": "stdout",
     "output_type": "stream",
     "text": [
      "MoviePy - Done.\n",
      "Moviepy - Writing video 20200214_DWG_GEN_1_HL235.0.mp4\n",
      "\n"
     ]
    },
    {
     "name": "stderr",
     "output_type": "stream",
     "text": [
      "                                                                                                                       \r"
     ]
    },
    {
     "name": "stdout",
     "output_type": "stream",
     "text": [
      "Moviepy - Done !\n",
      "Moviepy - video ready 20200214_DWG_GEN_1_HL235.0.mp4\n",
      "Moviepy - Building video 20200214_DWG_GEN_1_HL235.5.mp4.\n",
      "MoviePy - Writing audio in 20200214_DWG_GEN_1_HL235.5TEMP_MPY_wvf_snd.mp3\n"
     ]
    },
    {
     "name": "stderr",
     "output_type": "stream",
     "text": [
      "                                                                                                                       \r"
     ]
    },
    {
     "name": "stdout",
     "output_type": "stream",
     "text": [
      "MoviePy - Done.\n",
      "Moviepy - Writing video 20200214_DWG_GEN_1_HL235.5.mp4\n",
      "\n"
     ]
    },
    {
     "name": "stderr",
     "output_type": "stream",
     "text": [
      "                                                                                                                       \r"
     ]
    },
    {
     "name": "stdout",
     "output_type": "stream",
     "text": [
      "Moviepy - Done !\n",
      "Moviepy - video ready 20200214_DWG_GEN_1_HL235.5.mp4\n",
      "Moviepy - Building video 20200214_DWG_GEN_1_HL236.0.mp4.\n",
      "MoviePy - Writing audio in 20200214_DWG_GEN_1_HL236.0TEMP_MPY_wvf_snd.mp3\n"
     ]
    },
    {
     "name": "stderr",
     "output_type": "stream",
     "text": [
      "                                                                                                                       \r"
     ]
    },
    {
     "name": "stdout",
     "output_type": "stream",
     "text": [
      "MoviePy - Done.\n",
      "Moviepy - Writing video 20200214_DWG_GEN_1_HL236.0.mp4\n",
      "\n"
     ]
    },
    {
     "name": "stderr",
     "output_type": "stream",
     "text": [
      "                                                                                                                       \r"
     ]
    },
    {
     "name": "stdout",
     "output_type": "stream",
     "text": [
      "Moviepy - Done !\n",
      "Moviepy - video ready 20200214_DWG_GEN_1_HL236.0.mp4\n",
      "Moviepy - Building video 20200214_DWG_GEN_1_HL236.5.mp4.\n",
      "MoviePy - Writing audio in 20200214_DWG_GEN_1_HL236.5TEMP_MPY_wvf_snd.mp3\n"
     ]
    },
    {
     "name": "stderr",
     "output_type": "stream",
     "text": [
      "                                                                                                                       \r"
     ]
    },
    {
     "name": "stdout",
     "output_type": "stream",
     "text": [
      "MoviePy - Done.\n",
      "Moviepy - Writing video 20200214_DWG_GEN_1_HL236.5.mp4\n",
      "\n"
     ]
    },
    {
     "name": "stderr",
     "output_type": "stream",
     "text": [
      "                                                                                                                       \r"
     ]
    },
    {
     "name": "stdout",
     "output_type": "stream",
     "text": [
      "Moviepy - Done !\n",
      "Moviepy - video ready 20200214_DWG_GEN_1_HL236.5.mp4\n",
      "Moviepy - Building video 20200214_DWG_GEN_1_HL237.0.mp4.\n",
      "MoviePy - Writing audio in 20200214_DWG_GEN_1_HL237.0TEMP_MPY_wvf_snd.mp3\n"
     ]
    },
    {
     "name": "stderr",
     "output_type": "stream",
     "text": [
      "                                                                                                                       \r"
     ]
    },
    {
     "name": "stdout",
     "output_type": "stream",
     "text": [
      "MoviePy - Done.\n",
      "Moviepy - Writing video 20200214_DWG_GEN_1_HL237.0.mp4\n",
      "\n"
     ]
    },
    {
     "name": "stderr",
     "output_type": "stream",
     "text": [
      "                                                                                                                       \r"
     ]
    },
    {
     "name": "stdout",
     "output_type": "stream",
     "text": [
      "Moviepy - Done !\n",
      "Moviepy - video ready 20200214_DWG_GEN_1_HL237.0.mp4\n",
      "Moviepy - Building video 20200214_DWG_GEN_1_HL237.5.mp4.\n",
      "MoviePy - Writing audio in 20200214_DWG_GEN_1_HL237.5TEMP_MPY_wvf_snd.mp3\n"
     ]
    },
    {
     "name": "stderr",
     "output_type": "stream",
     "text": [
      "                                                                                                                       \r"
     ]
    },
    {
     "name": "stdout",
     "output_type": "stream",
     "text": [
      "MoviePy - Done.\n",
      "Moviepy - Writing video 20200214_DWG_GEN_1_HL237.5.mp4\n",
      "\n"
     ]
    },
    {
     "name": "stderr",
     "output_type": "stream",
     "text": [
      "                                                                                                                       \r"
     ]
    },
    {
     "name": "stdout",
     "output_type": "stream",
     "text": [
      "Moviepy - Done !\n",
      "Moviepy - video ready 20200214_DWG_GEN_1_HL237.5.mp4\n",
      "Moviepy - Building video 20200214_DWG_GEN_1_HL238.0.mp4.\n",
      "MoviePy - Writing audio in 20200214_DWG_GEN_1_HL238.0TEMP_MPY_wvf_snd.mp3\n"
     ]
    },
    {
     "name": "stderr",
     "output_type": "stream",
     "text": [
      "                                                                                                                       \r"
     ]
    },
    {
     "name": "stdout",
     "output_type": "stream",
     "text": [
      "MoviePy - Done.\n",
      "Moviepy - Writing video 20200214_DWG_GEN_1_HL238.0.mp4\n",
      "\n"
     ]
    },
    {
     "name": "stderr",
     "output_type": "stream",
     "text": [
      "                                                                                                                       \r"
     ]
    },
    {
     "name": "stdout",
     "output_type": "stream",
     "text": [
      "Moviepy - Done !\n",
      "Moviepy - video ready 20200214_DWG_GEN_1_HL238.0.mp4\n",
      "Moviepy - Building video 20200214_DWG_GEN_1_HL238.5.mp4.\n",
      "MoviePy - Writing audio in 20200214_DWG_GEN_1_HL238.5TEMP_MPY_wvf_snd.mp3\n"
     ]
    },
    {
     "name": "stderr",
     "output_type": "stream",
     "text": [
      "                                                                                                                       \r"
     ]
    },
    {
     "name": "stdout",
     "output_type": "stream",
     "text": [
      "MoviePy - Done.\n",
      "Moviepy - Writing video 20200214_DWG_GEN_1_HL238.5.mp4\n",
      "\n"
     ]
    },
    {
     "name": "stderr",
     "output_type": "stream",
     "text": [
      "                                                                                                                       \r"
     ]
    },
    {
     "name": "stdout",
     "output_type": "stream",
     "text": [
      "Moviepy - Done !\n",
      "Moviepy - video ready 20200214_DWG_GEN_1_HL238.5.mp4\n",
      "Moviepy - Building video 20200214_DWG_GEN_1_HL239.0.mp4.\n",
      "MoviePy - Writing audio in 20200214_DWG_GEN_1_HL239.0TEMP_MPY_wvf_snd.mp3\n"
     ]
    },
    {
     "name": "stderr",
     "output_type": "stream",
     "text": [
      "                                                                                                                       \r"
     ]
    },
    {
     "name": "stdout",
     "output_type": "stream",
     "text": [
      "MoviePy - Done.\n",
      "Moviepy - Writing video 20200214_DWG_GEN_1_HL239.0.mp4\n",
      "\n"
     ]
    },
    {
     "name": "stderr",
     "output_type": "stream",
     "text": [
      "                                                                                                                       \r"
     ]
    },
    {
     "name": "stdout",
     "output_type": "stream",
     "text": [
      "Moviepy - Done !\n",
      "Moviepy - video ready 20200214_DWG_GEN_1_HL239.0.mp4\n",
      "Moviepy - Building video 20200214_DWG_GEN_1_HL239.5.mp4.\n",
      "MoviePy - Writing audio in 20200214_DWG_GEN_1_HL239.5TEMP_MPY_wvf_snd.mp3\n"
     ]
    },
    {
     "name": "stderr",
     "output_type": "stream",
     "text": [
      "                                                                                                                       \r"
     ]
    },
    {
     "name": "stdout",
     "output_type": "stream",
     "text": [
      "MoviePy - Done.\n",
      "Moviepy - Writing video 20200214_DWG_GEN_1_HL239.5.mp4\n",
      "\n"
     ]
    },
    {
     "name": "stderr",
     "output_type": "stream",
     "text": [
      "                                                                                                                       \r"
     ]
    },
    {
     "name": "stdout",
     "output_type": "stream",
     "text": [
      "Moviepy - Done !\n",
      "Moviepy - video ready 20200214_DWG_GEN_1_HL239.5.mp4\n",
      "Moviepy - Building video 20200214_DWG_GEN_1_HL240.0.mp4.\n",
      "MoviePy - Writing audio in 20200214_DWG_GEN_1_HL240.0TEMP_MPY_wvf_snd.mp3\n"
     ]
    },
    {
     "name": "stderr",
     "output_type": "stream",
     "text": [
      "                                                                                                                       \r"
     ]
    },
    {
     "name": "stdout",
     "output_type": "stream",
     "text": [
      "MoviePy - Done.\n",
      "Moviepy - Writing video 20200214_DWG_GEN_1_HL240.0.mp4\n",
      "\n"
     ]
    },
    {
     "name": "stderr",
     "output_type": "stream",
     "text": [
      "                                                                                                                       \r"
     ]
    },
    {
     "name": "stdout",
     "output_type": "stream",
     "text": [
      "Moviepy - Done !\n",
      "Moviepy - video ready 20200214_DWG_GEN_1_HL240.0.mp4\n",
      "Moviepy - Building video 20200214_DWG_GEN_1_HL240.5.mp4.\n",
      "MoviePy - Writing audio in 20200214_DWG_GEN_1_HL240.5TEMP_MPY_wvf_snd.mp3\n"
     ]
    },
    {
     "name": "stderr",
     "output_type": "stream",
     "text": [
      "                                                                                                                       \r"
     ]
    },
    {
     "name": "stdout",
     "output_type": "stream",
     "text": [
      "MoviePy - Done.\n",
      "Moviepy - Writing video 20200214_DWG_GEN_1_HL240.5.mp4\n",
      "\n"
     ]
    },
    {
     "name": "stderr",
     "output_type": "stream",
     "text": [
      "                                                                                                                       \r"
     ]
    },
    {
     "name": "stdout",
     "output_type": "stream",
     "text": [
      "Moviepy - Done !\n",
      "Moviepy - video ready 20200214_DWG_GEN_1_HL240.5.mp4\n",
      "Moviepy - Building video 20200214_DWG_GEN_1_HL241.0.mp4.\n",
      "MoviePy - Writing audio in 20200214_DWG_GEN_1_HL241.0TEMP_MPY_wvf_snd.mp3\n"
     ]
    },
    {
     "name": "stderr",
     "output_type": "stream",
     "text": [
      "                                                                                                                       \r"
     ]
    },
    {
     "name": "stdout",
     "output_type": "stream",
     "text": [
      "MoviePy - Done.\n",
      "Moviepy - Writing video 20200214_DWG_GEN_1_HL241.0.mp4\n",
      "\n"
     ]
    },
    {
     "name": "stderr",
     "output_type": "stream",
     "text": [
      "                                                                                                                       \r"
     ]
    },
    {
     "name": "stdout",
     "output_type": "stream",
     "text": [
      "Moviepy - Done !\n",
      "Moviepy - video ready 20200214_DWG_GEN_1_HL241.0.mp4\n",
      "Moviepy - Building video 20200214_DWG_GEN_1_HL241.5.mp4.\n",
      "MoviePy - Writing audio in 20200214_DWG_GEN_1_HL241.5TEMP_MPY_wvf_snd.mp3\n"
     ]
    },
    {
     "name": "stderr",
     "output_type": "stream",
     "text": [
      "                                                                                                                       \r"
     ]
    },
    {
     "name": "stdout",
     "output_type": "stream",
     "text": [
      "MoviePy - Done.\n",
      "Moviepy - Writing video 20200214_DWG_GEN_1_HL241.5.mp4\n",
      "\n"
     ]
    },
    {
     "name": "stderr",
     "output_type": "stream",
     "text": [
      "                                                                                                                       \r"
     ]
    },
    {
     "name": "stdout",
     "output_type": "stream",
     "text": [
      "Moviepy - Done !\n",
      "Moviepy - video ready 20200214_DWG_GEN_1_HL241.5.mp4\n",
      "Moviepy - Building video 20200214_DWG_GEN_1_HL242.0.mp4.\n",
      "MoviePy - Writing audio in 20200214_DWG_GEN_1_HL242.0TEMP_MPY_wvf_snd.mp3\n"
     ]
    },
    {
     "name": "stderr",
     "output_type": "stream",
     "text": [
      "                                                                                                                       \r"
     ]
    },
    {
     "name": "stdout",
     "output_type": "stream",
     "text": [
      "MoviePy - Done.\n",
      "Moviepy - Writing video 20200214_DWG_GEN_1_HL242.0.mp4\n",
      "\n"
     ]
    },
    {
     "name": "stderr",
     "output_type": "stream",
     "text": [
      "                                                                                                                       \r"
     ]
    },
    {
     "name": "stdout",
     "output_type": "stream",
     "text": [
      "Moviepy - Done !\n",
      "Moviepy - video ready 20200214_DWG_GEN_1_HL242.0.mp4\n",
      "Moviepy - Building video 20200214_DWG_GEN_1_HL242.5.mp4.\n",
      "MoviePy - Writing audio in 20200214_DWG_GEN_1_HL242.5TEMP_MPY_wvf_snd.mp3\n"
     ]
    },
    {
     "name": "stderr",
     "output_type": "stream",
     "text": [
      "                                                                                                                       \r"
     ]
    },
    {
     "name": "stdout",
     "output_type": "stream",
     "text": [
      "MoviePy - Done.\n",
      "Moviepy - Writing video 20200214_DWG_GEN_1_HL242.5.mp4\n",
      "\n"
     ]
    },
    {
     "name": "stderr",
     "output_type": "stream",
     "text": [
      "                                                                                                                       \r"
     ]
    },
    {
     "name": "stdout",
     "output_type": "stream",
     "text": [
      "Moviepy - Done !\n",
      "Moviepy - video ready 20200214_DWG_GEN_1_HL242.5.mp4\n",
      "Moviepy - Building video 20200214_DWG_GEN_1_HL243.0.mp4.\n",
      "MoviePy - Writing audio in 20200214_DWG_GEN_1_HL243.0TEMP_MPY_wvf_snd.mp3\n"
     ]
    },
    {
     "name": "stderr",
     "output_type": "stream",
     "text": [
      "                                                                                                                       \r"
     ]
    },
    {
     "name": "stdout",
     "output_type": "stream",
     "text": [
      "MoviePy - Done.\n",
      "Moviepy - Writing video 20200214_DWG_GEN_1_HL243.0.mp4\n",
      "\n"
     ]
    },
    {
     "name": "stderr",
     "output_type": "stream",
     "text": [
      "                                                                                                                       \r"
     ]
    },
    {
     "name": "stdout",
     "output_type": "stream",
     "text": [
      "Moviepy - Done !\n",
      "Moviepy - video ready 20200214_DWG_GEN_1_HL243.0.mp4\n",
      "Moviepy - Building video 20200214_DWG_GEN_1_HL243.5.mp4.\n",
      "MoviePy - Writing audio in 20200214_DWG_GEN_1_HL243.5TEMP_MPY_wvf_snd.mp3\n"
     ]
    },
    {
     "name": "stderr",
     "output_type": "stream",
     "text": [
      "                                                                                                                       \r"
     ]
    },
    {
     "name": "stdout",
     "output_type": "stream",
     "text": [
      "MoviePy - Done.\n",
      "Moviepy - Writing video 20200214_DWG_GEN_1_HL243.5.mp4\n",
      "\n"
     ]
    },
    {
     "name": "stderr",
     "output_type": "stream",
     "text": [
      "                                                                                                                       \r"
     ]
    },
    {
     "name": "stdout",
     "output_type": "stream",
     "text": [
      "Moviepy - Done !\n",
      "Moviepy - video ready 20200214_DWG_GEN_1_HL243.5.mp4\n",
      "Moviepy - Building video 20200214_DWG_GEN_1_HL244.0.mp4.\n",
      "MoviePy - Writing audio in 20200214_DWG_GEN_1_HL244.0TEMP_MPY_wvf_snd.mp3\n"
     ]
    },
    {
     "name": "stderr",
     "output_type": "stream",
     "text": [
      "                                                                                                                       \r"
     ]
    },
    {
     "name": "stdout",
     "output_type": "stream",
     "text": [
      "MoviePy - Done.\n",
      "Moviepy - Writing video 20200214_DWG_GEN_1_HL244.0.mp4\n",
      "\n"
     ]
    },
    {
     "name": "stderr",
     "output_type": "stream",
     "text": [
      "                                                                                                                       \r"
     ]
    },
    {
     "name": "stdout",
     "output_type": "stream",
     "text": [
      "Moviepy - Done !\n",
      "Moviepy - video ready 20200214_DWG_GEN_1_HL244.0.mp4\n",
      "Moviepy - Building video 20200214_DWG_GEN_1_HL244.5.mp4.\n",
      "MoviePy - Writing audio in 20200214_DWG_GEN_1_HL244.5TEMP_MPY_wvf_snd.mp3\n"
     ]
    },
    {
     "name": "stderr",
     "output_type": "stream",
     "text": [
      "                                                                                                                       \r"
     ]
    },
    {
     "name": "stdout",
     "output_type": "stream",
     "text": [
      "MoviePy - Done.\n",
      "Moviepy - Writing video 20200214_DWG_GEN_1_HL244.5.mp4\n",
      "\n"
     ]
    },
    {
     "name": "stderr",
     "output_type": "stream",
     "text": [
      "                                                                                                                       \r"
     ]
    },
    {
     "name": "stdout",
     "output_type": "stream",
     "text": [
      "Moviepy - Done !\n",
      "Moviepy - video ready 20200214_DWG_GEN_1_HL244.5.mp4\n",
      "Moviepy - Building video 20200214_DWG_GEN_1_HL245.0.mp4.\n",
      "MoviePy - Writing audio in 20200214_DWG_GEN_1_HL245.0TEMP_MPY_wvf_snd.mp3\n"
     ]
    },
    {
     "name": "stderr",
     "output_type": "stream",
     "text": [
      "                                                                                                                       \r"
     ]
    },
    {
     "name": "stdout",
     "output_type": "stream",
     "text": [
      "MoviePy - Done.\n",
      "Moviepy - Writing video 20200214_DWG_GEN_1_HL245.0.mp4\n",
      "\n"
     ]
    },
    {
     "name": "stderr",
     "output_type": "stream",
     "text": [
      "                                                                                                                       \r"
     ]
    },
    {
     "name": "stdout",
     "output_type": "stream",
     "text": [
      "Moviepy - Done !\n",
      "Moviepy - video ready 20200214_DWG_GEN_1_HL245.0.mp4\n",
      "Moviepy - Building video 20200214_DWG_GEN_1_HL245.5.mp4.\n",
      "MoviePy - Writing audio in 20200214_DWG_GEN_1_HL245.5TEMP_MPY_wvf_snd.mp3\n"
     ]
    },
    {
     "name": "stderr",
     "output_type": "stream",
     "text": [
      "                                                                                                                       \r"
     ]
    },
    {
     "name": "stdout",
     "output_type": "stream",
     "text": [
      "MoviePy - Done.\n",
      "Moviepy - Writing video 20200214_DWG_GEN_1_HL245.5.mp4\n",
      "\n"
     ]
    },
    {
     "name": "stderr",
     "output_type": "stream",
     "text": [
      "                                                                                                                       \r"
     ]
    },
    {
     "name": "stdout",
     "output_type": "stream",
     "text": [
      "Moviepy - Done !\n",
      "Moviepy - video ready 20200214_DWG_GEN_1_HL245.5.mp4\n",
      "Moviepy - Building video 20200214_DWG_GEN_1_HL246.0.mp4.\n",
      "MoviePy - Writing audio in 20200214_DWG_GEN_1_HL246.0TEMP_MPY_wvf_snd.mp3\n"
     ]
    },
    {
     "name": "stderr",
     "output_type": "stream",
     "text": [
      "                                                                                                                       \r"
     ]
    },
    {
     "name": "stdout",
     "output_type": "stream",
     "text": [
      "MoviePy - Done.\n",
      "Moviepy - Writing video 20200214_DWG_GEN_1_HL246.0.mp4\n",
      "\n"
     ]
    },
    {
     "name": "stderr",
     "output_type": "stream",
     "text": [
      "                                                                                                                       \r"
     ]
    },
    {
     "name": "stdout",
     "output_type": "stream",
     "text": [
      "Moviepy - Done !\n",
      "Moviepy - video ready 20200214_DWG_GEN_1_HL246.0.mp4\n",
      "Moviepy - Building video 20200214_DWG_GEN_1_HL246.5.mp4.\n",
      "MoviePy - Writing audio in 20200214_DWG_GEN_1_HL246.5TEMP_MPY_wvf_snd.mp3\n"
     ]
    },
    {
     "name": "stderr",
     "output_type": "stream",
     "text": [
      "                                                                                                                       \r"
     ]
    },
    {
     "name": "stdout",
     "output_type": "stream",
     "text": [
      "MoviePy - Done.\n",
      "Moviepy - Writing video 20200214_DWG_GEN_1_HL246.5.mp4\n",
      "\n"
     ]
    },
    {
     "name": "stderr",
     "output_type": "stream",
     "text": [
      "                                                                                                                       \r"
     ]
    },
    {
     "name": "stdout",
     "output_type": "stream",
     "text": [
      "Moviepy - Done !\n",
      "Moviepy - video ready 20200214_DWG_GEN_1_HL246.5.mp4\n",
      "Moviepy - Building video 20200214_DWG_GEN_1_HL247.0.mp4.\n",
      "MoviePy - Writing audio in 20200214_DWG_GEN_1_HL247.0TEMP_MPY_wvf_snd.mp3\n"
     ]
    },
    {
     "name": "stderr",
     "output_type": "stream",
     "text": [
      "                                                                                                                       \r"
     ]
    },
    {
     "name": "stdout",
     "output_type": "stream",
     "text": [
      "MoviePy - Done.\n",
      "Moviepy - Writing video 20200214_DWG_GEN_1_HL247.0.mp4\n",
      "\n"
     ]
    },
    {
     "name": "stderr",
     "output_type": "stream",
     "text": [
      "                                                                                                                       \r"
     ]
    },
    {
     "name": "stdout",
     "output_type": "stream",
     "text": [
      "Moviepy - Done !\n",
      "Moviepy - video ready 20200214_DWG_GEN_1_HL247.0.mp4\n",
      "Moviepy - Building video 20200214_DWG_GEN_1_HL247.5.mp4.\n",
      "MoviePy - Writing audio in 20200214_DWG_GEN_1_HL247.5TEMP_MPY_wvf_snd.mp3\n"
     ]
    },
    {
     "name": "stderr",
     "output_type": "stream",
     "text": [
      "                                                                                                                       \r"
     ]
    },
    {
     "name": "stdout",
     "output_type": "stream",
     "text": [
      "MoviePy - Done.\n",
      "Moviepy - Writing video 20200214_DWG_GEN_1_HL247.5.mp4\n",
      "\n"
     ]
    },
    {
     "name": "stderr",
     "output_type": "stream",
     "text": [
      "                                                                                                                       \r"
     ]
    },
    {
     "name": "stdout",
     "output_type": "stream",
     "text": [
      "Moviepy - Done !\n",
      "Moviepy - video ready 20200214_DWG_GEN_1_HL247.5.mp4\n",
      "Moviepy - Building video 20200214_DWG_GEN_1_HL248.0.mp4.\n",
      "MoviePy - Writing audio in 20200214_DWG_GEN_1_HL248.0TEMP_MPY_wvf_snd.mp3\n"
     ]
    },
    {
     "name": "stderr",
     "output_type": "stream",
     "text": [
      "                                                                                                                       \r"
     ]
    },
    {
     "name": "stdout",
     "output_type": "stream",
     "text": [
      "MoviePy - Done.\n",
      "Moviepy - Writing video 20200214_DWG_GEN_1_HL248.0.mp4\n",
      "\n"
     ]
    },
    {
     "name": "stderr",
     "output_type": "stream",
     "text": [
      "                                                                                                                       \r"
     ]
    },
    {
     "name": "stdout",
     "output_type": "stream",
     "text": [
      "Moviepy - Done !\n",
      "Moviepy - video ready 20200214_DWG_GEN_1_HL248.0.mp4\n",
      "Moviepy - Building video 20200214_DWG_GEN_1_HL248.5.mp4.\n",
      "MoviePy - Writing audio in 20200214_DWG_GEN_1_HL248.5TEMP_MPY_wvf_snd.mp3\n"
     ]
    },
    {
     "name": "stderr",
     "output_type": "stream",
     "text": [
      "                                                                                                                       \r"
     ]
    },
    {
     "name": "stdout",
     "output_type": "stream",
     "text": [
      "MoviePy - Done.\n",
      "Moviepy - Writing video 20200214_DWG_GEN_1_HL248.5.mp4\n",
      "\n"
     ]
    },
    {
     "name": "stderr",
     "output_type": "stream",
     "text": [
      "                                                                                                                       \r"
     ]
    },
    {
     "name": "stdout",
     "output_type": "stream",
     "text": [
      "Moviepy - Done !\n",
      "Moviepy - video ready 20200214_DWG_GEN_1_HL248.5.mp4\n",
      "Moviepy - Building video 20200214_DWG_GEN_1_HL249.0.mp4.\n",
      "MoviePy - Writing audio in 20200214_DWG_GEN_1_HL249.0TEMP_MPY_wvf_snd.mp3\n"
     ]
    },
    {
     "name": "stderr",
     "output_type": "stream",
     "text": [
      "                                                                                                                       \r"
     ]
    },
    {
     "name": "stdout",
     "output_type": "stream",
     "text": [
      "MoviePy - Done.\n",
      "Moviepy - Writing video 20200214_DWG_GEN_1_HL249.0.mp4\n",
      "\n"
     ]
    },
    {
     "name": "stderr",
     "output_type": "stream",
     "text": [
      "                                                                                                                       \r"
     ]
    },
    {
     "name": "stdout",
     "output_type": "stream",
     "text": [
      "Moviepy - Done !\n",
      "Moviepy - video ready 20200214_DWG_GEN_1_HL249.0.mp4\n",
      "Moviepy - Building video 20200214_DWG_GEN_1_HL249.5.mp4.\n",
      "MoviePy - Writing audio in 20200214_DWG_GEN_1_HL249.5TEMP_MPY_wvf_snd.mp3\n"
     ]
    },
    {
     "name": "stderr",
     "output_type": "stream",
     "text": [
      "                                                                                                                       \r"
     ]
    },
    {
     "name": "stdout",
     "output_type": "stream",
     "text": [
      "MoviePy - Done.\n",
      "Moviepy - Writing video 20200214_DWG_GEN_1_HL249.5.mp4\n",
      "\n"
     ]
    },
    {
     "name": "stderr",
     "output_type": "stream",
     "text": [
      "                                                                                                                       \r"
     ]
    },
    {
     "name": "stdout",
     "output_type": "stream",
     "text": [
      "Moviepy - Done !\n",
      "Moviepy - video ready 20200214_DWG_GEN_1_HL249.5.mp4\n",
      "Moviepy - Building video 20200214_DWG_GEN_1_HL250.0.mp4.\n",
      "MoviePy - Writing audio in 20200214_DWG_GEN_1_HL250.0TEMP_MPY_wvf_snd.mp3\n"
     ]
    },
    {
     "name": "stderr",
     "output_type": "stream",
     "text": [
      "                                                                                                                       \r"
     ]
    },
    {
     "name": "stdout",
     "output_type": "stream",
     "text": [
      "MoviePy - Done.\n",
      "Moviepy - Writing video 20200214_DWG_GEN_1_HL250.0.mp4\n",
      "\n"
     ]
    },
    {
     "name": "stderr",
     "output_type": "stream",
     "text": [
      "                                                                                                                       \r"
     ]
    },
    {
     "name": "stdout",
     "output_type": "stream",
     "text": [
      "Moviepy - Done !\n",
      "Moviepy - video ready 20200214_DWG_GEN_1_HL250.0.mp4\n",
      "Moviepy - Building video 20200214_DWG_GEN_1_HL250.5.mp4.\n",
      "MoviePy - Writing audio in 20200214_DWG_GEN_1_HL250.5TEMP_MPY_wvf_snd.mp3\n"
     ]
    },
    {
     "name": "stderr",
     "output_type": "stream",
     "text": [
      "                                                                                                                       \r"
     ]
    },
    {
     "name": "stdout",
     "output_type": "stream",
     "text": [
      "MoviePy - Done.\n",
      "Moviepy - Writing video 20200214_DWG_GEN_1_HL250.5.mp4\n",
      "\n"
     ]
    },
    {
     "name": "stderr",
     "output_type": "stream",
     "text": [
      "                                                                                                                       \r"
     ]
    },
    {
     "name": "stdout",
     "output_type": "stream",
     "text": [
      "Moviepy - Done !\n",
      "Moviepy - video ready 20200214_DWG_GEN_1_HL250.5.mp4\n",
      "Moviepy - Building video 20200214_DWG_GEN_1_HL251.0.mp4.\n",
      "MoviePy - Writing audio in 20200214_DWG_GEN_1_HL251.0TEMP_MPY_wvf_snd.mp3\n"
     ]
    },
    {
     "name": "stderr",
     "output_type": "stream",
     "text": [
      "                                                                                                                       \r"
     ]
    },
    {
     "name": "stdout",
     "output_type": "stream",
     "text": [
      "MoviePy - Done.\n",
      "Moviepy - Writing video 20200214_DWG_GEN_1_HL251.0.mp4\n",
      "\n"
     ]
    },
    {
     "name": "stderr",
     "output_type": "stream",
     "text": [
      "                                                                                                                       \r"
     ]
    },
    {
     "name": "stdout",
     "output_type": "stream",
     "text": [
      "Moviepy - Done !\n",
      "Moviepy - video ready 20200214_DWG_GEN_1_HL251.0.mp4\n",
      "Moviepy - Building video 20200214_DWG_GEN_1_HL251.5.mp4.\n",
      "MoviePy - Writing audio in 20200214_DWG_GEN_1_HL251.5TEMP_MPY_wvf_snd.mp3\n"
     ]
    },
    {
     "name": "stderr",
     "output_type": "stream",
     "text": [
      "                                                                                                                       \r"
     ]
    },
    {
     "name": "stdout",
     "output_type": "stream",
     "text": [
      "MoviePy - Done.\n",
      "Moviepy - Writing video 20200214_DWG_GEN_1_HL251.5.mp4\n",
      "\n"
     ]
    },
    {
     "name": "stderr",
     "output_type": "stream",
     "text": [
      "                                                                                                                       \r"
     ]
    },
    {
     "name": "stdout",
     "output_type": "stream",
     "text": [
      "Moviepy - Done !\n",
      "Moviepy - video ready 20200214_DWG_GEN_1_HL251.5.mp4\n",
      "Moviepy - Building video 20200214_DWG_GEN_1_HL252.0.mp4.\n",
      "MoviePy - Writing audio in 20200214_DWG_GEN_1_HL252.0TEMP_MPY_wvf_snd.mp3\n"
     ]
    },
    {
     "name": "stderr",
     "output_type": "stream",
     "text": [
      "                                                                                                                       \r"
     ]
    },
    {
     "name": "stdout",
     "output_type": "stream",
     "text": [
      "MoviePy - Done.\n",
      "Moviepy - Writing video 20200214_DWG_GEN_1_HL252.0.mp4\n",
      "\n"
     ]
    },
    {
     "name": "stderr",
     "output_type": "stream",
     "text": [
      "                                                                                                                       \r"
     ]
    },
    {
     "name": "stdout",
     "output_type": "stream",
     "text": [
      "Moviepy - Done !\n",
      "Moviepy - video ready 20200214_DWG_GEN_1_HL252.0.mp4\n",
      "Moviepy - Building video 20200214_DWG_GEN_1_HL252.5.mp4.\n",
      "MoviePy - Writing audio in 20200214_DWG_GEN_1_HL252.5TEMP_MPY_wvf_snd.mp3\n"
     ]
    },
    {
     "name": "stderr",
     "output_type": "stream",
     "text": [
      "                                                                                                                       \r"
     ]
    },
    {
     "name": "stdout",
     "output_type": "stream",
     "text": [
      "MoviePy - Done.\n",
      "Moviepy - Writing video 20200214_DWG_GEN_1_HL252.5.mp4\n",
      "\n"
     ]
    },
    {
     "name": "stderr",
     "output_type": "stream",
     "text": [
      "                                                                                                                       \r"
     ]
    },
    {
     "name": "stdout",
     "output_type": "stream",
     "text": [
      "Moviepy - Done !\n",
      "Moviepy - video ready 20200214_DWG_GEN_1_HL252.5.mp4\n",
      "Moviepy - Building video 20200214_DWG_GEN_1_HL253.0.mp4.\n",
      "MoviePy - Writing audio in 20200214_DWG_GEN_1_HL253.0TEMP_MPY_wvf_snd.mp3\n"
     ]
    },
    {
     "name": "stderr",
     "output_type": "stream",
     "text": [
      "                                                                                                                       \r"
     ]
    },
    {
     "name": "stdout",
     "output_type": "stream",
     "text": [
      "MoviePy - Done.\n",
      "Moviepy - Writing video 20200214_DWG_GEN_1_HL253.0.mp4\n",
      "\n"
     ]
    },
    {
     "name": "stderr",
     "output_type": "stream",
     "text": [
      "                                                                                                                       \r"
     ]
    },
    {
     "name": "stdout",
     "output_type": "stream",
     "text": [
      "Moviepy - Done !\n",
      "Moviepy - video ready 20200214_DWG_GEN_1_HL253.0.mp4\n",
      "Moviepy - Building video 20200214_DWG_GEN_1_HL253.5.mp4.\n",
      "MoviePy - Writing audio in 20200214_DWG_GEN_1_HL253.5TEMP_MPY_wvf_snd.mp3\n"
     ]
    },
    {
     "name": "stderr",
     "output_type": "stream",
     "text": [
      "                                                                                                                       \r"
     ]
    },
    {
     "name": "stdout",
     "output_type": "stream",
     "text": [
      "MoviePy - Done.\n",
      "Moviepy - Writing video 20200214_DWG_GEN_1_HL253.5.mp4\n",
      "\n"
     ]
    },
    {
     "name": "stderr",
     "output_type": "stream",
     "text": [
      "                                                                                                                       \r"
     ]
    },
    {
     "name": "stdout",
     "output_type": "stream",
     "text": [
      "Moviepy - Done !\n",
      "Moviepy - video ready 20200214_DWG_GEN_1_HL253.5.mp4\n",
      "Moviepy - Building video 20200214_DWG_GEN_1_HL254.0.mp4.\n",
      "MoviePy - Writing audio in 20200214_DWG_GEN_1_HL254.0TEMP_MPY_wvf_snd.mp3\n"
     ]
    },
    {
     "name": "stderr",
     "output_type": "stream",
     "text": [
      "                                                                                                                       \r"
     ]
    },
    {
     "name": "stdout",
     "output_type": "stream",
     "text": [
      "MoviePy - Done.\n",
      "Moviepy - Writing video 20200214_DWG_GEN_1_HL254.0.mp4\n",
      "\n"
     ]
    },
    {
     "name": "stderr",
     "output_type": "stream",
     "text": [
      "                                                                                                                       \r"
     ]
    },
    {
     "name": "stdout",
     "output_type": "stream",
     "text": [
      "Moviepy - Done !\n",
      "Moviepy - video ready 20200214_DWG_GEN_1_HL254.0.mp4\n",
      "Moviepy - Building video 20200214_DWG_GEN_1_HL254.5.mp4.\n",
      "MoviePy - Writing audio in 20200214_DWG_GEN_1_HL254.5TEMP_MPY_wvf_snd.mp3\n"
     ]
    },
    {
     "name": "stderr",
     "output_type": "stream",
     "text": [
      "                                                                                                                       \r"
     ]
    },
    {
     "name": "stdout",
     "output_type": "stream",
     "text": [
      "MoviePy - Done.\n",
      "Moviepy - Writing video 20200214_DWG_GEN_1_HL254.5.mp4\n",
      "\n"
     ]
    },
    {
     "name": "stderr",
     "output_type": "stream",
     "text": [
      "                                                                                                                       \r"
     ]
    },
    {
     "name": "stdout",
     "output_type": "stream",
     "text": [
      "Moviepy - Done !\n",
      "Moviepy - video ready 20200214_DWG_GEN_1_HL254.5.mp4\n",
      "Moviepy - Building video 20200214_DWG_GEN_1_HL255.0.mp4.\n",
      "MoviePy - Writing audio in 20200214_DWG_GEN_1_HL255.0TEMP_MPY_wvf_snd.mp3\n"
     ]
    },
    {
     "name": "stderr",
     "output_type": "stream",
     "text": [
      "                                                                                                                       \r"
     ]
    },
    {
     "name": "stdout",
     "output_type": "stream",
     "text": [
      "MoviePy - Done.\n",
      "Moviepy - Writing video 20200214_DWG_GEN_1_HL255.0.mp4\n",
      "\n"
     ]
    },
    {
     "name": "stderr",
     "output_type": "stream",
     "text": [
      "                                                                                                                       \r"
     ]
    },
    {
     "name": "stdout",
     "output_type": "stream",
     "text": [
      "Moviepy - Done !\n",
      "Moviepy - video ready 20200214_DWG_GEN_1_HL255.0.mp4\n",
      "Moviepy - Building video 20200214_DWG_GEN_1_HL255.5.mp4.\n",
      "MoviePy - Writing audio in 20200214_DWG_GEN_1_HL255.5TEMP_MPY_wvf_snd.mp3\n"
     ]
    },
    {
     "name": "stderr",
     "output_type": "stream",
     "text": [
      "                                                                                                                       \r"
     ]
    },
    {
     "name": "stdout",
     "output_type": "stream",
     "text": [
      "MoviePy - Done.\n",
      "Moviepy - Writing video 20200214_DWG_GEN_1_HL255.5.mp4\n",
      "\n"
     ]
    },
    {
     "name": "stderr",
     "output_type": "stream",
     "text": [
      "                                                                                                                       \r"
     ]
    },
    {
     "name": "stdout",
     "output_type": "stream",
     "text": [
      "Moviepy - Done !\n",
      "Moviepy - video ready 20200214_DWG_GEN_1_HL255.5.mp4\n",
      "Moviepy - Building video 20200214_DWG_GEN_1_HL256.0.mp4.\n",
      "MoviePy - Writing audio in 20200214_DWG_GEN_1_HL256.0TEMP_MPY_wvf_snd.mp3\n"
     ]
    },
    {
     "name": "stderr",
     "output_type": "stream",
     "text": [
      "                                                                                                                       \r"
     ]
    },
    {
     "name": "stdout",
     "output_type": "stream",
     "text": [
      "MoviePy - Done.\n",
      "Moviepy - Writing video 20200214_DWG_GEN_1_HL256.0.mp4\n",
      "\n"
     ]
    },
    {
     "name": "stderr",
     "output_type": "stream",
     "text": [
      "                                                                                                                       \r"
     ]
    },
    {
     "name": "stdout",
     "output_type": "stream",
     "text": [
      "Moviepy - Done !\n",
      "Moviepy - video ready 20200214_DWG_GEN_1_HL256.0.mp4\n",
      "Moviepy - Building video 20200214_DWG_GEN_1_HL256.5.mp4.\n",
      "MoviePy - Writing audio in 20200214_DWG_GEN_1_HL256.5TEMP_MPY_wvf_snd.mp3\n"
     ]
    },
    {
     "name": "stderr",
     "output_type": "stream",
     "text": [
      "                                                                                                                       \r"
     ]
    },
    {
     "name": "stdout",
     "output_type": "stream",
     "text": [
      "MoviePy - Done.\n",
      "Moviepy - Writing video 20200214_DWG_GEN_1_HL256.5.mp4\n",
      "\n"
     ]
    },
    {
     "name": "stderr",
     "output_type": "stream",
     "text": [
      "                                                                                                                       \r"
     ]
    },
    {
     "name": "stdout",
     "output_type": "stream",
     "text": [
      "Moviepy - Done !\n",
      "Moviepy - video ready 20200214_DWG_GEN_1_HL256.5.mp4\n",
      "Moviepy - Building video 20200214_DWG_GEN_1_HL257.0.mp4.\n",
      "MoviePy - Writing audio in 20200214_DWG_GEN_1_HL257.0TEMP_MPY_wvf_snd.mp3\n"
     ]
    },
    {
     "name": "stderr",
     "output_type": "stream",
     "text": [
      "                                                                                                                       \r"
     ]
    },
    {
     "name": "stdout",
     "output_type": "stream",
     "text": [
      "MoviePy - Done.\n",
      "Moviepy - Writing video 20200214_DWG_GEN_1_HL257.0.mp4\n",
      "\n"
     ]
    },
    {
     "name": "stderr",
     "output_type": "stream",
     "text": [
      "                                                                                                                       \r"
     ]
    },
    {
     "name": "stdout",
     "output_type": "stream",
     "text": [
      "Moviepy - Done !\n",
      "Moviepy - video ready 20200214_DWG_GEN_1_HL257.0.mp4\n",
      "Moviepy - Building video 20200214_DWG_GEN_1_HL257.5.mp4.\n",
      "MoviePy - Writing audio in 20200214_DWG_GEN_1_HL257.5TEMP_MPY_wvf_snd.mp3\n"
     ]
    },
    {
     "name": "stderr",
     "output_type": "stream",
     "text": [
      "                                                                                                                       \r"
     ]
    },
    {
     "name": "stdout",
     "output_type": "stream",
     "text": [
      "MoviePy - Done.\n",
      "Moviepy - Writing video 20200214_DWG_GEN_1_HL257.5.mp4\n",
      "\n"
     ]
    },
    {
     "name": "stderr",
     "output_type": "stream",
     "text": [
      "                                                                                                                       \r"
     ]
    },
    {
     "name": "stdout",
     "output_type": "stream",
     "text": [
      "Moviepy - Done !\n",
      "Moviepy - video ready 20200214_DWG_GEN_1_HL257.5.mp4\n",
      "Moviepy - Building video 20200214_DWG_GEN_1_HL258.0.mp4.\n",
      "MoviePy - Writing audio in 20200214_DWG_GEN_1_HL258.0TEMP_MPY_wvf_snd.mp3\n"
     ]
    },
    {
     "name": "stderr",
     "output_type": "stream",
     "text": [
      "                                                                                                                       \r"
     ]
    },
    {
     "name": "stdout",
     "output_type": "stream",
     "text": [
      "MoviePy - Done.\n",
      "Moviepy - Writing video 20200214_DWG_GEN_1_HL258.0.mp4\n",
      "\n"
     ]
    },
    {
     "name": "stderr",
     "output_type": "stream",
     "text": [
      "                                                                                                                       \r"
     ]
    },
    {
     "name": "stdout",
     "output_type": "stream",
     "text": [
      "Moviepy - Done !\n",
      "Moviepy - video ready 20200214_DWG_GEN_1_HL258.0.mp4\n",
      "Moviepy - Building video 20200214_DWG_GEN_1_HL258.5.mp4.\n",
      "MoviePy - Writing audio in 20200214_DWG_GEN_1_HL258.5TEMP_MPY_wvf_snd.mp3\n"
     ]
    },
    {
     "name": "stderr",
     "output_type": "stream",
     "text": [
      "                                                                                                                       \r"
     ]
    },
    {
     "name": "stdout",
     "output_type": "stream",
     "text": [
      "MoviePy - Done.\n",
      "Moviepy - Writing video 20200214_DWG_GEN_1_HL258.5.mp4\n",
      "\n"
     ]
    },
    {
     "name": "stderr",
     "output_type": "stream",
     "text": [
      "                                                                                                                       \r"
     ]
    },
    {
     "name": "stdout",
     "output_type": "stream",
     "text": [
      "Moviepy - Done !\n",
      "Moviepy - video ready 20200214_DWG_GEN_1_HL258.5.mp4\n",
      "Moviepy - Building video 20200214_DWG_GEN_1_HL259.0.mp4.\n",
      "MoviePy - Writing audio in 20200214_DWG_GEN_1_HL259.0TEMP_MPY_wvf_snd.mp3\n"
     ]
    },
    {
     "name": "stderr",
     "output_type": "stream",
     "text": [
      "                                                                                                                       \r"
     ]
    },
    {
     "name": "stdout",
     "output_type": "stream",
     "text": [
      "MoviePy - Done.\n",
      "Moviepy - Writing video 20200214_DWG_GEN_1_HL259.0.mp4\n",
      "\n"
     ]
    },
    {
     "name": "stderr",
     "output_type": "stream",
     "text": [
      "                                                                                                                       \r"
     ]
    },
    {
     "name": "stdout",
     "output_type": "stream",
     "text": [
      "Moviepy - Done !\n",
      "Moviepy - video ready 20200214_DWG_GEN_1_HL259.0.mp4\n",
      "Moviepy - Building video 20200214_DWG_GEN_1_HL259.5.mp4.\n",
      "MoviePy - Writing audio in 20200214_DWG_GEN_1_HL259.5TEMP_MPY_wvf_snd.mp3\n"
     ]
    },
    {
     "name": "stderr",
     "output_type": "stream",
     "text": [
      "                                                                                                                       \r"
     ]
    },
    {
     "name": "stdout",
     "output_type": "stream",
     "text": [
      "MoviePy - Done.\n",
      "Moviepy - Writing video 20200214_DWG_GEN_1_HL259.5.mp4\n",
      "\n"
     ]
    },
    {
     "name": "stderr",
     "output_type": "stream",
     "text": [
      "                                                                                                                       \r"
     ]
    },
    {
     "name": "stdout",
     "output_type": "stream",
     "text": [
      "Moviepy - Done !\n",
      "Moviepy - video ready 20200214_DWG_GEN_1_HL259.5.mp4\n",
      "Moviepy - Building video 20200214_DWG_GEN_1_HL260.0.mp4.\n",
      "MoviePy - Writing audio in 20200214_DWG_GEN_1_HL260.0TEMP_MPY_wvf_snd.mp3\n"
     ]
    },
    {
     "name": "stderr",
     "output_type": "stream",
     "text": [
      "                                                                                                                       \r"
     ]
    },
    {
     "name": "stdout",
     "output_type": "stream",
     "text": [
      "MoviePy - Done.\n",
      "Moviepy - Writing video 20200214_DWG_GEN_1_HL260.0.mp4\n",
      "\n"
     ]
    },
    {
     "name": "stderr",
     "output_type": "stream",
     "text": [
      "                                                                                                                       \r"
     ]
    },
    {
     "name": "stdout",
     "output_type": "stream",
     "text": [
      "Moviepy - Done !\n",
      "Moviepy - video ready 20200214_DWG_GEN_1_HL260.0.mp4\n",
      "Moviepy - Building video 20200214_DWG_GEN_1_HL260.5.mp4.\n",
      "MoviePy - Writing audio in 20200214_DWG_GEN_1_HL260.5TEMP_MPY_wvf_snd.mp3\n"
     ]
    },
    {
     "name": "stderr",
     "output_type": "stream",
     "text": [
      "                                                                                                                       \r"
     ]
    },
    {
     "name": "stdout",
     "output_type": "stream",
     "text": [
      "MoviePy - Done.\n",
      "Moviepy - Writing video 20200214_DWG_GEN_1_HL260.5.mp4\n",
      "\n"
     ]
    },
    {
     "name": "stderr",
     "output_type": "stream",
     "text": [
      "                                                                                                                       \r"
     ]
    },
    {
     "name": "stdout",
     "output_type": "stream",
     "text": [
      "Moviepy - Done !\n",
      "Moviepy - video ready 20200214_DWG_GEN_1_HL260.5.mp4\n",
      "Moviepy - Building video 20200214_DWG_GEN_1_HL261.0.mp4.\n",
      "MoviePy - Writing audio in 20200214_DWG_GEN_1_HL261.0TEMP_MPY_wvf_snd.mp3\n"
     ]
    },
    {
     "name": "stderr",
     "output_type": "stream",
     "text": [
      "                                                                                                                       \r"
     ]
    },
    {
     "name": "stdout",
     "output_type": "stream",
     "text": [
      "MoviePy - Done.\n",
      "Moviepy - Writing video 20200214_DWG_GEN_1_HL261.0.mp4\n",
      "\n"
     ]
    },
    {
     "name": "stderr",
     "output_type": "stream",
     "text": [
      "                                                                                                                       \r"
     ]
    },
    {
     "name": "stdout",
     "output_type": "stream",
     "text": [
      "Moviepy - Done !\n",
      "Moviepy - video ready 20200214_DWG_GEN_1_HL261.0.mp4\n",
      "Moviepy - Building video 20200214_DWG_GEN_1_HL261.5.mp4.\n",
      "MoviePy - Writing audio in 20200214_DWG_GEN_1_HL261.5TEMP_MPY_wvf_snd.mp3\n"
     ]
    },
    {
     "name": "stderr",
     "output_type": "stream",
     "text": [
      "                                                                                                                       \r"
     ]
    },
    {
     "name": "stdout",
     "output_type": "stream",
     "text": [
      "MoviePy - Done.\n",
      "Moviepy - Writing video 20200214_DWG_GEN_1_HL261.5.mp4\n",
      "\n"
     ]
    },
    {
     "name": "stderr",
     "output_type": "stream",
     "text": [
      "                                                                                                                       \r"
     ]
    },
    {
     "name": "stdout",
     "output_type": "stream",
     "text": [
      "Moviepy - Done !\n",
      "Moviepy - video ready 20200214_DWG_GEN_1_HL261.5.mp4\n",
      "Moviepy - Building video 20200214_DWG_GEN_1_HL262.0.mp4.\n",
      "MoviePy - Writing audio in 20200214_DWG_GEN_1_HL262.0TEMP_MPY_wvf_snd.mp3\n"
     ]
    },
    {
     "name": "stderr",
     "output_type": "stream",
     "text": [
      "                                                                                                                       \r"
     ]
    },
    {
     "name": "stdout",
     "output_type": "stream",
     "text": [
      "MoviePy - Done.\n",
      "Moviepy - Writing video 20200214_DWG_GEN_1_HL262.0.mp4\n",
      "\n"
     ]
    },
    {
     "name": "stderr",
     "output_type": "stream",
     "text": [
      "                                                                                                                       \r"
     ]
    },
    {
     "name": "stdout",
     "output_type": "stream",
     "text": [
      "Moviepy - Done !\n",
      "Moviepy - video ready 20200214_DWG_GEN_1_HL262.0.mp4\n",
      "Moviepy - Building video 20200214_DWG_GEN_1_HL262.5.mp4.\n",
      "MoviePy - Writing audio in 20200214_DWG_GEN_1_HL262.5TEMP_MPY_wvf_snd.mp3\n"
     ]
    },
    {
     "name": "stderr",
     "output_type": "stream",
     "text": [
      "                                                                                                                       \r"
     ]
    },
    {
     "name": "stdout",
     "output_type": "stream",
     "text": [
      "MoviePy - Done.\n",
      "Moviepy - Writing video 20200214_DWG_GEN_1_HL262.5.mp4\n",
      "\n"
     ]
    },
    {
     "name": "stderr",
     "output_type": "stream",
     "text": [
      "                                                                                                                       \r"
     ]
    },
    {
     "name": "stdout",
     "output_type": "stream",
     "text": [
      "Moviepy - Done !\n",
      "Moviepy - video ready 20200214_DWG_GEN_1_HL262.5.mp4\n",
      "Moviepy - Building video 20200214_DWG_GEN_1_HL263.0.mp4.\n",
      "MoviePy - Writing audio in 20200214_DWG_GEN_1_HL263.0TEMP_MPY_wvf_snd.mp3\n"
     ]
    },
    {
     "name": "stderr",
     "output_type": "stream",
     "text": [
      "                                                                                                                       \r"
     ]
    },
    {
     "name": "stdout",
     "output_type": "stream",
     "text": [
      "MoviePy - Done.\n",
      "Moviepy - Writing video 20200214_DWG_GEN_1_HL263.0.mp4\n",
      "\n"
     ]
    },
    {
     "name": "stderr",
     "output_type": "stream",
     "text": [
      "                                                                                                                       \r"
     ]
    },
    {
     "name": "stdout",
     "output_type": "stream",
     "text": [
      "Moviepy - Done !\n",
      "Moviepy - video ready 20200214_DWG_GEN_1_HL263.0.mp4\n",
      "Moviepy - Building video 20200214_DWG_GEN_1_HL263.5.mp4.\n",
      "MoviePy - Writing audio in 20200214_DWG_GEN_1_HL263.5TEMP_MPY_wvf_snd.mp3\n"
     ]
    },
    {
     "name": "stderr",
     "output_type": "stream",
     "text": [
      "                                                                                                                       \r"
     ]
    },
    {
     "name": "stdout",
     "output_type": "stream",
     "text": [
      "MoviePy - Done.\n",
      "Moviepy - Writing video 20200214_DWG_GEN_1_HL263.5.mp4\n",
      "\n"
     ]
    },
    {
     "name": "stderr",
     "output_type": "stream",
     "text": [
      "                                                                                                                       \r"
     ]
    },
    {
     "name": "stdout",
     "output_type": "stream",
     "text": [
      "Moviepy - Done !\n",
      "Moviepy - video ready 20200214_DWG_GEN_1_HL263.5.mp4\n",
      "Moviepy - Building video 20200214_DWG_GEN_1_HL264.0.mp4.\n",
      "MoviePy - Writing audio in 20200214_DWG_GEN_1_HL264.0TEMP_MPY_wvf_snd.mp3\n"
     ]
    },
    {
     "name": "stderr",
     "output_type": "stream",
     "text": [
      "                                                                                                                       \r"
     ]
    },
    {
     "name": "stdout",
     "output_type": "stream",
     "text": [
      "MoviePy - Done.\n",
      "Moviepy - Writing video 20200214_DWG_GEN_1_HL264.0.mp4\n",
      "\n"
     ]
    },
    {
     "name": "stderr",
     "output_type": "stream",
     "text": [
      "                                                                                                                       \r"
     ]
    },
    {
     "name": "stdout",
     "output_type": "stream",
     "text": [
      "Moviepy - Done !\n",
      "Moviepy - video ready 20200214_DWG_GEN_1_HL264.0.mp4\n",
      "Moviepy - Building video 20200214_DWG_GEN_1_HL264.5.mp4.\n",
      "MoviePy - Writing audio in 20200214_DWG_GEN_1_HL264.5TEMP_MPY_wvf_snd.mp3\n"
     ]
    },
    {
     "name": "stderr",
     "output_type": "stream",
     "text": [
      "                                                                                                                       \r"
     ]
    },
    {
     "name": "stdout",
     "output_type": "stream",
     "text": [
      "MoviePy - Done.\n",
      "Moviepy - Writing video 20200214_DWG_GEN_1_HL264.5.mp4\n",
      "\n"
     ]
    },
    {
     "name": "stderr",
     "output_type": "stream",
     "text": [
      "                                                                                                                       \r"
     ]
    },
    {
     "name": "stdout",
     "output_type": "stream",
     "text": [
      "Moviepy - Done !\n",
      "Moviepy - video ready 20200214_DWG_GEN_1_HL264.5.mp4\n",
      "Moviepy - Building video 20200214_DWG_GEN_1_HL265.0.mp4.\n",
      "MoviePy - Writing audio in 20200214_DWG_GEN_1_HL265.0TEMP_MPY_wvf_snd.mp3\n"
     ]
    },
    {
     "name": "stderr",
     "output_type": "stream",
     "text": [
      "                                                                                                                       \r"
     ]
    },
    {
     "name": "stdout",
     "output_type": "stream",
     "text": [
      "MoviePy - Done.\n",
      "Moviepy - Writing video 20200214_DWG_GEN_1_HL265.0.mp4\n",
      "\n"
     ]
    },
    {
     "name": "stderr",
     "output_type": "stream",
     "text": [
      "                                                                                                                       \r"
     ]
    },
    {
     "name": "stdout",
     "output_type": "stream",
     "text": [
      "Moviepy - Done !\n",
      "Moviepy - video ready 20200214_DWG_GEN_1_HL265.0.mp4\n",
      "Moviepy - Building video 20200214_DWG_GEN_1_HL265.5.mp4.\n",
      "MoviePy - Writing audio in 20200214_DWG_GEN_1_HL265.5TEMP_MPY_wvf_snd.mp3\n"
     ]
    },
    {
     "name": "stderr",
     "output_type": "stream",
     "text": [
      "                                                                                                                       \r"
     ]
    },
    {
     "name": "stdout",
     "output_type": "stream",
     "text": [
      "MoviePy - Done.\n",
      "Moviepy - Writing video 20200214_DWG_GEN_1_HL265.5.mp4\n",
      "\n"
     ]
    },
    {
     "name": "stderr",
     "output_type": "stream",
     "text": [
      "                                                                                                                       \r"
     ]
    },
    {
     "name": "stdout",
     "output_type": "stream",
     "text": [
      "Moviepy - Done !\n",
      "Moviepy - video ready 20200214_DWG_GEN_1_HL265.5.mp4\n",
      "Moviepy - Building video 20200214_DWG_GEN_1_HL266.0.mp4.\n",
      "MoviePy - Writing audio in 20200214_DWG_GEN_1_HL266.0TEMP_MPY_wvf_snd.mp3\n"
     ]
    },
    {
     "name": "stderr",
     "output_type": "stream",
     "text": [
      "                                                                                                                       \r"
     ]
    },
    {
     "name": "stdout",
     "output_type": "stream",
     "text": [
      "MoviePy - Done.\n",
      "Moviepy - Writing video 20200214_DWG_GEN_1_HL266.0.mp4\n",
      "\n"
     ]
    },
    {
     "name": "stderr",
     "output_type": "stream",
     "text": [
      "                                                                                                                       \r"
     ]
    },
    {
     "name": "stdout",
     "output_type": "stream",
     "text": [
      "Moviepy - Done !\n",
      "Moviepy - video ready 20200214_DWG_GEN_1_HL266.0.mp4\n",
      "Moviepy - Building video 20200214_DWG_GEN_1_HL266.5.mp4.\n",
      "MoviePy - Writing audio in 20200214_DWG_GEN_1_HL266.5TEMP_MPY_wvf_snd.mp3\n"
     ]
    },
    {
     "name": "stderr",
     "output_type": "stream",
     "text": [
      "                                                                                                                       \r"
     ]
    },
    {
     "name": "stdout",
     "output_type": "stream",
     "text": [
      "MoviePy - Done.\n",
      "Moviepy - Writing video 20200214_DWG_GEN_1_HL266.5.mp4\n",
      "\n"
     ]
    },
    {
     "name": "stderr",
     "output_type": "stream",
     "text": [
      "                                                                                                                       \r"
     ]
    },
    {
     "name": "stdout",
     "output_type": "stream",
     "text": [
      "Moviepy - Done !\n",
      "Moviepy - video ready 20200214_DWG_GEN_1_HL266.5.mp4\n",
      "Moviepy - Building video 20200214_DWG_GEN_1_HL267.0.mp4.\n",
      "MoviePy - Writing audio in 20200214_DWG_GEN_1_HL267.0TEMP_MPY_wvf_snd.mp3\n"
     ]
    },
    {
     "name": "stderr",
     "output_type": "stream",
     "text": [
      "                                                                                                                       \r"
     ]
    },
    {
     "name": "stdout",
     "output_type": "stream",
     "text": [
      "MoviePy - Done.\n",
      "Moviepy - Writing video 20200214_DWG_GEN_1_HL267.0.mp4\n",
      "\n"
     ]
    },
    {
     "name": "stderr",
     "output_type": "stream",
     "text": [
      "                                                                                                                       \r"
     ]
    },
    {
     "name": "stdout",
     "output_type": "stream",
     "text": [
      "Moviepy - Done !\n",
      "Moviepy - video ready 20200214_DWG_GEN_1_HL267.0.mp4\n",
      "Moviepy - Building video 20200214_DWG_GEN_1_HL267.5.mp4.\n",
      "MoviePy - Writing audio in 20200214_DWG_GEN_1_HL267.5TEMP_MPY_wvf_snd.mp3\n"
     ]
    },
    {
     "name": "stderr",
     "output_type": "stream",
     "text": [
      "                                                                                                                       \r"
     ]
    },
    {
     "name": "stdout",
     "output_type": "stream",
     "text": [
      "MoviePy - Done.\n",
      "Moviepy - Writing video 20200214_DWG_GEN_1_HL267.5.mp4\n",
      "\n"
     ]
    },
    {
     "name": "stderr",
     "output_type": "stream",
     "text": [
      "                                                                                                                       \r"
     ]
    },
    {
     "name": "stdout",
     "output_type": "stream",
     "text": [
      "Moviepy - Done !\n",
      "Moviepy - video ready 20200214_DWG_GEN_1_HL267.5.mp4\n",
      "Moviepy - Building video 20200214_DWG_GEN_1_HL268.0.mp4.\n",
      "MoviePy - Writing audio in 20200214_DWG_GEN_1_HL268.0TEMP_MPY_wvf_snd.mp3\n"
     ]
    },
    {
     "name": "stderr",
     "output_type": "stream",
     "text": [
      "                                                                                                                       \r"
     ]
    },
    {
     "name": "stdout",
     "output_type": "stream",
     "text": [
      "MoviePy - Done.\n",
      "Moviepy - Writing video 20200214_DWG_GEN_1_HL268.0.mp4\n",
      "\n"
     ]
    },
    {
     "name": "stderr",
     "output_type": "stream",
     "text": [
      "                                                                                                                       \r"
     ]
    },
    {
     "name": "stdout",
     "output_type": "stream",
     "text": [
      "Moviepy - Done !\n",
      "Moviepy - video ready 20200214_DWG_GEN_1_HL268.0.mp4\n",
      "Moviepy - Building video 20200214_DWG_GEN_1_HL268.5.mp4.\n",
      "MoviePy - Writing audio in 20200214_DWG_GEN_1_HL268.5TEMP_MPY_wvf_snd.mp3\n"
     ]
    },
    {
     "name": "stderr",
     "output_type": "stream",
     "text": [
      "                                                                                                                       \r"
     ]
    },
    {
     "name": "stdout",
     "output_type": "stream",
     "text": [
      "MoviePy - Done.\n",
      "Moviepy - Writing video 20200214_DWG_GEN_1_HL268.5.mp4\n",
      "\n"
     ]
    },
    {
     "name": "stderr",
     "output_type": "stream",
     "text": [
      "                                                                                                                       \r"
     ]
    },
    {
     "name": "stdout",
     "output_type": "stream",
     "text": [
      "Moviepy - Done !\n",
      "Moviepy - video ready 20200214_DWG_GEN_1_HL268.5.mp4\n",
      "Moviepy - Building video 20200214_DWG_GEN_1_HL269.0.mp4.\n",
      "MoviePy - Writing audio in 20200214_DWG_GEN_1_HL269.0TEMP_MPY_wvf_snd.mp3\n"
     ]
    },
    {
     "name": "stderr",
     "output_type": "stream",
     "text": [
      "                                                                                                                       \r"
     ]
    },
    {
     "name": "stdout",
     "output_type": "stream",
     "text": [
      "MoviePy - Done.\n",
      "Moviepy - Writing video 20200214_DWG_GEN_1_HL269.0.mp4\n",
      "\n"
     ]
    },
    {
     "name": "stderr",
     "output_type": "stream",
     "text": [
      "                                                                                                                       \r"
     ]
    },
    {
     "name": "stdout",
     "output_type": "stream",
     "text": [
      "Moviepy - Done !\n",
      "Moviepy - video ready 20200214_DWG_GEN_1_HL269.0.mp4\n",
      "Moviepy - Building video 20200214_DWG_GEN_1_HL269.5.mp4.\n",
      "MoviePy - Writing audio in 20200214_DWG_GEN_1_HL269.5TEMP_MPY_wvf_snd.mp3\n"
     ]
    },
    {
     "name": "stderr",
     "output_type": "stream",
     "text": [
      "                                                                                                                       \r"
     ]
    },
    {
     "name": "stdout",
     "output_type": "stream",
     "text": [
      "MoviePy - Done.\n",
      "Moviepy - Writing video 20200214_DWG_GEN_1_HL269.5.mp4\n",
      "\n"
     ]
    },
    {
     "name": "stderr",
     "output_type": "stream",
     "text": [
      "                                                                                                                       \r"
     ]
    },
    {
     "name": "stdout",
     "output_type": "stream",
     "text": [
      "Moviepy - Done !\n",
      "Moviepy - video ready 20200214_DWG_GEN_1_HL269.5.mp4\n",
      "Moviepy - Building video 20200214_DWG_GEN_1_HL270.0.mp4.\n",
      "MoviePy - Writing audio in 20200214_DWG_GEN_1_HL270.0TEMP_MPY_wvf_snd.mp3\n"
     ]
    },
    {
     "name": "stderr",
     "output_type": "stream",
     "text": [
      "                                                                                                                       \r"
     ]
    },
    {
     "name": "stdout",
     "output_type": "stream",
     "text": [
      "MoviePy - Done.\n",
      "Moviepy - Writing video 20200214_DWG_GEN_1_HL270.0.mp4\n",
      "\n"
     ]
    },
    {
     "name": "stderr",
     "output_type": "stream",
     "text": [
      "                                                                                                                       \r"
     ]
    },
    {
     "name": "stdout",
     "output_type": "stream",
     "text": [
      "Moviepy - Done !\n",
      "Moviepy - video ready 20200214_DWG_GEN_1_HL270.0.mp4\n",
      "Moviepy - Building video 20200214_DWG_GEN_1_HL270.5.mp4.\n",
      "MoviePy - Writing audio in 20200214_DWG_GEN_1_HL270.5TEMP_MPY_wvf_snd.mp3\n"
     ]
    },
    {
     "name": "stderr",
     "output_type": "stream",
     "text": [
      "                                                                                                                       \r"
     ]
    },
    {
     "name": "stdout",
     "output_type": "stream",
     "text": [
      "MoviePy - Done.\n",
      "Moviepy - Writing video 20200214_DWG_GEN_1_HL270.5.mp4\n",
      "\n"
     ]
    },
    {
     "name": "stderr",
     "output_type": "stream",
     "text": [
      "                                                                                                                       \r"
     ]
    },
    {
     "name": "stdout",
     "output_type": "stream",
     "text": [
      "Moviepy - Done !\n",
      "Moviepy - video ready 20200214_DWG_GEN_1_HL270.5.mp4\n",
      "Moviepy - Building video 20200214_DWG_GEN_1_HL271.0.mp4.\n",
      "MoviePy - Writing audio in 20200214_DWG_GEN_1_HL271.0TEMP_MPY_wvf_snd.mp3\n"
     ]
    },
    {
     "name": "stderr",
     "output_type": "stream",
     "text": [
      "                                                                                                                       \r"
     ]
    },
    {
     "name": "stdout",
     "output_type": "stream",
     "text": [
      "MoviePy - Done.\n",
      "Moviepy - Writing video 20200214_DWG_GEN_1_HL271.0.mp4\n",
      "\n"
     ]
    },
    {
     "name": "stderr",
     "output_type": "stream",
     "text": [
      "                                                                                                                       \r"
     ]
    },
    {
     "name": "stdout",
     "output_type": "stream",
     "text": [
      "Moviepy - Done !\n",
      "Moviepy - video ready 20200214_DWG_GEN_1_HL271.0.mp4\n",
      "Moviepy - Building video 20200214_DWG_GEN_1_HL271.5.mp4.\n",
      "MoviePy - Writing audio in 20200214_DWG_GEN_1_HL271.5TEMP_MPY_wvf_snd.mp3\n"
     ]
    },
    {
     "name": "stderr",
     "output_type": "stream",
     "text": [
      "                                                                                                                       \r"
     ]
    },
    {
     "name": "stdout",
     "output_type": "stream",
     "text": [
      "MoviePy - Done.\n",
      "Moviepy - Writing video 20200214_DWG_GEN_1_HL271.5.mp4\n",
      "\n"
     ]
    },
    {
     "name": "stderr",
     "output_type": "stream",
     "text": [
      "                                                                                                                       \r"
     ]
    },
    {
     "name": "stdout",
     "output_type": "stream",
     "text": [
      "Moviepy - Done !\n",
      "Moviepy - video ready 20200214_DWG_GEN_1_HL271.5.mp4\n",
      "Moviepy - Building video 20200214_DWG_GEN_1_HL272.0.mp4.\n",
      "MoviePy - Writing audio in 20200214_DWG_GEN_1_HL272.0TEMP_MPY_wvf_snd.mp3\n"
     ]
    },
    {
     "name": "stderr",
     "output_type": "stream",
     "text": [
      "                                                                                                                       \r"
     ]
    },
    {
     "name": "stdout",
     "output_type": "stream",
     "text": [
      "MoviePy - Done.\n",
      "Moviepy - Writing video 20200214_DWG_GEN_1_HL272.0.mp4\n",
      "\n"
     ]
    },
    {
     "name": "stderr",
     "output_type": "stream",
     "text": [
      "                                                                                                                       \r"
     ]
    },
    {
     "name": "stdout",
     "output_type": "stream",
     "text": [
      "Moviepy - Done !\n",
      "Moviepy - video ready 20200214_DWG_GEN_1_HL272.0.mp4\n",
      "Moviepy - Building video 20200214_DWG_GEN_1_HL272.5.mp4.\n",
      "MoviePy - Writing audio in 20200214_DWG_GEN_1_HL272.5TEMP_MPY_wvf_snd.mp3\n"
     ]
    },
    {
     "name": "stderr",
     "output_type": "stream",
     "text": [
      "                                                                                                                       \r"
     ]
    },
    {
     "name": "stdout",
     "output_type": "stream",
     "text": [
      "MoviePy - Done.\n",
      "Moviepy - Writing video 20200214_DWG_GEN_1_HL272.5.mp4\n",
      "\n"
     ]
    },
    {
     "name": "stderr",
     "output_type": "stream",
     "text": [
      "                                                                                                                       \r"
     ]
    },
    {
     "name": "stdout",
     "output_type": "stream",
     "text": [
      "Moviepy - Done !\n",
      "Moviepy - video ready 20200214_DWG_GEN_1_HL272.5.mp4\n",
      "Moviepy - Building video 20200214_DWG_GEN_1_HL273.0.mp4.\n",
      "MoviePy - Writing audio in 20200214_DWG_GEN_1_HL273.0TEMP_MPY_wvf_snd.mp3\n"
     ]
    },
    {
     "name": "stderr",
     "output_type": "stream",
     "text": [
      "                                                                                                                       \r"
     ]
    },
    {
     "name": "stdout",
     "output_type": "stream",
     "text": [
      "MoviePy - Done.\n",
      "Moviepy - Writing video 20200214_DWG_GEN_1_HL273.0.mp4\n",
      "\n"
     ]
    },
    {
     "name": "stderr",
     "output_type": "stream",
     "text": [
      "                                                                                                                       \r"
     ]
    },
    {
     "name": "stdout",
     "output_type": "stream",
     "text": [
      "Moviepy - Done !\n",
      "Moviepy - video ready 20200214_DWG_GEN_1_HL273.0.mp4\n",
      "Moviepy - Building video 20200214_DWG_GEN_1_HL273.5.mp4.\n",
      "MoviePy - Writing audio in 20200214_DWG_GEN_1_HL273.5TEMP_MPY_wvf_snd.mp3\n"
     ]
    },
    {
     "name": "stderr",
     "output_type": "stream",
     "text": [
      "                                                                                                                       \r"
     ]
    },
    {
     "name": "stdout",
     "output_type": "stream",
     "text": [
      "MoviePy - Done.\n",
      "Moviepy - Writing video 20200214_DWG_GEN_1_HL273.5.mp4\n",
      "\n"
     ]
    },
    {
     "name": "stderr",
     "output_type": "stream",
     "text": [
      "                                                                                                                       \r"
     ]
    },
    {
     "name": "stdout",
     "output_type": "stream",
     "text": [
      "Moviepy - Done !\n",
      "Moviepy - video ready 20200214_DWG_GEN_1_HL273.5.mp4\n",
      "Moviepy - Building video 20200214_DWG_GEN_1_HL274.0.mp4.\n",
      "MoviePy - Writing audio in 20200214_DWG_GEN_1_HL274.0TEMP_MPY_wvf_snd.mp3\n"
     ]
    },
    {
     "name": "stderr",
     "output_type": "stream",
     "text": [
      "                                                                                                                       \r"
     ]
    },
    {
     "name": "stdout",
     "output_type": "stream",
     "text": [
      "MoviePy - Done.\n",
      "Moviepy - Writing video 20200214_DWG_GEN_1_HL274.0.mp4\n",
      "\n"
     ]
    },
    {
     "name": "stderr",
     "output_type": "stream",
     "text": [
      "                                                                                                                       \r"
     ]
    },
    {
     "name": "stdout",
     "output_type": "stream",
     "text": [
      "Moviepy - Done !\n",
      "Moviepy - video ready 20200214_DWG_GEN_1_HL274.0.mp4\n",
      "Moviepy - Building video 20200214_DWG_GEN_1_HL274.5.mp4.\n",
      "MoviePy - Writing audio in 20200214_DWG_GEN_1_HL274.5TEMP_MPY_wvf_snd.mp3\n"
     ]
    },
    {
     "name": "stderr",
     "output_type": "stream",
     "text": [
      "                                                                                                                       \r"
     ]
    },
    {
     "name": "stdout",
     "output_type": "stream",
     "text": [
      "MoviePy - Done.\n",
      "Moviepy - Writing video 20200214_DWG_GEN_1_HL274.5.mp4\n",
      "\n"
     ]
    },
    {
     "name": "stderr",
     "output_type": "stream",
     "text": [
      "                                                                                                                       \r"
     ]
    },
    {
     "name": "stdout",
     "output_type": "stream",
     "text": [
      "Moviepy - Done !\n",
      "Moviepy - video ready 20200214_DWG_GEN_1_HL274.5.mp4\n",
      "Moviepy - Building video 20200214_DWG_GEN_1_HL275.0.mp4.\n",
      "MoviePy - Writing audio in 20200214_DWG_GEN_1_HL275.0TEMP_MPY_wvf_snd.mp3\n"
     ]
    },
    {
     "name": "stderr",
     "output_type": "stream",
     "text": [
      "                                                                                                                       \r"
     ]
    },
    {
     "name": "stdout",
     "output_type": "stream",
     "text": [
      "MoviePy - Done.\n",
      "Moviepy - Writing video 20200214_DWG_GEN_1_HL275.0.mp4\n",
      "\n"
     ]
    },
    {
     "name": "stderr",
     "output_type": "stream",
     "text": [
      "                                                                                                                       \r"
     ]
    },
    {
     "name": "stdout",
     "output_type": "stream",
     "text": [
      "Moviepy - Done !\n",
      "Moviepy - video ready 20200214_DWG_GEN_1_HL275.0.mp4\n",
      "Moviepy - Building video 20200214_DWG_GEN_1_HL275.5.mp4.\n",
      "MoviePy - Writing audio in 20200214_DWG_GEN_1_HL275.5TEMP_MPY_wvf_snd.mp3\n"
     ]
    },
    {
     "name": "stderr",
     "output_type": "stream",
     "text": [
      "                                                                                                                       \r"
     ]
    },
    {
     "name": "stdout",
     "output_type": "stream",
     "text": [
      "MoviePy - Done.\n",
      "Moviepy - Writing video 20200214_DWG_GEN_1_HL275.5.mp4\n",
      "\n"
     ]
    },
    {
     "name": "stderr",
     "output_type": "stream",
     "text": [
      "                                                                                                                       \r"
     ]
    },
    {
     "name": "stdout",
     "output_type": "stream",
     "text": [
      "Moviepy - Done !\n",
      "Moviepy - video ready 20200214_DWG_GEN_1_HL275.5.mp4\n",
      "Moviepy - Building video 20200214_DWG_GEN_1_HL276.0.mp4.\n",
      "MoviePy - Writing audio in 20200214_DWG_GEN_1_HL276.0TEMP_MPY_wvf_snd.mp3\n"
     ]
    },
    {
     "name": "stderr",
     "output_type": "stream",
     "text": [
      "                                                                                                                       \r"
     ]
    },
    {
     "name": "stdout",
     "output_type": "stream",
     "text": [
      "MoviePy - Done.\n",
      "Moviepy - Writing video 20200214_DWG_GEN_1_HL276.0.mp4\n",
      "\n"
     ]
    },
    {
     "name": "stderr",
     "output_type": "stream",
     "text": [
      "                                                                                                                       \r"
     ]
    },
    {
     "name": "stdout",
     "output_type": "stream",
     "text": [
      "Moviepy - Done !\n",
      "Moviepy - video ready 20200214_DWG_GEN_1_HL276.0.mp4\n",
      "Moviepy - Building video 20200214_DWG_GEN_1_HL276.5.mp4.\n",
      "MoviePy - Writing audio in 20200214_DWG_GEN_1_HL276.5TEMP_MPY_wvf_snd.mp3\n"
     ]
    },
    {
     "name": "stderr",
     "output_type": "stream",
     "text": [
      "                                                                                                                       \r"
     ]
    },
    {
     "name": "stdout",
     "output_type": "stream",
     "text": [
      "MoviePy - Done.\n",
      "Moviepy - Writing video 20200214_DWG_GEN_1_HL276.5.mp4\n",
      "\n"
     ]
    },
    {
     "name": "stderr",
     "output_type": "stream",
     "text": [
      "                                                                                                                       \r"
     ]
    },
    {
     "name": "stdout",
     "output_type": "stream",
     "text": [
      "Moviepy - Done !\n",
      "Moviepy - video ready 20200214_DWG_GEN_1_HL276.5.mp4\n",
      "Moviepy - Building video 20200214_DWG_GEN_1_HL277.0.mp4.\n",
      "MoviePy - Writing audio in 20200214_DWG_GEN_1_HL277.0TEMP_MPY_wvf_snd.mp3\n"
     ]
    },
    {
     "name": "stderr",
     "output_type": "stream",
     "text": [
      "                                                                                                                       \r"
     ]
    },
    {
     "name": "stdout",
     "output_type": "stream",
     "text": [
      "MoviePy - Done.\n",
      "Moviepy - Writing video 20200214_DWG_GEN_1_HL277.0.mp4\n",
      "\n"
     ]
    },
    {
     "name": "stderr",
     "output_type": "stream",
     "text": [
      "                                                                                                                       \r"
     ]
    },
    {
     "name": "stdout",
     "output_type": "stream",
     "text": [
      "Moviepy - Done !\n",
      "Moviepy - video ready 20200214_DWG_GEN_1_HL277.0.mp4\n",
      "Moviepy - Building video 20200214_DWG_GEN_1_HL277.5.mp4.\n",
      "MoviePy - Writing audio in 20200214_DWG_GEN_1_HL277.5TEMP_MPY_wvf_snd.mp3\n"
     ]
    },
    {
     "name": "stderr",
     "output_type": "stream",
     "text": [
      "                                                                                                                       \r"
     ]
    },
    {
     "name": "stdout",
     "output_type": "stream",
     "text": [
      "MoviePy - Done.\n",
      "Moviepy - Writing video 20200214_DWG_GEN_1_HL277.5.mp4\n",
      "\n"
     ]
    },
    {
     "name": "stderr",
     "output_type": "stream",
     "text": [
      "                                                                                                                       \r"
     ]
    },
    {
     "name": "stdout",
     "output_type": "stream",
     "text": [
      "Moviepy - Done !\n",
      "Moviepy - video ready 20200214_DWG_GEN_1_HL277.5.mp4\n",
      "Moviepy - Building video 20200214_DWG_GEN_1_HL278.0.mp4.\n",
      "MoviePy - Writing audio in 20200214_DWG_GEN_1_HL278.0TEMP_MPY_wvf_snd.mp3\n"
     ]
    },
    {
     "name": "stderr",
     "output_type": "stream",
     "text": [
      "                                                                                                                       \r"
     ]
    },
    {
     "name": "stdout",
     "output_type": "stream",
     "text": [
      "MoviePy - Done.\n",
      "Moviepy - Writing video 20200214_DWG_GEN_1_HL278.0.mp4\n",
      "\n"
     ]
    },
    {
     "name": "stderr",
     "output_type": "stream",
     "text": [
      "                                                                                                                       \r"
     ]
    },
    {
     "name": "stdout",
     "output_type": "stream",
     "text": [
      "Moviepy - Done !\n",
      "Moviepy - video ready 20200214_DWG_GEN_1_HL278.0.mp4\n",
      "Moviepy - Building video 20200214_DWG_GEN_1_HL278.5.mp4.\n",
      "MoviePy - Writing audio in 20200214_DWG_GEN_1_HL278.5TEMP_MPY_wvf_snd.mp3\n"
     ]
    },
    {
     "name": "stderr",
     "output_type": "stream",
     "text": [
      "                                                                                                                       \r"
     ]
    },
    {
     "name": "stdout",
     "output_type": "stream",
     "text": [
      "MoviePy - Done.\n",
      "Moviepy - Writing video 20200214_DWG_GEN_1_HL278.5.mp4\n",
      "\n"
     ]
    },
    {
     "name": "stderr",
     "output_type": "stream",
     "text": [
      "                                                                                                                       \r"
     ]
    },
    {
     "name": "stdout",
     "output_type": "stream",
     "text": [
      "Moviepy - Done !\n",
      "Moviepy - video ready 20200214_DWG_GEN_1_HL278.5.mp4\n",
      "Moviepy - Building video 20200214_DWG_GEN_1_HL279.0.mp4.\n",
      "MoviePy - Writing audio in 20200214_DWG_GEN_1_HL279.0TEMP_MPY_wvf_snd.mp3\n"
     ]
    },
    {
     "name": "stderr",
     "output_type": "stream",
     "text": [
      "                                                                                                                       \r"
     ]
    },
    {
     "name": "stdout",
     "output_type": "stream",
     "text": [
      "MoviePy - Done.\n",
      "Moviepy - Writing video 20200214_DWG_GEN_1_HL279.0.mp4\n",
      "\n"
     ]
    },
    {
     "name": "stderr",
     "output_type": "stream",
     "text": [
      "                                                                                                                       \r"
     ]
    },
    {
     "name": "stdout",
     "output_type": "stream",
     "text": [
      "Moviepy - Done !\n",
      "Moviepy - video ready 20200214_DWG_GEN_1_HL279.0.mp4\n",
      "Moviepy - Building video 20200214_DWG_GEN_1_HL279.5.mp4.\n",
      "MoviePy - Writing audio in 20200214_DWG_GEN_1_HL279.5TEMP_MPY_wvf_snd.mp3\n"
     ]
    },
    {
     "name": "stderr",
     "output_type": "stream",
     "text": [
      "                                                                                                                       \r"
     ]
    },
    {
     "name": "stdout",
     "output_type": "stream",
     "text": [
      "MoviePy - Done.\n",
      "Moviepy - Writing video 20200214_DWG_GEN_1_HL279.5.mp4\n",
      "\n"
     ]
    },
    {
     "name": "stderr",
     "output_type": "stream",
     "text": [
      "                                                                                                                       \r"
     ]
    },
    {
     "name": "stdout",
     "output_type": "stream",
     "text": [
      "Moviepy - Done !\n",
      "Moviepy - video ready 20200214_DWG_GEN_1_HL279.5.mp4\n",
      "Moviepy - Building video 20200214_DWG_GEN_1_HL280.0.mp4.\n",
      "MoviePy - Writing audio in 20200214_DWG_GEN_1_HL280.0TEMP_MPY_wvf_snd.mp3\n"
     ]
    },
    {
     "name": "stderr",
     "output_type": "stream",
     "text": [
      "                                                                                                                       \r"
     ]
    },
    {
     "name": "stdout",
     "output_type": "stream",
     "text": [
      "MoviePy - Done.\n",
      "Moviepy - Writing video 20200214_DWG_GEN_1_HL280.0.mp4\n",
      "\n"
     ]
    },
    {
     "name": "stderr",
     "output_type": "stream",
     "text": [
      "                                                                                                                       \r"
     ]
    },
    {
     "name": "stdout",
     "output_type": "stream",
     "text": [
      "Moviepy - Done !\n",
      "Moviepy - video ready 20200214_DWG_GEN_1_HL280.0.mp4\n",
      "Moviepy - Building video 20200214_DWG_GEN_1_HL280.5.mp4.\n",
      "MoviePy - Writing audio in 20200214_DWG_GEN_1_HL280.5TEMP_MPY_wvf_snd.mp3\n"
     ]
    },
    {
     "name": "stderr",
     "output_type": "stream",
     "text": [
      "                                                                                                                       \r"
     ]
    },
    {
     "name": "stdout",
     "output_type": "stream",
     "text": [
      "MoviePy - Done.\n",
      "Moviepy - Writing video 20200214_DWG_GEN_1_HL280.5.mp4\n",
      "\n"
     ]
    },
    {
     "name": "stderr",
     "output_type": "stream",
     "text": [
      "                                                                                                                       \r"
     ]
    },
    {
     "name": "stdout",
     "output_type": "stream",
     "text": [
      "Moviepy - Done !\n",
      "Moviepy - video ready 20200214_DWG_GEN_1_HL280.5.mp4\n",
      "Moviepy - Building video 20200214_DWG_GEN_1_HL281.0.mp4.\n",
      "MoviePy - Writing audio in 20200214_DWG_GEN_1_HL281.0TEMP_MPY_wvf_snd.mp3\n"
     ]
    },
    {
     "name": "stderr",
     "output_type": "stream",
     "text": [
      "                                                                                                                       \r"
     ]
    },
    {
     "name": "stdout",
     "output_type": "stream",
     "text": [
      "MoviePy - Done.\n",
      "Moviepy - Writing video 20200214_DWG_GEN_1_HL281.0.mp4\n",
      "\n"
     ]
    },
    {
     "name": "stderr",
     "output_type": "stream",
     "text": [
      "                                                                                                                       \r"
     ]
    },
    {
     "name": "stdout",
     "output_type": "stream",
     "text": [
      "Moviepy - Done !\n",
      "Moviepy - video ready 20200214_DWG_GEN_1_HL281.0.mp4\n",
      "Moviepy - Building video 20200214_DWG_GEN_1_HL281.5.mp4.\n",
      "MoviePy - Writing audio in 20200214_DWG_GEN_1_HL281.5TEMP_MPY_wvf_snd.mp3\n"
     ]
    },
    {
     "name": "stderr",
     "output_type": "stream",
     "text": [
      "                                                                                                                       \r"
     ]
    },
    {
     "name": "stdout",
     "output_type": "stream",
     "text": [
      "MoviePy - Done.\n",
      "Moviepy - Writing video 20200214_DWG_GEN_1_HL281.5.mp4\n",
      "\n"
     ]
    },
    {
     "name": "stderr",
     "output_type": "stream",
     "text": [
      "                                                                                                                       \r"
     ]
    },
    {
     "name": "stdout",
     "output_type": "stream",
     "text": [
      "Moviepy - Done !\n",
      "Moviepy - video ready 20200214_DWG_GEN_1_HL281.5.mp4\n",
      "Moviepy - Building video 20200214_DWG_GEN_1_HL282.0.mp4.\n",
      "MoviePy - Writing audio in 20200214_DWG_GEN_1_HL282.0TEMP_MPY_wvf_snd.mp3\n"
     ]
    },
    {
     "name": "stderr",
     "output_type": "stream",
     "text": [
      "                                                                                                                       \r"
     ]
    },
    {
     "name": "stdout",
     "output_type": "stream",
     "text": [
      "MoviePy - Done.\n",
      "Moviepy - Writing video 20200214_DWG_GEN_1_HL282.0.mp4\n",
      "\n"
     ]
    },
    {
     "name": "stderr",
     "output_type": "stream",
     "text": [
      "                                                                                                                       \r"
     ]
    },
    {
     "name": "stdout",
     "output_type": "stream",
     "text": [
      "Moviepy - Done !\n",
      "Moviepy - video ready 20200214_DWG_GEN_1_HL282.0.mp4\n",
      "Moviepy - Building video 20200214_DWG_GEN_1_HL282.5.mp4.\n",
      "MoviePy - Writing audio in 20200214_DWG_GEN_1_HL282.5TEMP_MPY_wvf_snd.mp3\n"
     ]
    },
    {
     "name": "stderr",
     "output_type": "stream",
     "text": [
      "                                                                                                                       \r"
     ]
    },
    {
     "name": "stdout",
     "output_type": "stream",
     "text": [
      "MoviePy - Done.\n",
      "Moviepy - Writing video 20200214_DWG_GEN_1_HL282.5.mp4\n",
      "\n"
     ]
    },
    {
     "name": "stderr",
     "output_type": "stream",
     "text": [
      "                                                                                                                       \r"
     ]
    },
    {
     "name": "stdout",
     "output_type": "stream",
     "text": [
      "Moviepy - Done !\n",
      "Moviepy - video ready 20200214_DWG_GEN_1_HL282.5.mp4\n",
      "Moviepy - Building video 20200214_DWG_GEN_1_HL283.0.mp4.\n",
      "MoviePy - Writing audio in 20200214_DWG_GEN_1_HL283.0TEMP_MPY_wvf_snd.mp3\n"
     ]
    },
    {
     "name": "stderr",
     "output_type": "stream",
     "text": [
      "                                                                                                                       \r"
     ]
    },
    {
     "name": "stdout",
     "output_type": "stream",
     "text": [
      "MoviePy - Done.\n",
      "Moviepy - Writing video 20200214_DWG_GEN_1_HL283.0.mp4\n",
      "\n"
     ]
    },
    {
     "name": "stderr",
     "output_type": "stream",
     "text": [
      "                                                                                                                       \r"
     ]
    },
    {
     "name": "stdout",
     "output_type": "stream",
     "text": [
      "Moviepy - Done !\n",
      "Moviepy - video ready 20200214_DWG_GEN_1_HL283.0.mp4\n",
      "Moviepy - Building video 20200214_DWG_GEN_1_HL283.5.mp4.\n",
      "MoviePy - Writing audio in 20200214_DWG_GEN_1_HL283.5TEMP_MPY_wvf_snd.mp3\n"
     ]
    },
    {
     "name": "stderr",
     "output_type": "stream",
     "text": [
      "                                                                                                                       \r"
     ]
    },
    {
     "name": "stdout",
     "output_type": "stream",
     "text": [
      "MoviePy - Done.\n",
      "Moviepy - Writing video 20200214_DWG_GEN_1_HL283.5.mp4\n",
      "\n"
     ]
    },
    {
     "name": "stderr",
     "output_type": "stream",
     "text": [
      "                                                                                                                       \r"
     ]
    },
    {
     "name": "stdout",
     "output_type": "stream",
     "text": [
      "Moviepy - Done !\n",
      "Moviepy - video ready 20200214_DWG_GEN_1_HL283.5.mp4\n",
      "Moviepy - Building video 20200214_DWG_GEN_1_HL284.0.mp4.\n",
      "MoviePy - Writing audio in 20200214_DWG_GEN_1_HL284.0TEMP_MPY_wvf_snd.mp3\n"
     ]
    },
    {
     "name": "stderr",
     "output_type": "stream",
     "text": [
      "                                                                                                                       \r"
     ]
    },
    {
     "name": "stdout",
     "output_type": "stream",
     "text": [
      "MoviePy - Done.\n",
      "Moviepy - Writing video 20200214_DWG_GEN_1_HL284.0.mp4\n",
      "\n"
     ]
    },
    {
     "name": "stderr",
     "output_type": "stream",
     "text": [
      "                                                                                                                       \r"
     ]
    },
    {
     "name": "stdout",
     "output_type": "stream",
     "text": [
      "Moviepy - Done !\n",
      "Moviepy - video ready 20200214_DWG_GEN_1_HL284.0.mp4\n",
      "Moviepy - Building video 20200214_DWG_GEN_1_HL284.5.mp4.\n",
      "MoviePy - Writing audio in 20200214_DWG_GEN_1_HL284.5TEMP_MPY_wvf_snd.mp3\n"
     ]
    },
    {
     "name": "stderr",
     "output_type": "stream",
     "text": [
      "                                                                                                                       \r"
     ]
    },
    {
     "name": "stdout",
     "output_type": "stream",
     "text": [
      "MoviePy - Done.\n",
      "Moviepy - Writing video 20200214_DWG_GEN_1_HL284.5.mp4\n",
      "\n"
     ]
    },
    {
     "name": "stderr",
     "output_type": "stream",
     "text": [
      "                                                                                                                       \r"
     ]
    },
    {
     "name": "stdout",
     "output_type": "stream",
     "text": [
      "Moviepy - Done !\n",
      "Moviepy - video ready 20200214_DWG_GEN_1_HL284.5.mp4\n",
      "Moviepy - Building video 20200214_DWG_GEN_1_HL285.0.mp4.\n",
      "MoviePy - Writing audio in 20200214_DWG_GEN_1_HL285.0TEMP_MPY_wvf_snd.mp3\n"
     ]
    },
    {
     "name": "stderr",
     "output_type": "stream",
     "text": [
      "                                                                                                                       \r"
     ]
    },
    {
     "name": "stdout",
     "output_type": "stream",
     "text": [
      "MoviePy - Done.\n",
      "Moviepy - Writing video 20200214_DWG_GEN_1_HL285.0.mp4\n",
      "\n"
     ]
    },
    {
     "name": "stderr",
     "output_type": "stream",
     "text": [
      "                                                                                                                       \r"
     ]
    },
    {
     "name": "stdout",
     "output_type": "stream",
     "text": [
      "Moviepy - Done !\n",
      "Moviepy - video ready 20200214_DWG_GEN_1_HL285.0.mp4\n",
      "Moviepy - Building video 20200214_DWG_GEN_1_HL285.5.mp4.\n",
      "MoviePy - Writing audio in 20200214_DWG_GEN_1_HL285.5TEMP_MPY_wvf_snd.mp3\n"
     ]
    },
    {
     "name": "stderr",
     "output_type": "stream",
     "text": [
      "                                                                                                                       \r"
     ]
    },
    {
     "name": "stdout",
     "output_type": "stream",
     "text": [
      "MoviePy - Done.\n",
      "Moviepy - Writing video 20200214_DWG_GEN_1_HL285.5.mp4\n",
      "\n"
     ]
    },
    {
     "name": "stderr",
     "output_type": "stream",
     "text": [
      "                                                                                                                       \r"
     ]
    },
    {
     "name": "stdout",
     "output_type": "stream",
     "text": [
      "Moviepy - Done !\n",
      "Moviepy - video ready 20200214_DWG_GEN_1_HL285.5.mp4\n",
      "Moviepy - Building video 20200214_DWG_GEN_1_HL286.0.mp4.\n",
      "MoviePy - Writing audio in 20200214_DWG_GEN_1_HL286.0TEMP_MPY_wvf_snd.mp3\n"
     ]
    },
    {
     "name": "stderr",
     "output_type": "stream",
     "text": [
      "                                                                                                                       \r"
     ]
    },
    {
     "name": "stdout",
     "output_type": "stream",
     "text": [
      "MoviePy - Done.\n",
      "Moviepy - Writing video 20200214_DWG_GEN_1_HL286.0.mp4\n",
      "\n"
     ]
    },
    {
     "name": "stderr",
     "output_type": "stream",
     "text": [
      "                                                                                                                       \r"
     ]
    },
    {
     "name": "stdout",
     "output_type": "stream",
     "text": [
      "Moviepy - Done !\n",
      "Moviepy - video ready 20200214_DWG_GEN_1_HL286.0.mp4\n",
      "Moviepy - Building video 20200214_DWG_GEN_1_HL286.5.mp4.\n",
      "MoviePy - Writing audio in 20200214_DWG_GEN_1_HL286.5TEMP_MPY_wvf_snd.mp3\n"
     ]
    },
    {
     "name": "stderr",
     "output_type": "stream",
     "text": [
      "                                                                                                                       \r"
     ]
    },
    {
     "name": "stdout",
     "output_type": "stream",
     "text": [
      "MoviePy - Done.\n",
      "Moviepy - Writing video 20200214_DWG_GEN_1_HL286.5.mp4\n",
      "\n"
     ]
    },
    {
     "name": "stderr",
     "output_type": "stream",
     "text": [
      "                                                                                                                       \r"
     ]
    },
    {
     "name": "stdout",
     "output_type": "stream",
     "text": [
      "Moviepy - Done !\n",
      "Moviepy - video ready 20200214_DWG_GEN_1_HL286.5.mp4\n",
      "Moviepy - Building video 20200214_DWG_GEN_1_HL287.0.mp4.\n",
      "MoviePy - Writing audio in 20200214_DWG_GEN_1_HL287.0TEMP_MPY_wvf_snd.mp3\n"
     ]
    },
    {
     "name": "stderr",
     "output_type": "stream",
     "text": [
      "                                                                                                                       \r"
     ]
    },
    {
     "name": "stdout",
     "output_type": "stream",
     "text": [
      "MoviePy - Done.\n",
      "Moviepy - Writing video 20200214_DWG_GEN_1_HL287.0.mp4\n",
      "\n"
     ]
    },
    {
     "name": "stderr",
     "output_type": "stream",
     "text": [
      "                                                                                                                       \r"
     ]
    },
    {
     "name": "stdout",
     "output_type": "stream",
     "text": [
      "Moviepy - Done !\n",
      "Moviepy - video ready 20200214_DWG_GEN_1_HL287.0.mp4\n",
      "Moviepy - Building video 20200214_DWG_GEN_1_HL287.5.mp4.\n",
      "MoviePy - Writing audio in 20200214_DWG_GEN_1_HL287.5TEMP_MPY_wvf_snd.mp3\n"
     ]
    },
    {
     "name": "stderr",
     "output_type": "stream",
     "text": [
      "                                                                                                                       \r"
     ]
    },
    {
     "name": "stdout",
     "output_type": "stream",
     "text": [
      "MoviePy - Done.\n",
      "Moviepy - Writing video 20200214_DWG_GEN_1_HL287.5.mp4\n",
      "\n"
     ]
    },
    {
     "name": "stderr",
     "output_type": "stream",
     "text": [
      "                                                                                                                       \r"
     ]
    },
    {
     "name": "stdout",
     "output_type": "stream",
     "text": [
      "Moviepy - Done !\n",
      "Moviepy - video ready 20200214_DWG_GEN_1_HL287.5.mp4\n",
      "Moviepy - Building video 20200214_DWG_GEN_1_HL288.0.mp4.\n",
      "MoviePy - Writing audio in 20200214_DWG_GEN_1_HL288.0TEMP_MPY_wvf_snd.mp3\n"
     ]
    },
    {
     "name": "stderr",
     "output_type": "stream",
     "text": [
      "                                                                                                                       \r"
     ]
    },
    {
     "name": "stdout",
     "output_type": "stream",
     "text": [
      "MoviePy - Done.\n",
      "Moviepy - Writing video 20200214_DWG_GEN_1_HL288.0.mp4\n",
      "\n"
     ]
    },
    {
     "name": "stderr",
     "output_type": "stream",
     "text": [
      "                                                                                                                       \r"
     ]
    },
    {
     "name": "stdout",
     "output_type": "stream",
     "text": [
      "Moviepy - Done !\n",
      "Moviepy - video ready 20200214_DWG_GEN_1_HL288.0.mp4\n",
      "Moviepy - Building video 20200214_DWG_GEN_1_HL288.5.mp4.\n",
      "MoviePy - Writing audio in 20200214_DWG_GEN_1_HL288.5TEMP_MPY_wvf_snd.mp3\n"
     ]
    },
    {
     "name": "stderr",
     "output_type": "stream",
     "text": [
      "                                                                                                                       \r"
     ]
    },
    {
     "name": "stdout",
     "output_type": "stream",
     "text": [
      "MoviePy - Done.\n",
      "Moviepy - Writing video 20200214_DWG_GEN_1_HL288.5.mp4\n",
      "\n"
     ]
    },
    {
     "name": "stderr",
     "output_type": "stream",
     "text": [
      "                                                                                                                       \r"
     ]
    },
    {
     "name": "stdout",
     "output_type": "stream",
     "text": [
      "Moviepy - Done !\n",
      "Moviepy - video ready 20200214_DWG_GEN_1_HL288.5.mp4\n",
      "Moviepy - Building video 20200214_DWG_GEN_1_HL289.0.mp4.\n",
      "MoviePy - Writing audio in 20200214_DWG_GEN_1_HL289.0TEMP_MPY_wvf_snd.mp3\n"
     ]
    },
    {
     "name": "stderr",
     "output_type": "stream",
     "text": [
      "                                                                                                                       \r"
     ]
    },
    {
     "name": "stdout",
     "output_type": "stream",
     "text": [
      "MoviePy - Done.\n",
      "Moviepy - Writing video 20200214_DWG_GEN_1_HL289.0.mp4\n",
      "\n"
     ]
    },
    {
     "name": "stderr",
     "output_type": "stream",
     "text": [
      "                                                                                                                       \r"
     ]
    },
    {
     "name": "stdout",
     "output_type": "stream",
     "text": [
      "Moviepy - Done !\n",
      "Moviepy - video ready 20200214_DWG_GEN_1_HL289.0.mp4\n",
      "Moviepy - Building video 20200214_DWG_GEN_1_HL289.5.mp4.\n",
      "MoviePy - Writing audio in 20200214_DWG_GEN_1_HL289.5TEMP_MPY_wvf_snd.mp3\n"
     ]
    },
    {
     "name": "stderr",
     "output_type": "stream",
     "text": [
      "                                                                                                                       \r"
     ]
    },
    {
     "name": "stdout",
     "output_type": "stream",
     "text": [
      "MoviePy - Done.\n",
      "Moviepy - Writing video 20200214_DWG_GEN_1_HL289.5.mp4\n",
      "\n"
     ]
    },
    {
     "name": "stderr",
     "output_type": "stream",
     "text": [
      "                                                                                                                       \r"
     ]
    },
    {
     "name": "stdout",
     "output_type": "stream",
     "text": [
      "Moviepy - Done !\n",
      "Moviepy - video ready 20200214_DWG_GEN_1_HL289.5.mp4\n",
      "Moviepy - Building video 20200214_DWG_GEN_1_HL290.0.mp4.\n",
      "MoviePy - Writing audio in 20200214_DWG_GEN_1_HL290.0TEMP_MPY_wvf_snd.mp3\n"
     ]
    },
    {
     "name": "stderr",
     "output_type": "stream",
     "text": [
      "                                                                                                                       \r"
     ]
    },
    {
     "name": "stdout",
     "output_type": "stream",
     "text": [
      "MoviePy - Done.\n",
      "Moviepy - Writing video 20200214_DWG_GEN_1_HL290.0.mp4\n",
      "\n"
     ]
    },
    {
     "name": "stderr",
     "output_type": "stream",
     "text": [
      "                                                                                                                       \r"
     ]
    },
    {
     "name": "stdout",
     "output_type": "stream",
     "text": [
      "Moviepy - Done !\n",
      "Moviepy - video ready 20200214_DWG_GEN_1_HL290.0.mp4\n",
      "Moviepy - Building video 20200214_DWG_GEN_1_HL290.5.mp4.\n",
      "MoviePy - Writing audio in 20200214_DWG_GEN_1_HL290.5TEMP_MPY_wvf_snd.mp3\n"
     ]
    },
    {
     "name": "stderr",
     "output_type": "stream",
     "text": [
      "                                                                                                                       \r"
     ]
    },
    {
     "name": "stdout",
     "output_type": "stream",
     "text": [
      "MoviePy - Done.\n",
      "Moviepy - Writing video 20200214_DWG_GEN_1_HL290.5.mp4\n",
      "\n"
     ]
    },
    {
     "name": "stderr",
     "output_type": "stream",
     "text": [
      "                                                                                                                       \r"
     ]
    },
    {
     "name": "stdout",
     "output_type": "stream",
     "text": [
      "Moviepy - Done !\n",
      "Moviepy - video ready 20200214_DWG_GEN_1_HL290.5.mp4\n",
      "Moviepy - Building video 20200214_DWG_GEN_1_HL291.0.mp4.\n",
      "MoviePy - Writing audio in 20200214_DWG_GEN_1_HL291.0TEMP_MPY_wvf_snd.mp3\n"
     ]
    },
    {
     "name": "stderr",
     "output_type": "stream",
     "text": [
      "                                                                                                                       \r"
     ]
    },
    {
     "name": "stdout",
     "output_type": "stream",
     "text": [
      "MoviePy - Done.\n",
      "Moviepy - Writing video 20200214_DWG_GEN_1_HL291.0.mp4\n",
      "\n"
     ]
    },
    {
     "name": "stderr",
     "output_type": "stream",
     "text": [
      "                                                                                                                       \r"
     ]
    },
    {
     "name": "stdout",
     "output_type": "stream",
     "text": [
      "Moviepy - Done !\n",
      "Moviepy - video ready 20200214_DWG_GEN_1_HL291.0.mp4\n",
      "Moviepy - Building video 20200214_DWG_GEN_1_HL291.5.mp4.\n",
      "MoviePy - Writing audio in 20200214_DWG_GEN_1_HL291.5TEMP_MPY_wvf_snd.mp3\n"
     ]
    },
    {
     "name": "stderr",
     "output_type": "stream",
     "text": [
      "                                                                                                                       \r"
     ]
    },
    {
     "name": "stdout",
     "output_type": "stream",
     "text": [
      "MoviePy - Done.\n",
      "Moviepy - Writing video 20200214_DWG_GEN_1_HL291.5.mp4\n",
      "\n"
     ]
    },
    {
     "name": "stderr",
     "output_type": "stream",
     "text": [
      "                                                                                                                       \r"
     ]
    },
    {
     "name": "stdout",
     "output_type": "stream",
     "text": [
      "Moviepy - Done !\n",
      "Moviepy - video ready 20200214_DWG_GEN_1_HL291.5.mp4\n",
      "Moviepy - Building video 20200214_DWG_GEN_1_HL292.0.mp4.\n",
      "MoviePy - Writing audio in 20200214_DWG_GEN_1_HL292.0TEMP_MPY_wvf_snd.mp3\n"
     ]
    },
    {
     "name": "stderr",
     "output_type": "stream",
     "text": [
      "                                                                                                                       \r"
     ]
    },
    {
     "name": "stdout",
     "output_type": "stream",
     "text": [
      "MoviePy - Done.\n",
      "Moviepy - Writing video 20200214_DWG_GEN_1_HL292.0.mp4\n",
      "\n"
     ]
    },
    {
     "name": "stderr",
     "output_type": "stream",
     "text": [
      "                                                                                                                       \r"
     ]
    },
    {
     "name": "stdout",
     "output_type": "stream",
     "text": [
      "Moviepy - Done !\n",
      "Moviepy - video ready 20200214_DWG_GEN_1_HL292.0.mp4\n",
      "Moviepy - Building video 20200214_DWG_GEN_1_HL292.5.mp4.\n",
      "MoviePy - Writing audio in 20200214_DWG_GEN_1_HL292.5TEMP_MPY_wvf_snd.mp3\n"
     ]
    },
    {
     "name": "stderr",
     "output_type": "stream",
     "text": [
      "                                                                                                                       \r"
     ]
    },
    {
     "name": "stdout",
     "output_type": "stream",
     "text": [
      "MoviePy - Done.\n",
      "Moviepy - Writing video 20200214_DWG_GEN_1_HL292.5.mp4\n",
      "\n"
     ]
    },
    {
     "name": "stderr",
     "output_type": "stream",
     "text": [
      "                                                                                                                       \r"
     ]
    },
    {
     "name": "stdout",
     "output_type": "stream",
     "text": [
      "Moviepy - Done !\n",
      "Moviepy - video ready 20200214_DWG_GEN_1_HL292.5.mp4\n",
      "Moviepy - Building video 20200214_DWG_GEN_1_HL293.0.mp4.\n",
      "MoviePy - Writing audio in 20200214_DWG_GEN_1_HL293.0TEMP_MPY_wvf_snd.mp3\n"
     ]
    },
    {
     "name": "stderr",
     "output_type": "stream",
     "text": [
      "                                                                                                                       \r"
     ]
    },
    {
     "name": "stdout",
     "output_type": "stream",
     "text": [
      "MoviePy - Done.\n",
      "Moviepy - Writing video 20200214_DWG_GEN_1_HL293.0.mp4\n",
      "\n"
     ]
    },
    {
     "name": "stderr",
     "output_type": "stream",
     "text": [
      "                                                                                                                       \r"
     ]
    },
    {
     "name": "stdout",
     "output_type": "stream",
     "text": [
      "Moviepy - Done !\n",
      "Moviepy - video ready 20200214_DWG_GEN_1_HL293.0.mp4\n",
      "Moviepy - Building video 20200214_DWG_GEN_1_HL293.5.mp4.\n",
      "MoviePy - Writing audio in 20200214_DWG_GEN_1_HL293.5TEMP_MPY_wvf_snd.mp3\n"
     ]
    },
    {
     "name": "stderr",
     "output_type": "stream",
     "text": [
      "                                                                                                                       \r"
     ]
    },
    {
     "name": "stdout",
     "output_type": "stream",
     "text": [
      "MoviePy - Done.\n",
      "Moviepy - Writing video 20200214_DWG_GEN_1_HL293.5.mp4\n",
      "\n"
     ]
    },
    {
     "name": "stderr",
     "output_type": "stream",
     "text": [
      "                                                                                                                       \r"
     ]
    },
    {
     "name": "stdout",
     "output_type": "stream",
     "text": [
      "Moviepy - Done !\n",
      "Moviepy - video ready 20200214_DWG_GEN_1_HL293.5.mp4\n",
      "Moviepy - Building video 20200214_DWG_GEN_1_HL294.0.mp4.\n",
      "MoviePy - Writing audio in 20200214_DWG_GEN_1_HL294.0TEMP_MPY_wvf_snd.mp3\n"
     ]
    },
    {
     "name": "stderr",
     "output_type": "stream",
     "text": [
      "                                                                                                                       \r"
     ]
    },
    {
     "name": "stdout",
     "output_type": "stream",
     "text": [
      "MoviePy - Done.\n",
      "Moviepy - Writing video 20200214_DWG_GEN_1_HL294.0.mp4\n",
      "\n"
     ]
    },
    {
     "name": "stderr",
     "output_type": "stream",
     "text": [
      "                                                                                                                       \r"
     ]
    },
    {
     "name": "stdout",
     "output_type": "stream",
     "text": [
      "Moviepy - Done !\n",
      "Moviepy - video ready 20200214_DWG_GEN_1_HL294.0.mp4\n",
      "Moviepy - Building video 20200214_DWG_GEN_1_HL294.5.mp4.\n",
      "MoviePy - Writing audio in 20200214_DWG_GEN_1_HL294.5TEMP_MPY_wvf_snd.mp3\n"
     ]
    },
    {
     "name": "stderr",
     "output_type": "stream",
     "text": [
      "                                                                                                                       \r"
     ]
    },
    {
     "name": "stdout",
     "output_type": "stream",
     "text": [
      "MoviePy - Done.\n",
      "Moviepy - Writing video 20200214_DWG_GEN_1_HL294.5.mp4\n",
      "\n"
     ]
    },
    {
     "name": "stderr",
     "output_type": "stream",
     "text": [
      "                                                                                                                       \r"
     ]
    },
    {
     "name": "stdout",
     "output_type": "stream",
     "text": [
      "Moviepy - Done !\n",
      "Moviepy - video ready 20200214_DWG_GEN_1_HL294.5.mp4\n",
      "Moviepy - Building video 20200214_DWG_GEN_1_HL295.0.mp4.\n",
      "MoviePy - Writing audio in 20200214_DWG_GEN_1_HL295.0TEMP_MPY_wvf_snd.mp3\n"
     ]
    },
    {
     "name": "stderr",
     "output_type": "stream",
     "text": [
      "                                                                                                                       \r"
     ]
    },
    {
     "name": "stdout",
     "output_type": "stream",
     "text": [
      "MoviePy - Done.\n",
      "Moviepy - Writing video 20200214_DWG_GEN_1_HL295.0.mp4\n",
      "\n"
     ]
    },
    {
     "name": "stderr",
     "output_type": "stream",
     "text": [
      "                                                                                                                       \r"
     ]
    },
    {
     "name": "stdout",
     "output_type": "stream",
     "text": [
      "Moviepy - Done !\n",
      "Moviepy - video ready 20200214_DWG_GEN_1_HL295.0.mp4\n",
      "Moviepy - Building video 20200214_DWG_GEN_1_HL295.5.mp4.\n",
      "MoviePy - Writing audio in 20200214_DWG_GEN_1_HL295.5TEMP_MPY_wvf_snd.mp3\n"
     ]
    },
    {
     "name": "stderr",
     "output_type": "stream",
     "text": [
      "                                                                                                                       \r"
     ]
    },
    {
     "name": "stdout",
     "output_type": "stream",
     "text": [
      "MoviePy - Done.\n",
      "Moviepy - Writing video 20200214_DWG_GEN_1_HL295.5.mp4\n",
      "\n"
     ]
    },
    {
     "name": "stderr",
     "output_type": "stream",
     "text": [
      "                                                                                                                       \r"
     ]
    },
    {
     "name": "stdout",
     "output_type": "stream",
     "text": [
      "Moviepy - Done !\n",
      "Moviepy - video ready 20200214_DWG_GEN_1_HL295.5.mp4\n",
      "Moviepy - Building video 20200214_DWG_GEN_1_HL296.0.mp4.\n",
      "MoviePy - Writing audio in 20200214_DWG_GEN_1_HL296.0TEMP_MPY_wvf_snd.mp3\n"
     ]
    },
    {
     "name": "stderr",
     "output_type": "stream",
     "text": [
      "                                                                                                                       \r"
     ]
    },
    {
     "name": "stdout",
     "output_type": "stream",
     "text": [
      "MoviePy - Done.\n",
      "Moviepy - Writing video 20200214_DWG_GEN_1_HL296.0.mp4\n",
      "\n"
     ]
    },
    {
     "name": "stderr",
     "output_type": "stream",
     "text": [
      "                                                                                                                       \r"
     ]
    },
    {
     "name": "stdout",
     "output_type": "stream",
     "text": [
      "Moviepy - Done !\n",
      "Moviepy - video ready 20200214_DWG_GEN_1_HL296.0.mp4\n",
      "Moviepy - Building video 20200214_DWG_GEN_1_HL296.5.mp4.\n",
      "MoviePy - Writing audio in 20200214_DWG_GEN_1_HL296.5TEMP_MPY_wvf_snd.mp3\n"
     ]
    },
    {
     "name": "stderr",
     "output_type": "stream",
     "text": [
      "                                                                                                                       \r"
     ]
    },
    {
     "name": "stdout",
     "output_type": "stream",
     "text": [
      "MoviePy - Done.\n",
      "Moviepy - Writing video 20200214_DWG_GEN_1_HL296.5.mp4\n",
      "\n"
     ]
    },
    {
     "name": "stderr",
     "output_type": "stream",
     "text": [
      "                                                                                                                       \r"
     ]
    },
    {
     "name": "stdout",
     "output_type": "stream",
     "text": [
      "Moviepy - Done !\n",
      "Moviepy - video ready 20200214_DWG_GEN_1_HL296.5.mp4\n",
      "Moviepy - Building video 20200214_DWG_GEN_1_HL297.0.mp4.\n",
      "MoviePy - Writing audio in 20200214_DWG_GEN_1_HL297.0TEMP_MPY_wvf_snd.mp3\n"
     ]
    },
    {
     "name": "stderr",
     "output_type": "stream",
     "text": [
      "                                                                                                                       \r"
     ]
    },
    {
     "name": "stdout",
     "output_type": "stream",
     "text": [
      "MoviePy - Done.\n",
      "Moviepy - Writing video 20200214_DWG_GEN_1_HL297.0.mp4\n",
      "\n"
     ]
    },
    {
     "name": "stderr",
     "output_type": "stream",
     "text": [
      "                                                                                                                       \r"
     ]
    },
    {
     "name": "stdout",
     "output_type": "stream",
     "text": [
      "Moviepy - Done !\n",
      "Moviepy - video ready 20200214_DWG_GEN_1_HL297.0.mp4\n",
      "Moviepy - Building video 20200214_DWG_GEN_1_HL297.5.mp4.\n",
      "MoviePy - Writing audio in 20200214_DWG_GEN_1_HL297.5TEMP_MPY_wvf_snd.mp3\n"
     ]
    },
    {
     "name": "stderr",
     "output_type": "stream",
     "text": [
      "                                                                                                                       \r"
     ]
    },
    {
     "name": "stdout",
     "output_type": "stream",
     "text": [
      "MoviePy - Done.\n",
      "Moviepy - Writing video 20200214_DWG_GEN_1_HL297.5.mp4\n",
      "\n"
     ]
    },
    {
     "name": "stderr",
     "output_type": "stream",
     "text": [
      "                                                                                                                       \r"
     ]
    },
    {
     "name": "stdout",
     "output_type": "stream",
     "text": [
      "Moviepy - Done !\n",
      "Moviepy - video ready 20200214_DWG_GEN_1_HL297.5.mp4\n",
      "Moviepy - Building video 20200214_DWG_GEN_1_HL298.0.mp4.\n",
      "MoviePy - Writing audio in 20200214_DWG_GEN_1_HL298.0TEMP_MPY_wvf_snd.mp3\n"
     ]
    },
    {
     "name": "stderr",
     "output_type": "stream",
     "text": [
      "                                                                                                                       \r"
     ]
    },
    {
     "name": "stdout",
     "output_type": "stream",
     "text": [
      "MoviePy - Done.\n",
      "Moviepy - Writing video 20200214_DWG_GEN_1_HL298.0.mp4\n",
      "\n"
     ]
    },
    {
     "name": "stderr",
     "output_type": "stream",
     "text": [
      "                                                                                                                       \r"
     ]
    },
    {
     "name": "stdout",
     "output_type": "stream",
     "text": [
      "Moviepy - Done !\n",
      "Moviepy - video ready 20200214_DWG_GEN_1_HL298.0.mp4\n",
      "Moviepy - Building video 20200214_DWG_GEN_1_HL298.5.mp4.\n",
      "MoviePy - Writing audio in 20200214_DWG_GEN_1_HL298.5TEMP_MPY_wvf_snd.mp3\n"
     ]
    },
    {
     "name": "stderr",
     "output_type": "stream",
     "text": [
      "                                                                                                                       \r"
     ]
    },
    {
     "name": "stdout",
     "output_type": "stream",
     "text": [
      "MoviePy - Done.\n",
      "Moviepy - Writing video 20200214_DWG_GEN_1_HL298.5.mp4\n",
      "\n"
     ]
    },
    {
     "name": "stderr",
     "output_type": "stream",
     "text": [
      "                                                                                                                       \r"
     ]
    },
    {
     "name": "stdout",
     "output_type": "stream",
     "text": [
      "Moviepy - Done !\n",
      "Moviepy - video ready 20200214_DWG_GEN_1_HL298.5.mp4\n",
      "Moviepy - Building video 20200214_DWG_GEN_1_HL299.0.mp4.\n",
      "MoviePy - Writing audio in 20200214_DWG_GEN_1_HL299.0TEMP_MPY_wvf_snd.mp3\n"
     ]
    },
    {
     "name": "stderr",
     "output_type": "stream",
     "text": [
      "                                                                                                                       \r"
     ]
    },
    {
     "name": "stdout",
     "output_type": "stream",
     "text": [
      "MoviePy - Done.\n",
      "Moviepy - Writing video 20200214_DWG_GEN_1_HL299.0.mp4\n",
      "\n"
     ]
    },
    {
     "name": "stderr",
     "output_type": "stream",
     "text": [
      "                                                                                                                       \r"
     ]
    },
    {
     "name": "stdout",
     "output_type": "stream",
     "text": [
      "Moviepy - Done !\n",
      "Moviepy - video ready 20200214_DWG_GEN_1_HL299.0.mp4\n",
      "Moviepy - Building video 20200214_DWG_GEN_1_HL299.5.mp4.\n",
      "MoviePy - Writing audio in 20200214_DWG_GEN_1_HL299.5TEMP_MPY_wvf_snd.mp3\n"
     ]
    },
    {
     "name": "stderr",
     "output_type": "stream",
     "text": [
      "                                                                                                                       \r"
     ]
    },
    {
     "name": "stdout",
     "output_type": "stream",
     "text": [
      "MoviePy - Done.\n",
      "Moviepy - Writing video 20200214_DWG_GEN_1_HL299.5.mp4\n",
      "\n"
     ]
    },
    {
     "name": "stderr",
     "output_type": "stream",
     "text": [
      "                                                                                                                       \r"
     ]
    },
    {
     "name": "stdout",
     "output_type": "stream",
     "text": [
      "Moviepy - Done !\n",
      "Moviepy - video ready 20200214_DWG_GEN_1_HL299.5.mp4\n",
      "Moviepy - Building video 20200214_DWG_GEN_1_HL300.0.mp4.\n",
      "MoviePy - Writing audio in 20200214_DWG_GEN_1_HL300.0TEMP_MPY_wvf_snd.mp3\n"
     ]
    },
    {
     "name": "stderr",
     "output_type": "stream",
     "text": [
      "                                                                                                                       \r"
     ]
    },
    {
     "name": "stdout",
     "output_type": "stream",
     "text": [
      "MoviePy - Done.\n",
      "Moviepy - Writing video 20200214_DWG_GEN_1_HL300.0.mp4\n",
      "\n"
     ]
    },
    {
     "name": "stderr",
     "output_type": "stream",
     "text": [
      "                                                                                                                       \r"
     ]
    },
    {
     "name": "stdout",
     "output_type": "stream",
     "text": [
      "Moviepy - Done !\n",
      "Moviepy - video ready 20200214_DWG_GEN_1_HL300.0.mp4\n",
      "Moviepy - Building video 20200214_DWG_GEN_1_HL300.5.mp4.\n",
      "MoviePy - Writing audio in 20200214_DWG_GEN_1_HL300.5TEMP_MPY_wvf_snd.mp3\n"
     ]
    },
    {
     "name": "stderr",
     "output_type": "stream",
     "text": [
      "                                                                                                                       \r"
     ]
    },
    {
     "name": "stdout",
     "output_type": "stream",
     "text": [
      "MoviePy - Done.\n",
      "Moviepy - Writing video 20200214_DWG_GEN_1_HL300.5.mp4\n",
      "\n"
     ]
    },
    {
     "name": "stderr",
     "output_type": "stream",
     "text": [
      "                                                                                                                       \r"
     ]
    },
    {
     "name": "stdout",
     "output_type": "stream",
     "text": [
      "Moviepy - Done !\n",
      "Moviepy - video ready 20200214_DWG_GEN_1_HL300.5.mp4\n",
      "Moviepy - Building video 20200214_DWG_GEN_1_HL301.0.mp4.\n",
      "MoviePy - Writing audio in 20200214_DWG_GEN_1_HL301.0TEMP_MPY_wvf_snd.mp3\n"
     ]
    },
    {
     "name": "stderr",
     "output_type": "stream",
     "text": [
      "                                                                                                                       \r"
     ]
    },
    {
     "name": "stdout",
     "output_type": "stream",
     "text": [
      "MoviePy - Done.\n",
      "Moviepy - Writing video 20200214_DWG_GEN_1_HL301.0.mp4\n",
      "\n"
     ]
    },
    {
     "name": "stderr",
     "output_type": "stream",
     "text": [
      "                                                                                                                       \r"
     ]
    },
    {
     "name": "stdout",
     "output_type": "stream",
     "text": [
      "Moviepy - Done !\n",
      "Moviepy - video ready 20200214_DWG_GEN_1_HL301.0.mp4\n",
      "Moviepy - Building video 20200214_DWG_GEN_1_HL301.5.mp4.\n",
      "MoviePy - Writing audio in 20200214_DWG_GEN_1_HL301.5TEMP_MPY_wvf_snd.mp3\n"
     ]
    },
    {
     "name": "stderr",
     "output_type": "stream",
     "text": [
      "                                                                                                                       \r"
     ]
    },
    {
     "name": "stdout",
     "output_type": "stream",
     "text": [
      "MoviePy - Done.\n",
      "Moviepy - Writing video 20200214_DWG_GEN_1_HL301.5.mp4\n",
      "\n"
     ]
    },
    {
     "name": "stderr",
     "output_type": "stream",
     "text": [
      "                                                                                                                       \r"
     ]
    },
    {
     "name": "stdout",
     "output_type": "stream",
     "text": [
      "Moviepy - Done !\n",
      "Moviepy - video ready 20200214_DWG_GEN_1_HL301.5.mp4\n",
      "Moviepy - Building video 20200214_DWG_GEN_1_HL302.0.mp4.\n",
      "MoviePy - Writing audio in 20200214_DWG_GEN_1_HL302.0TEMP_MPY_wvf_snd.mp3\n"
     ]
    },
    {
     "name": "stderr",
     "output_type": "stream",
     "text": [
      "                                                                                                                       \r"
     ]
    },
    {
     "name": "stdout",
     "output_type": "stream",
     "text": [
      "MoviePy - Done.\n",
      "Moviepy - Writing video 20200214_DWG_GEN_1_HL302.0.mp4\n",
      "\n"
     ]
    },
    {
     "name": "stderr",
     "output_type": "stream",
     "text": [
      "                                                                                                                       \r"
     ]
    },
    {
     "name": "stdout",
     "output_type": "stream",
     "text": [
      "Moviepy - Done !\n",
      "Moviepy - video ready 20200214_DWG_GEN_1_HL302.0.mp4\n",
      "Moviepy - Building video 20200214_DWG_GEN_1_HL302.5.mp4.\n",
      "MoviePy - Writing audio in 20200214_DWG_GEN_1_HL302.5TEMP_MPY_wvf_snd.mp3\n"
     ]
    },
    {
     "name": "stderr",
     "output_type": "stream",
     "text": [
      "                                                                                                                       \r"
     ]
    },
    {
     "name": "stdout",
     "output_type": "stream",
     "text": [
      "MoviePy - Done.\n",
      "Moviepy - Writing video 20200214_DWG_GEN_1_HL302.5.mp4\n",
      "\n"
     ]
    },
    {
     "name": "stderr",
     "output_type": "stream",
     "text": [
      "                                                                                                                       \r"
     ]
    },
    {
     "name": "stdout",
     "output_type": "stream",
     "text": [
      "Moviepy - Done !\n",
      "Moviepy - video ready 20200214_DWG_GEN_1_HL302.5.mp4\n",
      "Moviepy - Building video 20200214_DWG_GEN_1_HL303.0.mp4.\n",
      "MoviePy - Writing audio in 20200214_DWG_GEN_1_HL303.0TEMP_MPY_wvf_snd.mp3\n"
     ]
    },
    {
     "name": "stderr",
     "output_type": "stream",
     "text": [
      "                                                                                                                       \r"
     ]
    },
    {
     "name": "stdout",
     "output_type": "stream",
     "text": [
      "MoviePy - Done.\n",
      "Moviepy - Writing video 20200214_DWG_GEN_1_HL303.0.mp4\n",
      "\n"
     ]
    },
    {
     "name": "stderr",
     "output_type": "stream",
     "text": [
      "                                                                                                                       \r"
     ]
    },
    {
     "name": "stdout",
     "output_type": "stream",
     "text": [
      "Moviepy - Done !\n",
      "Moviepy - video ready 20200214_DWG_GEN_1_HL303.0.mp4\n",
      "Moviepy - Building video 20200214_DWG_GEN_1_HL303.5.mp4.\n",
      "MoviePy - Writing audio in 20200214_DWG_GEN_1_HL303.5TEMP_MPY_wvf_snd.mp3\n"
     ]
    },
    {
     "name": "stderr",
     "output_type": "stream",
     "text": [
      "                                                                                                                       \r"
     ]
    },
    {
     "name": "stdout",
     "output_type": "stream",
     "text": [
      "MoviePy - Done.\n",
      "Moviepy - Writing video 20200214_DWG_GEN_1_HL303.5.mp4\n",
      "\n"
     ]
    },
    {
     "name": "stderr",
     "output_type": "stream",
     "text": [
      "                                                                                                                       \r"
     ]
    },
    {
     "name": "stdout",
     "output_type": "stream",
     "text": [
      "Moviepy - Done !\n",
      "Moviepy - video ready 20200214_DWG_GEN_1_HL303.5.mp4\n",
      "Moviepy - Building video 20200214_DWG_GEN_1_HL304.0.mp4.\n",
      "MoviePy - Writing audio in 20200214_DWG_GEN_1_HL304.0TEMP_MPY_wvf_snd.mp3\n"
     ]
    },
    {
     "name": "stderr",
     "output_type": "stream",
     "text": [
      "                                                                                                                       \r"
     ]
    },
    {
     "name": "stdout",
     "output_type": "stream",
     "text": [
      "MoviePy - Done.\n",
      "Moviepy - Writing video 20200214_DWG_GEN_1_HL304.0.mp4\n",
      "\n"
     ]
    },
    {
     "name": "stderr",
     "output_type": "stream",
     "text": [
      "                                                                                                                       \r"
     ]
    },
    {
     "name": "stdout",
     "output_type": "stream",
     "text": [
      "Moviepy - Done !\n",
      "Moviepy - video ready 20200214_DWG_GEN_1_HL304.0.mp4\n",
      "Moviepy - Building video 20200214_DWG_GEN_1_HL304.5.mp4.\n",
      "MoviePy - Writing audio in 20200214_DWG_GEN_1_HL304.5TEMP_MPY_wvf_snd.mp3\n"
     ]
    },
    {
     "name": "stderr",
     "output_type": "stream",
     "text": [
      "                                                                                                                       \r"
     ]
    },
    {
     "name": "stdout",
     "output_type": "stream",
     "text": [
      "MoviePy - Done.\n",
      "Moviepy - Writing video 20200214_DWG_GEN_1_HL304.5.mp4\n",
      "\n"
     ]
    },
    {
     "name": "stderr",
     "output_type": "stream",
     "text": [
      "                                                                                                                       \r"
     ]
    },
    {
     "name": "stdout",
     "output_type": "stream",
     "text": [
      "Moviepy - Done !\n",
      "Moviepy - video ready 20200214_DWG_GEN_1_HL304.5.mp4\n",
      "Moviepy - Building video 20200214_DWG_GEN_1_HL305.0.mp4.\n",
      "MoviePy - Writing audio in 20200214_DWG_GEN_1_HL305.0TEMP_MPY_wvf_snd.mp3\n"
     ]
    },
    {
     "name": "stderr",
     "output_type": "stream",
     "text": [
      "                                                                                                                       \r"
     ]
    },
    {
     "name": "stdout",
     "output_type": "stream",
     "text": [
      "MoviePy - Done.\n",
      "Moviepy - Writing video 20200214_DWG_GEN_1_HL305.0.mp4\n",
      "\n"
     ]
    },
    {
     "name": "stderr",
     "output_type": "stream",
     "text": [
      "                                                                                                                       \r"
     ]
    },
    {
     "name": "stdout",
     "output_type": "stream",
     "text": [
      "Moviepy - Done !\n",
      "Moviepy - video ready 20200214_DWG_GEN_1_HL305.0.mp4\n",
      "Moviepy - Building video 20200214_DWG_GEN_1_HL305.5.mp4.\n",
      "MoviePy - Writing audio in 20200214_DWG_GEN_1_HL305.5TEMP_MPY_wvf_snd.mp3\n"
     ]
    },
    {
     "name": "stderr",
     "output_type": "stream",
     "text": [
      "                                                                                                                       \r"
     ]
    },
    {
     "name": "stdout",
     "output_type": "stream",
     "text": [
      "MoviePy - Done.\n",
      "Moviepy - Writing video 20200214_DWG_GEN_1_HL305.5.mp4\n",
      "\n"
     ]
    },
    {
     "name": "stderr",
     "output_type": "stream",
     "text": [
      "                                                                                                                       \r"
     ]
    },
    {
     "name": "stdout",
     "output_type": "stream",
     "text": [
      "Moviepy - Done !\n",
      "Moviepy - video ready 20200214_DWG_GEN_1_HL305.5.mp4\n",
      "Moviepy - Building video 20200214_DWG_GEN_1_HL306.0.mp4.\n",
      "MoviePy - Writing audio in 20200214_DWG_GEN_1_HL306.0TEMP_MPY_wvf_snd.mp3\n"
     ]
    },
    {
     "name": "stderr",
     "output_type": "stream",
     "text": [
      "                                                                                                                       \r"
     ]
    },
    {
     "name": "stdout",
     "output_type": "stream",
     "text": [
      "MoviePy - Done.\n",
      "Moviepy - Writing video 20200214_DWG_GEN_1_HL306.0.mp4\n",
      "\n"
     ]
    },
    {
     "name": "stderr",
     "output_type": "stream",
     "text": [
      "                                                                                                                       \r"
     ]
    },
    {
     "name": "stdout",
     "output_type": "stream",
     "text": [
      "Moviepy - Done !\n",
      "Moviepy - video ready 20200214_DWG_GEN_1_HL306.0.mp4\n",
      "Moviepy - Building video 20200214_DWG_GEN_1_HL306.5.mp4.\n",
      "MoviePy - Writing audio in 20200214_DWG_GEN_1_HL306.5TEMP_MPY_wvf_snd.mp3\n"
     ]
    },
    {
     "name": "stderr",
     "output_type": "stream",
     "text": [
      "                                                                                                                       \r"
     ]
    },
    {
     "name": "stdout",
     "output_type": "stream",
     "text": [
      "MoviePy - Done.\n",
      "Moviepy - Writing video 20200214_DWG_GEN_1_HL306.5.mp4\n",
      "\n"
     ]
    },
    {
     "name": "stderr",
     "output_type": "stream",
     "text": [
      "                                                                                                                       \r"
     ]
    },
    {
     "name": "stdout",
     "output_type": "stream",
     "text": [
      "Moviepy - Done !\n",
      "Moviepy - video ready 20200214_DWG_GEN_1_HL306.5.mp4\n",
      "Moviepy - Building video 20200214_DWG_GEN_1_HL307.0.mp4.\n",
      "MoviePy - Writing audio in 20200214_DWG_GEN_1_HL307.0TEMP_MPY_wvf_snd.mp3\n"
     ]
    },
    {
     "name": "stderr",
     "output_type": "stream",
     "text": [
      "                                                                                                                       \r"
     ]
    },
    {
     "name": "stdout",
     "output_type": "stream",
     "text": [
      "MoviePy - Done.\n",
      "Moviepy - Writing video 20200214_DWG_GEN_1_HL307.0.mp4\n",
      "\n"
     ]
    },
    {
     "name": "stderr",
     "output_type": "stream",
     "text": [
      "                                                                                                                       \r"
     ]
    },
    {
     "name": "stdout",
     "output_type": "stream",
     "text": [
      "Moviepy - Done !\n",
      "Moviepy - video ready 20200214_DWG_GEN_1_HL307.0.mp4\n",
      "Moviepy - Building video 20200214_DWG_GEN_1_HL307.5.mp4.\n",
      "MoviePy - Writing audio in 20200214_DWG_GEN_1_HL307.5TEMP_MPY_wvf_snd.mp3\n"
     ]
    },
    {
     "name": "stderr",
     "output_type": "stream",
     "text": [
      "                                                                                                                       \r"
     ]
    },
    {
     "name": "stdout",
     "output_type": "stream",
     "text": [
      "MoviePy - Done.\n",
      "Moviepy - Writing video 20200214_DWG_GEN_1_HL307.5.mp4\n",
      "\n"
     ]
    },
    {
     "name": "stderr",
     "output_type": "stream",
     "text": [
      "                                                                                                                       \r"
     ]
    },
    {
     "name": "stdout",
     "output_type": "stream",
     "text": [
      "Moviepy - Done !\n",
      "Moviepy - video ready 20200214_DWG_GEN_1_HL307.5.mp4\n",
      "Moviepy - Building video 20200214_DWG_GEN_1_HL308.0.mp4.\n",
      "MoviePy - Writing audio in 20200214_DWG_GEN_1_HL308.0TEMP_MPY_wvf_snd.mp3\n"
     ]
    },
    {
     "name": "stderr",
     "output_type": "stream",
     "text": [
      "                                                                                                                       \r"
     ]
    },
    {
     "name": "stdout",
     "output_type": "stream",
     "text": [
      "MoviePy - Done.\n",
      "Moviepy - Writing video 20200214_DWG_GEN_1_HL308.0.mp4\n",
      "\n"
     ]
    },
    {
     "name": "stderr",
     "output_type": "stream",
     "text": [
      "                                                                                                                       \r"
     ]
    },
    {
     "name": "stdout",
     "output_type": "stream",
     "text": [
      "Moviepy - Done !\n",
      "Moviepy - video ready 20200214_DWG_GEN_1_HL308.0.mp4\n",
      "Moviepy - Building video 20200214_DWG_GEN_1_HL308.5.mp4.\n",
      "MoviePy - Writing audio in 20200214_DWG_GEN_1_HL308.5TEMP_MPY_wvf_snd.mp3\n"
     ]
    },
    {
     "name": "stderr",
     "output_type": "stream",
     "text": [
      "                                                                                                                       \r"
     ]
    },
    {
     "name": "stdout",
     "output_type": "stream",
     "text": [
      "MoviePy - Done.\n",
      "Moviepy - Writing video 20200214_DWG_GEN_1_HL308.5.mp4\n",
      "\n"
     ]
    },
    {
     "name": "stderr",
     "output_type": "stream",
     "text": [
      "                                                                                                                       \r"
     ]
    },
    {
     "name": "stdout",
     "output_type": "stream",
     "text": [
      "Moviepy - Done !\n",
      "Moviepy - video ready 20200214_DWG_GEN_1_HL308.5.mp4\n",
      "Moviepy - Building video 20200214_DWG_GEN_1_HL309.0.mp4.\n",
      "MoviePy - Writing audio in 20200214_DWG_GEN_1_HL309.0TEMP_MPY_wvf_snd.mp3\n"
     ]
    },
    {
     "name": "stderr",
     "output_type": "stream",
     "text": [
      "                                                                                                                       \r"
     ]
    },
    {
     "name": "stdout",
     "output_type": "stream",
     "text": [
      "MoviePy - Done.\n",
      "Moviepy - Writing video 20200214_DWG_GEN_1_HL309.0.mp4\n",
      "\n"
     ]
    },
    {
     "name": "stderr",
     "output_type": "stream",
     "text": [
      "                                                                                                                       \r"
     ]
    },
    {
     "name": "stdout",
     "output_type": "stream",
     "text": [
      "Moviepy - Done !\n",
      "Moviepy - video ready 20200214_DWG_GEN_1_HL309.0.mp4\n",
      "Moviepy - Building video 20200214_DWG_GEN_1_HL309.5.mp4.\n",
      "MoviePy - Writing audio in 20200214_DWG_GEN_1_HL309.5TEMP_MPY_wvf_snd.mp3\n"
     ]
    },
    {
     "name": "stderr",
     "output_type": "stream",
     "text": [
      "                                                                                                                       \r"
     ]
    },
    {
     "name": "stdout",
     "output_type": "stream",
     "text": [
      "MoviePy - Done.\n",
      "Moviepy - Writing video 20200214_DWG_GEN_1_HL309.5.mp4\n",
      "\n"
     ]
    },
    {
     "name": "stderr",
     "output_type": "stream",
     "text": [
      "                                                                                                                       \r"
     ]
    },
    {
     "name": "stdout",
     "output_type": "stream",
     "text": [
      "Moviepy - Done !\n",
      "Moviepy - video ready 20200214_DWG_GEN_1_HL309.5.mp4\n",
      "Moviepy - Building video 20200214_DWG_GEN_1_HL310.0.mp4.\n",
      "MoviePy - Writing audio in 20200214_DWG_GEN_1_HL310.0TEMP_MPY_wvf_snd.mp3\n"
     ]
    },
    {
     "name": "stderr",
     "output_type": "stream",
     "text": [
      "                                                                                                                       \r"
     ]
    },
    {
     "name": "stdout",
     "output_type": "stream",
     "text": [
      "MoviePy - Done.\n",
      "Moviepy - Writing video 20200214_DWG_GEN_1_HL310.0.mp4\n",
      "\n"
     ]
    },
    {
     "name": "stderr",
     "output_type": "stream",
     "text": [
      "                                                                                                                       \r"
     ]
    },
    {
     "name": "stdout",
     "output_type": "stream",
     "text": [
      "Moviepy - Done !\n",
      "Moviepy - video ready 20200214_DWG_GEN_1_HL310.0.mp4\n",
      "Moviepy - Building video 20200214_DWG_GEN_1_HL310.5.mp4.\n",
      "MoviePy - Writing audio in 20200214_DWG_GEN_1_HL310.5TEMP_MPY_wvf_snd.mp3\n"
     ]
    },
    {
     "name": "stderr",
     "output_type": "stream",
     "text": [
      "                                                                                                                       \r"
     ]
    },
    {
     "name": "stdout",
     "output_type": "stream",
     "text": [
      "MoviePy - Done.\n",
      "Moviepy - Writing video 20200214_DWG_GEN_1_HL310.5.mp4\n",
      "\n"
     ]
    },
    {
     "name": "stderr",
     "output_type": "stream",
     "text": [
      "                                                                                                                       \r"
     ]
    },
    {
     "name": "stdout",
     "output_type": "stream",
     "text": [
      "Moviepy - Done !\n",
      "Moviepy - video ready 20200214_DWG_GEN_1_HL310.5.mp4\n",
      "Moviepy - Building video 20200214_DWG_GEN_1_HL311.0.mp4.\n",
      "MoviePy - Writing audio in 20200214_DWG_GEN_1_HL311.0TEMP_MPY_wvf_snd.mp3\n"
     ]
    },
    {
     "name": "stderr",
     "output_type": "stream",
     "text": [
      "                                                                                                                       \r"
     ]
    },
    {
     "name": "stdout",
     "output_type": "stream",
     "text": [
      "MoviePy - Done.\n",
      "Moviepy - Writing video 20200214_DWG_GEN_1_HL311.0.mp4\n",
      "\n"
     ]
    },
    {
     "name": "stderr",
     "output_type": "stream",
     "text": [
      "                                                                                                                       \r"
     ]
    },
    {
     "name": "stdout",
     "output_type": "stream",
     "text": [
      "Moviepy - Done !\n",
      "Moviepy - video ready 20200214_DWG_GEN_1_HL311.0.mp4\n",
      "Moviepy - Building video 20200214_DWG_GEN_1_HL311.5.mp4.\n",
      "MoviePy - Writing audio in 20200214_DWG_GEN_1_HL311.5TEMP_MPY_wvf_snd.mp3\n"
     ]
    },
    {
     "name": "stderr",
     "output_type": "stream",
     "text": [
      "                                                                                                                       \r"
     ]
    },
    {
     "name": "stdout",
     "output_type": "stream",
     "text": [
      "MoviePy - Done.\n",
      "Moviepy - Writing video 20200214_DWG_GEN_1_HL311.5.mp4\n",
      "\n"
     ]
    },
    {
     "name": "stderr",
     "output_type": "stream",
     "text": [
      "                                                                                                                       \r"
     ]
    },
    {
     "name": "stdout",
     "output_type": "stream",
     "text": [
      "Moviepy - Done !\n",
      "Moviepy - video ready 20200214_DWG_GEN_1_HL311.5.mp4\n",
      "Moviepy - Building video 20200214_DWG_GEN_1_HL312.0.mp4.\n",
      "MoviePy - Writing audio in 20200214_DWG_GEN_1_HL312.0TEMP_MPY_wvf_snd.mp3\n"
     ]
    },
    {
     "name": "stderr",
     "output_type": "stream",
     "text": [
      "                                                                                                                       \r"
     ]
    },
    {
     "name": "stdout",
     "output_type": "stream",
     "text": [
      "MoviePy - Done.\n",
      "Moviepy - Writing video 20200214_DWG_GEN_1_HL312.0.mp4\n",
      "\n"
     ]
    },
    {
     "name": "stderr",
     "output_type": "stream",
     "text": [
      "                                                                                                                       \r"
     ]
    },
    {
     "name": "stdout",
     "output_type": "stream",
     "text": [
      "Moviepy - Done !\n",
      "Moviepy - video ready 20200214_DWG_GEN_1_HL312.0.mp4\n",
      "Moviepy - Building video 20200214_DWG_GEN_1_HL312.5.mp4.\n",
      "MoviePy - Writing audio in 20200214_DWG_GEN_1_HL312.5TEMP_MPY_wvf_snd.mp3\n"
     ]
    },
    {
     "name": "stderr",
     "output_type": "stream",
     "text": [
      "                                                                                                                       \r"
     ]
    },
    {
     "name": "stdout",
     "output_type": "stream",
     "text": [
      "MoviePy - Done.\n",
      "Moviepy - Writing video 20200214_DWG_GEN_1_HL312.5.mp4\n",
      "\n"
     ]
    },
    {
     "name": "stderr",
     "output_type": "stream",
     "text": [
      "                                                                                                                       \r"
     ]
    },
    {
     "name": "stdout",
     "output_type": "stream",
     "text": [
      "Moviepy - Done !\n",
      "Moviepy - video ready 20200214_DWG_GEN_1_HL312.5.mp4\n",
      "Moviepy - Building video 20200214_DWG_GEN_1_HL313.0.mp4.\n",
      "MoviePy - Writing audio in 20200214_DWG_GEN_1_HL313.0TEMP_MPY_wvf_snd.mp3\n"
     ]
    },
    {
     "name": "stderr",
     "output_type": "stream",
     "text": [
      "                                                                                                                       \r"
     ]
    },
    {
     "name": "stdout",
     "output_type": "stream",
     "text": [
      "MoviePy - Done.\n",
      "Moviepy - Writing video 20200214_DWG_GEN_1_HL313.0.mp4\n",
      "\n"
     ]
    },
    {
     "name": "stderr",
     "output_type": "stream",
     "text": [
      "                                                                                                                       \r"
     ]
    },
    {
     "name": "stdout",
     "output_type": "stream",
     "text": [
      "Moviepy - Done !\n",
      "Moviepy - video ready 20200214_DWG_GEN_1_HL313.0.mp4\n",
      "Moviepy - Building video 20200214_DWG_GEN_1_HL313.5.mp4.\n",
      "MoviePy - Writing audio in 20200214_DWG_GEN_1_HL313.5TEMP_MPY_wvf_snd.mp3\n"
     ]
    },
    {
     "name": "stderr",
     "output_type": "stream",
     "text": [
      "                                                                                                                       \r"
     ]
    },
    {
     "name": "stdout",
     "output_type": "stream",
     "text": [
      "MoviePy - Done.\n",
      "Moviepy - Writing video 20200214_DWG_GEN_1_HL313.5.mp4\n",
      "\n"
     ]
    },
    {
     "name": "stderr",
     "output_type": "stream",
     "text": [
      "                                                                                                                       \r"
     ]
    },
    {
     "name": "stdout",
     "output_type": "stream",
     "text": [
      "Moviepy - Done !\n",
      "Moviepy - video ready 20200214_DWG_GEN_1_HL313.5.mp4\n",
      "Moviepy - Building video 20200214_DWG_GEN_1_HL314.0.mp4.\n",
      "MoviePy - Writing audio in 20200214_DWG_GEN_1_HL314.0TEMP_MPY_wvf_snd.mp3\n"
     ]
    },
    {
     "name": "stderr",
     "output_type": "stream",
     "text": [
      "                                                                                                                       \r"
     ]
    },
    {
     "name": "stdout",
     "output_type": "stream",
     "text": [
      "MoviePy - Done.\n",
      "Moviepy - Writing video 20200214_DWG_GEN_1_HL314.0.mp4\n",
      "\n"
     ]
    },
    {
     "name": "stderr",
     "output_type": "stream",
     "text": [
      "                                                                                                                       \r"
     ]
    },
    {
     "name": "stdout",
     "output_type": "stream",
     "text": [
      "Moviepy - Done !\n",
      "Moviepy - video ready 20200214_DWG_GEN_1_HL314.0.mp4\n",
      "Moviepy - Building video 20200214_DWG_GEN_1_HL314.5.mp4.\n",
      "MoviePy - Writing audio in 20200214_DWG_GEN_1_HL314.5TEMP_MPY_wvf_snd.mp3\n"
     ]
    },
    {
     "name": "stderr",
     "output_type": "stream",
     "text": [
      "                                                                                                                       \r"
     ]
    },
    {
     "name": "stdout",
     "output_type": "stream",
     "text": [
      "MoviePy - Done.\n",
      "Moviepy - Writing video 20200214_DWG_GEN_1_HL314.5.mp4\n",
      "\n"
     ]
    },
    {
     "name": "stderr",
     "output_type": "stream",
     "text": [
      "                                                                                                                       \r"
     ]
    },
    {
     "name": "stdout",
     "output_type": "stream",
     "text": [
      "Moviepy - Done !\n",
      "Moviepy - video ready 20200214_DWG_GEN_1_HL314.5.mp4\n",
      "Moviepy - Building video 20200214_DWG_GEN_1_HL315.0.mp4.\n",
      "MoviePy - Writing audio in 20200214_DWG_GEN_1_HL315.0TEMP_MPY_wvf_snd.mp3\n"
     ]
    },
    {
     "name": "stderr",
     "output_type": "stream",
     "text": [
      "                                                                                                                       \r"
     ]
    },
    {
     "name": "stdout",
     "output_type": "stream",
     "text": [
      "MoviePy - Done.\n",
      "Moviepy - Writing video 20200214_DWG_GEN_1_HL315.0.mp4\n",
      "\n"
     ]
    },
    {
     "name": "stderr",
     "output_type": "stream",
     "text": [
      "                                                                                                                       \r"
     ]
    },
    {
     "name": "stdout",
     "output_type": "stream",
     "text": [
      "Moviepy - Done !\n",
      "Moviepy - video ready 20200214_DWG_GEN_1_HL315.0.mp4\n",
      "Moviepy - Building video 20200214_DWG_GEN_1_HL315.5.mp4.\n",
      "MoviePy - Writing audio in 20200214_DWG_GEN_1_HL315.5TEMP_MPY_wvf_snd.mp3\n"
     ]
    },
    {
     "name": "stderr",
     "output_type": "stream",
     "text": [
      "                                                                                                                       \r"
     ]
    },
    {
     "name": "stdout",
     "output_type": "stream",
     "text": [
      "MoviePy - Done.\n",
      "Moviepy - Writing video 20200214_DWG_GEN_1_HL315.5.mp4\n",
      "\n"
     ]
    },
    {
     "name": "stderr",
     "output_type": "stream",
     "text": [
      "                                                                                                                       \r"
     ]
    },
    {
     "name": "stdout",
     "output_type": "stream",
     "text": [
      "Moviepy - Done !\n",
      "Moviepy - video ready 20200214_DWG_GEN_1_HL315.5.mp4\n",
      "Moviepy - Building video 20200214_DWG_GEN_1_HL316.0.mp4.\n",
      "MoviePy - Writing audio in 20200214_DWG_GEN_1_HL316.0TEMP_MPY_wvf_snd.mp3\n"
     ]
    },
    {
     "name": "stderr",
     "output_type": "stream",
     "text": [
      "                                                                                                                       \r"
     ]
    },
    {
     "name": "stdout",
     "output_type": "stream",
     "text": [
      "MoviePy - Done.\n",
      "Moviepy - Writing video 20200214_DWG_GEN_1_HL316.0.mp4\n",
      "\n"
     ]
    },
    {
     "name": "stderr",
     "output_type": "stream",
     "text": [
      "                                                                                                                       \r"
     ]
    },
    {
     "name": "stdout",
     "output_type": "stream",
     "text": [
      "Moviepy - Done !\n",
      "Moviepy - video ready 20200214_DWG_GEN_1_HL316.0.mp4\n",
      "Moviepy - Building video 20200214_DWG_GEN_1_HL316.5.mp4.\n",
      "MoviePy - Writing audio in 20200214_DWG_GEN_1_HL316.5TEMP_MPY_wvf_snd.mp3\n"
     ]
    },
    {
     "name": "stderr",
     "output_type": "stream",
     "text": [
      "                                                                                                                       \r"
     ]
    },
    {
     "name": "stdout",
     "output_type": "stream",
     "text": [
      "MoviePy - Done.\n",
      "Moviepy - Writing video 20200214_DWG_GEN_1_HL316.5.mp4\n",
      "\n"
     ]
    },
    {
     "name": "stderr",
     "output_type": "stream",
     "text": [
      "                                                                                                                       \r"
     ]
    },
    {
     "name": "stdout",
     "output_type": "stream",
     "text": [
      "Moviepy - Done !\n",
      "Moviepy - video ready 20200214_DWG_GEN_1_HL316.5.mp4\n",
      "Moviepy - Building video 20200214_DWG_GEN_1_HL317.0.mp4.\n",
      "MoviePy - Writing audio in 20200214_DWG_GEN_1_HL317.0TEMP_MPY_wvf_snd.mp3\n"
     ]
    },
    {
     "name": "stderr",
     "output_type": "stream",
     "text": [
      "                                                                                                                       \r"
     ]
    },
    {
     "name": "stdout",
     "output_type": "stream",
     "text": [
      "MoviePy - Done.\n",
      "Moviepy - Writing video 20200214_DWG_GEN_1_HL317.0.mp4\n",
      "\n"
     ]
    },
    {
     "name": "stderr",
     "output_type": "stream",
     "text": [
      "                                                                                                                       \r"
     ]
    },
    {
     "name": "stdout",
     "output_type": "stream",
     "text": [
      "Moviepy - Done !\n",
      "Moviepy - video ready 20200214_DWG_GEN_1_HL317.0.mp4\n",
      "Moviepy - Building video 20200214_DWG_GEN_1_HL317.5.mp4.\n",
      "MoviePy - Writing audio in 20200214_DWG_GEN_1_HL317.5TEMP_MPY_wvf_snd.mp3\n"
     ]
    },
    {
     "name": "stderr",
     "output_type": "stream",
     "text": [
      "                                                                                                                       \r"
     ]
    },
    {
     "name": "stdout",
     "output_type": "stream",
     "text": [
      "MoviePy - Done.\n",
      "Moviepy - Writing video 20200214_DWG_GEN_1_HL317.5.mp4\n",
      "\n"
     ]
    },
    {
     "name": "stderr",
     "output_type": "stream",
     "text": [
      "                                                                                                                       \r"
     ]
    },
    {
     "name": "stdout",
     "output_type": "stream",
     "text": [
      "Moviepy - Done !\n",
      "Moviepy - video ready 20200214_DWG_GEN_1_HL317.5.mp4\n",
      "Moviepy - Building video 20200214_DWG_GEN_1_HL318.0.mp4.\n",
      "MoviePy - Writing audio in 20200214_DWG_GEN_1_HL318.0TEMP_MPY_wvf_snd.mp3\n"
     ]
    },
    {
     "name": "stderr",
     "output_type": "stream",
     "text": [
      "                                                                                                                       \r"
     ]
    },
    {
     "name": "stdout",
     "output_type": "stream",
     "text": [
      "MoviePy - Done.\n",
      "Moviepy - Writing video 20200214_DWG_GEN_1_HL318.0.mp4\n",
      "\n"
     ]
    },
    {
     "name": "stderr",
     "output_type": "stream",
     "text": [
      "                                                                                                                       \r"
     ]
    },
    {
     "name": "stdout",
     "output_type": "stream",
     "text": [
      "Moviepy - Done !\n",
      "Moviepy - video ready 20200214_DWG_GEN_1_HL318.0.mp4\n",
      "Moviepy - Building video 20200214_DWG_GEN_1_HL318.5.mp4.\n",
      "MoviePy - Writing audio in 20200214_DWG_GEN_1_HL318.5TEMP_MPY_wvf_snd.mp3\n"
     ]
    },
    {
     "name": "stderr",
     "output_type": "stream",
     "text": [
      "                                                                                                                       \r"
     ]
    },
    {
     "name": "stdout",
     "output_type": "stream",
     "text": [
      "MoviePy - Done.\n",
      "Moviepy - Writing video 20200214_DWG_GEN_1_HL318.5.mp4\n",
      "\n"
     ]
    },
    {
     "name": "stderr",
     "output_type": "stream",
     "text": [
      "                                                                                                                       \r"
     ]
    },
    {
     "name": "stdout",
     "output_type": "stream",
     "text": [
      "Moviepy - Done !\n",
      "Moviepy - video ready 20200214_DWG_GEN_1_HL318.5.mp4\n",
      "Moviepy - Building video 20200214_DWG_GEN_1_HL319.0.mp4.\n",
      "MoviePy - Writing audio in 20200214_DWG_GEN_1_HL319.0TEMP_MPY_wvf_snd.mp3\n"
     ]
    },
    {
     "name": "stderr",
     "output_type": "stream",
     "text": [
      "                                                                                                                       \r"
     ]
    },
    {
     "name": "stdout",
     "output_type": "stream",
     "text": [
      "MoviePy - Done.\n",
      "Moviepy - Writing video 20200214_DWG_GEN_1_HL319.0.mp4\n",
      "\n"
     ]
    },
    {
     "name": "stderr",
     "output_type": "stream",
     "text": [
      "                                                                                                                       \r"
     ]
    },
    {
     "name": "stdout",
     "output_type": "stream",
     "text": [
      "Moviepy - Done !\n",
      "Moviepy - video ready 20200214_DWG_GEN_1_HL319.0.mp4\n",
      "Moviepy - Building video 20200214_DWG_GEN_1_HL319.5.mp4.\n",
      "MoviePy - Writing audio in 20200214_DWG_GEN_1_HL319.5TEMP_MPY_wvf_snd.mp3\n"
     ]
    },
    {
     "name": "stderr",
     "output_type": "stream",
     "text": [
      "                                                                                                                       \r"
     ]
    },
    {
     "name": "stdout",
     "output_type": "stream",
     "text": [
      "MoviePy - Done.\n",
      "Moviepy - Writing video 20200214_DWG_GEN_1_HL319.5.mp4\n",
      "\n"
     ]
    },
    {
     "name": "stderr",
     "output_type": "stream",
     "text": [
      "                                                                                                                       \r"
     ]
    },
    {
     "name": "stdout",
     "output_type": "stream",
     "text": [
      "Moviepy - Done !\n",
      "Moviepy - video ready 20200214_DWG_GEN_1_HL319.5.mp4\n",
      "Moviepy - Building video 20200214_DWG_GEN_1_HL320.0.mp4.\n",
      "MoviePy - Writing audio in 20200214_DWG_GEN_1_HL320.0TEMP_MPY_wvf_snd.mp3\n"
     ]
    },
    {
     "name": "stderr",
     "output_type": "stream",
     "text": [
      "                                                                                                                       \r"
     ]
    },
    {
     "name": "stdout",
     "output_type": "stream",
     "text": [
      "MoviePy - Done.\n",
      "Moviepy - Writing video 20200214_DWG_GEN_1_HL320.0.mp4\n",
      "\n"
     ]
    },
    {
     "name": "stderr",
     "output_type": "stream",
     "text": [
      "                                                                                                                       \r"
     ]
    },
    {
     "name": "stdout",
     "output_type": "stream",
     "text": [
      "Moviepy - Done !\n",
      "Moviepy - video ready 20200214_DWG_GEN_1_HL320.0.mp4\n",
      "Moviepy - Building video 20200214_DWG_GEN_1_HL320.5.mp4.\n",
      "MoviePy - Writing audio in 20200214_DWG_GEN_1_HL320.5TEMP_MPY_wvf_snd.mp3\n"
     ]
    },
    {
     "name": "stderr",
     "output_type": "stream",
     "text": [
      "                                                                                                                       \r"
     ]
    },
    {
     "name": "stdout",
     "output_type": "stream",
     "text": [
      "MoviePy - Done.\n",
      "Moviepy - Writing video 20200214_DWG_GEN_1_HL320.5.mp4\n",
      "\n"
     ]
    },
    {
     "name": "stderr",
     "output_type": "stream",
     "text": [
      "                                                                                                                       \r"
     ]
    },
    {
     "name": "stdout",
     "output_type": "stream",
     "text": [
      "Moviepy - Done !\n",
      "Moviepy - video ready 20200214_DWG_GEN_1_HL320.5.mp4\n",
      "Moviepy - Building video 20200214_DWG_GEN_1_HL321.0.mp4.\n",
      "MoviePy - Writing audio in 20200214_DWG_GEN_1_HL321.0TEMP_MPY_wvf_snd.mp3\n"
     ]
    },
    {
     "name": "stderr",
     "output_type": "stream",
     "text": [
      "                                                                                                                       \r"
     ]
    },
    {
     "name": "stdout",
     "output_type": "stream",
     "text": [
      "MoviePy - Done.\n",
      "Moviepy - Writing video 20200214_DWG_GEN_1_HL321.0.mp4\n",
      "\n"
     ]
    },
    {
     "name": "stderr",
     "output_type": "stream",
     "text": [
      "                                                                                                                       \r"
     ]
    },
    {
     "name": "stdout",
     "output_type": "stream",
     "text": [
      "Moviepy - Done !\n",
      "Moviepy - video ready 20200214_DWG_GEN_1_HL321.0.mp4\n",
      "Moviepy - Building video 20200214_DWG_GEN_1_HL321.5.mp4.\n",
      "MoviePy - Writing audio in 20200214_DWG_GEN_1_HL321.5TEMP_MPY_wvf_snd.mp3\n"
     ]
    },
    {
     "name": "stderr",
     "output_type": "stream",
     "text": [
      "                                                                                                                       \r"
     ]
    },
    {
     "name": "stdout",
     "output_type": "stream",
     "text": [
      "MoviePy - Done.\n",
      "Moviepy - Writing video 20200214_DWG_GEN_1_HL321.5.mp4\n",
      "\n"
     ]
    },
    {
     "name": "stderr",
     "output_type": "stream",
     "text": [
      "                                                                                                                       \r"
     ]
    },
    {
     "name": "stdout",
     "output_type": "stream",
     "text": [
      "Moviepy - Done !\n",
      "Moviepy - video ready 20200214_DWG_GEN_1_HL321.5.mp4\n",
      "Moviepy - Building video 20200214_DWG_GEN_1_HL322.0.mp4.\n",
      "MoviePy - Writing audio in 20200214_DWG_GEN_1_HL322.0TEMP_MPY_wvf_snd.mp3\n"
     ]
    },
    {
     "name": "stderr",
     "output_type": "stream",
     "text": [
      "                                                                                                                       \r"
     ]
    },
    {
     "name": "stdout",
     "output_type": "stream",
     "text": [
      "MoviePy - Done.\n",
      "Moviepy - Writing video 20200214_DWG_GEN_1_HL322.0.mp4\n",
      "\n"
     ]
    },
    {
     "name": "stderr",
     "output_type": "stream",
     "text": [
      "                                                                                                                       \r"
     ]
    },
    {
     "name": "stdout",
     "output_type": "stream",
     "text": [
      "Moviepy - Done !\n",
      "Moviepy - video ready 20200214_DWG_GEN_1_HL322.0.mp4\n",
      "Moviepy - Building video 20200214_DWG_GEN_1_HL322.5.mp4.\n",
      "MoviePy - Writing audio in 20200214_DWG_GEN_1_HL322.5TEMP_MPY_wvf_snd.mp3\n"
     ]
    },
    {
     "name": "stderr",
     "output_type": "stream",
     "text": [
      "                                                                                                                       \r"
     ]
    },
    {
     "name": "stdout",
     "output_type": "stream",
     "text": [
      "MoviePy - Done.\n",
      "Moviepy - Writing video 20200214_DWG_GEN_1_HL322.5.mp4\n",
      "\n"
     ]
    },
    {
     "name": "stderr",
     "output_type": "stream",
     "text": [
      "                                                                                                                       \r"
     ]
    },
    {
     "name": "stdout",
     "output_type": "stream",
     "text": [
      "Moviepy - Done !\n",
      "Moviepy - video ready 20200214_DWG_GEN_1_HL322.5.mp4\n",
      "Moviepy - Building video 20200214_DWG_GEN_1_HL323.0.mp4.\n",
      "MoviePy - Writing audio in 20200214_DWG_GEN_1_HL323.0TEMP_MPY_wvf_snd.mp3\n"
     ]
    },
    {
     "name": "stderr",
     "output_type": "stream",
     "text": [
      "                                                                                                                       \r"
     ]
    },
    {
     "name": "stdout",
     "output_type": "stream",
     "text": [
      "MoviePy - Done.\n",
      "Moviepy - Writing video 20200214_DWG_GEN_1_HL323.0.mp4\n",
      "\n"
     ]
    },
    {
     "name": "stderr",
     "output_type": "stream",
     "text": [
      "                                                                                                                       \r"
     ]
    },
    {
     "name": "stdout",
     "output_type": "stream",
     "text": [
      "Moviepy - Done !\n",
      "Moviepy - video ready 20200214_DWG_GEN_1_HL323.0.mp4\n",
      "Moviepy - Building video 20200214_DWG_GEN_1_HL323.5.mp4.\n",
      "MoviePy - Writing audio in 20200214_DWG_GEN_1_HL323.5TEMP_MPY_wvf_snd.mp3\n"
     ]
    },
    {
     "name": "stderr",
     "output_type": "stream",
     "text": [
      "                                                                                                                       \r"
     ]
    },
    {
     "name": "stdout",
     "output_type": "stream",
     "text": [
      "MoviePy - Done.\n",
      "Moviepy - Writing video 20200214_DWG_GEN_1_HL323.5.mp4\n",
      "\n"
     ]
    },
    {
     "name": "stderr",
     "output_type": "stream",
     "text": [
      "                                                                                                                       \r"
     ]
    },
    {
     "name": "stdout",
     "output_type": "stream",
     "text": [
      "Moviepy - Done !\n",
      "Moviepy - video ready 20200214_DWG_GEN_1_HL323.5.mp4\n",
      "Moviepy - Building video 20200214_DWG_GEN_1_HL324.0.mp4.\n",
      "MoviePy - Writing audio in 20200214_DWG_GEN_1_HL324.0TEMP_MPY_wvf_snd.mp3\n"
     ]
    },
    {
     "name": "stderr",
     "output_type": "stream",
     "text": [
      "                                                                                                                       \r"
     ]
    },
    {
     "name": "stdout",
     "output_type": "stream",
     "text": [
      "MoviePy - Done.\n",
      "Moviepy - Writing video 20200214_DWG_GEN_1_HL324.0.mp4\n",
      "\n"
     ]
    },
    {
     "name": "stderr",
     "output_type": "stream",
     "text": [
      "                                                                                                                       \r"
     ]
    },
    {
     "name": "stdout",
     "output_type": "stream",
     "text": [
      "Moviepy - Done !\n",
      "Moviepy - video ready 20200214_DWG_GEN_1_HL324.0.mp4\n",
      "Moviepy - Building video 20200214_DWG_GEN_1_HL324.5.mp4.\n",
      "MoviePy - Writing audio in 20200214_DWG_GEN_1_HL324.5TEMP_MPY_wvf_snd.mp3\n"
     ]
    },
    {
     "name": "stderr",
     "output_type": "stream",
     "text": [
      "                                                                                                                       \r"
     ]
    },
    {
     "name": "stdout",
     "output_type": "stream",
     "text": [
      "MoviePy - Done.\n",
      "Moviepy - Writing video 20200214_DWG_GEN_1_HL324.5.mp4\n",
      "\n"
     ]
    },
    {
     "name": "stderr",
     "output_type": "stream",
     "text": [
      "                                                                                                                       \r"
     ]
    },
    {
     "name": "stdout",
     "output_type": "stream",
     "text": [
      "Moviepy - Done !\n",
      "Moviepy - video ready 20200214_DWG_GEN_1_HL324.5.mp4\n",
      "Moviepy - Building video 20200214_DWG_GEN_1_HL325.0.mp4.\n",
      "MoviePy - Writing audio in 20200214_DWG_GEN_1_HL325.0TEMP_MPY_wvf_snd.mp3\n"
     ]
    },
    {
     "name": "stderr",
     "output_type": "stream",
     "text": [
      "                                                                                                                       \r"
     ]
    },
    {
     "name": "stdout",
     "output_type": "stream",
     "text": [
      "MoviePy - Done.\n",
      "Moviepy - Writing video 20200214_DWG_GEN_1_HL325.0.mp4\n",
      "\n"
     ]
    },
    {
     "name": "stderr",
     "output_type": "stream",
     "text": [
      "                                                                                                                       \r"
     ]
    },
    {
     "name": "stdout",
     "output_type": "stream",
     "text": [
      "Moviepy - Done !\n",
      "Moviepy - video ready 20200214_DWG_GEN_1_HL325.0.mp4\n",
      "Moviepy - Building video 20200214_DWG_GEN_1_HL325.5.mp4.\n",
      "MoviePy - Writing audio in 20200214_DWG_GEN_1_HL325.5TEMP_MPY_wvf_snd.mp3\n"
     ]
    },
    {
     "name": "stderr",
     "output_type": "stream",
     "text": [
      "                                                                                                                       \r"
     ]
    },
    {
     "name": "stdout",
     "output_type": "stream",
     "text": [
      "MoviePy - Done.\n",
      "Moviepy - Writing video 20200214_DWG_GEN_1_HL325.5.mp4\n",
      "\n"
     ]
    },
    {
     "name": "stderr",
     "output_type": "stream",
     "text": [
      "                                                                                                                       \r"
     ]
    },
    {
     "name": "stdout",
     "output_type": "stream",
     "text": [
      "Moviepy - Done !\n",
      "Moviepy - video ready 20200214_DWG_GEN_1_HL325.5.mp4\n",
      "Moviepy - Building video 20200214_DWG_GEN_1_HL326.0.mp4.\n",
      "MoviePy - Writing audio in 20200214_DWG_GEN_1_HL326.0TEMP_MPY_wvf_snd.mp3\n"
     ]
    },
    {
     "name": "stderr",
     "output_type": "stream",
     "text": [
      "                                                                                                                       \r"
     ]
    },
    {
     "name": "stdout",
     "output_type": "stream",
     "text": [
      "MoviePy - Done.\n",
      "Moviepy - Writing video 20200214_DWG_GEN_1_HL326.0.mp4\n",
      "\n"
     ]
    },
    {
     "name": "stderr",
     "output_type": "stream",
     "text": [
      "                                                                                                                       \r"
     ]
    },
    {
     "name": "stdout",
     "output_type": "stream",
     "text": [
      "Moviepy - Done !\n",
      "Moviepy - video ready 20200214_DWG_GEN_1_HL326.0.mp4\n",
      "Moviepy - Building video 20200214_DWG_GEN_1_HL326.5.mp4.\n",
      "MoviePy - Writing audio in 20200214_DWG_GEN_1_HL326.5TEMP_MPY_wvf_snd.mp3\n"
     ]
    },
    {
     "name": "stderr",
     "output_type": "stream",
     "text": [
      "                                                                                                                       \r"
     ]
    },
    {
     "name": "stdout",
     "output_type": "stream",
     "text": [
      "MoviePy - Done.\n",
      "Moviepy - Writing video 20200214_DWG_GEN_1_HL326.5.mp4\n",
      "\n"
     ]
    },
    {
     "name": "stderr",
     "output_type": "stream",
     "text": [
      "                                                                                                                       \r"
     ]
    },
    {
     "name": "stdout",
     "output_type": "stream",
     "text": [
      "Moviepy - Done !\n",
      "Moviepy - video ready 20200214_DWG_GEN_1_HL326.5.mp4\n",
      "Moviepy - Building video 20200214_DWG_GEN_1_HL327.0.mp4.\n",
      "MoviePy - Writing audio in 20200214_DWG_GEN_1_HL327.0TEMP_MPY_wvf_snd.mp3\n"
     ]
    },
    {
     "name": "stderr",
     "output_type": "stream",
     "text": [
      "                                                                                                                       \r"
     ]
    },
    {
     "name": "stdout",
     "output_type": "stream",
     "text": [
      "MoviePy - Done.\n",
      "Moviepy - Writing video 20200214_DWG_GEN_1_HL327.0.mp4\n",
      "\n"
     ]
    },
    {
     "name": "stderr",
     "output_type": "stream",
     "text": [
      "                                                                                                                       \r"
     ]
    },
    {
     "name": "stdout",
     "output_type": "stream",
     "text": [
      "Moviepy - Done !\n",
      "Moviepy - video ready 20200214_DWG_GEN_1_HL327.0.mp4\n",
      "Moviepy - Building video 20200214_DWG_GEN_1_HL327.5.mp4.\n",
      "MoviePy - Writing audio in 20200214_DWG_GEN_1_HL327.5TEMP_MPY_wvf_snd.mp3\n"
     ]
    },
    {
     "name": "stderr",
     "output_type": "stream",
     "text": [
      "                                                                                                                       \r"
     ]
    },
    {
     "name": "stdout",
     "output_type": "stream",
     "text": [
      "MoviePy - Done.\n",
      "Moviepy - Writing video 20200214_DWG_GEN_1_HL327.5.mp4\n",
      "\n"
     ]
    },
    {
     "name": "stderr",
     "output_type": "stream",
     "text": [
      "                                                                                                                       \r"
     ]
    },
    {
     "name": "stdout",
     "output_type": "stream",
     "text": [
      "Moviepy - Done !\n",
      "Moviepy - video ready 20200214_DWG_GEN_1_HL327.5.mp4\n",
      "Moviepy - Building video 20200214_DWG_GEN_1_HL328.0.mp4.\n",
      "MoviePy - Writing audio in 20200214_DWG_GEN_1_HL328.0TEMP_MPY_wvf_snd.mp3\n"
     ]
    },
    {
     "name": "stderr",
     "output_type": "stream",
     "text": [
      "                                                                                                                       \r"
     ]
    },
    {
     "name": "stdout",
     "output_type": "stream",
     "text": [
      "MoviePy - Done.\n",
      "Moviepy - Writing video 20200214_DWG_GEN_1_HL328.0.mp4\n",
      "\n"
     ]
    },
    {
     "name": "stderr",
     "output_type": "stream",
     "text": [
      "                                                                                                                       \r"
     ]
    },
    {
     "name": "stdout",
     "output_type": "stream",
     "text": [
      "Moviepy - Done !\n",
      "Moviepy - video ready 20200214_DWG_GEN_1_HL328.0.mp4\n",
      "Moviepy - Building video 20200214_DWG_GEN_1_HL328.5.mp4.\n",
      "MoviePy - Writing audio in 20200214_DWG_GEN_1_HL328.5TEMP_MPY_wvf_snd.mp3\n"
     ]
    },
    {
     "name": "stderr",
     "output_type": "stream",
     "text": [
      "                                                                                                                       \r"
     ]
    },
    {
     "name": "stdout",
     "output_type": "stream",
     "text": [
      "MoviePy - Done.\n",
      "Moviepy - Writing video 20200214_DWG_GEN_1_HL328.5.mp4\n",
      "\n"
     ]
    },
    {
     "name": "stderr",
     "output_type": "stream",
     "text": [
      "                                                                                                                       \r"
     ]
    },
    {
     "name": "stdout",
     "output_type": "stream",
     "text": [
      "Moviepy - Done !\n",
      "Moviepy - video ready 20200214_DWG_GEN_1_HL328.5.mp4\n",
      "Moviepy - Building video 20200214_DWG_GEN_1_HL329.0.mp4.\n",
      "MoviePy - Writing audio in 20200214_DWG_GEN_1_HL329.0TEMP_MPY_wvf_snd.mp3\n"
     ]
    },
    {
     "name": "stderr",
     "output_type": "stream",
     "text": [
      "                                                                                                                       \r"
     ]
    },
    {
     "name": "stdout",
     "output_type": "stream",
     "text": [
      "MoviePy - Done.\n",
      "Moviepy - Writing video 20200214_DWG_GEN_1_HL329.0.mp4\n",
      "\n"
     ]
    },
    {
     "name": "stderr",
     "output_type": "stream",
     "text": [
      "                                                                                                                       \r"
     ]
    },
    {
     "name": "stdout",
     "output_type": "stream",
     "text": [
      "Moviepy - Done !\n",
      "Moviepy - video ready 20200214_DWG_GEN_1_HL329.0.mp4\n",
      "Moviepy - Building video 20200214_DWG_GEN_1_HL329.5.mp4.\n",
      "MoviePy - Writing audio in 20200214_DWG_GEN_1_HL329.5TEMP_MPY_wvf_snd.mp3\n"
     ]
    },
    {
     "name": "stderr",
     "output_type": "stream",
     "text": [
      "                                                                                                                       \r"
     ]
    },
    {
     "name": "stdout",
     "output_type": "stream",
     "text": [
      "MoviePy - Done.\n",
      "Moviepy - Writing video 20200214_DWG_GEN_1_HL329.5.mp4\n",
      "\n"
     ]
    },
    {
     "name": "stderr",
     "output_type": "stream",
     "text": [
      "                                                                                                                       \r"
     ]
    },
    {
     "name": "stdout",
     "output_type": "stream",
     "text": [
      "Moviepy - Done !\n",
      "Moviepy - video ready 20200214_DWG_GEN_1_HL329.5.mp4\n",
      "Moviepy - Building video 20200214_DWG_GEN_1_HL330.0.mp4.\n",
      "MoviePy - Writing audio in 20200214_DWG_GEN_1_HL330.0TEMP_MPY_wvf_snd.mp3\n"
     ]
    },
    {
     "name": "stderr",
     "output_type": "stream",
     "text": [
      "                                                                                                                       \r"
     ]
    },
    {
     "name": "stdout",
     "output_type": "stream",
     "text": [
      "MoviePy - Done.\n",
      "Moviepy - Writing video 20200214_DWG_GEN_1_HL330.0.mp4\n",
      "\n"
     ]
    },
    {
     "name": "stderr",
     "output_type": "stream",
     "text": [
      "                                                                                                                       \r"
     ]
    },
    {
     "name": "stdout",
     "output_type": "stream",
     "text": [
      "Moviepy - Done !\n",
      "Moviepy - video ready 20200214_DWG_GEN_1_HL330.0.mp4\n",
      "Moviepy - Building video 20200214_DWG_GEN_1_HL330.5.mp4.\n",
      "MoviePy - Writing audio in 20200214_DWG_GEN_1_HL330.5TEMP_MPY_wvf_snd.mp3\n"
     ]
    },
    {
     "name": "stderr",
     "output_type": "stream",
     "text": [
      "                                                                                                                       \r"
     ]
    },
    {
     "name": "stdout",
     "output_type": "stream",
     "text": [
      "MoviePy - Done.\n",
      "Moviepy - Writing video 20200214_DWG_GEN_1_HL330.5.mp4\n",
      "\n"
     ]
    },
    {
     "name": "stderr",
     "output_type": "stream",
     "text": [
      "                                                                                                                       \r"
     ]
    },
    {
     "name": "stdout",
     "output_type": "stream",
     "text": [
      "Moviepy - Done !\n",
      "Moviepy - video ready 20200214_DWG_GEN_1_HL330.5.mp4\n",
      "Moviepy - Building video 20200214_DWG_GEN_1_HL331.0.mp4.\n",
      "MoviePy - Writing audio in 20200214_DWG_GEN_1_HL331.0TEMP_MPY_wvf_snd.mp3\n"
     ]
    },
    {
     "name": "stderr",
     "output_type": "stream",
     "text": [
      "                                                                                                                       \r"
     ]
    },
    {
     "name": "stdout",
     "output_type": "stream",
     "text": [
      "MoviePy - Done.\n",
      "Moviepy - Writing video 20200214_DWG_GEN_1_HL331.0.mp4\n",
      "\n"
     ]
    },
    {
     "name": "stderr",
     "output_type": "stream",
     "text": [
      "                                                                                                                       \r"
     ]
    },
    {
     "name": "stdout",
     "output_type": "stream",
     "text": [
      "Moviepy - Done !\n",
      "Moviepy - video ready 20200214_DWG_GEN_1_HL331.0.mp4\n",
      "Moviepy - Building video 20200214_DWG_GEN_1_HL331.5.mp4.\n",
      "MoviePy - Writing audio in 20200214_DWG_GEN_1_HL331.5TEMP_MPY_wvf_snd.mp3\n"
     ]
    },
    {
     "name": "stderr",
     "output_type": "stream",
     "text": [
      "                                                                                                                       \r"
     ]
    },
    {
     "name": "stdout",
     "output_type": "stream",
     "text": [
      "MoviePy - Done.\n",
      "Moviepy - Writing video 20200214_DWG_GEN_1_HL331.5.mp4\n",
      "\n"
     ]
    },
    {
     "name": "stderr",
     "output_type": "stream",
     "text": [
      "                                                                                                                       \r"
     ]
    },
    {
     "name": "stdout",
     "output_type": "stream",
     "text": [
      "Moviepy - Done !\n",
      "Moviepy - video ready 20200214_DWG_GEN_1_HL331.5.mp4\n",
      "Moviepy - Building video 20200214_DWG_GEN_1_HL332.0.mp4.\n",
      "MoviePy - Writing audio in 20200214_DWG_GEN_1_HL332.0TEMP_MPY_wvf_snd.mp3\n"
     ]
    },
    {
     "name": "stderr",
     "output_type": "stream",
     "text": [
      "                                                                                                                       \r"
     ]
    },
    {
     "name": "stdout",
     "output_type": "stream",
     "text": [
      "MoviePy - Done.\n",
      "Moviepy - Writing video 20200214_DWG_GEN_1_HL332.0.mp4\n",
      "\n"
     ]
    },
    {
     "name": "stderr",
     "output_type": "stream",
     "text": [
      "                                                                                                                       \r"
     ]
    },
    {
     "name": "stdout",
     "output_type": "stream",
     "text": [
      "Moviepy - Done !\n",
      "Moviepy - video ready 20200214_DWG_GEN_1_HL332.0.mp4\n",
      "Moviepy - Building video 20200214_DWG_GEN_1_HL332.5.mp4.\n",
      "MoviePy - Writing audio in 20200214_DWG_GEN_1_HL332.5TEMP_MPY_wvf_snd.mp3\n"
     ]
    },
    {
     "name": "stderr",
     "output_type": "stream",
     "text": [
      "                                                                                                                       \r"
     ]
    },
    {
     "name": "stdout",
     "output_type": "stream",
     "text": [
      "MoviePy - Done.\n",
      "Moviepy - Writing video 20200214_DWG_GEN_1_HL332.5.mp4\n",
      "\n"
     ]
    },
    {
     "name": "stderr",
     "output_type": "stream",
     "text": [
      "                                                                                                                       \r"
     ]
    },
    {
     "name": "stdout",
     "output_type": "stream",
     "text": [
      "Moviepy - Done !\n",
      "Moviepy - video ready 20200214_DWG_GEN_1_HL332.5.mp4\n",
      "Moviepy - Building video 20200214_DWG_GEN_1_HL333.0.mp4.\n",
      "MoviePy - Writing audio in 20200214_DWG_GEN_1_HL333.0TEMP_MPY_wvf_snd.mp3\n"
     ]
    },
    {
     "name": "stderr",
     "output_type": "stream",
     "text": [
      "                                                                                                                       \r"
     ]
    },
    {
     "name": "stdout",
     "output_type": "stream",
     "text": [
      "MoviePy - Done.\n",
      "Moviepy - Writing video 20200214_DWG_GEN_1_HL333.0.mp4\n",
      "\n"
     ]
    },
    {
     "name": "stderr",
     "output_type": "stream",
     "text": [
      "                                                                                                                       \r"
     ]
    },
    {
     "name": "stdout",
     "output_type": "stream",
     "text": [
      "Moviepy - Done !\n",
      "Moviepy - video ready 20200214_DWG_GEN_1_HL333.0.mp4\n",
      "Moviepy - Building video 20200214_DWG_GEN_1_HL333.5.mp4.\n",
      "MoviePy - Writing audio in 20200214_DWG_GEN_1_HL333.5TEMP_MPY_wvf_snd.mp3\n"
     ]
    },
    {
     "name": "stderr",
     "output_type": "stream",
     "text": [
      "                                                                                                                       \r"
     ]
    },
    {
     "name": "stdout",
     "output_type": "stream",
     "text": [
      "MoviePy - Done.\n",
      "Moviepy - Writing video 20200214_DWG_GEN_1_HL333.5.mp4\n",
      "\n"
     ]
    },
    {
     "name": "stderr",
     "output_type": "stream",
     "text": [
      "                                                                                                                       \r"
     ]
    },
    {
     "name": "stdout",
     "output_type": "stream",
     "text": [
      "Moviepy - Done !\n",
      "Moviepy - video ready 20200214_DWG_GEN_1_HL333.5.mp4\n",
      "Moviepy - Building video 20200214_DWG_GEN_1_HL334.0.mp4.\n",
      "MoviePy - Writing audio in 20200214_DWG_GEN_1_HL334.0TEMP_MPY_wvf_snd.mp3\n"
     ]
    },
    {
     "name": "stderr",
     "output_type": "stream",
     "text": [
      "                                                                                                                       \r"
     ]
    },
    {
     "name": "stdout",
     "output_type": "stream",
     "text": [
      "MoviePy - Done.\n",
      "Moviepy - Writing video 20200214_DWG_GEN_1_HL334.0.mp4\n",
      "\n"
     ]
    },
    {
     "name": "stderr",
     "output_type": "stream",
     "text": [
      "                                                                                                                       \r"
     ]
    },
    {
     "name": "stdout",
     "output_type": "stream",
     "text": [
      "Moviepy - Done !\n",
      "Moviepy - video ready 20200214_DWG_GEN_1_HL334.0.mp4\n",
      "Moviepy - Building video 20200214_DWG_GEN_1_HL334.5.mp4.\n",
      "MoviePy - Writing audio in 20200214_DWG_GEN_1_HL334.5TEMP_MPY_wvf_snd.mp3\n"
     ]
    },
    {
     "name": "stderr",
     "output_type": "stream",
     "text": [
      "                                                                                                                       \r"
     ]
    },
    {
     "name": "stdout",
     "output_type": "stream",
     "text": [
      "MoviePy - Done.\n",
      "Moviepy - Writing video 20200214_DWG_GEN_1_HL334.5.mp4\n",
      "\n"
     ]
    },
    {
     "name": "stderr",
     "output_type": "stream",
     "text": [
      "                                                                                                                       \r"
     ]
    },
    {
     "name": "stdout",
     "output_type": "stream",
     "text": [
      "Moviepy - Done !\n",
      "Moviepy - video ready 20200214_DWG_GEN_1_HL334.5.mp4\n",
      "Moviepy - Building video 20200214_DWG_GEN_1_HL335.0.mp4.\n",
      "MoviePy - Writing audio in 20200214_DWG_GEN_1_HL335.0TEMP_MPY_wvf_snd.mp3\n"
     ]
    },
    {
     "name": "stderr",
     "output_type": "stream",
     "text": [
      "                                                                                                                       \r"
     ]
    },
    {
     "name": "stdout",
     "output_type": "stream",
     "text": [
      "MoviePy - Done.\n",
      "Moviepy - Writing video 20200214_DWG_GEN_1_HL335.0.mp4\n",
      "\n"
     ]
    },
    {
     "name": "stderr",
     "output_type": "stream",
     "text": [
      "                                                                                                                       \r"
     ]
    },
    {
     "name": "stdout",
     "output_type": "stream",
     "text": [
      "Moviepy - Done !\n",
      "Moviepy - video ready 20200214_DWG_GEN_1_HL335.0.mp4\n",
      "Moviepy - Building video 20200214_DWG_GEN_1_HL335.5.mp4.\n",
      "MoviePy - Writing audio in 20200214_DWG_GEN_1_HL335.5TEMP_MPY_wvf_snd.mp3\n"
     ]
    },
    {
     "name": "stderr",
     "output_type": "stream",
     "text": [
      "                                                                                                                       \r"
     ]
    },
    {
     "name": "stdout",
     "output_type": "stream",
     "text": [
      "MoviePy - Done.\n",
      "Moviepy - Writing video 20200214_DWG_GEN_1_HL335.5.mp4\n",
      "\n"
     ]
    },
    {
     "name": "stderr",
     "output_type": "stream",
     "text": [
      "                                                                                                                       \r"
     ]
    },
    {
     "name": "stdout",
     "output_type": "stream",
     "text": [
      "Moviepy - Done !\n",
      "Moviepy - video ready 20200214_DWG_GEN_1_HL335.5.mp4\n",
      "Moviepy - Building video 20200214_DWG_GEN_1_HL336.0.mp4.\n",
      "MoviePy - Writing audio in 20200214_DWG_GEN_1_HL336.0TEMP_MPY_wvf_snd.mp3\n"
     ]
    },
    {
     "name": "stderr",
     "output_type": "stream",
     "text": [
      "                                                                                                                       \r"
     ]
    },
    {
     "name": "stdout",
     "output_type": "stream",
     "text": [
      "MoviePy - Done.\n",
      "Moviepy - Writing video 20200214_DWG_GEN_1_HL336.0.mp4\n",
      "\n"
     ]
    },
    {
     "name": "stderr",
     "output_type": "stream",
     "text": [
      "                                                                                                                       \r"
     ]
    },
    {
     "name": "stdout",
     "output_type": "stream",
     "text": [
      "Moviepy - Done !\n",
      "Moviepy - video ready 20200214_DWG_GEN_1_HL336.0.mp4\n",
      "Moviepy - Building video 20200214_DWG_GEN_1_HL336.5.mp4.\n",
      "MoviePy - Writing audio in 20200214_DWG_GEN_1_HL336.5TEMP_MPY_wvf_snd.mp3\n"
     ]
    },
    {
     "name": "stderr",
     "output_type": "stream",
     "text": [
      "                                                                                                                       \r"
     ]
    },
    {
     "name": "stdout",
     "output_type": "stream",
     "text": [
      "MoviePy - Done.\n",
      "Moviepy - Writing video 20200214_DWG_GEN_1_HL336.5.mp4\n",
      "\n"
     ]
    },
    {
     "name": "stderr",
     "output_type": "stream",
     "text": [
      "                                                                                                                       \r"
     ]
    },
    {
     "name": "stdout",
     "output_type": "stream",
     "text": [
      "Moviepy - Done !\n",
      "Moviepy - video ready 20200214_DWG_GEN_1_HL336.5.mp4\n",
      "Moviepy - Building video 20200214_DWG_GEN_1_HL337.0.mp4.\n",
      "MoviePy - Writing audio in 20200214_DWG_GEN_1_HL337.0TEMP_MPY_wvf_snd.mp3\n"
     ]
    },
    {
     "name": "stderr",
     "output_type": "stream",
     "text": [
      "                                                                                                                       \r"
     ]
    },
    {
     "name": "stdout",
     "output_type": "stream",
     "text": [
      "MoviePy - Done.\n",
      "Moviepy - Writing video 20200214_DWG_GEN_1_HL337.0.mp4\n",
      "\n"
     ]
    },
    {
     "name": "stderr",
     "output_type": "stream",
     "text": [
      "                                                                                                                       \r"
     ]
    },
    {
     "name": "stdout",
     "output_type": "stream",
     "text": [
      "Moviepy - Done !\n",
      "Moviepy - video ready 20200214_DWG_GEN_1_HL337.0.mp4\n",
      "Moviepy - Building video 20200214_DWG_GEN_1_HL337.5.mp4.\n",
      "MoviePy - Writing audio in 20200214_DWG_GEN_1_HL337.5TEMP_MPY_wvf_snd.mp3\n"
     ]
    },
    {
     "name": "stderr",
     "output_type": "stream",
     "text": [
      "                                                                                                                       \r"
     ]
    },
    {
     "name": "stdout",
     "output_type": "stream",
     "text": [
      "MoviePy - Done.\n",
      "Moviepy - Writing video 20200214_DWG_GEN_1_HL337.5.mp4\n",
      "\n"
     ]
    },
    {
     "name": "stderr",
     "output_type": "stream",
     "text": [
      "                                                                                                                       \r"
     ]
    },
    {
     "name": "stdout",
     "output_type": "stream",
     "text": [
      "Moviepy - Done !\n",
      "Moviepy - video ready 20200214_DWG_GEN_1_HL337.5.mp4\n",
      "Moviepy - Building video 20200214_DWG_GEN_1_HL338.0.mp4.\n",
      "MoviePy - Writing audio in 20200214_DWG_GEN_1_HL338.0TEMP_MPY_wvf_snd.mp3\n"
     ]
    },
    {
     "name": "stderr",
     "output_type": "stream",
     "text": [
      "                                                                                                                       \r"
     ]
    },
    {
     "name": "stdout",
     "output_type": "stream",
     "text": [
      "MoviePy - Done.\n",
      "Moviepy - Writing video 20200214_DWG_GEN_1_HL338.0.mp4\n",
      "\n"
     ]
    },
    {
     "name": "stderr",
     "output_type": "stream",
     "text": [
      "                                                                                                                       \r"
     ]
    },
    {
     "name": "stdout",
     "output_type": "stream",
     "text": [
      "Moviepy - Done !\n",
      "Moviepy - video ready 20200214_DWG_GEN_1_HL338.0.mp4\n",
      "Moviepy - Building video 20200214_DWG_GEN_1_HL338.5.mp4.\n",
      "MoviePy - Writing audio in 20200214_DWG_GEN_1_HL338.5TEMP_MPY_wvf_snd.mp3\n"
     ]
    },
    {
     "name": "stderr",
     "output_type": "stream",
     "text": [
      "                                                                                                                       \r"
     ]
    },
    {
     "name": "stdout",
     "output_type": "stream",
     "text": [
      "MoviePy - Done.\n",
      "Moviepy - Writing video 20200214_DWG_GEN_1_HL338.5.mp4\n",
      "\n"
     ]
    },
    {
     "name": "stderr",
     "output_type": "stream",
     "text": [
      "                                                                                                                       \r"
     ]
    },
    {
     "name": "stdout",
     "output_type": "stream",
     "text": [
      "Moviepy - Done !\n",
      "Moviepy - video ready 20200214_DWG_GEN_1_HL338.5.mp4\n",
      "Moviepy - Building video 20200214_DWG_GEN_1_HL339.0.mp4.\n",
      "MoviePy - Writing audio in 20200214_DWG_GEN_1_HL339.0TEMP_MPY_wvf_snd.mp3\n"
     ]
    },
    {
     "name": "stderr",
     "output_type": "stream",
     "text": [
      "                                                                                                                       \r"
     ]
    },
    {
     "name": "stdout",
     "output_type": "stream",
     "text": [
      "MoviePy - Done.\n",
      "Moviepy - Writing video 20200214_DWG_GEN_1_HL339.0.mp4\n",
      "\n"
     ]
    },
    {
     "name": "stderr",
     "output_type": "stream",
     "text": [
      "                                                                                                                       \r"
     ]
    },
    {
     "name": "stdout",
     "output_type": "stream",
     "text": [
      "Moviepy - Done !\n",
      "Moviepy - video ready 20200214_DWG_GEN_1_HL339.0.mp4\n",
      "Moviepy - Building video 20200214_DWG_GEN_1_HL339.5.mp4.\n",
      "MoviePy - Writing audio in 20200214_DWG_GEN_1_HL339.5TEMP_MPY_wvf_snd.mp3\n"
     ]
    },
    {
     "name": "stderr",
     "output_type": "stream",
     "text": [
      "                                                                                                                       \r"
     ]
    },
    {
     "name": "stdout",
     "output_type": "stream",
     "text": [
      "MoviePy - Done.\n",
      "Moviepy - Writing video 20200214_DWG_GEN_1_HL339.5.mp4\n",
      "\n"
     ]
    },
    {
     "name": "stderr",
     "output_type": "stream",
     "text": [
      "                                                                                                                       \r"
     ]
    },
    {
     "name": "stdout",
     "output_type": "stream",
     "text": [
      "Moviepy - Done !\n",
      "Moviepy - video ready 20200214_DWG_GEN_1_HL339.5.mp4\n",
      "Moviepy - Building video 20200214_DWG_GEN_1_HL340.0.mp4.\n",
      "MoviePy - Writing audio in 20200214_DWG_GEN_1_HL340.0TEMP_MPY_wvf_snd.mp3\n"
     ]
    },
    {
     "name": "stderr",
     "output_type": "stream",
     "text": [
      "                                                                                                                       \r"
     ]
    },
    {
     "name": "stdout",
     "output_type": "stream",
     "text": [
      "MoviePy - Done.\n",
      "Moviepy - Writing video 20200214_DWG_GEN_1_HL340.0.mp4\n",
      "\n"
     ]
    },
    {
     "name": "stderr",
     "output_type": "stream",
     "text": [
      "                                                                                                                       \r"
     ]
    },
    {
     "name": "stdout",
     "output_type": "stream",
     "text": [
      "Moviepy - Done !\n",
      "Moviepy - video ready 20200214_DWG_GEN_1_HL340.0.mp4\n",
      "Moviepy - Building video 20200214_DWG_GEN_1_HL340.5.mp4.\n",
      "MoviePy - Writing audio in 20200214_DWG_GEN_1_HL340.5TEMP_MPY_wvf_snd.mp3\n"
     ]
    },
    {
     "name": "stderr",
     "output_type": "stream",
     "text": [
      "                                                                                                                       \r"
     ]
    },
    {
     "name": "stdout",
     "output_type": "stream",
     "text": [
      "MoviePy - Done.\n",
      "Moviepy - Writing video 20200214_DWG_GEN_1_HL340.5.mp4\n",
      "\n"
     ]
    },
    {
     "name": "stderr",
     "output_type": "stream",
     "text": [
      "                                                                                                                       \r"
     ]
    },
    {
     "name": "stdout",
     "output_type": "stream",
     "text": [
      "Moviepy - Done !\n",
      "Moviepy - video ready 20200214_DWG_GEN_1_HL340.5.mp4\n",
      "Moviepy - Building video 20200214_DWG_GEN_1_HL341.0.mp4.\n",
      "MoviePy - Writing audio in 20200214_DWG_GEN_1_HL341.0TEMP_MPY_wvf_snd.mp3\n"
     ]
    },
    {
     "name": "stderr",
     "output_type": "stream",
     "text": [
      "                                                                                                                       \r"
     ]
    },
    {
     "name": "stdout",
     "output_type": "stream",
     "text": [
      "MoviePy - Done.\n",
      "Moviepy - Writing video 20200214_DWG_GEN_1_HL341.0.mp4\n",
      "\n"
     ]
    },
    {
     "name": "stderr",
     "output_type": "stream",
     "text": [
      "                                                                                                                       \r"
     ]
    },
    {
     "name": "stdout",
     "output_type": "stream",
     "text": [
      "Moviepy - Done !\n",
      "Moviepy - video ready 20200214_DWG_GEN_1_HL341.0.mp4\n",
      "Moviepy - Building video 20200214_DWG_GEN_1_HL341.5.mp4.\n",
      "MoviePy - Writing audio in 20200214_DWG_GEN_1_HL341.5TEMP_MPY_wvf_snd.mp3\n"
     ]
    },
    {
     "name": "stderr",
     "output_type": "stream",
     "text": [
      "                                                                                                                       \r"
     ]
    },
    {
     "name": "stdout",
     "output_type": "stream",
     "text": [
      "MoviePy - Done.\n",
      "Moviepy - Writing video 20200214_DWG_GEN_1_HL341.5.mp4\n",
      "\n"
     ]
    },
    {
     "name": "stderr",
     "output_type": "stream",
     "text": [
      "                                                                                                                       \r"
     ]
    },
    {
     "name": "stdout",
     "output_type": "stream",
     "text": [
      "Moviepy - Done !\n",
      "Moviepy - video ready 20200214_DWG_GEN_1_HL341.5.mp4\n",
      "Moviepy - Building video 20200214_DWG_GEN_1_HL342.0.mp4.\n",
      "MoviePy - Writing audio in 20200214_DWG_GEN_1_HL342.0TEMP_MPY_wvf_snd.mp3\n"
     ]
    },
    {
     "name": "stderr",
     "output_type": "stream",
     "text": [
      "                                                                                                                       \r"
     ]
    },
    {
     "name": "stdout",
     "output_type": "stream",
     "text": [
      "MoviePy - Done.\n",
      "Moviepy - Writing video 20200214_DWG_GEN_1_HL342.0.mp4\n",
      "\n"
     ]
    },
    {
     "name": "stderr",
     "output_type": "stream",
     "text": [
      "                                                                                                                       \r"
     ]
    },
    {
     "name": "stdout",
     "output_type": "stream",
     "text": [
      "Moviepy - Done !\n",
      "Moviepy - video ready 20200214_DWG_GEN_1_HL342.0.mp4\n",
      "Moviepy - Building video 20200214_DWG_GEN_1_HL342.5.mp4.\n",
      "MoviePy - Writing audio in 20200214_DWG_GEN_1_HL342.5TEMP_MPY_wvf_snd.mp3\n"
     ]
    },
    {
     "name": "stderr",
     "output_type": "stream",
     "text": [
      "                                                                                                                       \r"
     ]
    },
    {
     "name": "stdout",
     "output_type": "stream",
     "text": [
      "MoviePy - Done.\n",
      "Moviepy - Writing video 20200214_DWG_GEN_1_HL342.5.mp4\n",
      "\n"
     ]
    },
    {
     "name": "stderr",
     "output_type": "stream",
     "text": [
      "                                                                                                                       \r"
     ]
    },
    {
     "name": "stdout",
     "output_type": "stream",
     "text": [
      "Moviepy - Done !\n",
      "Moviepy - video ready 20200214_DWG_GEN_1_HL342.5.mp4\n",
      "Moviepy - Building video 20200214_DWG_GEN_1_HL343.0.mp4.\n",
      "MoviePy - Writing audio in 20200214_DWG_GEN_1_HL343.0TEMP_MPY_wvf_snd.mp3\n"
     ]
    },
    {
     "name": "stderr",
     "output_type": "stream",
     "text": [
      "                                                                                                                       \r"
     ]
    },
    {
     "name": "stdout",
     "output_type": "stream",
     "text": [
      "MoviePy - Done.\n",
      "Moviepy - Writing video 20200214_DWG_GEN_1_HL343.0.mp4\n",
      "\n"
     ]
    },
    {
     "name": "stderr",
     "output_type": "stream",
     "text": [
      "                                                                                                                       \r"
     ]
    },
    {
     "name": "stdout",
     "output_type": "stream",
     "text": [
      "Moviepy - Done !\n",
      "Moviepy - video ready 20200214_DWG_GEN_1_HL343.0.mp4\n",
      "Moviepy - Building video 20200214_DWG_GEN_1_HL343.5.mp4.\n",
      "MoviePy - Writing audio in 20200214_DWG_GEN_1_HL343.5TEMP_MPY_wvf_snd.mp3\n"
     ]
    },
    {
     "name": "stderr",
     "output_type": "stream",
     "text": [
      "                                                                                                                       \r"
     ]
    },
    {
     "name": "stdout",
     "output_type": "stream",
     "text": [
      "MoviePy - Done.\n",
      "Moviepy - Writing video 20200214_DWG_GEN_1_HL343.5.mp4\n",
      "\n"
     ]
    },
    {
     "name": "stderr",
     "output_type": "stream",
     "text": [
      "                                                                                                                       \r"
     ]
    },
    {
     "name": "stdout",
     "output_type": "stream",
     "text": [
      "Moviepy - Done !\n",
      "Moviepy - video ready 20200214_DWG_GEN_1_HL343.5.mp4\n",
      "Moviepy - Building video 20200214_DWG_GEN_1_HL344.0.mp4.\n",
      "MoviePy - Writing audio in 20200214_DWG_GEN_1_HL344.0TEMP_MPY_wvf_snd.mp3\n"
     ]
    },
    {
     "name": "stderr",
     "output_type": "stream",
     "text": [
      "                                                                                                                       \r"
     ]
    },
    {
     "name": "stdout",
     "output_type": "stream",
     "text": [
      "MoviePy - Done.\n",
      "Moviepy - Writing video 20200214_DWG_GEN_1_HL344.0.mp4\n",
      "\n"
     ]
    },
    {
     "name": "stderr",
     "output_type": "stream",
     "text": [
      "                                                                                                                       \r"
     ]
    },
    {
     "name": "stdout",
     "output_type": "stream",
     "text": [
      "Moviepy - Done !\n",
      "Moviepy - video ready 20200214_DWG_GEN_1_HL344.0.mp4\n",
      "Moviepy - Building video 20200214_DWG_GEN_1_HL344.5.mp4.\n",
      "MoviePy - Writing audio in 20200214_DWG_GEN_1_HL344.5TEMP_MPY_wvf_snd.mp3\n"
     ]
    },
    {
     "name": "stderr",
     "output_type": "stream",
     "text": [
      "                                                                                                                       \r"
     ]
    },
    {
     "name": "stdout",
     "output_type": "stream",
     "text": [
      "MoviePy - Done.\n",
      "Moviepy - Writing video 20200214_DWG_GEN_1_HL344.5.mp4\n",
      "\n"
     ]
    },
    {
     "name": "stderr",
     "output_type": "stream",
     "text": [
      "                                                                                                                       \r"
     ]
    },
    {
     "name": "stdout",
     "output_type": "stream",
     "text": [
      "Moviepy - Done !\n",
      "Moviepy - video ready 20200214_DWG_GEN_1_HL344.5.mp4\n",
      "Moviepy - Building video 20200214_DWG_GEN_1_HL345.0.mp4.\n",
      "MoviePy - Writing audio in 20200214_DWG_GEN_1_HL345.0TEMP_MPY_wvf_snd.mp3\n"
     ]
    },
    {
     "name": "stderr",
     "output_type": "stream",
     "text": [
      "                                                                                                                       \r"
     ]
    },
    {
     "name": "stdout",
     "output_type": "stream",
     "text": [
      "MoviePy - Done.\n",
      "Moviepy - Writing video 20200214_DWG_GEN_1_HL345.0.mp4\n",
      "\n"
     ]
    },
    {
     "name": "stderr",
     "output_type": "stream",
     "text": [
      "                                                                                                                       \r"
     ]
    },
    {
     "name": "stdout",
     "output_type": "stream",
     "text": [
      "Moviepy - Done !\n",
      "Moviepy - video ready 20200214_DWG_GEN_1_HL345.0.mp4\n",
      "Moviepy - Building video 20200214_DWG_GEN_1_HL345.5.mp4.\n",
      "MoviePy - Writing audio in 20200214_DWG_GEN_1_HL345.5TEMP_MPY_wvf_snd.mp3\n"
     ]
    },
    {
     "name": "stderr",
     "output_type": "stream",
     "text": [
      "                                                                                                                       \r"
     ]
    },
    {
     "name": "stdout",
     "output_type": "stream",
     "text": [
      "MoviePy - Done.\n",
      "Moviepy - Writing video 20200214_DWG_GEN_1_HL345.5.mp4\n",
      "\n"
     ]
    },
    {
     "name": "stderr",
     "output_type": "stream",
     "text": [
      "                                                                                                                       \r"
     ]
    },
    {
     "name": "stdout",
     "output_type": "stream",
     "text": [
      "Moviepy - Done !\n",
      "Moviepy - video ready 20200214_DWG_GEN_1_HL345.5.mp4\n",
      "Moviepy - Building video 20200214_DWG_GEN_1_HL346.0.mp4.\n",
      "MoviePy - Writing audio in 20200214_DWG_GEN_1_HL346.0TEMP_MPY_wvf_snd.mp3\n"
     ]
    },
    {
     "name": "stderr",
     "output_type": "stream",
     "text": [
      "                                                                                                                       \r"
     ]
    },
    {
     "name": "stdout",
     "output_type": "stream",
     "text": [
      "MoviePy - Done.\n",
      "Moviepy - Writing video 20200214_DWG_GEN_1_HL346.0.mp4\n",
      "\n"
     ]
    },
    {
     "name": "stderr",
     "output_type": "stream",
     "text": [
      "                                                                                                                       \r"
     ]
    },
    {
     "name": "stdout",
     "output_type": "stream",
     "text": [
      "Moviepy - Done !\n",
      "Moviepy - video ready 20200214_DWG_GEN_1_HL346.0.mp4\n",
      "Moviepy - Building video 20200214_DWG_GEN_1_HL346.5.mp4.\n",
      "MoviePy - Writing audio in 20200214_DWG_GEN_1_HL346.5TEMP_MPY_wvf_snd.mp3\n"
     ]
    },
    {
     "name": "stderr",
     "output_type": "stream",
     "text": [
      "                                                                                                                       \r"
     ]
    },
    {
     "name": "stdout",
     "output_type": "stream",
     "text": [
      "MoviePy - Done.\n",
      "Moviepy - Writing video 20200214_DWG_GEN_1_HL346.5.mp4\n",
      "\n"
     ]
    },
    {
     "name": "stderr",
     "output_type": "stream",
     "text": [
      "                                                                                                                       \r"
     ]
    },
    {
     "name": "stdout",
     "output_type": "stream",
     "text": [
      "Moviepy - Done !\n",
      "Moviepy - video ready 20200214_DWG_GEN_1_HL346.5.mp4\n",
      "Moviepy - Building video 20200214_DWG_GEN_1_HL347.0.mp4.\n",
      "MoviePy - Writing audio in 20200214_DWG_GEN_1_HL347.0TEMP_MPY_wvf_snd.mp3\n"
     ]
    },
    {
     "name": "stderr",
     "output_type": "stream",
     "text": [
      "                                                                                                                       \r"
     ]
    },
    {
     "name": "stdout",
     "output_type": "stream",
     "text": [
      "MoviePy - Done.\n",
      "Moviepy - Writing video 20200214_DWG_GEN_1_HL347.0.mp4\n",
      "\n"
     ]
    },
    {
     "name": "stderr",
     "output_type": "stream",
     "text": [
      "                                                                                                                       \r"
     ]
    },
    {
     "name": "stdout",
     "output_type": "stream",
     "text": [
      "Moviepy - Done !\n",
      "Moviepy - video ready 20200214_DWG_GEN_1_HL347.0.mp4\n",
      "Moviepy - Building video 20200214_DWG_GEN_1_HL347.5.mp4.\n",
      "MoviePy - Writing audio in 20200214_DWG_GEN_1_HL347.5TEMP_MPY_wvf_snd.mp3\n"
     ]
    },
    {
     "name": "stderr",
     "output_type": "stream",
     "text": [
      "                                                                                                                       \r"
     ]
    },
    {
     "name": "stdout",
     "output_type": "stream",
     "text": [
      "MoviePy - Done.\n",
      "Moviepy - Writing video 20200214_DWG_GEN_1_HL347.5.mp4\n",
      "\n"
     ]
    },
    {
     "name": "stderr",
     "output_type": "stream",
     "text": [
      "                                                                                                                       \r"
     ]
    },
    {
     "name": "stdout",
     "output_type": "stream",
     "text": [
      "Moviepy - Done !\n",
      "Moviepy - video ready 20200214_DWG_GEN_1_HL347.5.mp4\n",
      "Moviepy - Building video 20200214_DWG_GEN_1_HL348.0.mp4.\n",
      "MoviePy - Writing audio in 20200214_DWG_GEN_1_HL348.0TEMP_MPY_wvf_snd.mp3\n"
     ]
    },
    {
     "name": "stderr",
     "output_type": "stream",
     "text": [
      "                                                                                                                       \r"
     ]
    },
    {
     "name": "stdout",
     "output_type": "stream",
     "text": [
      "MoviePy - Done.\n",
      "Moviepy - Writing video 20200214_DWG_GEN_1_HL348.0.mp4\n",
      "\n"
     ]
    },
    {
     "name": "stderr",
     "output_type": "stream",
     "text": [
      "                                                                                                                       \r"
     ]
    },
    {
     "name": "stdout",
     "output_type": "stream",
     "text": [
      "Moviepy - Done !\n",
      "Moviepy - video ready 20200214_DWG_GEN_1_HL348.0.mp4\n",
      "Moviepy - Building video 20200214_DWG_GEN_1_HL348.5.mp4.\n",
      "MoviePy - Writing audio in 20200214_DWG_GEN_1_HL348.5TEMP_MPY_wvf_snd.mp3\n"
     ]
    },
    {
     "name": "stderr",
     "output_type": "stream",
     "text": [
      "                                                                                                                       \r"
     ]
    },
    {
     "name": "stdout",
     "output_type": "stream",
     "text": [
      "MoviePy - Done.\n",
      "Moviepy - Writing video 20200214_DWG_GEN_1_HL348.5.mp4\n",
      "\n"
     ]
    },
    {
     "name": "stderr",
     "output_type": "stream",
     "text": [
      "                                                                                                                       \r"
     ]
    },
    {
     "name": "stdout",
     "output_type": "stream",
     "text": [
      "Moviepy - Done !\n",
      "Moviepy - video ready 20200214_DWG_GEN_1_HL348.5.mp4\n",
      "Moviepy - Building video 20200214_DWG_GEN_1_HL349.0.mp4.\n",
      "MoviePy - Writing audio in 20200214_DWG_GEN_1_HL349.0TEMP_MPY_wvf_snd.mp3\n"
     ]
    },
    {
     "name": "stderr",
     "output_type": "stream",
     "text": [
      "                                                                                                                       \r"
     ]
    },
    {
     "name": "stdout",
     "output_type": "stream",
     "text": [
      "MoviePy - Done.\n",
      "Moviepy - Writing video 20200214_DWG_GEN_1_HL349.0.mp4\n",
      "\n"
     ]
    },
    {
     "name": "stderr",
     "output_type": "stream",
     "text": [
      "                                                                                                                       \r"
     ]
    },
    {
     "name": "stdout",
     "output_type": "stream",
     "text": [
      "Moviepy - Done !\n",
      "Moviepy - video ready 20200214_DWG_GEN_1_HL349.0.mp4\n",
      "Moviepy - Building video 20200214_DWG_GEN_1_HL349.5.mp4.\n",
      "MoviePy - Writing audio in 20200214_DWG_GEN_1_HL349.5TEMP_MPY_wvf_snd.mp3\n"
     ]
    },
    {
     "name": "stderr",
     "output_type": "stream",
     "text": [
      "                                                                                                                       \r"
     ]
    },
    {
     "name": "stdout",
     "output_type": "stream",
     "text": [
      "MoviePy - Done.\n",
      "Moviepy - Writing video 20200214_DWG_GEN_1_HL349.5.mp4\n",
      "\n"
     ]
    },
    {
     "name": "stderr",
     "output_type": "stream",
     "text": [
      "                                                                                                                       \r"
     ]
    },
    {
     "name": "stdout",
     "output_type": "stream",
     "text": [
      "Moviepy - Done !\n",
      "Moviepy - video ready 20200214_DWG_GEN_1_HL349.5.mp4\n",
      "Moviepy - Building video 20200214_DWG_GEN_1_HL350.0.mp4.\n",
      "MoviePy - Writing audio in 20200214_DWG_GEN_1_HL350.0TEMP_MPY_wvf_snd.mp3\n"
     ]
    },
    {
     "name": "stderr",
     "output_type": "stream",
     "text": [
      "                                                                                                                       \r"
     ]
    },
    {
     "name": "stdout",
     "output_type": "stream",
     "text": [
      "MoviePy - Done.\n",
      "Moviepy - Writing video 20200214_DWG_GEN_1_HL350.0.mp4\n",
      "\n"
     ]
    },
    {
     "name": "stderr",
     "output_type": "stream",
     "text": [
      "                                                                                                                       \r"
     ]
    },
    {
     "name": "stdout",
     "output_type": "stream",
     "text": [
      "Moviepy - Done !\n",
      "Moviepy - video ready 20200214_DWG_GEN_1_HL350.0.mp4\n",
      "Moviepy - Building video 20200214_DWG_GEN_1_HL350.5.mp4.\n",
      "MoviePy - Writing audio in 20200214_DWG_GEN_1_HL350.5TEMP_MPY_wvf_snd.mp3\n"
     ]
    },
    {
     "name": "stderr",
     "output_type": "stream",
     "text": [
      "                                                                                                                       \r"
     ]
    },
    {
     "name": "stdout",
     "output_type": "stream",
     "text": [
      "MoviePy - Done.\n",
      "Moviepy - Writing video 20200214_DWG_GEN_1_HL350.5.mp4\n",
      "\n"
     ]
    },
    {
     "name": "stderr",
     "output_type": "stream",
     "text": [
      "                                                                                                                       \r"
     ]
    },
    {
     "name": "stdout",
     "output_type": "stream",
     "text": [
      "Moviepy - Done !\n",
      "Moviepy - video ready 20200214_DWG_GEN_1_HL350.5.mp4\n",
      "Moviepy - Building video 20200214_DWG_GEN_1_HL351.0.mp4.\n",
      "MoviePy - Writing audio in 20200214_DWG_GEN_1_HL351.0TEMP_MPY_wvf_snd.mp3\n"
     ]
    },
    {
     "name": "stderr",
     "output_type": "stream",
     "text": [
      "                                                                                                                       \r"
     ]
    },
    {
     "name": "stdout",
     "output_type": "stream",
     "text": [
      "MoviePy - Done.\n",
      "Moviepy - Writing video 20200214_DWG_GEN_1_HL351.0.mp4\n",
      "\n"
     ]
    },
    {
     "name": "stderr",
     "output_type": "stream",
     "text": [
      "                                                                                                                       \r"
     ]
    },
    {
     "name": "stdout",
     "output_type": "stream",
     "text": [
      "Moviepy - Done !\n",
      "Moviepy - video ready 20200214_DWG_GEN_1_HL351.0.mp4\n",
      "Moviepy - Building video 20200214_DWG_GEN_1_HL351.5.mp4.\n",
      "MoviePy - Writing audio in 20200214_DWG_GEN_1_HL351.5TEMP_MPY_wvf_snd.mp3\n"
     ]
    },
    {
     "name": "stderr",
     "output_type": "stream",
     "text": [
      "                                                                                                                       \r"
     ]
    },
    {
     "name": "stdout",
     "output_type": "stream",
     "text": [
      "MoviePy - Done.\n",
      "Moviepy - Writing video 20200214_DWG_GEN_1_HL351.5.mp4\n",
      "\n"
     ]
    },
    {
     "name": "stderr",
     "output_type": "stream",
     "text": [
      "                                                                                                                       \r"
     ]
    },
    {
     "name": "stdout",
     "output_type": "stream",
     "text": [
      "Moviepy - Done !\n",
      "Moviepy - video ready 20200214_DWG_GEN_1_HL351.5.mp4\n",
      "Moviepy - Building video 20200214_DWG_GEN_1_HL352.0.mp4.\n",
      "MoviePy - Writing audio in 20200214_DWG_GEN_1_HL352.0TEMP_MPY_wvf_snd.mp3\n"
     ]
    },
    {
     "name": "stderr",
     "output_type": "stream",
     "text": [
      "                                                                                                                       \r"
     ]
    },
    {
     "name": "stdout",
     "output_type": "stream",
     "text": [
      "MoviePy - Done.\n",
      "Moviepy - Writing video 20200214_DWG_GEN_1_HL352.0.mp4\n",
      "\n"
     ]
    },
    {
     "name": "stderr",
     "output_type": "stream",
     "text": [
      "                                                                                                                       \r"
     ]
    },
    {
     "name": "stdout",
     "output_type": "stream",
     "text": [
      "Moviepy - Done !\n",
      "Moviepy - video ready 20200214_DWG_GEN_1_HL352.0.mp4\n",
      "Moviepy - Building video 20200214_DWG_GEN_1_HL352.5.mp4.\n",
      "MoviePy - Writing audio in 20200214_DWG_GEN_1_HL352.5TEMP_MPY_wvf_snd.mp3\n"
     ]
    },
    {
     "name": "stderr",
     "output_type": "stream",
     "text": [
      "                                                                                                                       \r"
     ]
    },
    {
     "name": "stdout",
     "output_type": "stream",
     "text": [
      "MoviePy - Done.\n",
      "Moviepy - Writing video 20200214_DWG_GEN_1_HL352.5.mp4\n",
      "\n"
     ]
    },
    {
     "name": "stderr",
     "output_type": "stream",
     "text": [
      "                                                                                                                       \r"
     ]
    },
    {
     "name": "stdout",
     "output_type": "stream",
     "text": [
      "Moviepy - Done !\n",
      "Moviepy - video ready 20200214_DWG_GEN_1_HL352.5.mp4\n",
      "Moviepy - Building video 20200214_DWG_GEN_1_HL353.0.mp4.\n",
      "MoviePy - Writing audio in 20200214_DWG_GEN_1_HL353.0TEMP_MPY_wvf_snd.mp3\n"
     ]
    },
    {
     "name": "stderr",
     "output_type": "stream",
     "text": [
      "                                                                                                                       \r"
     ]
    },
    {
     "name": "stdout",
     "output_type": "stream",
     "text": [
      "MoviePy - Done.\n",
      "Moviepy - Writing video 20200214_DWG_GEN_1_HL353.0.mp4\n",
      "\n"
     ]
    },
    {
     "name": "stderr",
     "output_type": "stream",
     "text": [
      "                                                                                                                       \r"
     ]
    },
    {
     "name": "stdout",
     "output_type": "stream",
     "text": [
      "Moviepy - Done !\n",
      "Moviepy - video ready 20200214_DWG_GEN_1_HL353.0.mp4\n",
      "Moviepy - Building video 20200214_DWG_GEN_1_HL353.5.mp4.\n",
      "MoviePy - Writing audio in 20200214_DWG_GEN_1_HL353.5TEMP_MPY_wvf_snd.mp3\n"
     ]
    },
    {
     "name": "stderr",
     "output_type": "stream",
     "text": [
      "                                                                                                                       \r"
     ]
    },
    {
     "name": "stdout",
     "output_type": "stream",
     "text": [
      "MoviePy - Done.\n",
      "Moviepy - Writing video 20200214_DWG_GEN_1_HL353.5.mp4\n",
      "\n"
     ]
    },
    {
     "name": "stderr",
     "output_type": "stream",
     "text": [
      "                                                                                                                       \r"
     ]
    },
    {
     "name": "stdout",
     "output_type": "stream",
     "text": [
      "Moviepy - Done !\n",
      "Moviepy - video ready 20200214_DWG_GEN_1_HL353.5.mp4\n",
      "Moviepy - Building video 20200214_DWG_GEN_1_HL354.0.mp4.\n",
      "MoviePy - Writing audio in 20200214_DWG_GEN_1_HL354.0TEMP_MPY_wvf_snd.mp3\n"
     ]
    },
    {
     "name": "stderr",
     "output_type": "stream",
     "text": [
      "                                                                                                                       \r"
     ]
    },
    {
     "name": "stdout",
     "output_type": "stream",
     "text": [
      "MoviePy - Done.\n",
      "Moviepy - Writing video 20200214_DWG_GEN_1_HL354.0.mp4\n",
      "\n"
     ]
    },
    {
     "name": "stderr",
     "output_type": "stream",
     "text": [
      "                                                                                                                       \r"
     ]
    },
    {
     "name": "stdout",
     "output_type": "stream",
     "text": [
      "Moviepy - Done !\n",
      "Moviepy - video ready 20200214_DWG_GEN_1_HL354.0.mp4\n",
      "Moviepy - Building video 20200214_DWG_GEN_1_HL354.5.mp4.\n",
      "MoviePy - Writing audio in 20200214_DWG_GEN_1_HL354.5TEMP_MPY_wvf_snd.mp3\n"
     ]
    },
    {
     "name": "stderr",
     "output_type": "stream",
     "text": [
      "                                                                                                                       \r"
     ]
    },
    {
     "name": "stdout",
     "output_type": "stream",
     "text": [
      "MoviePy - Done.\n",
      "Moviepy - Writing video 20200214_DWG_GEN_1_HL354.5.mp4\n",
      "\n"
     ]
    },
    {
     "name": "stderr",
     "output_type": "stream",
     "text": [
      "                                                                                                                       \r"
     ]
    },
    {
     "name": "stdout",
     "output_type": "stream",
     "text": [
      "Moviepy - Done !\n",
      "Moviepy - video ready 20200214_DWG_GEN_1_HL354.5.mp4\n",
      "Moviepy - Building video 20200214_DWG_GEN_1_HL355.0.mp4.\n",
      "MoviePy - Writing audio in 20200214_DWG_GEN_1_HL355.0TEMP_MPY_wvf_snd.mp3\n"
     ]
    },
    {
     "name": "stderr",
     "output_type": "stream",
     "text": [
      "                                                                                                                       \r"
     ]
    },
    {
     "name": "stdout",
     "output_type": "stream",
     "text": [
      "MoviePy - Done.\n",
      "Moviepy - Writing video 20200214_DWG_GEN_1_HL355.0.mp4\n",
      "\n"
     ]
    },
    {
     "name": "stderr",
     "output_type": "stream",
     "text": [
      "                                                                                                                       \r"
     ]
    },
    {
     "name": "stdout",
     "output_type": "stream",
     "text": [
      "Moviepy - Done !\n",
      "Moviepy - video ready 20200214_DWG_GEN_1_HL355.0.mp4\n",
      "Moviepy - Building video 20200214_DWG_GEN_1_HL355.5.mp4.\n",
      "MoviePy - Writing audio in 20200214_DWG_GEN_1_HL355.5TEMP_MPY_wvf_snd.mp3\n"
     ]
    },
    {
     "name": "stderr",
     "output_type": "stream",
     "text": [
      "                                                                                                                       \r"
     ]
    },
    {
     "name": "stdout",
     "output_type": "stream",
     "text": [
      "MoviePy - Done.\n",
      "Moviepy - Writing video 20200214_DWG_GEN_1_HL355.5.mp4\n",
      "\n"
     ]
    },
    {
     "name": "stderr",
     "output_type": "stream",
     "text": [
      "                                                                                                                       \r"
     ]
    },
    {
     "name": "stdout",
     "output_type": "stream",
     "text": [
      "Moviepy - Done !\n",
      "Moviepy - video ready 20200214_DWG_GEN_1_HL355.5.mp4\n",
      "Moviepy - Building video 20200214_DWG_GEN_1_HL356.0.mp4.\n",
      "MoviePy - Writing audio in 20200214_DWG_GEN_1_HL356.0TEMP_MPY_wvf_snd.mp3\n"
     ]
    },
    {
     "name": "stderr",
     "output_type": "stream",
     "text": [
      "                                                                                                                       \r"
     ]
    },
    {
     "name": "stdout",
     "output_type": "stream",
     "text": [
      "MoviePy - Done.\n",
      "Moviepy - Writing video 20200214_DWG_GEN_1_HL356.0.mp4\n",
      "\n"
     ]
    },
    {
     "name": "stderr",
     "output_type": "stream",
     "text": [
      "                                                                                                                       \r"
     ]
    },
    {
     "name": "stdout",
     "output_type": "stream",
     "text": [
      "Moviepy - Done !\n",
      "Moviepy - video ready 20200214_DWG_GEN_1_HL356.0.mp4\n",
      "Moviepy - Building video 20200214_DWG_GEN_1_HL356.5.mp4.\n",
      "MoviePy - Writing audio in 20200214_DWG_GEN_1_HL356.5TEMP_MPY_wvf_snd.mp3\n"
     ]
    },
    {
     "name": "stderr",
     "output_type": "stream",
     "text": [
      "                                                                                                                       \r"
     ]
    },
    {
     "name": "stdout",
     "output_type": "stream",
     "text": [
      "MoviePy - Done.\n",
      "Moviepy - Writing video 20200214_DWG_GEN_1_HL356.5.mp4\n",
      "\n"
     ]
    },
    {
     "name": "stderr",
     "output_type": "stream",
     "text": [
      "                                                                                                                       \r"
     ]
    },
    {
     "name": "stdout",
     "output_type": "stream",
     "text": [
      "Moviepy - Done !\n",
      "Moviepy - video ready 20200214_DWG_GEN_1_HL356.5.mp4\n",
      "Moviepy - Building video 20200214_DWG_GEN_1_HL357.0.mp4.\n",
      "MoviePy - Writing audio in 20200214_DWG_GEN_1_HL357.0TEMP_MPY_wvf_snd.mp3\n"
     ]
    },
    {
     "name": "stderr",
     "output_type": "stream",
     "text": [
      "                                                                                                                       \r"
     ]
    },
    {
     "name": "stdout",
     "output_type": "stream",
     "text": [
      "MoviePy - Done.\n",
      "Moviepy - Writing video 20200214_DWG_GEN_1_HL357.0.mp4\n",
      "\n"
     ]
    },
    {
     "name": "stderr",
     "output_type": "stream",
     "text": [
      "                                                                                                                       \r"
     ]
    },
    {
     "name": "stdout",
     "output_type": "stream",
     "text": [
      "Moviepy - Done !\n",
      "Moviepy - video ready 20200214_DWG_GEN_1_HL357.0.mp4\n",
      "Moviepy - Building video 20200214_DWG_GEN_1_HL357.5.mp4.\n",
      "MoviePy - Writing audio in 20200214_DWG_GEN_1_HL357.5TEMP_MPY_wvf_snd.mp3\n"
     ]
    },
    {
     "name": "stderr",
     "output_type": "stream",
     "text": [
      "                                                                                                                       \r"
     ]
    },
    {
     "name": "stdout",
     "output_type": "stream",
     "text": [
      "MoviePy - Done.\n",
      "Moviepy - Writing video 20200214_DWG_GEN_1_HL357.5.mp4\n",
      "\n"
     ]
    },
    {
     "name": "stderr",
     "output_type": "stream",
     "text": [
      "                                                                                                                       \r"
     ]
    },
    {
     "name": "stdout",
     "output_type": "stream",
     "text": [
      "Moviepy - Done !\n",
      "Moviepy - video ready 20200214_DWG_GEN_1_HL357.5.mp4\n",
      "Moviepy - Building video 20200214_DWG_GEN_1_HL358.0.mp4.\n",
      "MoviePy - Writing audio in 20200214_DWG_GEN_1_HL358.0TEMP_MPY_wvf_snd.mp3\n"
     ]
    },
    {
     "name": "stderr",
     "output_type": "stream",
     "text": [
      "                                                                                                                       \r"
     ]
    },
    {
     "name": "stdout",
     "output_type": "stream",
     "text": [
      "MoviePy - Done.\n",
      "Moviepy - Writing video 20200214_DWG_GEN_1_HL358.0.mp4\n",
      "\n"
     ]
    },
    {
     "name": "stderr",
     "output_type": "stream",
     "text": [
      "                                                                                                                       \r"
     ]
    },
    {
     "name": "stdout",
     "output_type": "stream",
     "text": [
      "Moviepy - Done !\n",
      "Moviepy - video ready 20200214_DWG_GEN_1_HL358.0.mp4\n",
      "Moviepy - Building video 20200214_DWG_GEN_1_HL358.5.mp4.\n",
      "MoviePy - Writing audio in 20200214_DWG_GEN_1_HL358.5TEMP_MPY_wvf_snd.mp3\n"
     ]
    },
    {
     "name": "stderr",
     "output_type": "stream",
     "text": [
      "                                                                                                                       \r"
     ]
    },
    {
     "name": "stdout",
     "output_type": "stream",
     "text": [
      "MoviePy - Done.\n",
      "Moviepy - Writing video 20200214_DWG_GEN_1_HL358.5.mp4\n",
      "\n"
     ]
    },
    {
     "name": "stderr",
     "output_type": "stream",
     "text": [
      "                                                                                                                       \r"
     ]
    },
    {
     "name": "stdout",
     "output_type": "stream",
     "text": [
      "Moviepy - Done !\n",
      "Moviepy - video ready 20200214_DWG_GEN_1_HL358.5.mp4\n",
      "Moviepy - Building video 20200214_DWG_GEN_1_HL359.0.mp4.\n",
      "MoviePy - Writing audio in 20200214_DWG_GEN_1_HL359.0TEMP_MPY_wvf_snd.mp3\n"
     ]
    },
    {
     "name": "stderr",
     "output_type": "stream",
     "text": [
      "                                                                                                                       \r"
     ]
    },
    {
     "name": "stdout",
     "output_type": "stream",
     "text": [
      "MoviePy - Done.\n",
      "Moviepy - Writing video 20200214_DWG_GEN_1_HL359.0.mp4\n",
      "\n"
     ]
    },
    {
     "name": "stderr",
     "output_type": "stream",
     "text": [
      "                                                                                                                       \r"
     ]
    },
    {
     "name": "stdout",
     "output_type": "stream",
     "text": [
      "Moviepy - Done !\n",
      "Moviepy - video ready 20200214_DWG_GEN_1_HL359.0.mp4\n",
      "Moviepy - Building video 20200214_DWG_GEN_1_HL359.5.mp4.\n",
      "MoviePy - Writing audio in 20200214_DWG_GEN_1_HL359.5TEMP_MPY_wvf_snd.mp3\n"
     ]
    },
    {
     "name": "stderr",
     "output_type": "stream",
     "text": [
      "                                                                                                                       \r"
     ]
    },
    {
     "name": "stdout",
     "output_type": "stream",
     "text": [
      "MoviePy - Done.\n",
      "Moviepy - Writing video 20200214_DWG_GEN_1_HL359.5.mp4\n",
      "\n"
     ]
    },
    {
     "name": "stderr",
     "output_type": "stream",
     "text": [
      "                                                                                                                       \r"
     ]
    },
    {
     "name": "stdout",
     "output_type": "stream",
     "text": [
      "Moviepy - Done !\n",
      "Moviepy - video ready 20200214_DWG_GEN_1_HL359.5.mp4\n",
      "Moviepy - Building video 20200214_DWG_GEN_1_HL360.0.mp4.\n",
      "MoviePy - Writing audio in 20200214_DWG_GEN_1_HL360.0TEMP_MPY_wvf_snd.mp3\n"
     ]
    },
    {
     "name": "stderr",
     "output_type": "stream",
     "text": [
      "                                                                                                                       \r"
     ]
    },
    {
     "name": "stdout",
     "output_type": "stream",
     "text": [
      "MoviePy - Done.\n",
      "Moviepy - Writing video 20200214_DWG_GEN_1_HL360.0.mp4\n",
      "\n"
     ]
    },
    {
     "name": "stderr",
     "output_type": "stream",
     "text": [
      "                                                                                                                       \r"
     ]
    },
    {
     "name": "stdout",
     "output_type": "stream",
     "text": [
      "Moviepy - Done !\n",
      "Moviepy - video ready 20200214_DWG_GEN_1_HL360.0.mp4\n",
      "Moviepy - Building video 20200214_DWG_GEN_1_HL360.5.mp4.\n",
      "MoviePy - Writing audio in 20200214_DWG_GEN_1_HL360.5TEMP_MPY_wvf_snd.mp3\n"
     ]
    },
    {
     "name": "stderr",
     "output_type": "stream",
     "text": [
      "                                                                                                                       \r"
     ]
    },
    {
     "name": "stdout",
     "output_type": "stream",
     "text": [
      "MoviePy - Done.\n",
      "Moviepy - Writing video 20200214_DWG_GEN_1_HL360.5.mp4\n",
      "\n"
     ]
    },
    {
     "name": "stderr",
     "output_type": "stream",
     "text": [
      "                                                                                                                       \r"
     ]
    },
    {
     "name": "stdout",
     "output_type": "stream",
     "text": [
      "Moviepy - Done !\n",
      "Moviepy - video ready 20200214_DWG_GEN_1_HL360.5.mp4\n",
      "Moviepy - Building video 20200214_DWG_GEN_1_HL361.0.mp4.\n",
      "MoviePy - Writing audio in 20200214_DWG_GEN_1_HL361.0TEMP_MPY_wvf_snd.mp3\n"
     ]
    },
    {
     "name": "stderr",
     "output_type": "stream",
     "text": [
      "                                                                                                                       \r"
     ]
    },
    {
     "name": "stdout",
     "output_type": "stream",
     "text": [
      "MoviePy - Done.\n",
      "Moviepy - Writing video 20200214_DWG_GEN_1_HL361.0.mp4\n",
      "\n"
     ]
    },
    {
     "name": "stderr",
     "output_type": "stream",
     "text": [
      "                                                                                                                       \r"
     ]
    },
    {
     "name": "stdout",
     "output_type": "stream",
     "text": [
      "Moviepy - Done !\n",
      "Moviepy - video ready 20200214_DWG_GEN_1_HL361.0.mp4\n",
      "Moviepy - Building video 20200214_DWG_GEN_1_HL361.5.mp4.\n",
      "MoviePy - Writing audio in 20200214_DWG_GEN_1_HL361.5TEMP_MPY_wvf_snd.mp3\n"
     ]
    },
    {
     "name": "stderr",
     "output_type": "stream",
     "text": [
      "                                                                                                                       \r"
     ]
    },
    {
     "name": "stdout",
     "output_type": "stream",
     "text": [
      "MoviePy - Done.\n",
      "Moviepy - Writing video 20200214_DWG_GEN_1_HL361.5.mp4\n",
      "\n"
     ]
    },
    {
     "name": "stderr",
     "output_type": "stream",
     "text": [
      "                                                                                                                       \r"
     ]
    },
    {
     "name": "stdout",
     "output_type": "stream",
     "text": [
      "Moviepy - Done !\n",
      "Moviepy - video ready 20200214_DWG_GEN_1_HL361.5.mp4\n",
      "Moviepy - Building video 20200214_DWG_GEN_1_HL362.0.mp4.\n",
      "MoviePy - Writing audio in 20200214_DWG_GEN_1_HL362.0TEMP_MPY_wvf_snd.mp3\n"
     ]
    },
    {
     "name": "stderr",
     "output_type": "stream",
     "text": [
      "                                                                                                                       \r"
     ]
    },
    {
     "name": "stdout",
     "output_type": "stream",
     "text": [
      "MoviePy - Done.\n",
      "Moviepy - Writing video 20200214_DWG_GEN_1_HL362.0.mp4\n",
      "\n"
     ]
    },
    {
     "name": "stderr",
     "output_type": "stream",
     "text": [
      "                                                                                                                       \r"
     ]
    },
    {
     "name": "stdout",
     "output_type": "stream",
     "text": [
      "Moviepy - Done !\n",
      "Moviepy - video ready 20200214_DWG_GEN_1_HL362.0.mp4\n",
      "Moviepy - Building video 20200214_DWG_GEN_1_HL362.5.mp4.\n",
      "MoviePy - Writing audio in 20200214_DWG_GEN_1_HL362.5TEMP_MPY_wvf_snd.mp3\n"
     ]
    },
    {
     "name": "stderr",
     "output_type": "stream",
     "text": [
      "                                                                                                                       \r"
     ]
    },
    {
     "name": "stdout",
     "output_type": "stream",
     "text": [
      "MoviePy - Done.\n",
      "Moviepy - Writing video 20200214_DWG_GEN_1_HL362.5.mp4\n",
      "\n"
     ]
    },
    {
     "name": "stderr",
     "output_type": "stream",
     "text": [
      "                                                                                                                       \r"
     ]
    },
    {
     "name": "stdout",
     "output_type": "stream",
     "text": [
      "Moviepy - Done !\n",
      "Moviepy - video ready 20200214_DWG_GEN_1_HL362.5.mp4\n",
      "Moviepy - Building video 20200214_DWG_GEN_1_HL363.0.mp4.\n",
      "MoviePy - Writing audio in 20200214_DWG_GEN_1_HL363.0TEMP_MPY_wvf_snd.mp3\n"
     ]
    },
    {
     "name": "stderr",
     "output_type": "stream",
     "text": [
      "                                                                                                                       \r"
     ]
    },
    {
     "name": "stdout",
     "output_type": "stream",
     "text": [
      "MoviePy - Done.\n",
      "Moviepy - Writing video 20200214_DWG_GEN_1_HL363.0.mp4\n",
      "\n"
     ]
    },
    {
     "name": "stderr",
     "output_type": "stream",
     "text": [
      "                                                                                                                       \r"
     ]
    },
    {
     "name": "stdout",
     "output_type": "stream",
     "text": [
      "Moviepy - Done !\n",
      "Moviepy - video ready 20200214_DWG_GEN_1_HL363.0.mp4\n",
      "Moviepy - Building video 20200214_DWG_GEN_1_HL363.5.mp4.\n",
      "MoviePy - Writing audio in 20200214_DWG_GEN_1_HL363.5TEMP_MPY_wvf_snd.mp3\n"
     ]
    },
    {
     "name": "stderr",
     "output_type": "stream",
     "text": [
      "                                                                                                                       \r"
     ]
    },
    {
     "name": "stdout",
     "output_type": "stream",
     "text": [
      "MoviePy - Done.\n",
      "Moviepy - Writing video 20200214_DWG_GEN_1_HL363.5.mp4\n",
      "\n"
     ]
    },
    {
     "name": "stderr",
     "output_type": "stream",
     "text": [
      "                                                                                                                       \r"
     ]
    },
    {
     "name": "stdout",
     "output_type": "stream",
     "text": [
      "Moviepy - Done !\n",
      "Moviepy - video ready 20200214_DWG_GEN_1_HL363.5.mp4\n",
      "Moviepy - Building video 20200214_DWG_GEN_1_HL364.0.mp4.\n",
      "MoviePy - Writing audio in 20200214_DWG_GEN_1_HL364.0TEMP_MPY_wvf_snd.mp3\n"
     ]
    },
    {
     "name": "stderr",
     "output_type": "stream",
     "text": [
      "                                                                                                                       \r"
     ]
    },
    {
     "name": "stdout",
     "output_type": "stream",
     "text": [
      "MoviePy - Done.\n",
      "Moviepy - Writing video 20200214_DWG_GEN_1_HL364.0.mp4\n",
      "\n"
     ]
    },
    {
     "name": "stderr",
     "output_type": "stream",
     "text": [
      "                                                                                                                       \r"
     ]
    },
    {
     "name": "stdout",
     "output_type": "stream",
     "text": [
      "Moviepy - Done !\n",
      "Moviepy - video ready 20200214_DWG_GEN_1_HL364.0.mp4\n",
      "Moviepy - Building video 20200214_DWG_GEN_1_HL364.5.mp4.\n",
      "MoviePy - Writing audio in 20200214_DWG_GEN_1_HL364.5TEMP_MPY_wvf_snd.mp3\n"
     ]
    },
    {
     "name": "stderr",
     "output_type": "stream",
     "text": [
      "                                                                                                                       \r"
     ]
    },
    {
     "name": "stdout",
     "output_type": "stream",
     "text": [
      "MoviePy - Done.\n",
      "Moviepy - Writing video 20200214_DWG_GEN_1_HL364.5.mp4\n",
      "\n"
     ]
    },
    {
     "name": "stderr",
     "output_type": "stream",
     "text": [
      "                                                                                                                       \r"
     ]
    },
    {
     "name": "stdout",
     "output_type": "stream",
     "text": [
      "Moviepy - Done !\n",
      "Moviepy - video ready 20200214_DWG_GEN_1_HL364.5.mp4\n",
      "Moviepy - Building video 20200214_DWG_GEN_1_HL365.0.mp4.\n",
      "MoviePy - Writing audio in 20200214_DWG_GEN_1_HL365.0TEMP_MPY_wvf_snd.mp3\n"
     ]
    },
    {
     "name": "stderr",
     "output_type": "stream",
     "text": [
      "                                                                                                                       \r"
     ]
    },
    {
     "name": "stdout",
     "output_type": "stream",
     "text": [
      "MoviePy - Done.\n",
      "Moviepy - Writing video 20200214_DWG_GEN_1_HL365.0.mp4\n",
      "\n"
     ]
    },
    {
     "name": "stderr",
     "output_type": "stream",
     "text": [
      "                                                                                                                       \r"
     ]
    },
    {
     "name": "stdout",
     "output_type": "stream",
     "text": [
      "Moviepy - Done !\n",
      "Moviepy - video ready 20200214_DWG_GEN_1_HL365.0.mp4\n",
      "Moviepy - Building video 20200214_DWG_GEN_1_HL365.5.mp4.\n",
      "MoviePy - Writing audio in 20200214_DWG_GEN_1_HL365.5TEMP_MPY_wvf_snd.mp3\n"
     ]
    },
    {
     "name": "stderr",
     "output_type": "stream",
     "text": [
      "                                                                                                                       \r"
     ]
    },
    {
     "name": "stdout",
     "output_type": "stream",
     "text": [
      "MoviePy - Done.\n",
      "Moviepy - Writing video 20200214_DWG_GEN_1_HL365.5.mp4\n",
      "\n"
     ]
    },
    {
     "name": "stderr",
     "output_type": "stream",
     "text": [
      "                                                                                                                       \r"
     ]
    },
    {
     "name": "stdout",
     "output_type": "stream",
     "text": [
      "Moviepy - Done !\n",
      "Moviepy - video ready 20200214_DWG_GEN_1_HL365.5.mp4\n",
      "Moviepy - Building video 20200214_DWG_GEN_1_HL366.0.mp4.\n",
      "MoviePy - Writing audio in 20200214_DWG_GEN_1_HL366.0TEMP_MPY_wvf_snd.mp3\n"
     ]
    },
    {
     "name": "stderr",
     "output_type": "stream",
     "text": [
      "                                                                                                                       \r"
     ]
    },
    {
     "name": "stdout",
     "output_type": "stream",
     "text": [
      "MoviePy - Done.\n",
      "Moviepy - Writing video 20200214_DWG_GEN_1_HL366.0.mp4\n",
      "\n"
     ]
    },
    {
     "name": "stderr",
     "output_type": "stream",
     "text": [
      "                                                                                                                       \r"
     ]
    },
    {
     "name": "stdout",
     "output_type": "stream",
     "text": [
      "Moviepy - Done !\n",
      "Moviepy - video ready 20200214_DWG_GEN_1_HL366.0.mp4\n"
     ]
    },
    {
     "ename": "KeyboardInterrupt",
     "evalue": "",
     "output_type": "error",
     "traceback": [
      "\u001b[1;31m---------------------------------------------------------------------------\u001b[0m",
      "\u001b[1;31mKeyboardInterrupt\u001b[0m                         Traceback (most recent call last)",
      "\u001b[1;32m<ipython-input-2-d8319d081649>\u001b[0m in \u001b[0;36m<module>\u001b[1;34m\u001b[0m\n\u001b[0;32m      4\u001b[0m \u001b[1;32mwhile\u001b[0m \u001b[1;32mTrue\u001b[0m\u001b[1;33m:\u001b[0m\u001b[1;33m\u001b[0m\u001b[1;33m\u001b[0m\u001b[0m\n\u001b[0;32m      5\u001b[0m     \u001b[1;32mif\u001b[0m \u001b[0mi\u001b[0m \u001b[1;33m<\u001b[0m \u001b[1;36m416\u001b[0m\u001b[1;33m:\u001b[0m\u001b[1;33m\u001b[0m\u001b[1;33m\u001b[0m\u001b[0m\n\u001b[1;32m----> 6\u001b[1;33m         \u001b[0mclip\u001b[0m \u001b[1;33m=\u001b[0m \u001b[0mmp\u001b[0m\u001b[1;33m.\u001b[0m\u001b[0mVideoFileClip\u001b[0m\u001b[1;33m(\u001b[0m\u001b[1;34m\"20200214_DWG_GEN_1_HL.mp4\"\u001b[0m\u001b[1;33m)\u001b[0m\u001b[1;33m\u001b[0m\u001b[1;33m\u001b[0m\u001b[0m\n\u001b[0m\u001b[0;32m      7\u001b[0m         \u001b[0mclip\u001b[0m \u001b[1;33m=\u001b[0m \u001b[0mclip\u001b[0m\u001b[1;33m.\u001b[0m\u001b[0msubclip\u001b[0m\u001b[1;33m(\u001b[0m\u001b[0mt_start\u001b[0m\u001b[1;33m=\u001b[0m\u001b[1;33m(\u001b[0m\u001b[0mi\u001b[0m\u001b[1;33m)\u001b[0m\u001b[1;33m,\u001b[0m \u001b[0mt_end\u001b[0m\u001b[1;33m=\u001b[0m\u001b[1;33m(\u001b[0m\u001b[0mi\u001b[0m\u001b[1;33m+\u001b[0m\u001b[1;36m0.5\u001b[0m\u001b[1;33m)\u001b[0m\u001b[1;33m)\u001b[0m\u001b[1;33m\u001b[0m\u001b[1;33m\u001b[0m\u001b[0m\n\u001b[0;32m      8\u001b[0m         \u001b[0mclip\u001b[0m\u001b[1;33m.\u001b[0m\u001b[0mwrite_videofile\u001b[0m\u001b[1;33m(\u001b[0m\u001b[1;34m'20200214_DWG_GEN_1_HL%0.1f.mp4'\u001b[0m \u001b[1;33m%\u001b[0m \u001b[0mi\u001b[0m\u001b[1;33m)\u001b[0m\u001b[1;33m\u001b[0m\u001b[1;33m\u001b[0m\u001b[0m\n",
      "\u001b[1;32m~\\Anaconda3\\envs\\venv\\lib\\site-packages\\moviepy\\video\\io\\VideoFileClip.py\u001b[0m in \u001b[0;36m__init__\u001b[1;34m(self, filename, has_mask, audio, audio_buffersize, target_resolution, resize_algorithm, audio_fps, audio_nbytes, verbose, fps_source)\u001b[0m\n\u001b[0;32m     89\u001b[0m                                          \u001b[0mtarget_resolution\u001b[0m\u001b[1;33m=\u001b[0m\u001b[0mtarget_resolution\u001b[0m\u001b[1;33m,\u001b[0m\u001b[1;33m\u001b[0m\u001b[1;33m\u001b[0m\u001b[0m\n\u001b[0;32m     90\u001b[0m                                          \u001b[0mresize_algo\u001b[0m\u001b[1;33m=\u001b[0m\u001b[0mresize_algorithm\u001b[0m\u001b[1;33m,\u001b[0m\u001b[1;33m\u001b[0m\u001b[1;33m\u001b[0m\u001b[0m\n\u001b[1;32m---> 91\u001b[1;33m                                          fps_source=fps_source)\n\u001b[0m\u001b[0;32m     92\u001b[0m \u001b[1;33m\u001b[0m\u001b[0m\n\u001b[0;32m     93\u001b[0m         \u001b[1;31m# Make some of the reader's attributes accessible from the clip\u001b[0m\u001b[1;33m\u001b[0m\u001b[1;33m\u001b[0m\u001b[1;33m\u001b[0m\u001b[0m\n",
      "\u001b[1;32m~\\Anaconda3\\envs\\venv\\lib\\site-packages\\moviepy\\video\\io\\ffmpeg_reader.py\u001b[0m in \u001b[0;36m__init__\u001b[1;34m(self, filename, print_infos, bufsize, pix_fmt, check_duration, target_resolution, resize_algo, fps_source)\u001b[0m\n\u001b[0;32m     34\u001b[0m         \u001b[0mself\u001b[0m\u001b[1;33m.\u001b[0m\u001b[0mproc\u001b[0m \u001b[1;33m=\u001b[0m \u001b[1;32mNone\u001b[0m\u001b[1;33m\u001b[0m\u001b[1;33m\u001b[0m\u001b[0m\n\u001b[0;32m     35\u001b[0m         infos = ffmpeg_parse_infos(filename, print_infos, check_duration,\n\u001b[1;32m---> 36\u001b[1;33m                                    fps_source)\n\u001b[0m\u001b[0;32m     37\u001b[0m         \u001b[0mself\u001b[0m\u001b[1;33m.\u001b[0m\u001b[0mfps\u001b[0m \u001b[1;33m=\u001b[0m \u001b[0minfos\u001b[0m\u001b[1;33m[\u001b[0m\u001b[1;34m'video_fps'\u001b[0m\u001b[1;33m]\u001b[0m\u001b[1;33m\u001b[0m\u001b[1;33m\u001b[0m\u001b[0m\n\u001b[0;32m     38\u001b[0m         \u001b[0mself\u001b[0m\u001b[1;33m.\u001b[0m\u001b[0msize\u001b[0m \u001b[1;33m=\u001b[0m \u001b[0minfos\u001b[0m\u001b[1;33m[\u001b[0m\u001b[1;34m'video_size'\u001b[0m\u001b[1;33m]\u001b[0m\u001b[1;33m\u001b[0m\u001b[1;33m\u001b[0m\u001b[0m\n",
      "\u001b[1;32m~\\Anaconda3\\envs\\venv\\lib\\site-packages\\moviepy\\video\\io\\ffmpeg_reader.py\u001b[0m in \u001b[0;36mffmpeg_parse_infos\u001b[1;34m(filename, print_infos, check_duration, fps_source)\u001b[0m\n\u001b[0;32m    256\u001b[0m \u001b[1;33m\u001b[0m\u001b[0m\n\u001b[0;32m    257\u001b[0m     \u001b[0mproc\u001b[0m \u001b[1;33m=\u001b[0m \u001b[0msp\u001b[0m\u001b[1;33m.\u001b[0m\u001b[0mPopen\u001b[0m\u001b[1;33m(\u001b[0m\u001b[0mcmd\u001b[0m\u001b[1;33m,\u001b[0m \u001b[1;33m**\u001b[0m\u001b[0mpopen_params\u001b[0m\u001b[1;33m)\u001b[0m\u001b[1;33m\u001b[0m\u001b[1;33m\u001b[0m\u001b[0m\n\u001b[1;32m--> 258\u001b[1;33m     \u001b[1;33m(\u001b[0m\u001b[0moutput\u001b[0m\u001b[1;33m,\u001b[0m \u001b[0merror\u001b[0m\u001b[1;33m)\u001b[0m \u001b[1;33m=\u001b[0m \u001b[0mproc\u001b[0m\u001b[1;33m.\u001b[0m\u001b[0mcommunicate\u001b[0m\u001b[1;33m(\u001b[0m\u001b[1;33m)\u001b[0m\u001b[1;33m\u001b[0m\u001b[1;33m\u001b[0m\u001b[0m\n\u001b[0m\u001b[0;32m    259\u001b[0m     \u001b[0minfos\u001b[0m \u001b[1;33m=\u001b[0m \u001b[0merror\u001b[0m\u001b[1;33m.\u001b[0m\u001b[0mdecode\u001b[0m\u001b[1;33m(\u001b[0m\u001b[1;34m'utf8'\u001b[0m\u001b[1;33m)\u001b[0m\u001b[1;33m\u001b[0m\u001b[1;33m\u001b[0m\u001b[0m\n\u001b[0;32m    260\u001b[0m \u001b[1;33m\u001b[0m\u001b[0m\n",
      "\u001b[1;32m~\\Anaconda3\\envs\\venv\\lib\\subprocess.py\u001b[0m in \u001b[0;36mcommunicate\u001b[1;34m(self, input, timeout)\u001b[0m\n\u001b[0;32m    937\u001b[0m \u001b[1;33m\u001b[0m\u001b[0m\n\u001b[0;32m    938\u001b[0m             \u001b[1;32mtry\u001b[0m\u001b[1;33m:\u001b[0m\u001b[1;33m\u001b[0m\u001b[1;33m\u001b[0m\u001b[0m\n\u001b[1;32m--> 939\u001b[1;33m                 \u001b[0mstdout\u001b[0m\u001b[1;33m,\u001b[0m \u001b[0mstderr\u001b[0m \u001b[1;33m=\u001b[0m \u001b[0mself\u001b[0m\u001b[1;33m.\u001b[0m\u001b[0m_communicate\u001b[0m\u001b[1;33m(\u001b[0m\u001b[0minput\u001b[0m\u001b[1;33m,\u001b[0m \u001b[0mendtime\u001b[0m\u001b[1;33m,\u001b[0m \u001b[0mtimeout\u001b[0m\u001b[1;33m)\u001b[0m\u001b[1;33m\u001b[0m\u001b[1;33m\u001b[0m\u001b[0m\n\u001b[0m\u001b[0;32m    940\u001b[0m             \u001b[1;32mexcept\u001b[0m \u001b[0mKeyboardInterrupt\u001b[0m\u001b[1;33m:\u001b[0m\u001b[1;33m\u001b[0m\u001b[1;33m\u001b[0m\u001b[0m\n\u001b[0;32m    941\u001b[0m                 \u001b[1;31m# https://bugs.python.org/issue25942\u001b[0m\u001b[1;33m\u001b[0m\u001b[1;33m\u001b[0m\u001b[1;33m\u001b[0m\u001b[0m\n",
      "\u001b[1;32m~\\Anaconda3\\envs\\venv\\lib\\subprocess.py\u001b[0m in \u001b[0;36m_communicate\u001b[1;34m(self, input, endtime, orig_timeout)\u001b[0m\n\u001b[0;32m   1265\u001b[0m             \u001b[1;31m# calls communicate again.\u001b[0m\u001b[1;33m\u001b[0m\u001b[1;33m\u001b[0m\u001b[1;33m\u001b[0m\u001b[0m\n\u001b[0;32m   1266\u001b[0m             \u001b[1;32mif\u001b[0m \u001b[0mself\u001b[0m\u001b[1;33m.\u001b[0m\u001b[0mstdout\u001b[0m \u001b[1;32mis\u001b[0m \u001b[1;32mnot\u001b[0m \u001b[1;32mNone\u001b[0m\u001b[1;33m:\u001b[0m\u001b[1;33m\u001b[0m\u001b[1;33m\u001b[0m\u001b[0m\n\u001b[1;32m-> 1267\u001b[1;33m                 \u001b[0mself\u001b[0m\u001b[1;33m.\u001b[0m\u001b[0mstdout_thread\u001b[0m\u001b[1;33m.\u001b[0m\u001b[0mjoin\u001b[0m\u001b[1;33m(\u001b[0m\u001b[0mself\u001b[0m\u001b[1;33m.\u001b[0m\u001b[0m_remaining_time\u001b[0m\u001b[1;33m(\u001b[0m\u001b[0mendtime\u001b[0m\u001b[1;33m)\u001b[0m\u001b[1;33m)\u001b[0m\u001b[1;33m\u001b[0m\u001b[1;33m\u001b[0m\u001b[0m\n\u001b[0m\u001b[0;32m   1268\u001b[0m                 \u001b[1;32mif\u001b[0m \u001b[0mself\u001b[0m\u001b[1;33m.\u001b[0m\u001b[0mstdout_thread\u001b[0m\u001b[1;33m.\u001b[0m\u001b[0mis_alive\u001b[0m\u001b[1;33m(\u001b[0m\u001b[1;33m)\u001b[0m\u001b[1;33m:\u001b[0m\u001b[1;33m\u001b[0m\u001b[1;33m\u001b[0m\u001b[0m\n\u001b[0;32m   1269\u001b[0m                     \u001b[1;32mraise\u001b[0m \u001b[0mTimeoutExpired\u001b[0m\u001b[1;33m(\u001b[0m\u001b[0mself\u001b[0m\u001b[1;33m.\u001b[0m\u001b[0margs\u001b[0m\u001b[1;33m,\u001b[0m \u001b[0morig_timeout\u001b[0m\u001b[1;33m)\u001b[0m\u001b[1;33m\u001b[0m\u001b[1;33m\u001b[0m\u001b[0m\n",
      "\u001b[1;32m~\\Anaconda3\\envs\\venv\\lib\\threading.py\u001b[0m in \u001b[0;36mjoin\u001b[1;34m(self, timeout)\u001b[0m\n\u001b[0;32m   1042\u001b[0m \u001b[1;33m\u001b[0m\u001b[0m\n\u001b[0;32m   1043\u001b[0m         \u001b[1;32mif\u001b[0m \u001b[0mtimeout\u001b[0m \u001b[1;32mis\u001b[0m \u001b[1;32mNone\u001b[0m\u001b[1;33m:\u001b[0m\u001b[1;33m\u001b[0m\u001b[1;33m\u001b[0m\u001b[0m\n\u001b[1;32m-> 1044\u001b[1;33m             \u001b[0mself\u001b[0m\u001b[1;33m.\u001b[0m\u001b[0m_wait_for_tstate_lock\u001b[0m\u001b[1;33m(\u001b[0m\u001b[1;33m)\u001b[0m\u001b[1;33m\u001b[0m\u001b[1;33m\u001b[0m\u001b[0m\n\u001b[0m\u001b[0;32m   1045\u001b[0m         \u001b[1;32melse\u001b[0m\u001b[1;33m:\u001b[0m\u001b[1;33m\u001b[0m\u001b[1;33m\u001b[0m\u001b[0m\n\u001b[0;32m   1046\u001b[0m             \u001b[1;31m# the behavior of a negative timeout isn't documented, but\u001b[0m\u001b[1;33m\u001b[0m\u001b[1;33m\u001b[0m\u001b[1;33m\u001b[0m\u001b[0m\n",
      "\u001b[1;32m~\\Anaconda3\\envs\\venv\\lib\\threading.py\u001b[0m in \u001b[0;36m_wait_for_tstate_lock\u001b[1;34m(self, block, timeout)\u001b[0m\n\u001b[0;32m   1058\u001b[0m         \u001b[1;32mif\u001b[0m \u001b[0mlock\u001b[0m \u001b[1;32mis\u001b[0m \u001b[1;32mNone\u001b[0m\u001b[1;33m:\u001b[0m  \u001b[1;31m# already determined that the C code is done\u001b[0m\u001b[1;33m\u001b[0m\u001b[1;33m\u001b[0m\u001b[0m\n\u001b[0;32m   1059\u001b[0m             \u001b[1;32massert\u001b[0m \u001b[0mself\u001b[0m\u001b[1;33m.\u001b[0m\u001b[0m_is_stopped\u001b[0m\u001b[1;33m\u001b[0m\u001b[1;33m\u001b[0m\u001b[0m\n\u001b[1;32m-> 1060\u001b[1;33m         \u001b[1;32melif\u001b[0m \u001b[0mlock\u001b[0m\u001b[1;33m.\u001b[0m\u001b[0macquire\u001b[0m\u001b[1;33m(\u001b[0m\u001b[0mblock\u001b[0m\u001b[1;33m,\u001b[0m \u001b[0mtimeout\u001b[0m\u001b[1;33m)\u001b[0m\u001b[1;33m:\u001b[0m\u001b[1;33m\u001b[0m\u001b[1;33m\u001b[0m\u001b[0m\n\u001b[0m\u001b[0;32m   1061\u001b[0m             \u001b[0mlock\u001b[0m\u001b[1;33m.\u001b[0m\u001b[0mrelease\u001b[0m\u001b[1;33m(\u001b[0m\u001b[1;33m)\u001b[0m\u001b[1;33m\u001b[0m\u001b[1;33m\u001b[0m\u001b[0m\n\u001b[0;32m   1062\u001b[0m             \u001b[0mself\u001b[0m\u001b[1;33m.\u001b[0m\u001b[0m_stop\u001b[0m\u001b[1;33m(\u001b[0m\u001b[1;33m)\u001b[0m\u001b[1;33m\u001b[0m\u001b[1;33m\u001b[0m\u001b[0m\n",
      "\u001b[1;31mKeyboardInterrupt\u001b[0m: "
     ]
    }
   ],
   "source": [
    "import moviepy.editor as mp\n",
    "i = 116\n",
    "\n",
    "while True:\n",
    "    if i < 416:\n",
    "        clip = mp.VideoFileClip(\"20200214_DWG_GEN_1_HL.mp4\")\n",
    "        clip = clip.subclip(t_start=(i), t_end=(i+0.5))\n",
    "        clip.write_videofile('20200214_DWG_GEN_1_HL%0.1f.mp4' % i)\n",
    "        i += 0.5\n",
    "        clip.close()\n",
    "    else:\n",
    "        break\n",
    "\n"
   ]
  },
  {
   "cell_type": "code",
   "execution_count": 6,
   "metadata": {},
   "outputs": [
    {
     "data": {
      "text/plain": [
       "str"
      ]
     },
     "execution_count": 6,
     "metadata": {},
     "output_type": "execute_result"
    }
   ],
   "source": [
    "type('20200214_DWG_GEN_1_HL.mp4')"
   ]
  },
  {
   "cell_type": "markdown",
   "metadata": {},
   "source": [
    "# MFCC 추출"
   ]
  },
  {
   "cell_type": "code",
   "execution_count": 1,
   "metadata": {},
   "outputs": [],
   "source": [
    "import librosa\n",
    "import librosa.display\n",
    "import IPython.display\n",
    "import numpy as np\n",
    "import matplotlib.pyplot as plt\n",
    "import matplotlib as mpl"
   ]
  },
  {
   "cell_type": "code",
   "execution_count": 93,
   "metadata": {},
   "outputs": [
    {
     "name": "stdout",
     "output_type": "stream",
     "text": [
      "(20, 22)\n"
     ]
    },
    {
     "data": {
      "image/png": "[encoded data removed]",
      "text/plain": [
       "<Figure size 216x216 with 1 Axes>"
      ]
     },
     "metadata": {},
     "output_type": "display_data"
    }
   ],
   "source": [
    "y, sr = librosa.load('20200709_League of Legends_cut1.wav')\n",
    "mfcc = librosa.feature.mfcc(y=y, sr=sr)\n",
    "print(mfcc.shape) # (mfcc 계수의 개수 = 보통 20, frame 수)\n",
    "\n",
    "# display MFCCs\n",
    "plt.figure(figsize=(3,3))\n",
    "librosa.display.specshow(mfcc, sr=sr)\n",
    "#plt.xlabel(\"Time\")\n",
    "#plt.ylabel(\"MFCC coefficients\")\n",
    "#plt.colorbar()\n",
    "#plt.title(\"MFCCs\")\n",
    "\n",
    "# show plots\n",
    "fig = plt.gcf() #변경한 곳\n",
    "\n",
    "fig.savefig('GG3.png', transparent=True) #변경한 곳"
   ]
  },
  {
   "cell_type": "code",
   "execution_count": 94,
   "metadata": {},
   "outputs": [],
   "source": [
    "from PIL import Image\n",
    "image = Image.open('GG3.png')\n",
    "resize_image = image.resize((64,64))\n",
    "resize_image.save('GG4.png')"
   ]
  },
  {
   "cell_type": "code",
   "execution_count": 45,
   "metadata": {},
   "outputs": [],
   "source": [
    "mfcc_image = ((mfcc-mfcc_min)/(mfcc_max-mfcc_min)).reshape(20*388,)"
   ]
  },
  {
   "cell_type": "code",
   "execution_count": 55,
   "metadata": {},
   "outputs": [
    {
     "data": {
      "text/plain": [
       "(440,)"
      ]
     },
     "execution_count": 55,
     "metadata": {},
     "output_type": "execute_result"
    }
   ],
   "source": [
    "mfcc_flatten = mfcc.reshape(mfcc.shape[0]*mfcc.shape[1],)\n",
    "mfcc_flatten.shape"
   ]
  },
  {
   "cell_type": "code",
   "execution_count": 29,
   "metadata": {},
   "outputs": [
    {
     "data": {
      "text/plain": [
       "numpy.ndarray"
      ]
     },
     "execution_count": 29,
     "metadata": {},
     "output_type": "execute_result"
    }
   ],
   "source": [
    "type(mfcc_image)"
   ]
  },
  {
   "cell_type": "code",
   "execution_count": 54,
   "metadata": {},
   "outputs": [
    {
     "data": {
      "text/plain": [
       "array([[-1.26175499e+02, -1.03717270e+02, -8.60469742e+01,\n",
       "        -9.73454437e+01, -1.27536980e+02, -1.52391800e+02,\n",
       "        -1.53542465e+02, -1.56671844e+02, -1.67167740e+02,\n",
       "        -1.90710419e+02, -1.83377762e+02, -1.52005692e+02,\n",
       "        -1.43743332e+02, -1.40259537e+02, -1.16060265e+02,\n",
       "        -1.23000671e+02, -1.42536713e+02, -1.86661987e+02,\n",
       "        -2.27619217e+02, -2.66528931e+02, -2.78676453e+02,\n",
       "        -2.84049316e+02],\n",
       "       [ 1.15513832e+02,  1.00155617e+02,  8.63822021e+01,\n",
       "         9.01260376e+01,  9.90498962e+01,  8.91055145e+01,\n",
       "         9.87621002e+01,  1.09211075e+02,  1.24236740e+02,\n",
       "         1.33351776e+02,  1.29330933e+02,  1.22944206e+02,\n",
       "         1.23015511e+02,  1.31349152e+02,  1.22262238e+02,\n",
       "         1.25150322e+02,  1.36347214e+02,  1.56905640e+02,\n",
       "         1.50778992e+02,  1.30368835e+02,  1.21841873e+02,\n",
       "         1.19162743e+02],\n",
       "       [-3.51296158e+01, -3.69340973e+01, -4.88631134e+01,\n",
       "        -4.89780350e+01, -3.93556747e+01, -1.77862301e+01,\n",
       "        -1.96186562e+01, -1.29724159e+01, -3.69611311e+00,\n",
       "        -4.05584240e+00,  3.24445486e+00, -4.06470108e+00,\n",
       "        -1.29861813e+01, -2.12311096e+01, -2.86191559e+01,\n",
       "        -1.88785172e+01, -6.76384258e+00, -4.83917618e+00,\n",
       "        -4.66353083e+00, -7.29948092e+00, -3.59685469e+00,\n",
       "        -7.82207489e+00],\n",
       "       [ 2.47467308e+01,  2.73219109e+01,  3.30429535e+01,\n",
       "         4.22351341e+01,  4.22062721e+01,  4.60356903e+01,\n",
       "         4.14308357e+01,  2.65583382e+01,  3.69244499e+01,\n",
       "         5.37188797e+01,  5.76879578e+01,  4.84610748e+01,\n",
       "         4.14503670e+01,  3.66806374e+01,  3.98249817e+01,\n",
       "         3.26586761e+01,  4.05442276e+01,  4.84239731e+01,\n",
       "         3.49981613e+01,  2.53871613e+01,  1.81214218e+01,\n",
       "         1.00855064e+01],\n",
       "       [-3.93319092e+01, -3.39451828e+01, -3.32742157e+01,\n",
       "        -4.05082321e+01, -3.85474930e+01, -3.58387299e+01,\n",
       "        -2.80135612e+01, -2.26670189e+01, -3.36893158e+01,\n",
       "        -4.16520920e+01, -3.22581100e+01, -3.53709641e+01,\n",
       "        -4.03059387e+01, -4.01144867e+01, -4.83504181e+01,\n",
       "        -5.23087921e+01, -5.58797150e+01, -5.15081863e+01,\n",
       "        -4.48605423e+01, -2.75012760e+01, -2.10917206e+01,\n",
       "        -1.86716976e+01],\n",
       "       [ 1.61809158e+01,  1.80795288e+01,  1.71094990e+01,\n",
       "         1.57017221e+01,  1.64891644e+01,  1.40139055e+01,\n",
       "         1.15047798e+01,  2.01017904e+00, -1.13379021e+01,\n",
       "        -1.06964073e+01, -1.48241730e+01, -2.14737759e+01,\n",
       "        -7.70524120e+00,  4.77452087e+00, -8.58741188e+00,\n",
       "        -3.36065826e+01, -3.76543961e+01, -2.88389969e+01,\n",
       "        -8.73852634e+00,  1.48837328e+01,  1.38395424e+01,\n",
       "         9.30874348e+00],\n",
       "       [ 1.47683883e+00, -7.84663105e+00, -1.75508118e+01,\n",
       "        -2.59758072e+01, -1.89503498e+01, -8.59704018e+00,\n",
       "        -1.06682873e+01, -1.10917664e+01, -1.00538683e+01,\n",
       "        -8.90272999e+00, -1.11958408e+01, -7.94039631e+00,\n",
       "        -1.03339124e+00,  5.53987980e+00, -5.02034545e-01,\n",
       "        -2.16999006e+00, -1.12031908e+01, -2.14320908e+01,\n",
       "        -1.81505508e+01, -6.99160337e+00, -6.84716415e+00,\n",
       "        -9.84833145e+00],\n",
       "       [ 7.25456524e+00,  1.73872166e+01,  2.27446651e+01,\n",
       "         2.14192848e+01,  1.74125137e+01,  2.25971050e+01,\n",
       "         2.70070953e+01,  2.12907047e+01,  1.22612553e+01,\n",
       "         1.06070690e+01,  8.04889297e+00,  1.60454025e+01,\n",
       "         1.40689220e+01,  1.27183847e+01,  2.13287697e+01,\n",
       "         2.40586281e+01,  1.67388744e+01,  5.63900375e+00,\n",
       "         9.14993382e+00,  1.31443806e+01,  1.11008167e+01,\n",
       "         1.15460901e+01],\n",
       "       [-6.63710833e-01, -1.45599785e+01, -2.83240967e+01,\n",
       "        -3.05627346e+01, -2.84419518e+01, -3.64270172e+01,\n",
       "        -3.17776375e+01, -6.64886427e+00,  6.65118122e+00,\n",
       "         4.54263020e+00, -1.02609758e+01, -1.98577080e+01,\n",
       "        -2.38159103e+01, -3.09736652e+01, -3.55204315e+01,\n",
       "        -2.75819378e+01, -2.87780952e+01, -2.28056374e+01,\n",
       "        -1.28130674e+01, -3.49227858e+00, -6.93362355e-01,\n",
       "         1.59655523e+00],\n",
       "       [-1.31350470e+01,  4.76409703e-01,  1.41080399e+01,\n",
       "         2.24490395e+01,  2.02713699e+01,  2.01408195e+01,\n",
       "         1.05197802e+01,  3.82795167e+00,  2.67741752e+00,\n",
       "        -6.23318911e-01,  8.64804363e+00,  8.96211803e-01,\n",
       "        -3.56318998e+00, -7.28554058e+00, -5.28801918e+00,\n",
       "         5.92110205e+00,  1.47184963e+01,  2.25125275e+01,\n",
       "         2.79737625e+01,  1.74647160e+01,  1.60777016e+01,\n",
       "         1.93831253e+01],\n",
       "       [ 6.17958307e-02,  4.35299397e-01,  7.35058880e+00,\n",
       "         5.52719975e+00, -3.22830486e+00, -1.18327618e+01,\n",
       "        -1.08398619e+01, -7.60507536e+00, -1.10469055e+00,\n",
       "         6.56832123e+00,  2.82052803e+00, -9.55633736e+00,\n",
       "        -1.66288700e+01, -1.63501072e+01, -1.86556816e+01,\n",
       "        -1.00267582e+01, -2.70556521e+00,  2.86303377e+00,\n",
       "         6.07291794e+00,  9.68570471e-01, -2.24043989e+00,\n",
       "        -5.80712855e-01],\n",
       "       [-6.44269168e-01,  3.43641138e+00,  1.82775211e+01,\n",
       "         2.33112144e+01,  2.35984612e+01,  2.19947701e+01,\n",
       "         1.01340179e+01, -1.29346120e+00, -1.05730190e+01,\n",
       "        -1.97695808e+01, -1.13887177e+01, -1.24693298e+01,\n",
       "        -1.42815380e+01, -2.09668999e+01, -2.29059677e+01,\n",
       "        -1.88898964e+01, -1.82360382e+01, -1.54779930e+01,\n",
       "        -8.48619652e+00, -7.62835801e-01,  9.99356651e+00,\n",
       "         1.22213182e+01],\n",
       "       [ 7.87475872e+00,  5.02934647e+00,  5.24553299e+00,\n",
       "         4.09228754e+00, -5.76001930e+00, -1.05576115e+01,\n",
       "        -7.40073156e+00,  4.97697145e-01,  7.96688128e+00,\n",
       "         1.15360031e+01,  2.13091540e+00,  9.01403999e+00,\n",
       "         1.79752808e+01,  2.23361416e+01,  1.54873533e+01,\n",
       "         8.73019028e+00,  7.89750481e+00,  5.67419720e+00,\n",
       "         4.84008646e+00, -4.76259172e-01, -5.68554592e+00,\n",
       "         2.88043857e-01],\n",
       "       [-7.24415779e+00, -4.00520706e+00, -9.79997635e+00,\n",
       "        -1.43029928e+01, -1.18535156e+01,  5.97594404e+00,\n",
       "         8.14584732e+00, -1.72638512e+00, -1.64456978e+01,\n",
       "        -2.50846748e+01, -1.17091045e+01, -3.53785586e+00,\n",
       "        -3.45649898e-01, -1.10608292e+00, -3.11866426e+00,\n",
       "        -3.80124807e+00, -3.55015588e+00, -2.44789672e+00,\n",
       "         2.83723623e-01, -6.56008863e+00, -2.59676886e+00,\n",
       "         6.60823631e+00],\n",
       "       [-7.41972446e+00, -1.59525299e+01, -2.09712601e+01,\n",
       "        -1.76716633e+01, -1.08234224e+01, -6.42954779e+00,\n",
       "        -8.79038429e+00, -1.54644690e+01, -7.60032940e+00,\n",
       "         7.33947182e+00, -1.24838364e+00, -4.36963129e+00,\n",
       "        -4.51549625e+00,  1.53463411e+00,  3.90522051e+00,\n",
       "         1.10415325e+01,  1.44218006e+01,  4.16105986e+00,\n",
       "        -9.40729332e+00, -1.19740810e+01, -1.29505692e+01,\n",
       "        -8.18434715e+00],\n",
       "       [ 1.43934288e+01,  8.03098011e+00,  6.71114302e+00,\n",
       "         6.33459091e+00,  1.50176501e+00, -6.74859905e+00,\n",
       "        -2.95248127e+00,  5.73111200e+00,  9.40599060e+00,\n",
       "         1.80999708e+00,  1.16094799e+01,  1.69891357e+01,\n",
       "         1.18838711e+01,  4.15792847e+00,  1.24821892e+01,\n",
       "         2.20223846e+01,  1.61658058e+01,  5.65027571e+00,\n",
       "        -5.07786083e+00, -5.22505569e+00, -3.44911814e+00,\n",
       "        -5.84934139e+00],\n",
       "       [-3.22163200e+01, -3.10867825e+01, -3.41224594e+01,\n",
       "        -2.87248650e+01, -2.36490002e+01, -1.04890308e+01,\n",
       "        -1.43135099e+01, -1.82551651e+01, -1.45419521e+01,\n",
       "        -6.30043840e+00, -1.09932537e+01, -1.04298849e+01,\n",
       "        -3.08214998e+00, -9.29674387e-01, -2.43619990e+00,\n",
       "        -8.07283580e-01,  8.16449106e-01,  8.74350929e+00,\n",
       "         1.69479752e+01,  1.27635098e+01, -2.06223512e+00,\n",
       "        -9.40938187e+00],\n",
       "       [ 1.30285673e+01,  2.36820173e+00, -1.00477238e+01,\n",
       "        -1.50743332e+01, -1.40139370e+01, -4.38676775e-01,\n",
       "         1.22319734e+00, -9.06669998e+00, -1.10630074e+01,\n",
       "        -3.84743547e+00,  9.78407085e-01, -3.39325809e+00,\n",
       "        -3.68110895e+00, -6.72540379e+00, -8.88550282e+00,\n",
       "        -2.09154701e+00,  5.40011024e+00,  2.11196828e+00,\n",
       "        -2.88345194e+00,  4.21720123e+00,  4.23069239e+00,\n",
       "         3.65784502e+00],\n",
       "       [ 3.11595392e+00,  1.38306713e+01,  1.59392195e+01,\n",
       "         1.38788280e+01,  1.21751728e+01,  5.72862625e+00,\n",
       "        -8.03452873e+00, -1.11480083e+01, -2.72470999e+00,\n",
       "         3.04657102e+00,  7.86988878e+00,  1.36019096e+01,\n",
       "         9.84310246e+00,  1.02337027e+01,  1.16531506e+01,\n",
       "         6.55748177e+00,  3.77748394e+00,  4.80895847e-01,\n",
       "         8.33619499e+00,  1.16893444e+01,  1.03622179e+01,\n",
       "         7.98773479e+00],\n",
       "       [ 2.98383789e+01,  2.14306488e+01,  1.04302330e+01,\n",
       "        -2.13405085e+00, -3.12715364e+00,  2.54052687e+00,\n",
       "        -8.68349910e-01, -7.85390520e+00, -1.45804052e+01,\n",
       "        -1.80822449e+01, -6.14846802e+00, -4.56883717e+00,\n",
       "        -4.92052650e+00, -1.41797006e-01, -2.79722190e+00,\n",
       "        -9.83925247e+00, -1.58169498e+01, -1.51009579e+01,\n",
       "         2.57732201e+00,  1.28258839e+01,  1.09638071e+01,\n",
       "         6.54280376e+00]], dtype=float32)"
      ]
     },
     "execution_count": 54,
     "metadata": {},
     "output_type": "execute_result"
    }
   ],
   "source": [
    "mfcc"
   ]
  },
  {
   "cell_type": "code",
   "execution_count": 56,
   "metadata": {},
   "outputs": [
    {
     "data": {
      "text/plain": [
       "array([[-1.26175499e+02, -1.03717270e+02, -8.60469742e+01,\n",
       "        -9.73454437e+01, -1.27536980e+02, -1.52391800e+02,\n",
       "        -1.53542465e+02, -1.56671844e+02, -1.67167740e+02,\n",
       "        -1.90710419e+02, -1.83377762e+02, -1.52005692e+02,\n",
       "        -1.43743332e+02, -1.40259537e+02, -1.16060265e+02,\n",
       "        -1.23000671e+02, -1.42536713e+02, -1.86661987e+02,\n",
       "        -2.27619217e+02, -2.66528931e+02, -2.78676453e+02,\n",
       "        -2.84049316e+02],\n",
       "       [ 1.15513832e+02,  1.00155617e+02,  8.63822021e+01,\n",
       "         9.01260376e+01,  9.90498962e+01,  8.91055145e+01,\n",
       "         9.87621002e+01,  1.09211075e+02,  1.24236740e+02,\n",
       "         1.33351776e+02,  1.29330933e+02,  1.22944206e+02,\n",
       "         1.23015511e+02,  1.31349152e+02,  1.22262238e+02,\n",
       "         1.25150322e+02,  1.36347214e+02,  1.56905640e+02,\n",
       "         1.50778992e+02,  1.30368835e+02,  1.21841873e+02,\n",
       "         1.19162743e+02],\n",
       "       [-3.51296158e+01, -3.69340973e+01, -4.88631134e+01,\n",
       "        -4.89780350e+01, -3.93556747e+01, -1.77862301e+01,\n",
       "        -1.96186562e+01, -1.29724159e+01, -3.69611311e+00,\n",
       "        -4.05584240e+00,  3.24445486e+00, -4.06470108e+00,\n",
       "        -1.29861813e+01, -2.12311096e+01, -2.86191559e+01,\n",
       "        -1.88785172e+01, -6.76384258e+00, -4.83917618e+00,\n",
       "        -4.66353083e+00, -7.29948092e+00, -3.59685469e+00,\n",
       "        -7.82207489e+00],\n",
       "       [ 2.47467308e+01,  2.73219109e+01,  3.30429535e+01,\n",
       "         4.22351341e+01,  4.22062721e+01,  4.60356903e+01,\n",
       "         4.14308357e+01,  2.65583382e+01,  3.69244499e+01,\n",
       "         5.37188797e+01,  5.76879578e+01,  4.84610748e+01,\n",
       "         4.14503670e+01,  3.66806374e+01,  3.98249817e+01,\n",
       "         3.26586761e+01,  4.05442276e+01,  4.84239731e+01,\n",
       "         3.49981613e+01,  2.53871613e+01,  1.81214218e+01,\n",
       "         1.00855064e+01],\n",
       "       [-3.93319092e+01, -3.39451828e+01, -3.32742157e+01,\n",
       "        -4.05082321e+01, -3.85474930e+01, -3.58387299e+01,\n",
       "        -2.80135612e+01, -2.26670189e+01, -3.36893158e+01,\n",
       "        -4.16520920e+01, -3.22581100e+01, -3.53709641e+01,\n",
       "        -4.03059387e+01, -4.01144867e+01, -4.83504181e+01,\n",
       "        -5.23087921e+01, -5.58797150e+01, -5.15081863e+01,\n",
       "        -4.48605423e+01, -2.75012760e+01, -2.10917206e+01,\n",
       "        -1.86716976e+01],\n",
       "       [ 1.61809158e+01,  1.80795288e+01,  1.71094990e+01,\n",
       "         1.57017221e+01,  1.64891644e+01,  1.40139055e+01,\n",
       "         1.15047798e+01,  2.01017904e+00, -1.13379021e+01,\n",
       "        -1.06964073e+01, -1.48241730e+01, -2.14737759e+01,\n",
       "        -7.70524120e+00,  4.77452087e+00, -8.58741188e+00,\n",
       "        -3.36065826e+01, -3.76543961e+01, -2.88389969e+01,\n",
       "        -8.73852634e+00,  1.48837328e+01,  1.38395424e+01,\n",
       "         9.30874348e+00],\n",
       "       [ 1.47683883e+00, -7.84663105e+00, -1.75508118e+01,\n",
       "        -2.59758072e+01, -1.89503498e+01, -8.59704018e+00,\n",
       "        -1.06682873e+01, -1.10917664e+01, -1.00538683e+01,\n",
       "        -8.90272999e+00, -1.11958408e+01, -7.94039631e+00,\n",
       "        -1.03339124e+00,  5.53987980e+00, -5.02034545e-01,\n",
       "        -2.16999006e+00, -1.12031908e+01, -2.14320908e+01,\n",
       "        -1.81505508e+01, -6.99160337e+00, -6.84716415e+00,\n",
       "        -9.84833145e+00],\n",
       "       [ 7.25456524e+00,  1.73872166e+01,  2.27446651e+01,\n",
       "         2.14192848e+01,  1.74125137e+01,  2.25971050e+01,\n",
       "         2.70070953e+01,  2.12907047e+01,  1.22612553e+01,\n",
       "         1.06070690e+01,  8.04889297e+00,  1.60454025e+01,\n",
       "         1.40689220e+01,  1.27183847e+01,  2.13287697e+01,\n",
       "         2.40586281e+01,  1.67388744e+01,  5.63900375e+00,\n",
       "         9.14993382e+00,  1.31443806e+01,  1.11008167e+01,\n",
       "         1.15460901e+01],\n",
       "       [-6.63710833e-01, -1.45599785e+01, -2.83240967e+01,\n",
       "        -3.05627346e+01, -2.84419518e+01, -3.64270172e+01,\n",
       "        -3.17776375e+01, -6.64886427e+00,  6.65118122e+00,\n",
       "         4.54263020e+00, -1.02609758e+01, -1.98577080e+01,\n",
       "        -2.38159103e+01, -3.09736652e+01, -3.55204315e+01,\n",
       "        -2.75819378e+01, -2.87780952e+01, -2.28056374e+01,\n",
       "        -1.28130674e+01, -3.49227858e+00, -6.93362355e-01,\n",
       "         1.59655523e+00],\n",
       "       [-1.31350470e+01,  4.76409703e-01,  1.41080399e+01,\n",
       "         2.24490395e+01,  2.02713699e+01,  2.01408195e+01,\n",
       "         1.05197802e+01,  3.82795167e+00,  2.67741752e+00,\n",
       "        -6.23318911e-01,  8.64804363e+00,  8.96211803e-01,\n",
       "        -3.56318998e+00, -7.28554058e+00, -5.28801918e+00,\n",
       "         5.92110205e+00,  1.47184963e+01,  2.25125275e+01,\n",
       "         2.79737625e+01,  1.74647160e+01,  1.60777016e+01,\n",
       "         1.93831253e+01],\n",
       "       [ 6.17958307e-02,  4.35299397e-01,  7.35058880e+00,\n",
       "         5.52719975e+00, -3.22830486e+00, -1.18327618e+01,\n",
       "        -1.08398619e+01, -7.60507536e+00, -1.10469055e+00,\n",
       "         6.56832123e+00,  2.82052803e+00, -9.55633736e+00,\n",
       "        -1.66288700e+01, -1.63501072e+01, -1.86556816e+01,\n",
       "        -1.00267582e+01, -2.70556521e+00,  2.86303377e+00,\n",
       "         6.07291794e+00,  9.68570471e-01, -2.24043989e+00,\n",
       "        -5.80712855e-01],\n",
       "       [-6.44269168e-01,  3.43641138e+00,  1.82775211e+01,\n",
       "         2.33112144e+01,  2.35984612e+01,  2.19947701e+01,\n",
       "         1.01340179e+01, -1.29346120e+00, -1.05730190e+01,\n",
       "        -1.97695808e+01, -1.13887177e+01, -1.24693298e+01,\n",
       "        -1.42815380e+01, -2.09668999e+01, -2.29059677e+01,\n",
       "        -1.88898964e+01, -1.82360382e+01, -1.54779930e+01,\n",
       "        -8.48619652e+00, -7.62835801e-01,  9.99356651e+00,\n",
       "         1.22213182e+01],\n",
       "       [ 7.87475872e+00,  5.02934647e+00,  5.24553299e+00,\n",
       "         4.09228754e+00, -5.76001930e+00, -1.05576115e+01,\n",
       "        -7.40073156e+00,  4.97697145e-01,  7.96688128e+00,\n",
       "         1.15360031e+01,  2.13091540e+00,  9.01403999e+00,\n",
       "         1.79752808e+01,  2.23361416e+01,  1.54873533e+01,\n",
       "         8.73019028e+00,  7.89750481e+00,  5.67419720e+00,\n",
       "         4.84008646e+00, -4.76259172e-01, -5.68554592e+00,\n",
       "         2.88043857e-01],\n",
       "       [-7.24415779e+00, -4.00520706e+00, -9.79997635e+00,\n",
       "        -1.43029928e+01, -1.18535156e+01,  5.97594404e+00,\n",
       "         8.14584732e+00, -1.72638512e+00, -1.64456978e+01,\n",
       "        -2.50846748e+01, -1.17091045e+01, -3.53785586e+00,\n",
       "        -3.45649898e-01, -1.10608292e+00, -3.11866426e+00,\n",
       "        -3.80124807e+00, -3.55015588e+00, -2.44789672e+00,\n",
       "         2.83723623e-01, -6.56008863e+00, -2.59676886e+00,\n",
       "         6.60823631e+00],\n",
       "       [-7.41972446e+00, -1.59525299e+01, -2.09712601e+01,\n",
       "        -1.76716633e+01, -1.08234224e+01, -6.42954779e+00,\n",
       "        -8.79038429e+00, -1.54644690e+01, -7.60032940e+00,\n",
       "         7.33947182e+00, -1.24838364e+00, -4.36963129e+00,\n",
       "        -4.51549625e+00,  1.53463411e+00,  3.90522051e+00,\n",
       "         1.10415325e+01,  1.44218006e+01,  4.16105986e+00,\n",
       "        -9.40729332e+00, -1.19740810e+01, -1.29505692e+01,\n",
       "        -8.18434715e+00],\n",
       "       [ 1.43934288e+01,  8.03098011e+00,  6.71114302e+00,\n",
       "         6.33459091e+00,  1.50176501e+00, -6.74859905e+00,\n",
       "        -2.95248127e+00,  5.73111200e+00,  9.40599060e+00,\n",
       "         1.80999708e+00,  1.16094799e+01,  1.69891357e+01,\n",
       "         1.18838711e+01,  4.15792847e+00,  1.24821892e+01,\n",
       "         2.20223846e+01,  1.61658058e+01,  5.65027571e+00,\n",
       "        -5.07786083e+00, -5.22505569e+00, -3.44911814e+00,\n",
       "        -5.84934139e+00],\n",
       "       [-3.22163200e+01, -3.10867825e+01, -3.41224594e+01,\n",
       "        -2.87248650e+01, -2.36490002e+01, -1.04890308e+01,\n",
       "        -1.43135099e+01, -1.82551651e+01, -1.45419521e+01,\n",
       "        -6.30043840e+00, -1.09932537e+01, -1.04298849e+01,\n",
       "        -3.08214998e+00, -9.29674387e-01, -2.43619990e+00,\n",
       "        -8.07283580e-01,  8.16449106e-01,  8.74350929e+00,\n",
       "         1.69479752e+01,  1.27635098e+01, -2.06223512e+00,\n",
       "        -9.40938187e+00],\n",
       "       [ 1.30285673e+01,  2.36820173e+00, -1.00477238e+01,\n",
       "        -1.50743332e+01, -1.40139370e+01, -4.38676775e-01,\n",
       "         1.22319734e+00, -9.06669998e+00, -1.10630074e+01,\n",
       "        -3.84743547e+00,  9.78407085e-01, -3.39325809e+00,\n",
       "        -3.68110895e+00, -6.72540379e+00, -8.88550282e+00,\n",
       "        -2.09154701e+00,  5.40011024e+00,  2.11196828e+00,\n",
       "        -2.88345194e+00,  4.21720123e+00,  4.23069239e+00,\n",
       "         3.65784502e+00],\n",
       "       [ 3.11595392e+00,  1.38306713e+01,  1.59392195e+01,\n",
       "         1.38788280e+01,  1.21751728e+01,  5.72862625e+00,\n",
       "        -8.03452873e+00, -1.11480083e+01, -2.72470999e+00,\n",
       "         3.04657102e+00,  7.86988878e+00,  1.36019096e+01,\n",
       "         9.84310246e+00,  1.02337027e+01,  1.16531506e+01,\n",
       "         6.55748177e+00,  3.77748394e+00,  4.80895847e-01,\n",
       "         8.33619499e+00,  1.16893444e+01,  1.03622179e+01,\n",
       "         7.98773479e+00],\n",
       "       [ 2.98383789e+01,  2.14306488e+01,  1.04302330e+01,\n",
       "        -2.13405085e+00, -3.12715364e+00,  2.54052687e+00,\n",
       "        -8.68349910e-01, -7.85390520e+00, -1.45804052e+01,\n",
       "        -1.80822449e+01, -6.14846802e+00, -4.56883717e+00,\n",
       "        -4.92052650e+00, -1.41797006e-01, -2.79722190e+00,\n",
       "        -9.83925247e+00, -1.58169498e+01, -1.51009579e+01,\n",
       "         2.57732201e+00,  1.28258839e+01,  1.09638071e+01,\n",
       "         6.54280376e+00]], dtype=float32)"
      ]
     },
     "execution_count": 56,
     "metadata": {},
     "output_type": "execute_result"
    }
   ],
   "source": [
    "mfcc2"
   ]
  },
  {
   "cell_type": "code",
   "execution_count": 74,
   "metadata": {},
   "outputs": [
    {
     "data": {
      "text/plain": [
       "(40, 22)"
      ]
     },
     "execution_count": 74,
     "metadata": {},
     "output_type": "execute_result"
    }
   ],
   "source": [
    "np.vstack([mfcc, mfcc2]).shape"
   ]
  },
  {
   "cell_type": "code",
   "execution_count": 73,
   "metadata": {},
   "outputs": [
    {
     "data": {
      "text/plain": [
       "(40, 22)"
      ]
     },
     "execution_count": 73,
     "metadata": {},
     "output_type": "execute_result"
    }
   ],
   "source": [
    "import os\n",
    "\n",
    "sound_dir = os.listdir('20200411_APK_HLE_1_sound')\n",
    "mfcc_list = []\n",
    "        \n",
    "for sound in sound_dir:\n",
    "    y, sr = librosa.load(sound)\n",
    "    mfcc = librosa.feature.mfcc(y=y, sr=sr)\n",
    "    mfcc_list.append(mfcc)\n",
    "    \n",
    "for np_mfcc in mfcc_list:\n",
    "    stack = np.vstack([np_mfcc])\n",
    "    \n",
    "mfcc_array = np.array(mfcc_list)\n",
    "    \n",
    "mfcc_array.reshape(mfcc_array.shape[0]*mfcc_array.shape[1],mfcc_array.shape[2]).shape"
   ]
  },
  {
   "cell_type": "code",
   "execution_count": 77,
   "metadata": {},
   "outputs": [
    {
     "data": {
      "text/plain": [
       "(2, 20, 22)"
      ]
     },
     "execution_count": 77,
     "metadata": {},
     "output_type": "execute_result"
    }
   ],
   "source": [
    "mfcc_array.shape"
   ]
  },
  {
   "cell_type": "code",
   "execution_count": 78,
   "metadata": {},
   "outputs": [
    {
     "data": {
      "text/plain": [
       "(440, 2)"
      ]
     },
     "execution_count": 78,
     "metadata": {},
     "output_type": "execute_result"
    }
   ],
   "source": [
    "mfcc_array.reshape(mfcc_array.shape[1]*mfcc_array.shape[2],mfcc_array.shape[0]).shape"
   ]
  },
  {
   "cell_type": "code",
   "execution_count": 53,
   "metadata": {},
   "outputs": [
    {
     "name": "stdout",
     "output_type": "stream",
     "text": [
      "(20, 22)\n"
     ]
    },
    {
     "data": {
      "image/png": "[encoded data removed]",
      "text/plain": [
       "<Figure size 360x216 with 2 Axes>"
      ]
     },
     "metadata": {
      "needs_background": "light"
     },
     "output_type": "display_data"
    }
   ],
   "source": [
    "# 같은 시간 간격으로 자르기만 하면 mfcc.shape은 같다\n",
    "\n",
    "y, sr = librosa.load('20200709_League of Legends_cut2.wav')\n",
    "mfcc2 = librosa.feature.mfcc(y=y, sr=sr)\n",
    "print(mfcc2.shape) # (mfcc 계수의 개수 = 보통 20, frame 수)\n",
    "\n",
    "# display MFCCs\n",
    "plt.figure(figsize=(5,3))\n",
    "librosa.display.specshow(mfcc, sr=sr)\n",
    "plt.xlabel(\"Time\")\n",
    "plt.ylabel(\"MFCC coefficients\")\n",
    "plt.colorbar()\n",
    "plt.title(\"MFCCs\")\n",
    "\n",
    "# show plots\n",
    "plt.show()"
   ]
  },
  {
   "cell_type": "code",
   "execution_count": null,
   "metadata": {},
   "outputs": [],
   "source": [
    "hop_length = 512  # 전체 frame 수\n",
    "n_fft = 2048  # frame 하나당 sample 수\n",
    "\n",
    "# MFCCs\n",
    "# extract 13 MFCCs\n",
    "MFCCs = librosa.feature.mfcc(sig, sr, n_fft=n_fft, hop_length=hop_length, n_mfcc=13)\n",
    "\n",
    "# display MFCCs\n",
    "plt.figure(figsize=(15,10))\n",
    "librosa.display.specshow(MFCCs, sr=sr, hop_length=hop_length)\n",
    "plt.xlabel(\"Time\")\n",
    "plt.ylabel(\"MFCC coefficients\")\n",
    "plt.colorbar()\n",
    "plt.title(\"MFCCs\")\n",
    "\n",
    "# show plots\n",
    "plt.show()"
   ]
  },
  {
   "cell_type": "markdown",
   "metadata": {},
   "source": [
    "# librosa로 소리 모양 표출"
   ]
  },
  {
   "cell_type": "code",
   "execution_count": 16,
   "metadata": {},
   "outputs": [
    {
     "data": {
      "image/png": "[encoded data removed]",
      "text/plain": [
       "<Figure size 432x288 with 1 Axes>"
      ]
     },
     "metadata": {
      "needs_background": "light"
     },
     "output_type": "display_data"
    }
   ],
   "source": [
    "audio_path = '20200709_League of Legends_cut1.wav'\n",
    "sig, sr = librosa.load(audio_path)\n",
    "\n",
    "D = librosa.amplitude_to_db(librosa.stft(sig[:1024]), ref=np.max)\n",
    " \n",
    "plt.plot(D.flatten())\n",
    "plt.show()"
   ]
  },
  {
   "cell_type": "code",
   "execution_count": 27,
   "metadata": {},
   "outputs": [
    {
     "data": {
      "image/png": "[encoded data removed]",
      "text/plain": [
       "<Figure size 432x288 with 1 Axes>"
      ]
     },
     "metadata": {
      "needs_background": "light"
     },
     "output_type": "display_data"
    }
   ],
   "source": [
    "audio_path = '20200709_League of Legends_cut2.wav'\n",
    "sig, sr = librosa.load(audio_path)\n",
    "\n",
    "D = librosa.amplitude_to_db(librosa.stft(sig[:1024]), ref=np.max)\n",
    " \n",
    "plt.plot(D.flatten())\n",
    "plt.show()"
   ]
  },
  {
   "cell_type": "code",
   "execution_count": 6,
   "metadata": {},
   "outputs": [],
   "source": [
    "  \n",
    "from keras.models import Sequential\n",
    "from keras.layers.core import Dense, Dropout, Flatten\n",
    "from keras.layers.convolutional import Convolution3D, MaxPooling3D, ZeroPadding3D\n",
    "from keras.optimizers import SGD\n",
    "\n",
    "model = Sequential()\n",
    "\n",
    "input_shape=(3,640,360,3) # c, l, h, w\n",
    "model.add(Convolution3D(64, 3, 3, 3, activation='relu',border_mode='same', name='conv1',input_shape=input_shape))\n",
    "model.add(MaxPooling3D(pool_size=(1, 2, 2), strides=(1, 2, 2),border_mode='valid', name='pool1'))\n",
    "model.add(Convolution3D(128, 3, 3, 3, activation='relu',border_mode='same', name='conv2'))\n",
    "model.add(MaxPooling3D(pool_size=(2, 2, 2), strides=(2, 2, 2),border_mode='valid', name='pool2'))\n",
    "model.add(Flatten())\n",
    "model.add(Dense(4096, activation='relu', name='fc6'))"
   ]
  },
  {
   "cell_type": "code",
   "execution_count": 8,
   "metadata": {},
   "outputs": [
    {
     "name": "stdout",
     "output_type": "stream",
     "text": [
      "Model: \"sequential_4\"\n",
      "_________________________________________________________________\n",
      "Layer (type)                 Output Shape              Param #   \n",
      "=================================================================\n",
      "conv1 (Conv3D)               (None, 3, 640, 360, 64)   5248      \n",
      "_________________________________________________________________\n",
      "pool1 (MaxPooling3D)         (None, 3, 320, 180, 64)   0         \n",
      "_________________________________________________________________\n",
      "conv2 (Conv3D)               (None, 3, 320, 180, 128)  221312    \n",
      "_________________________________________________________________\n",
      "pool2 (MaxPooling3D)         (None, 1, 160, 90, 128)   0         \n",
      "_________________________________________________________________\n",
      "flatten_2 (Flatten)          (None, 1843200)           0         \n",
      "_________________________________________________________________\n",
      "fc6 (Dense)                  (None, 4096)              -104018329\n",
      "=================================================================\n",
      "Total params: -1,039,956,736\n",
      "Trainable params: -1,039,956,736\n",
      "Non-trainable params: 0\n",
      "_________________________________________________________________\n"
     ]
    }
   ],
   "source": [
    "model.summary()"
   ]
  },
  {
   "cell_type": "code",
   "execution_count": null,
   "metadata": {},
   "outputs": [],
   "source": []
  }
 ],
 "metadata": {
  "kernelspec": {
   "display_name": "Python 3",
   "language": "python",
   "name": "python3"
  },
  "language_info": {
   "codemirror_mode": {
    "name": "ipython",
    "version": 3
   },
   "file_extension": ".py",
   "mimetype": "text/x-python",
   "name": "python",
   "nbconvert_exporter": "python",
   "pygments_lexer": "ipython3",
   "version": "3.7.4"
  }
 },
 "nbformat": 4,
 "nbformat_minor": 2
}
