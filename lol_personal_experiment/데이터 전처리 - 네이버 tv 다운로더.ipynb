{
 "cells": [
  {
   "cell_type": "code",
   "execution_count": 2,
   "metadata": {},
   "outputs": [
    {
     "name": "stdout",
     "output_type": "stream",
     "text": [
      "동영상의 링크와 경기 제목이 담긴 텍스트 파일 이름 입력: lol_full.txt\n",
      "다운로드 받을 영상의 화질 입력: 360\n",
      "[Naver] 13395974: Downloading JSON metadata\n",
      "[Naver] 13395974: Downloading JSON metadata\n"
     ]
    }
   ],
   "source": [
    "import youtube_dl\n",
    "from requests import get\n",
    "\n",
    "class Downloader:\n",
    "    def __init__(self, resolution):\n",
    "        self.resolution = resolution\n",
    "        \n",
    "    def get_youtube_url(self, url):\n",
    "        result = \"\"\n",
    "        ydl_opts = {\"geo_bypass_country\":\"US\"}\n",
    "        # create youtube-dl object\n",
    "        ydl = youtube_dl.YoutubeDL(ydl_opts)\n",
    "        # set video url, extract video information\n",
    "        info_dict = ydl.extract_info(url, download=False)\n",
    "        # get video formats available\n",
    "        formats = info_dict.get('formats',None)\n",
    "        for f in formats:\n",
    "            # I want the lowest resolution, so I set resolution as 144p\n",
    "            if f.get('format_id',None) == 'avc1_' + self.resolution + 'P': #270, 370 ,...\n",
    "                #get the video url\n",
    "                result = f.get('url',None)\n",
    "        return result\n",
    "    \n",
    "    def download(self, url, file_name):\n",
    "        dl_url = self.get_youtube_url(url)\n",
    "        with open(file_name + '.mp4', \"wb\") as file:   \n",
    "                response = get(dl_url)               \n",
    "                file.write(response.content)\n",
    "\n",
    "def main():    \n",
    "    file_name = input('동영상의 링크와 경기 제목이 담긴 텍스트 파일 이름 입력: ')\n",
    "    resolution = input('다운로드 받을 영상의 화질 입력: ')\n",
    "    \n",
    "    dl = Downloader(resolution)\n",
    "    # with open(file_name) as f:\n",
    "    f = open(file_name, 'r', encoding='UTF-8')\n",
    "    while True:\n",
    "        line = f.readline()\n",
    "        if not line:\n",
    "            break\n",
    "        arg = line.split(',')\n",
    "        dl.download(arg[0], arg[1].strip())\n",
    "\n",
    "if __name__ == \"__main__\":\n",
    "    main()"
   ]
  },
  {
   "cell_type": "code",
   "execution_count": null,
   "metadata": {},
   "outputs": [],
   "source": []
  }
 ],
 "metadata": {
  "kernelspec": {
   "display_name": "Python 3",
   "language": "python",
   "name": "python3"
  },
  "language_info": {
   "codemirror_mode": {
    "name": "ipython",
    "version": 3
   },
   "file_extension": ".py",
   "mimetype": "text/x-python",
   "name": "python",
   "nbconvert_exporter": "python",
   "pygments_lexer": "ipython3",
   "version": "3.7.4"
  }
 },
 "nbformat": 4,
 "nbformat_minor": 2
}
