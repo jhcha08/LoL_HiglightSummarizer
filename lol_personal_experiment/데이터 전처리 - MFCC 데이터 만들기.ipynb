{
 "cells": [
  {
   "cell_type": "code",
   "execution_count": 2,
   "metadata": {},
   "outputs": [],
   "source": [
    "import os\n",
    "import moviepy.editor as mp\n",
    "import librosa\n",
    "import librosa.display\n",
    "import IPython.display\n",
    "from PIL import Image\n",
    "import cv2\n",
    "import matplotlib.pyplot as plt    # for plotting the images\n",
    "%matplotlib inline"
   ]
  },
  {
   "cell_type": "code",
   "execution_count": null,
   "metadata": {},
   "outputs": [],
   "source": [
    "# wav 파일 만들기\n",
    "\n",
    "video_list = os.listdir('video_train')\n",
    "video_dir = './video_train/'\n",
    "i = 0\n",
    "\n",
    "for file in video_list:\n",
    "    os.mkdir('./sound_train/'+ file[:-4] + '_sound')\n",
    "    length = int((cv2.VideoCapture(video_dir + file).get(cv2.CAP_PROP_FRAME_COUNT))/29.98)\n",
    "    while True:\n",
    "        if i < length: # 아마 캡쳐 이미지 수가 음성 파일 갯수와 다를 것. 음성 파일 갯수를 캡쳐 이미지 수에 맞추기.\n",
    "            clip = mp.VideoFileClip(video_dir + file)\n",
    "            clip = clip.subclip(t_start=(i), t_end=(i+0.5))\n",
    "            clip.audio.write_audiofile(('./sound_train/' + file[:-4] + '_sound/' + file[:-4] + '_sound_%0.4f.wav') % i)\n",
    "            i += 0.5\n",
    "            clip.close()\n",
    "        else:\n",
    "            i = 0\n",
    "            break"
   ]
  },
  {
   "cell_type": "code",
   "execution_count": null,
   "metadata": {},
   "outputs": [],
   "source": [
    "# mfcc 만들기\n",
    "\n",
    "sound_list = os.listdir('sound_train')\n",
    "\n",
    "for game in sound_list:\n",
    "    \n",
    "    sound_dir = os.listdir('./sound_train/' + game)\n",
    "    os.mkdir('./train_mfcc_original/'+game)\n",
    "    os.mkdir('./traint_mfcc/'+game)\n",
    "        \n",
    "    for i in range(len(sound_dir)):\n",
    "        \n",
    "        y, sr = librosa.load('./sound_train/' + game +'/'+ sound_dir[i])\n",
    "        mfcc = librosa.feature.mfcc(y=y, sr=sr)\n",
    "        plt.figure(figsize=(3,3))\n",
    "        librosa.display.specshow(mfcc, sr=sr)\n",
    "        fig = plt.gcf()\n",
    "        fig.savefig('./train_mfcc_original/'+game+'/'+ game[:-5] + 'train_mfcc_%04d.jpg' % i, transparent=True)\n",
    "        image = Image.open('./train_mfcc_original/'+game+'/'+ game[:-5] + 'train_mfcc_%04d.jpg' % i)\n",
    "        resize_image = image.resize((100,100))\n",
    "        resize_image.save('./train_mfcc/'+game+'/'+ game[:-5] + 'train_mfcc_%04d.jpg' % i)\n",
    "        \n",
    "    print (game[:-5] + \"Done!\")"
   ]
  },
  {
   "cell_type": "code",
   "execution_count": null,
   "metadata": {},
   "outputs": [],
   "source": [
    "# 파일 이름 바꾸기 ('train_mfcc_%d.jpg'라는 형식으로 저장해버려 라벨링에 문제 생겼기 때문...)\n",
    "\n",
    "import os\n",
    "\n",
    "file_path = '옮겨담을 mfcc & sound 파일들/train_mfcc'\n",
    "file_names = os.listdir(file_path)\n",
    "\n",
    "for file in file_names:\n",
    "    mfcc_list = os.listdir(file_path+'/'+file)\n",
    "    i = 0\n",
    "    for name in mfcc_list:\n",
    "        os.rename(file_path+'/'+file+'/'+name, file_path+'/'+file+'/'+file[:-5]+'train_mfcc_%04d.jpg' % i)\n",
    "        i += 1"
   ]
  },
  {
   "cell_type": "code",
   "execution_count": 37,
   "metadata": {},
   "outputs": [],
   "source": [
    "# 여러 개의 폴더로 나뉘어져 존재하는 mfcc들을 한 군데에 모으기\n",
    "\n",
    "# train mfcc와 train image의 수가 조금 다르다. 그러나 라벨링 csv 파일은 image 기준으로 되어있고 mfcc도 똑같은 라벨링 파일을 쓴다.\n",
    "# 그러므로 train mfcc에서는 train image와 짝이 되는 것들만 뽑아서 학습에 쓰인다.\n",
    "\n",
    "import shutil\n",
    "file_path = '옮겨담을 mfcc & sound 파일들/train_mfcc'\n",
    "folder = os.listdir(file_path)\n",
    "\n",
    "for file in folder:\n",
    "    mfcc_list = os.listdir('train_mfcc_temp/'+file)\n",
    "    for mfcc in mfcc_list:\n",
    "        shutil.copy('train_mfcc_temp/'+file+'/'+mfcc, 'train_mfcc')"
   ]
  }
 ],
 "metadata": {
  "kernelspec": {
   "display_name": "Python 3",
   "language": "python",
   "name": "python3"
  },
  "language_info": {
   "codemirror_mode": {
    "name": "ipython",
    "version": 3
   },
   "file_extension": ".py",
   "mimetype": "text/x-python",
   "name": "python",
   "nbconvert_exporter": "python",
   "pygments_lexer": "ipython3",
   "version": "3.7.4"
  }
 },
 "nbformat": 4,
 "nbformat_minor": 2
}
