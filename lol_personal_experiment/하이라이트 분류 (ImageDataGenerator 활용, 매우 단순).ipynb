{
 "cells": [
  {
   "cell_type": "code",
   "execution_count": 1,
   "metadata": {},
   "outputs": [
    {
     "name": "stderr",
     "output_type": "stream",
     "text": [
      "Using TensorFlow backend.\n"
     ]
    }
   ],
   "source": [
    "import numpy as np\n",
    "from keras.models import Sequential\n",
    "from keras.layers import Dense, TimeDistributed\n",
    "from keras.layers import Flatten,LSTM\n",
    "from keras.layers.convolutional import Conv2D\n",
    "from keras.layers.convolutional import MaxPooling2D\n",
    "from keras.preprocessing.image import ImageDataGenerator\n",
    "\n",
    "# 랜덤시드 고정시키기\n",
    "\n",
    "np.random.seed(3)"
   ]
  },
  {
   "cell_type": "code",
   "execution_count": 2,
   "metadata": {},
   "outputs": [
    {
     "name": "stdout",
     "output_type": "stream",
     "text": [
      "Found 100 images belonging to 2 classes.\n",
      "Found 10 images belonging to 2 classes.\n",
      "Found 10 images belonging to 2 classes.\n"
     ]
    }
   ],
   "source": [
    "# 데이터 생성 - 훈련 데이터 각 2000개, 검증 데이터 각 300개, 테스트 데이터 각 300개\n",
    "\n",
    "# 300*300을 50*50으로 줄여서 학습시키도록 한다. \n",
    "# 훈련 데이터 수가 클래스당 2000개이므로 배치 크기를 5로 지정하면 400번 배치를 수행해 한 에포크 돌아감\n",
    "\n",
    "train_datagen = ImageDataGenerator(rescale=1./255)\n",
    "\n",
    "train_generator = train_datagen.flow_from_directory('train',target_size=(50, 50),batch_size=4,class_mode='categorical')\n",
    "\n",
    "val_datagen = ImageDataGenerator(rescale=1./255)\n",
    "\n",
    "val_generator = val_datagen.flow_from_directory('val',target_size=(50, 50),batch_size=4,class_mode='categorical')\n",
    "\n",
    "test_datagen = ImageDataGenerator(rescale=1./255)\n",
    "\n",
    "test_generator = test_datagen.flow_from_directory('test',target_size=(50,50),batch_size=4, shuffle=False, class_mode='categorical')"
   ]
  },
  {
   "cell_type": "code",
   "execution_count": 3,
   "metadata": {},
   "outputs": [
    {
     "name": "stdout",
     "output_type": "stream",
     "text": [
      "WARNING:tensorflow:From C:\\Users\\User\\Anaconda3\\envs\\venv\\lib\\site-packages\\tensorflow_core\\python\\ops\\resource_variable_ops.py:1630: calling BaseResourceVariable.__init__ (from tensorflow.python.ops.resource_variable_ops) with constraint is deprecated and will be removed in a future version.\n",
      "Instructions for updating:\n",
      "If using Keras pass *_constraint arguments to layers.\n",
      "WARNING:tensorflow:From C:\\Users\\User\\Anaconda3\\envs\\venv\\lib\\site-packages\\keras-2.3.1-py3.7.egg\\keras\\backend\\tensorflow_backend.py:4070: The name tf.nn.max_pool is deprecated. Please use tf.nn.max_pool2d instead.\n",
      "\n",
      "Model: \"sequential_1\"\n",
      "_________________________________________________________________\n",
      "Layer (type)                 Output Shape              Param #   \n",
      "=================================================================\n",
      "conv2d_1 (Conv2D)            (None, 48, 48, 32)        896       \n",
      "_________________________________________________________________\n",
      "max_pooling2d_1 (MaxPooling2 (None, 24, 24, 32)        0         \n",
      "_________________________________________________________________\n",
      "flatten_1 (Flatten)          (None, 18432)             0         \n",
      "_________________________________________________________________\n",
      "dense_1 (Dense)              (None, 2)                 36866     \n",
      "=================================================================\n",
      "Total params: 37,762\n",
      "Trainable params: 37,762\n",
      "Non-trainable params: 0\n",
      "_________________________________________________________________\n"
     ]
    }
   ],
   "source": [
    "model = Sequential()\n",
    "model.add(Conv2D(32, kernel_size=(3,3), activation='relu', input_shape=(50,50,3)))\n",
    "model.add(MaxPooling2D(pool_size=(2,2)))\n",
    "model.add(Flatten())\n",
    "model.add(Dense(2, activation='softmax'))\n",
    "\n",
    "# Compile\n",
    "model.compile(loss='categorical_crossentropy', optimizer='adam', metrics=['acc'])\n",
    "\n",
    "model.summary()"
   ]
  },
  {
   "cell_type": "code",
   "execution_count": 6,
   "metadata": {},
   "outputs": [
    {
     "name": "stdout",
     "output_type": "stream",
     "text": [
      "Epoch 1/5\n",
      "25/25 [==============================] - 0s 17ms/step - loss: 0.0200 - acc: 1.0000 - val_loss: 1.9215 - val_acc: 0.5000\n",
      "Epoch 2/5\n",
      "25/25 [==============================] - 0s 19ms/step - loss: 0.0151 - acc: 1.0000 - val_loss: 0.8384 - val_acc: 0.2000\n",
      "Epoch 3/5\n",
      "25/25 [==============================] - 0s 19ms/step - loss: 0.0328 - acc: 0.9900 - val_loss: 3.5526 - val_acc: 0.4000\n",
      "Epoch 4/5\n",
      "25/25 [==============================] - 0s 16ms/step - loss: 0.0360 - acc: 0.9800 - val_loss: 1.1620 - val_acc: 0.2000\n",
      "Epoch 5/5\n",
      "25/25 [==============================] - 0s 16ms/step - loss: 0.0254 - acc: 0.9900 - val_loss: 1.9187 - val_acc: 0.4000\n"
     ]
    }
   ],
   "source": [
    "# 모델 학습시키기\n",
    "\n",
    "# steps_per_epoch: 총 6000개의 데이터이고 batch_size=5이므로 1200스텝\n",
    "# validation_steps: 총 900개의 검증 샘플이 있고 batch_size=5이므로 180스텝\n",
    "\n",
    "hist = model.fit_generator(train_generator,epochs=5, validation_data = val_generator)"
   ]
  },
  {
   "cell_type": "code",
   "execution_count": 7,
   "metadata": {},
   "outputs": [
    {
     "name": "stdout",
     "output_type": "stream",
     "text": [
      "-- Evaluate --\n",
      "acc: 62.50%\n"
     ]
    }
   ],
   "source": [
    "# 모델 평가하기 (훈련 데이터와 검증 데이터로 학습 후 맘에 들때까지 하이퍼 파리미터 (가중치 등) 조정하여 테스트 데이터로 평가)\n",
    "\n",
    "print(\"-- Evaluate --\")\n",
    "scores = model.evaluate_generator(test_generator, steps=2)\n",
    "print(\"%s: %.2f%%\" %(model.metrics_names[1], scores[1]*100))"
   ]
  },
  {
   "cell_type": "code",
   "execution_count": 8,
   "metadata": {},
   "outputs": [
    {
     "name": "stdout",
     "output_type": "stream",
     "text": [
      "-- Predict --\n",
      "{'o': 0, 'x': 1}\n",
      "[[0.989 0.011]\n",
      " [0.979 0.021]\n",
      " [0.990 0.010]\n",
      " [0.996 0.004]\n",
      " [0.997 0.003]\n",
      " [0.966 0.034]\n",
      " [0.977 0.023]\n",
      " [0.956 0.044]\n",
      " [0.965 0.035]\n",
      " [0.984 0.016]]\n",
      "\n",
      "o\\20200214_DWG_GEN_1_HL.mp4_20200730_212018.664.jpg\n",
      "o\\20200214_DWG_GEN_1_HL.mp4_20200730_212019.165.jpg\n",
      "o\\20200214_DWG_GEN_1_HL.mp4_20200730_212019.665.jpg\n",
      "o\\20200214_DWG_GEN_1_HL.mp4_20200730_212020.167.jpg\n",
      "o\\20200214_DWG_GEN_1_HL.mp4_20200730_212020.666.jpg\n",
      "x\\20200214_DWG_GEN_1_HL.mp4_20200730_212016.162.jpg\n",
      "x\\20200214_DWG_GEN_1_HL.mp4_20200730_212016.663.jpg\n",
      "x\\20200214_DWG_GEN_1_HL.mp4_20200730_212017.163.jpg\n",
      "x\\20200214_DWG_GEN_1_HL.mp4_20200730_212017.663.jpg\n",
      "x\\20200214_DWG_GEN_1_HL.mp4_20200730_212018.163.jpg\n"
     ]
    }
   ],
   "source": [
    "# 모델 사용하기 (테스트 데이터에 대해 예측하기 (또는 그냥 예측하고 싶은 데이터를 제너레이터로 만들어서 넣으면 됨))\n",
    "\n",
    "print(\"-- Predict --\")\n",
    "output = model.predict_generator(test_generator)\n",
    "np.set_printoptions(formatter={'float': lambda x: \"{0:0.3f}\".format(x)})\n",
    "print(test_generator.class_indices)\n",
    "print(output)\n",
    "print()\n",
    "print('\\n'.join(test_generator.filenames))"
   ]
  },
  {
   "cell_type": "code",
   "execution_count": null,
   "metadata": {},
   "outputs": [],
   "source": []
  }
 ],
 "metadata": {
  "kernelspec": {
   "display_name": "Python 3",
   "language": "python",
   "name": "python3"
  },
  "language_info": {
   "codemirror_mode": {
    "name": "ipython",
    "version": 3
   },
   "file_extension": ".py",
   "mimetype": "text/x-python",
   "name": "python",
   "nbconvert_exporter": "python",
   "pygments_lexer": "ipython3",
   "version": "3.7.4"
  }
 },
 "nbformat": 4,
 "nbformat_minor": 2
}
