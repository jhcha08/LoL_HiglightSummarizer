{
 "cells": [
  {
   "cell_type": "code",
   "execution_count": 1,
   "metadata": {},
   "outputs": [],
   "source": [
    "import os,shutil\n",
    "import cv2\n",
    "import numpy as np\n",
    "import pandas as pd\n",
    "import glob\n",
    "from moviepy.video.io.ffmpeg_tools import ffmpeg_extract_subclip\n",
    "from moviepy.editor import VideoFileClip, concatenate_videoclips"
   ]
  },
  {
   "cell_type": "code",
   "execution_count": 6,
   "metadata": {
    "scrolled": true
   },
   "outputs": [
    {
     "name": "stdout",
     "output_type": "stream",
     "text": [
      "    index  start_sec  end_sec  pred start_time  end_time\n",
      "0       0          0        3     0   00:00:03  00:00:06\n",
      "1       1          3        6     0   00:00:06  00:00:09\n",
      "2       2          6        9     1   00:00:09  00:00:12\n",
      "3       3          9       12     1   00:00:12  00:00:15\n",
      "4       4         12       15     1   00:00:15  00:00:18\n",
      "5       5         15       18     0   00:00:18  00:00:21\n",
      "6       6         18       21     0   00:00:21  00:00:24\n",
      "7       7         21       24     0   00:00:24  00:00:27\n",
      "8       8         24       27     1   00:00:27  00:00:30\n",
      "9       9         27       30     0   00:00:30  00:00:33\n",
      "10     10         30       33     0   00:00:33  00:00:36\n",
      "11     11         33       36     0   00:00:36  00:00:39\n",
      "12     12         36       39     0   00:00:39  00:00:42\n",
      "13     13         39       42     0   00:00:42  00:00:45\n",
      "14     14         42       45     1   00:00:45  00:00:48\n",
      "15     15         45       48     1   00:00:48  00:00:51\n"
     ]
    },
    {
     "name": "stderr",
     "output_type": "stream",
     "text": [
      "                                                                                                                       \n",
      "chunk:   1%|▉                                                              | 1/67 [03:17<3:36:58, 197.24s/it, now=None]\n",
      "                                                                                                                       \u001b[A\n",
      "chunk:   1%|▉                                                              | 1/67 [03:17<3:36:59, 197.26s/it, now=None]\n",
      "chunk:   1%|▉                                                               | 1/67 [01:29<1:38:24, 89.47s/it, now=None]\u001b[A\n",
      "\n",
      "chunk:   0%|                                                                         | 0/199 [00:00<?, ?it/s, now=None]\u001b[A\u001b[A"
     ]
    },
    {
     "name": "stdout",
     "output_type": "stream",
     "text": [
      "Moviepy - Building video E:\\AI College\\Subclips\\highlight1.mp4.\n",
      "MoviePy - Writing audio in highlight1TEMP_MPY_wvf_snd.mp3\n"
     ]
    },
    {
     "name": "stderr",
     "output_type": "stream",
     "text": [
      "\n",
      "\n",
      "chunk:   1%|▋                                                                | 2/199 [00:00<00:16, 11.90it/s, now=None]\u001b[A\u001b[A\n",
      "\n",
      "chunk:  26%|████████████████▋                                               | 52/199 [00:00<00:08, 16.83it/s, now=None]\u001b[A\u001b[A\n",
      "\n",
      "chunk:  60%|█████████████████████████████████████▉                         | 120/199 [00:00<00:03, 23.79it/s, now=None]\u001b[A\u001b[A\n",
      "\n",
      "chunk:  93%|██████████████████████████████████████████████████████████▉    | 186/199 [00:00<00:00, 33.46it/s, now=None]\u001b[A\u001b[A\n",
      "\n",
      "                                                                                                                       \u001b[A\u001b[A\n",
      "chunk:   1%|▉                                                              | 1/67 [03:17<3:37:35, 197.81s/it, now=None]\n",
      "                                                                                                                       \u001b[A\n",
      "chunk:   1%|▉                                                              | 1/67 [03:17<3:37:36, 197.82s/it, now=None]\n",
      "chunk:   1%|▉                                                               | 1/67 [01:30<1:39:01, 90.03s/it, now=None]\u001b[A\n",
      "\n",
      "t:   0%|                                                                             | 0/270 [00:00<?, ?it/s, now=None]\u001b[A\u001b[A"
     ]
    },
    {
     "name": "stdout",
     "output_type": "stream",
     "text": [
      "MoviePy - Done.\n",
      "Moviepy - Writing video E:\\AI College\\Subclips\\highlight1.mp4\n",
      "\n"
     ]
    },
    {
     "name": "stderr",
     "output_type": "stream",
     "text": [
      "\n",
      "\n",
      "t:   1%|▌                                                                    | 2/270 [00:00<00:23, 11.56it/s, now=None]\u001b[A\u001b[A\n",
      "\n",
      "t:  13%|████████▊                                                           | 35/270 [00:00<00:14, 16.26it/s, now=None]\u001b[A\u001b[A\n",
      "\n",
      "t:  21%|██████████████▎                                                     | 57/270 [00:00<00:09, 22.18it/s, now=None]\u001b[A\u001b[A\n",
      "\n",
      "t:  29%|███████████████████▉                                                | 79/270 [00:00<00:06, 30.36it/s, now=None]\u001b[A\u001b[A\n",
      "\n",
      "t:  35%|███████████████████████▋                                            | 94/270 [00:00<00:04, 39.88it/s, now=None]\u001b[A\u001b[A\n",
      "\n",
      "t:  41%|███████████████████████████▌                                       | 111/270 [00:00<00:03, 51.72it/s, now=None]\u001b[A\u001b[A\n",
      "\n",
      "t:  47%|███████████████████████████████▊                                   | 128/270 [00:00<00:02, 65.06it/s, now=None]\u001b[A\u001b[A\n",
      "\n",
      "t:  54%|████████████████████████████████████▍                              | 147/270 [00:00<00:01, 80.74it/s, now=None]\u001b[A\u001b[A\n",
      "\n",
      "t:  62%|█████████████████████████████████████████▍                         | 167/270 [00:01<00:01, 98.04it/s, now=None]\u001b[A\u001b[A\n",
      "\n",
      "t:  70%|█████████████████████████████████████████████▉                    | 188/270 [00:01<00:00, 113.86it/s, now=None]\u001b[A\u001b[A\n",
      "\n",
      "t:  77%|██████████████████████████████████████████████████▊               | 208/270 [00:01<00:00, 129.24it/s, now=None]\u001b[A\u001b[A\n",
      "\n",
      "t:  84%|███████████████████████████████████████████████████████▍          | 227/270 [00:01<00:00, 135.61it/s, now=None]\u001b[A\u001b[A\n",
      "\n",
      "t:  91%|████████████████████████████████████████████████████████████▍     | 247/270 [00:01<00:00, 148.10it/s, now=None]\u001b[A\u001b[A\n",
      "\n",
      "t:  99%|█████████████████████████████████████████████████████████████████▎| 267/270 [00:01<00:00, 158.70it/s, now=None]\u001b[A\u001b[A\n",
      "\n",
      "                                                                                                                       \u001b[A\u001b[A\n",
      "chunk:   1%|▉                                                              | 1/67 [03:19<3:39:45, 199.78s/it, now=None]\n",
      "                                                                                                                       \u001b[A\n",
      "chunk:   1%|▉                                                              | 1/67 [03:19<3:39:46, 199.79s/it, now=None]\n",
      "chunk:   1%|▉                                                               | 1/67 [01:31<1:41:11, 92.00s/it, now=None]\u001b[A"
     ]
    },
    {
     "name": "stdout",
     "output_type": "stream",
     "text": [
      "Moviepy - Done !\n",
      "Moviepy - video ready E:\\AI College\\Subclips\\highlight1.mp4\n"
     ]
    },
    {
     "name": "stderr",
     "output_type": "stream",
     "text": [
      "                                                                                                                       \n",
      "chunk:   1%|▉                                                              | 1/67 [03:20<3:40:04, 200.06s/it, now=None]\n",
      "                                                                                                                       \u001b[A\n",
      "chunk:   1%|▉                                                              | 1/67 [03:20<3:40:05, 200.08s/it, now=None]\n",
      "chunk:   1%|▉                                                               | 1/67 [01:32<1:41:31, 92.29s/it, now=None]\u001b[A\n",
      "\n",
      "chunk:   0%|                                                                          | 0/67 [00:00<?, ?it/s, now=None]\u001b[A\u001b[A"
     ]
    },
    {
     "name": "stdout",
     "output_type": "stream",
     "text": [
      "Moviepy - Building video E:\\AI College\\Subclips\\highlight2.mp4.\n",
      "MoviePy - Writing audio in highlight2TEMP_MPY_wvf_snd.mp3\n"
     ]
    },
    {
     "name": "stderr",
     "output_type": "stream",
     "text": [
      "\n",
      "\n",
      "chunk:   3%|█▉                                                                | 2/67 [00:00<00:05, 11.43it/s, now=None]\u001b[A\u001b[A\n",
      "\n",
      "chunk:  78%|██████████████████████████████████████████████████▍              | 52/67 [00:00<00:00, 16.17it/s, now=None]\u001b[A\u001b[A\n",
      "\n",
      "                                                                                                                       \u001b[A\u001b[A\n",
      "chunk:   1%|▉                                                              | 1/67 [03:20<3:40:30, 200.47s/it, now=None]\n",
      "                                                                                                                       \u001b[A\n",
      "chunk:   1%|▉                                                              | 1/67 [03:20<3:40:31, 200.48s/it, now=None]\n",
      "chunk:   1%|▉                                                               | 1/67 [01:32<1:41:57, 92.69s/it, now=None]\u001b[A\n",
      "\n",
      "t:   0%|                                                                              | 0/90 [00:00<?, ?it/s, now=None]\u001b[A\u001b[A"
     ]
    },
    {
     "name": "stdout",
     "output_type": "stream",
     "text": [
      "MoviePy - Done.\n",
      "Moviepy - Writing video E:\\AI College\\Subclips\\highlight2.mp4\n",
      "\n"
     ]
    },
    {
     "name": "stderr",
     "output_type": "stream",
     "text": [
      "\n",
      "\n",
      "t:   2%|█▌                                                                    | 2/90 [00:00<00:08, 10.75it/s, now=None]\u001b[A\u001b[A\n",
      "\n",
      "t:  32%|██████████████████████▏                                              | 29/90 [00:00<00:04, 15.10it/s, now=None]\u001b[A\u001b[A\n",
      "\n",
      "t:  63%|███████████████████████████████████████████▋                         | 57/90 [00:00<00:01, 20.82it/s, now=None]\u001b[A\u001b[A\n",
      "\n",
      "t:  82%|████████████████████████████████████████████████████████▋            | 74/90 [00:00<00:00, 28.25it/s, now=None]\u001b[A\u001b[A\n",
      "\n",
      "t:  98%|███████████████████████████████████████████████████████████████████▍ | 88/90 [00:00<00:00, 36.68it/s, now=None]\u001b[A\u001b[A\n",
      "\n",
      "                                                                                                                       \u001b[A\u001b[A\n",
      "chunk:   1%|▉                                                              | 1/67 [03:21<3:41:46, 201.62s/it, now=None]\n",
      "                                                                                                                       \u001b[A\n",
      "chunk:   1%|▉                                                              | 1/67 [03:21<3:41:48, 201.64s/it, now=None]\n",
      "chunk:   1%|▉                                                               | 1/67 [01:33<1:43:13, 93.85s/it, now=None]\u001b[A"
     ]
    },
    {
     "name": "stdout",
     "output_type": "stream",
     "text": [
      "Moviepy - Done !\n",
      "Moviepy - video ready E:\\AI College\\Subclips\\highlight2.mp4\n"
     ]
    },
    {
     "name": "stderr",
     "output_type": "stream",
     "text": [
      "                                                                                                                       \n",
      "chunk:   1%|▉                                                              | 1/67 [03:21<3:42:08, 201.95s/it, now=None]\n",
      "                                                                                                                       \u001b[A\n",
      "chunk:   1%|▉                                                              | 1/67 [03:21<3:42:09, 201.96s/it, now=None]\n",
      "chunk:   1%|▉                                                               | 1/67 [01:34<1:43:35, 94.17s/it, now=None]\u001b[A\n",
      "\n",
      "chunk:   0%|                                                                         | 0/133 [00:00<?, ?it/s, now=None]\u001b[A\u001b[A"
     ]
    },
    {
     "name": "stdout",
     "output_type": "stream",
     "text": [
      "Moviepy - Building video E:\\AI College\\Subclips\\highlight3.mp4.\n",
      "MoviePy - Writing audio in highlight3TEMP_MPY_wvf_snd.mp3\n"
     ]
    },
    {
     "name": "stderr",
     "output_type": "stream",
     "text": [
      "\n",
      "\n",
      "chunk:   2%|▉                                                                | 2/133 [00:00<00:11, 11.49it/s, now=None]\u001b[A\u001b[A\n",
      "\n",
      "chunk:  38%|████████████████████████                                        | 50/133 [00:00<00:05, 16.25it/s, now=None]\u001b[A\u001b[A\n",
      "\n",
      "chunk:  77%|████████████████████████████████████████████████▊              | 103/133 [00:00<00:01, 22.89it/s, now=None]\u001b[A\u001b[A\n",
      "\n",
      "                                                                                                                       \u001b[A\u001b[A\n",
      "chunk:   1%|▉                                                              | 1/67 [03:22<3:42:42, 202.46s/it, now=None]\n",
      "                                                                                                                       \u001b[A\n",
      "chunk:   1%|▉                                                              | 1/67 [03:22<3:42:43, 202.47s/it, now=None]\n",
      "chunk:   1%|▉                                                               | 1/67 [01:34<1:44:08, 94.68s/it, now=None]\u001b[A\n",
      "\n",
      "t:   0%|                                                                             | 0/180 [00:00<?, ?it/s, now=None]\u001b[A\u001b[A"
     ]
    },
    {
     "name": "stdout",
     "output_type": "stream",
     "text": [
      "MoviePy - Done.\n",
      "Moviepy - Writing video E:\\AI College\\Subclips\\highlight3.mp4\n",
      "\n"
     ]
    },
    {
     "name": "stderr",
     "output_type": "stream",
     "text": [
      "\n",
      "\n",
      "t:   1%|▊                                                                    | 2/180 [00:00<00:15, 11.49it/s, now=None]\u001b[A\u001b[A\n",
      "\n",
      "t:  16%|██████████▌                                                         | 28/180 [00:00<00:09, 16.11it/s, now=None]\u001b[A\u001b[A\n",
      "\n",
      "t:  29%|████████████████████                                                | 53/180 [00:00<00:05, 22.39it/s, now=None]\u001b[A\u001b[A\n",
      "\n",
      "t:  37%|████████████████████████▉                                           | 66/180 [00:00<00:03, 28.72it/s, now=None]\u001b[A\u001b[A\n",
      "\n",
      "t:  44%|█████████████████████████████▊                                      | 79/180 [00:00<00:02, 37.35it/s, now=None]\u001b[A\u001b[A\n",
      "\n",
      "t:  51%|██████████████████████████████████▍                                 | 91/180 [00:00<00:01, 47.02it/s, now=None]\u001b[A\u001b[A\n",
      "\n",
      "t:  58%|██████████████████████████████████████▋                            | 104/180 [00:00<00:01, 57.92it/s, now=None]\u001b[A\u001b[A\n",
      "\n",
      "t:  66%|███████████████████████████████████████████▉                       | 118/180 [00:00<00:00, 69.55it/s, now=None]\u001b[A\u001b[A\n",
      "\n",
      "t:  73%|█████████████████████████████████████████████████▏                 | 132/180 [00:01<00:00, 81.49it/s, now=None]\u001b[A\u001b[A\n",
      "\n",
      "t:  82%|███████████████████████████████████████████████████████            | 148/180 [00:01<00:00, 93.06it/s, now=None]\u001b[A\u001b[A\n",
      "\n",
      "t:  90%|████████████████████████████████████████████████████████████▎      | 162/180 [00:01<00:00, 94.46it/s, now=None]\u001b[A\u001b[A\n",
      "\n",
      "t:  97%|█████████████████████████████████████████████████████████████████▏ | 175/180 [00:01<00:00, 97.57it/s, now=None]\u001b[A\u001b[A\n",
      "\n",
      "                                                                                                                       \u001b[A\u001b[A\n",
      "chunk:   1%|▉                                                              | 1/67 [03:24<3:44:48, 204.38s/it, now=None]\n",
      "                                                                                                                       \u001b[A\n",
      "chunk:   1%|▉                                                              | 1/67 [03:24<3:44:50, 204.40s/it, now=None]\n",
      "chunk:   1%|▉                                                               | 1/67 [01:36<1:46:15, 96.61s/it, now=None]\u001b[A"
     ]
    },
    {
     "name": "stdout",
     "output_type": "stream",
     "text": [
      "Moviepy - Done !\n",
      "Moviepy - video ready E:\\AI College\\Subclips\\highlight3.mp4\n"
     ]
    },
    {
     "name": "stderr",
     "output_type": "stream",
     "text": [
      "                                                                                                                       \n",
      "chunk:   1%|▉                                                              | 1/67 [03:26<3:47:33, 206.87s/it, now=None]\n",
      "                                                                                                                       \u001b[A\n",
      "chunk:   1%|▉                                                              | 1/67 [03:26<3:47:34, 206.89s/it, now=None]\n",
      "chunk:   1%|▉                                                               | 1/67 [01:39<1:49:00, 99.10s/it, now=None]\u001b[A\n",
      "\n",
      "chunk:   0%|                                                                         | 0/400 [00:00<?, ?it/s, now=None]\u001b[A\u001b[A\n",
      "\n"
     ]
    },
    {
     "name": "stdout",
     "output_type": "stream",
     "text": [
      "Moviepy - Building video ./Highlights20200425_GEN_T1_3.mp4.\n",
      "MoviePy - Writing audio in Highlights20200425_GEN_T1_3TEMP_MPY_wvf_snd.mp3\n"
     ]
    },
    {
     "name": "stderr",
     "output_type": "stream",
     "text": [
      "chunk:   0%|▎                                                                | 2/400 [00:00<00:33, 12.05it/s, now=None]\u001b[A\u001b[A\n",
      "\n",
      "chunk:  12%|███████▊                                                        | 49/400 [00:00<00:20, 17.02it/s, now=None]\u001b[A\u001b[A\n",
      "\n",
      "chunk:  29%|██████████████████▎                                            | 116/400 [00:00<00:11, 24.06it/s, now=None]\u001b[A\u001b[A\n",
      "\n",
      "chunk:  42%|██████████████████████████▎                                    | 167/400 [00:00<00:06, 33.69it/s, now=None]\u001b[A\u001b[A\n",
      "\n",
      "chunk:  57%|███████████████████████████████████▉                           | 228/400 [00:00<00:03, 47.00it/s, now=None]\u001b[A\u001b[A\n",
      "\n",
      "chunk:  74%|██████████████████████████████████████████████▌                | 296/400 [00:00<00:01, 65.19it/s, now=None]\u001b[A\u001b[A\n",
      "\n",
      "chunk:  92%|█████████████████████████████████████████████████████████▋     | 366/400 [00:00<00:00, 89.45it/s, now=None]\u001b[A\u001b[A\n",
      "\n",
      "                                                                                                                       \u001b[A\u001b[A\n",
      "chunk:   1%|▉                                                              | 1/67 [03:27<3:48:34, 207.80s/it, now=None]\n",
      "                                                                                                                       \u001b[A\n",
      "chunk:   1%|▉                                                              | 1/67 [03:27<3:48:35, 207.81s/it, now=None]\n",
      "chunk:   1%|▉                                                              | 1/67 [01:40<1:50:01, 100.02s/it, now=None]\u001b[A\n",
      "\n",
      "t:   0%|                                                                             | 0/543 [00:00<?, ?it/s, now=None]\u001b[A\u001b[A"
     ]
    },
    {
     "name": "stdout",
     "output_type": "stream",
     "text": [
      "MoviePy - Done.\n",
      "Moviepy - Writing video ./Highlights20200425_GEN_T1_3.mp4\n",
      "\n"
     ]
    },
    {
     "name": "stderr",
     "output_type": "stream",
     "text": [
      "\n",
      "\n",
      "t:   0%|▎                                                                    | 2/543 [00:00<00:46, 11.70it/s, now=None]\u001b[A\u001b[A\n",
      "\n",
      "t:   5%|███▎                                                                | 26/543 [00:00<00:31, 16.36it/s, now=None]\u001b[A\u001b[A\n",
      "\n",
      "t:   9%|██████▎                                                             | 50/543 [00:00<00:21, 22.71it/s, now=None]\u001b[A\u001b[A\n",
      "\n",
      "t:  12%|███████▉                                                            | 63/543 [00:00<00:16, 28.27it/s, now=None]\u001b[A\u001b[A\n",
      "\n",
      "t:  14%|█████████▌                                                          | 76/543 [00:00<00:12, 36.02it/s, now=None]\u001b[A\u001b[A\n",
      "\n",
      "t:  16%|██████████▉                                                         | 87/543 [00:00<00:10, 43.06it/s, now=None]\u001b[A\u001b[A\n",
      "\n",
      "t:  18%|████████████▏                                                       | 97/543 [00:00<00:08, 51.77it/s, now=None]\u001b[A\u001b[A\n",
      "\n",
      "t:  20%|█████████████▌                                                     | 110/543 [00:01<00:06, 62.81it/s, now=None]\u001b[A\u001b[A\n",
      "\n",
      "t:  23%|███████████████▍                                                   | 125/543 [00:01<00:05, 75.62it/s, now=None]\u001b[A\u001b[A\n",
      "\n",
      "t:  25%|████████████████▉                                                  | 137/543 [00:01<00:04, 83.63it/s, now=None]\u001b[A\u001b[A\n",
      "\n",
      "t:  28%|██████████████████▉                                                | 153/543 [00:01<00:04, 97.43it/s, now=None]\u001b[A\u001b[A\n",
      "\n",
      "t:  31%|████████████████████▍                                             | 168/543 [00:01<00:03, 107.47it/s, now=None]\u001b[A\u001b[A\n",
      "\n",
      "t:  34%|██████████████████████▏                                           | 183/543 [00:01<00:03, 117.46it/s, now=None]\u001b[A\u001b[A\n",
      "\n",
      "t:  36%|███████████████████████▉                                          | 197/543 [00:01<00:02, 119.63it/s, now=None]\u001b[A\u001b[A\n",
      "\n",
      "t:  39%|█████████████████████████▋                                        | 211/543 [00:01<00:02, 125.09it/s, now=None]\u001b[A\u001b[A\n",
      "\n",
      "t:  41%|███████████████████████████▎                                      | 225/543 [00:01<00:02, 107.24it/s, now=None]\u001b[A\u001b[A\n",
      "\n",
      "t:  44%|█████████████████████████████▏                                     | 237/543 [00:02<00:03, 91.10it/s, now=None]\u001b[A\u001b[A\n",
      "\n",
      "t:  46%|██████████████████████████████▌                                    | 248/543 [00:02<00:03, 91.49it/s, now=None]\u001b[A\u001b[A\n",
      "\n",
      "t:  49%|████████████████████████████████▏                                 | 265/543 [00:02<00:02, 106.01it/s, now=None]\u001b[A\u001b[A\n",
      "\n",
      "t:  51%|█████████████████████████████████▊                                | 278/543 [00:02<00:02, 111.93it/s, now=None]\u001b[A\u001b[A\n",
      "\n",
      "t:  54%|███████████████████████████████████▎                              | 291/543 [00:02<00:02, 101.01it/s, now=None]\u001b[A\u001b[A\n",
      "\n",
      "t:  56%|████████████████████████████████████▊                             | 303/543 [00:02<00:02, 103.31it/s, now=None]\u001b[A\u001b[A\n",
      "\n",
      "t:  58%|██████████████████████████████████████▊                            | 315/543 [00:02<00:02, 86.76it/s, now=None]\u001b[A\u001b[A\n",
      "\n",
      "t:  60%|████████████████████████████████████████▎                          | 327/543 [00:03<00:02, 85.70it/s, now=None]\u001b[A\u001b[A\n",
      "\n",
      "t:  64%|██████████████████████████████████████████▏                       | 347/543 [00:03<00:01, 100.93it/s, now=None]\u001b[A\u001b[A\n",
      "\n",
      "t:  66%|███████████████████████████████████████████▊                      | 360/543 [00:03<00:01, 107.92it/s, now=None]\u001b[A\u001b[A\n",
      "\n",
      "t:  69%|█████████████████████████████████████████████▎                    | 373/543 [00:03<00:01, 107.77it/s, now=None]\u001b[A\u001b[A\n",
      "\n",
      "t:  71%|██████████████████████████████████████████████▊                   | 385/543 [00:03<00:01, 107.87it/s, now=None]\u001b[A\u001b[A\n",
      "\n",
      "t:  73%|████████████████████████████████████████████████▉                  | 397/543 [00:03<00:01, 99.61it/s, now=None]\u001b[A\u001b[A\n",
      "\n",
      "t:  76%|█████████████████████████████████████████████████▉                | 411/543 [00:03<00:01, 103.72it/s, now=None]\u001b[A\u001b[A\n",
      "\n",
      "t:  78%|████████████████████████████████████████████████████               | 422/543 [00:03<00:01, 97.40it/s, now=None]\u001b[A\u001b[A\n",
      "\n",
      "t:  80%|████████████████████████████████████████████████████▊             | 435/543 [00:03<00:01, 105.32it/s, now=None]\u001b[A\u001b[A\n",
      "\n",
      "t:  82%|██████████████████████████████████████████████████████▏           | 446/543 [00:04<00:00, 104.85it/s, now=None]\u001b[A\u001b[A\n",
      "\n",
      "t:  84%|███████████████████████████████████████████████████████▌          | 457/543 [00:04<00:00, 100.24it/s, now=None]\u001b[A\u001b[A\n",
      "\n",
      "t:  86%|████████████████████████████████████████████████████████▉         | 468/543 [00:04<00:00, 101.00it/s, now=None]\u001b[A\u001b[A\n",
      "\n",
      "t:  89%|███████████████████████████████████████████████████████████▎       | 481/543 [00:04<00:00, 99.77it/s, now=None]\u001b[A\u001b[A\n",
      "\n",
      "t:  91%|████████████████████████████████████████████████████████████▋      | 492/543 [00:04<00:00, 97.45it/s, now=None]\u001b[A\u001b[A\n",
      "\n",
      "t:  92%|█████████████████████████████████████████████████████████████▉     | 502/543 [00:04<00:00, 97.91it/s, now=None]\u001b[A\u001b[A\n",
      "\n",
      "t:  95%|███████████████████████████████████████████████████████████████▍   | 514/543 [00:04<00:00, 93.25it/s, now=None]\u001b[A\u001b[A\n",
      "\n",
      "t:  97%|████████████████████████████████████████████████████████████████▋  | 524/543 [00:04<00:00, 81.45it/s, now=None]\u001b[A\u001b[A\n",
      "\n",
      "t:  98%|█████████████████████████████████████████████████████████████████▊ | 533/543 [00:05<00:00, 70.45it/s, now=None]\u001b[A\u001b[A\n",
      "\n",
      "                                                                                                                       \u001b[A\u001b[A\n",
      "chunk:   1%|▉                                                              | 1/67 [03:33<3:54:55, 213.57s/it, now=None]\n",
      "                                                                                                                       \u001b[A\n",
      "chunk:   1%|▉                                                              | 1/67 [03:33<3:54:56, 213.59s/it, now=None]\n",
      "chunk:   1%|▉                                                              | 1/67 [01:45<1:56:22, 105.80s/it, now=None]\u001b[A"
     ]
    },
    {
     "name": "stdout",
     "output_type": "stream",
     "text": [
      "Moviepy - Done !\n",
      "Moviepy - video ready ./Highlights20200425_GEN_T1_3.mp4\n"
     ]
    }
   ],
   "source": [
    "csv_dir = '.' #해당 csv 파일 폴더\n",
    "mp4_dir = '.' #해당 mp4 파일 폴더\n",
    "\n",
    "# 모든 csv 불러와서 돌아가면서 시간값, 이름 읽기\n",
    "all_csv_name_list = sorted(glob.glob(os.path.join(csv_dir,'*.csv')))\n",
    "for csv_name in all_csv_name_list:\n",
    "    df = pd.read_csv(csv_name)\n",
    "    print(df)\n",
    "    start = np.array(df['start_sec'][df['pred'] == 1])\n",
    "    end = np.array(df['end_sec'][df['pred'] == 1])\n",
    "    name = os.path.split(os.path.splitext(csv_name)[0])[1]\n",
    "    \n",
    "    i=1\n",
    "    while(i<len(end)):\n",
    "        if end[i] - 3 == end[i-1]:\n",
    "            end[i-1] = end[i]\n",
    "            start = np.delete(start, i)\n",
    "            end = np.delete(end, i)\n",
    "        else:\n",
    "            i+=1\n",
    "    \n",
    "    #Create temporary folder for storing subclips generated. This folder will be deleted later after highlights are generated.\n",
    "    cwd=os.getcwd()\n",
    "    sub_folder=os.path.join(cwd,\"Subclips\")\n",
    "    if os.path.exists(sub_folder):\n",
    "        shutil.rmtree(sub_folder)\n",
    "        path=os.mkdir(sub_folder)\n",
    "    else:\n",
    "        path=os.mkdir(sub_folder)\n",
    "\n",
    "    clip = VideoFileClip(os.path.join(mp4_dir,name+\".mp4\"))\n",
    "    for i in range(len(start)):\n",
    "        start_lim = start[i]\n",
    "        end_lim = end[i]\n",
    "        filename = \"highlight\" + str(i+1) + \".mp4\"\n",
    "        subclip=clip.subclip(start_lim, end_lim)\n",
    "        subclip.write_videofile(os.path.join(sub_folder,filename))\n",
    "        #ffmpeg_extract_subclip(os.path.join(mp4_dir,name+\".mp4\"),start_lim,end_lim,targetname=os.path.join(sub_folder,filename)) #해당 경기 원본 영상\n",
    "    subclip.close()\n",
    "    clip.close()\n",
    "    \n",
    "    files = sorted(glob.glob(os.path.join(sub_folder,'*.mp4')))\n",
    "    videoclips = [VideoFileClip(i) for i in files]\n",
    "    final_clip=concatenate_videoclips(videoclips)\n",
    "    final_clip.write_videofile(\"./Highlights\" + name + \".mp4\") #Enter the desired output highlights filename.\n",
    "    shutil.rmtree(sub_folder) #Delete the temporary file.\n",
    "    for i in videoclips:\n",
    "        i.close()\n"
   ]
  },
  {
   "cell_type": "code",
   "execution_count": 43,
   "metadata": {},
   "outputs": [
    {
     "name": "stdout",
     "output_type": "stream",
     "text": [
      "['E:\\\\AI College\\\\Subclips\\\\highlight1.mp4', 'E:\\\\AI College\\\\Subclips\\\\highlight2.mp4', 'E:\\\\AI College\\\\Subclips\\\\highlight3.mp4']\n"
     ]
    }
   ],
   "source": []
  },
  {
   "cell_type": "code",
   "execution_count": null,
   "metadata": {},
   "outputs": [],
   "source": []
  }
 ],
 "metadata": {
  "kernelspec": {
   "display_name": "Python 3",
   "language": "python",
   "name": "python3"
  },
  "language_info": {
   "codemirror_mode": {
    "name": "ipython",
    "version": 3
   },
   "file_extension": ".py",
   "mimetype": "text/x-python",
   "name": "python",
   "nbconvert_exporter": "python",
   "pygments_lexer": "ipython3",
   "version": "3.8.3"
  }
 },
 "nbformat": 4,
 "nbformat_minor": 4
}
