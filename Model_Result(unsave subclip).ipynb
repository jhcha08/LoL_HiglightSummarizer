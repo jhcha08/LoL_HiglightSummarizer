{
 "cells": [
  {
   "cell_type": "code",
   "execution_count": 2,
   "metadata": {},
   "outputs": [
    {
     "name": "stdout",
     "output_type": "stream",
     "text": [
      "    index  start_sec  end_sec  pred start_time  end_time\n",
      "0       0          0        3     0   00:00:03  00:00:06\n",
      "1       1          3        6     0   00:00:06  00:00:09\n",
      "2       2          6        9     1   00:00:09  00:00:12\n",
      "3       3          9       12     1   00:00:12  00:00:15\n",
      "4       4         12       15     1   00:00:15  00:00:18\n",
      "5       5         15       18     0   00:00:18  00:00:21\n",
      "6       6         18       21     0   00:00:21  00:00:24\n",
      "7       7         21       24     0   00:00:24  00:00:27\n",
      "8       8         24       27     1   00:00:27  00:00:30\n",
      "9       9         27       30     0   00:00:30  00:00:33\n",
      "10     10         30       33     0   00:00:33  00:00:36\n",
      "11     11         33       36     0   00:00:36  00:00:39\n",
      "12     12         36       39     0   00:00:39  00:00:42\n",
      "13     13         39       42     0   00:00:42  00:00:45\n",
      "14     14         42       45     1   00:00:45  00:00:48\n",
      "15     15         45       48     1   00:00:48  00:00:51\n"
     ]
    },
    {
     "name": "stderr",
     "output_type": "stream",
     "text": [
      "chunk:   1%|▎                                                                | 2/397 [00:00<00:30, 13.16it/s, now=None]"
     ]
    },
    {
     "name": "stdout",
     "output_type": "stream",
     "text": [
      "Moviepy - Building video ./Highlights20200425_GEN_T1_3.mp4.\n",
      "MoviePy - Writing audio in Highlights20200425_GEN_T1_3TEMP_MPY_wvf_snd.mp3\n"
     ]
    },
    {
     "name": "stderr",
     "output_type": "stream",
     "text": [
      "t:   0%|▎                                                                    | 2/540 [00:00<00:42, 12.74it/s, now=None]"
     ]
    },
    {
     "name": "stdout",
     "output_type": "stream",
     "text": [
      "MoviePy - Done.\n",
      "Moviepy - Writing video ./Highlights20200425_GEN_T1_3.mp4\n",
      "\n"
     ]
    },
    {
     "name": "stderr",
     "output_type": "stream",
     "text": [
      "                                                                                                                       \r"
     ]
    },
    {
     "name": "stdout",
     "output_type": "stream",
     "text": [
      "Moviepy - Done !\n",
      "Moviepy - video ready ./Highlights20200425_GEN_T1_3.mp4\n"
     ]
    },
    {
     "name": "stderr",
     "output_type": "stream",
     "text": [
      "\r",
      "chunk:   0%|                                                                         | 0/265 [00:00<?, ?it/s, now=None]"
     ]
    },
    {
     "name": "stdout",
     "output_type": "stream",
     "text": [
      "Moviepy - Building video ./Highlights20200425_GEN_T1_31.mp4.\n",
      "MoviePy - Writing audio in Highlights20200425_GEN_T1_31TEMP_MPY_wvf_snd.mp3\n"
     ]
    },
    {
     "name": "stderr",
     "output_type": "stream",
     "text": [
      "t:   1%|▍                                                                    | 2/360 [00:00<00:26, 13.42it/s, now=None]"
     ]
    },
    {
     "name": "stdout",
     "output_type": "stream",
     "text": [
      "MoviePy - Done.\n",
      "Moviepy - Writing video ./Highlights20200425_GEN_T1_31.mp4\n",
      "\n"
     ]
    },
    {
     "name": "stderr",
     "output_type": "stream",
     "text": [
      "chunk:   0%|                                                                         | 0/199 [00:00<?, ?it/s, now=None]"
     ]
    },
    {
     "name": "stdout",
     "output_type": "stream",
     "text": [
      "Moviepy - Done !\n",
      "Moviepy - video ready ./Highlights20200425_GEN_T1_31.mp4\n",
      "Moviepy - Building video ./Highlights20200425_GEN_T1_32.mp4.\n",
      "MoviePy - Writing audio in Highlights20200425_GEN_T1_32TEMP_MPY_wvf_snd.mp3\n"
     ]
    },
    {
     "name": "stderr",
     "output_type": "stream",
     "text": [
      "t:   0%|                                                                             | 0/270 [00:00<?, ?it/s, now=None]"
     ]
    },
    {
     "name": "stdout",
     "output_type": "stream",
     "text": [
      "MoviePy - Done.\n",
      "Moviepy - Writing video ./Highlights20200425_GEN_T1_32.mp4\n",
      "\n"
     ]
    },
    {
     "name": "stderr",
     "output_type": "stream",
     "text": [
      "                                                                                                                       \r"
     ]
    },
    {
     "name": "stdout",
     "output_type": "stream",
     "text": [
      "Moviepy - Done !\n",
      "Moviepy - video ready ./Highlights20200425_GEN_T1_32.mp4\n"
     ]
    }
   ],
   "source": [
    "import os,shutil\n",
    "import numpy as np\n",
    "import pandas as pd\n",
    "import glob\n",
    "from moviepy.editor import VideoFileClip, concatenate_videoclips\n",
    "\n",
    "csv_dir = '.' #해당 csv 파일 폴더\n",
    "mp4_dir = '.' #해당 mp4 파일 폴더\n",
    "\n",
    "# 모든 csv 불러와서 돌아가면서 시간값, 이름 읽기\n",
    "all_csv_name_list = sorted(glob.glob(os.path.join(csv_dir,'*.csv')))\n",
    "for csv_name in all_csv_name_list:\n",
    "    df = pd.read_csv(csv_name)\n",
    "    print(df)\n",
    "    start = np.array(df['start_sec'][df['pred'] == 1])\n",
    "    end = np.array(df['end_sec'][df['pred'] == 1])\n",
    "    name = os.path.split(os.path.splitext(csv_name)[0])[1]\n",
    "    \n",
    "    i=1\n",
    "    while(i<len(end)):\n",
    "        if end[i] - 3 == end[i-1]:\n",
    "            end[i-1] = end[i]\n",
    "            start = np.delete(start, i)\n",
    "            end = np.delete(end, i)\n",
    "        else:\n",
    "            i+=1\n",
    "            \n",
    "    clip = VideoFileClip(os.path.join(mp4_dir,name+\".mp4\"))\n",
    "    subclips = []\n",
    "    for i in range(len(start)):\n",
    "        start_lim = start[i]\n",
    "        end_lim = end[i]\n",
    "        subclips.append(clip.subclip(start_lim, end_lim))\n",
    "    final_clip=concatenate_videoclips(subclips)\n",
    "    final_clip.write_videofile(\"./Highlights\" + name + \".mp4\") #Enter the desired output highlights filename.\n",
    "    final_clip1=concatenate_videoclips(subclips[0:2])\n",
    "    final_clip1.write_videofile(\"./Highlights\" + name + \"1.mp4\") #Enter the desired output highlights filename.\n",
    "    final_clip2=subclips[0]\n",
    "    final_clip2.write_videofile(\"./Highlights\" + name + \"2.mp4\") #Enter the desired output highlights filename.\n",
    "    for i in subclips:\n",
    "        i.close()\n",
    "    clip.close()\n"
   ]
  },
  {
   "cell_type": "code",
   "execution_count": null,
   "metadata": {},
   "outputs": [],
   "source": []
  }
 ],
 "metadata": {
  "kernelspec": {
   "display_name": "Python 3",
   "language": "python",
   "name": "python3"
  },
  "language_info": {
   "codemirror_mode": {
    "name": "ipython",
    "version": 3
   },
   "file_extension": ".py",
   "mimetype": "text/x-python",
   "name": "python",
   "nbconvert_exporter": "python",
   "pygments_lexer": "ipython3",
   "version": "3.8.3"
  }
 },
 "nbformat": 4,
 "nbformat_minor": 4
}
